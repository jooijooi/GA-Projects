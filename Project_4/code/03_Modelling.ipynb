{
 "cells": [
  {
   "cell_type": "markdown",
   "metadata": {},
   "source": [
    "# Project 4: Predicting Outbreaks of West Nile Virus in Chicago"
   ]
  },
  {
   "cell_type": "markdown",
   "metadata": {},
   "source": [
    "Group 2 Joint Submission: Derrick Hoe, Joyce Ooi, Nee Bimin, Cheong Yu Chye"
   ]
  },
  {
   "cell_type": "markdown",
   "metadata": {},
   "source": [
    "## Notebook 3: Modelling"
   ]
  },
  {
   "cell_type": "markdown",
   "metadata": {},
   "source": [
    "This notebook contains the code for model selection and evaluation."
   ]
  },
  {
   "cell_type": "markdown",
   "metadata": {},
   "source": [
    "### Contents\n",
    "\n",
    "- [Importing of Libraries](#Importing-of-Libraries)\n",
    "- [Data Import](#Data-Import)\n",
    "- [Data Preparation](#Data-Preparation)\n",
    "- [Baseline Accuracy](#Baseline-Accuracy)\n",
    "- [Handling of Imbalanced Classes](#Handling-of-Imbalanced-Classes)\n",
    "- [Randomised Search for the Best Classifier](#Randomised-Search-for-the-Best-Classifier)\n",
    "- [Selection of the Best Classifier](#Selection-of-the-Best-Classifier)\n",
    "- [Further Exploration of the Best Classifier](#Further-Exploration-of-the-Best-Classifier)\n",
    "    * [Logistic Regression Coefficients](#Logistic-Regression-Coefficient)\n",
    "    * [ROC-AUC Curve](#ROC---AUC-Curve)\n",
    "- [Cost-Benefit-Analysis](#Cost-Benefit-Analysis)\n",
    "    * [Quantitative Cost Factors](#Quantitative-Cost-Factors)\n",
    "    * [Qualitative Cost Factors](#Qualitative-Cost-Factors)\n",
    "    * [Quantitative Benefit Factors](#Quantitative-Benefit-Factors)\n",
    "    * [Qualitative Benefit Factors](#Qualitative-Benefit-Factors)\n",
    "- [Conclusion and Recommendations](#Conclusion-and-Recommendations)\n",
    "- [Generation of Predictions](#Generation-of-Predictions)\n",
    "- [Data Export](#Data-Export)"
   ]
  },
  {
   "cell_type": "markdown",
   "metadata": {},
   "source": [
    "## Importing of Libraries"
   ]
  },
  {
   "cell_type": "code",
   "execution_count": 1,
   "metadata": {
    "scrolled": true
   },
   "outputs": [
    {
     "name": "stderr",
     "output_type": "stream",
     "text": [
      "C:\\Users\\yuchy\\Anaconda3\\lib\\site-packages\\statsmodels\\tools\\_testing.py:19: FutureWarning: pandas.util.testing is deprecated. Use the functions in the public API at pandas.testing instead.\n",
      "  import pandas.util.testing as tm\n"
     ]
    }
   ],
   "source": [
    "# Read in libraries\n",
    "import pandas as pd\n",
    "import numpy as np\n",
    "import seaborn as sns\n",
    "import matplotlib.pyplot as plt\n",
    "from matplotlib.lines import Line2D\n",
    "from matplotlib.ticker import (MultipleLocator, FormatStrFormatter,\n",
    "                               AutoMinorLocator)\n",
    "from sklearn.model_selection import train_test_split\n",
    "import scipy.stats as stats\n",
    "from mpl_toolkits import mplot3d\n",
    "from sklearn import ensemble, preprocessing\n",
    "from sklearn.cluster import DBSCAN\n",
    "from sklearn.metrics import silhouette_score\n",
    "#modelling\n",
    "from sklearn.preprocessing import StandardScaler, MinMaxScaler\n",
    "from sklearn.pipeline import Pipeline\n",
    "from sklearn.model_selection import train_test_split, GridSearchCV, RandomizedSearchCV\n",
    "from sklearn.metrics import confusion_matrix, classification_report, roc_curve, auc, roc_auc_score, accuracy_score\n",
    "from sklearn.neighbors import KNeighborsClassifier\n",
    "from sklearn.ensemble import RandomForestClassifier, ExtraTreesClassifier\n",
    "from sklearn.ensemble import AdaBoostClassifier\n",
    "from sklearn.linear_model import LogisticRegression\n",
    "from sklearn.model_selection import cross_val_score\n",
    "from sklearn.tree import DecisionTreeClassifier\n",
    "\n",
    "%matplotlib inline "
   ]
  },
  {
   "cell_type": "markdown",
   "metadata": {},
   "source": [
    "## Data Import"
   ]
  },
  {
   "cell_type": "code",
   "execution_count": 2,
   "metadata": {},
   "outputs": [],
   "source": [
    "# Import data from downloaded csv files\n",
    "train = pd.read_csv('../assets/train_preproc.csv', )\n",
    "test = pd.read_csv('../assets/test_preproc.csv')\n",
    "spray = pd.read_csv('../assets/spray_clean.csv')\n",
    "weather = pd.read_csv('../assets/weather_clean.csv')"
   ]
  },
  {
   "cell_type": "code",
   "execution_count": 3,
   "metadata": {},
   "outputs": [
    {
     "data": {
      "text/plain": [
       "((9693, 15), (116293, 15), (14294, 3), (2899, 5))"
      ]
     },
     "execution_count": 3,
     "metadata": {},
     "output_type": "execute_result"
    }
   ],
   "source": [
    "train.shape, test.shape, spray.shape, weather.shape"
   ]
  },
  {
   "cell_type": "markdown",
   "metadata": {},
   "source": [
    "## Data Preparation"
   ]
  },
  {
   "cell_type": "code",
   "execution_count": 4,
   "metadata": {},
   "outputs": [],
   "source": [
    "train = train.drop(['date'], axis = 1)\n",
    "test = test.drop(['date'], axis = 1)"
   ]
  },
  {
   "cell_type": "code",
   "execution_count": 5,
   "metadata": {},
   "outputs": [
    {
     "data": {
      "text/html": [
       "<div>\n",
       "<style scoped>\n",
       "    .dataframe tbody tr th:only-of-type {\n",
       "        vertical-align: middle;\n",
       "    }\n",
       "\n",
       "    .dataframe tbody tr th {\n",
       "        vertical-align: top;\n",
       "    }\n",
       "\n",
       "    .dataframe thead th {\n",
       "        text-align: right;\n",
       "    }\n",
       "</style>\n",
       "<table border=\"1\" class=\"dataframe\">\n",
       "  <thead>\n",
       "    <tr style=\"text-align: right;\">\n",
       "      <th></th>\n",
       "      <th>latitude</th>\n",
       "      <th>longitude</th>\n",
       "      <th>wnvpresent</th>\n",
       "      <th>preciptotal</th>\n",
       "      <th>tavg*wetbulb</th>\n",
       "      <th>wetbulb*dewpoint</th>\n",
       "      <th>tavg*wetbulb*dewpoint</th>\n",
       "      <th>species_CULEX PIPIENS</th>\n",
       "      <th>species_CULEX PIPIENS/RESTUANS</th>\n",
       "      <th>species_CULEX RESTUANS</th>\n",
       "      <th>species_CULEX SALINARIUS</th>\n",
       "      <th>species_CULEX TARSALIS</th>\n",
       "      <th>species_CULEX TERRITANS</th>\n",
       "      <th>species_UNSPECIFIED CULEX</th>\n",
       "    </tr>\n",
       "  </thead>\n",
       "  <tbody>\n",
       "    <tr>\n",
       "      <th>0</th>\n",
       "      <td>41.954690</td>\n",
       "      <td>-87.800991</td>\n",
       "      <td>0.0</td>\n",
       "      <td>0.0</td>\n",
       "      <td>4945.25</td>\n",
       "      <td>3831.75</td>\n",
       "      <td>289297.125</td>\n",
       "      <td>0</td>\n",
       "      <td>1</td>\n",
       "      <td>0</td>\n",
       "      <td>0</td>\n",
       "      <td>0</td>\n",
       "      <td>0</td>\n",
       "      <td>0</td>\n",
       "    </tr>\n",
       "    <tr>\n",
       "      <th>1</th>\n",
       "      <td>41.954690</td>\n",
       "      <td>-87.800991</td>\n",
       "      <td>0.0</td>\n",
       "      <td>0.0</td>\n",
       "      <td>4945.25</td>\n",
       "      <td>3831.75</td>\n",
       "      <td>289297.125</td>\n",
       "      <td>0</td>\n",
       "      <td>0</td>\n",
       "      <td>1</td>\n",
       "      <td>0</td>\n",
       "      <td>0</td>\n",
       "      <td>0</td>\n",
       "      <td>0</td>\n",
       "    </tr>\n",
       "    <tr>\n",
       "      <th>2</th>\n",
       "      <td>41.994991</td>\n",
       "      <td>-87.769279</td>\n",
       "      <td>0.0</td>\n",
       "      <td>0.0</td>\n",
       "      <td>4945.25</td>\n",
       "      <td>3831.75</td>\n",
       "      <td>289297.125</td>\n",
       "      <td>0</td>\n",
       "      <td>0</td>\n",
       "      <td>1</td>\n",
       "      <td>0</td>\n",
       "      <td>0</td>\n",
       "      <td>0</td>\n",
       "      <td>0</td>\n",
       "    </tr>\n",
       "    <tr>\n",
       "      <th>3</th>\n",
       "      <td>41.974089</td>\n",
       "      <td>-87.824812</td>\n",
       "      <td>0.0</td>\n",
       "      <td>0.0</td>\n",
       "      <td>4945.25</td>\n",
       "      <td>3831.75</td>\n",
       "      <td>289297.125</td>\n",
       "      <td>0</td>\n",
       "      <td>1</td>\n",
       "      <td>0</td>\n",
       "      <td>0</td>\n",
       "      <td>0</td>\n",
       "      <td>0</td>\n",
       "      <td>0</td>\n",
       "    </tr>\n",
       "    <tr>\n",
       "      <th>4</th>\n",
       "      <td>41.974089</td>\n",
       "      <td>-87.824812</td>\n",
       "      <td>0.0</td>\n",
       "      <td>0.0</td>\n",
       "      <td>4945.25</td>\n",
       "      <td>3831.75</td>\n",
       "      <td>289297.125</td>\n",
       "      <td>0</td>\n",
       "      <td>0</td>\n",
       "      <td>1</td>\n",
       "      <td>0</td>\n",
       "      <td>0</td>\n",
       "      <td>0</td>\n",
       "      <td>0</td>\n",
       "    </tr>\n",
       "  </tbody>\n",
       "</table>\n",
       "</div>"
      ],
      "text/plain": [
       "    latitude  longitude  wnvpresent  preciptotal  tavg*wetbulb  \\\n",
       "0  41.954690 -87.800991         0.0          0.0       4945.25   \n",
       "1  41.954690 -87.800991         0.0          0.0       4945.25   \n",
       "2  41.994991 -87.769279         0.0          0.0       4945.25   \n",
       "3  41.974089 -87.824812         0.0          0.0       4945.25   \n",
       "4  41.974089 -87.824812         0.0          0.0       4945.25   \n",
       "\n",
       "   wetbulb*dewpoint  tavg*wetbulb*dewpoint  species_CULEX PIPIENS  \\\n",
       "0           3831.75             289297.125                      0   \n",
       "1           3831.75             289297.125                      0   \n",
       "2           3831.75             289297.125                      0   \n",
       "3           3831.75             289297.125                      0   \n",
       "4           3831.75             289297.125                      0   \n",
       "\n",
       "   species_CULEX PIPIENS/RESTUANS  species_CULEX RESTUANS  \\\n",
       "0                               1                       0   \n",
       "1                               0                       1   \n",
       "2                               0                       1   \n",
       "3                               1                       0   \n",
       "4                               0                       1   \n",
       "\n",
       "   species_CULEX SALINARIUS  species_CULEX TARSALIS  species_CULEX TERRITANS  \\\n",
       "0                         0                       0                        0   \n",
       "1                         0                       0                        0   \n",
       "2                         0                       0                        0   \n",
       "3                         0                       0                        0   \n",
       "4                         0                       0                        0   \n",
       "\n",
       "   species_UNSPECIFIED CULEX  \n",
       "0                          0  \n",
       "1                          0  \n",
       "2                          0  \n",
       "3                          0  \n",
       "4                          0  "
      ]
     },
     "execution_count": 5,
     "metadata": {},
     "output_type": "execute_result"
    }
   ],
   "source": [
    "train.head()"
   ]
  },
  {
   "cell_type": "code",
   "execution_count": 6,
   "metadata": {},
   "outputs": [
    {
     "data": {
      "text/html": [
       "<div>\n",
       "<style scoped>\n",
       "    .dataframe tbody tr th:only-of-type {\n",
       "        vertical-align: middle;\n",
       "    }\n",
       "\n",
       "    .dataframe tbody tr th {\n",
       "        vertical-align: top;\n",
       "    }\n",
       "\n",
       "    .dataframe thead th {\n",
       "        text-align: right;\n",
       "    }\n",
       "</style>\n",
       "<table border=\"1\" class=\"dataframe\">\n",
       "  <thead>\n",
       "    <tr style=\"text-align: right;\">\n",
       "      <th></th>\n",
       "      <th>id</th>\n",
       "      <th>latitude</th>\n",
       "      <th>longitude</th>\n",
       "      <th>preciptotal</th>\n",
       "      <th>tavg*wetbulb</th>\n",
       "      <th>wetbulb*dewpoint</th>\n",
       "      <th>tavg*wetbulb*dewpoint</th>\n",
       "      <th>species_CULEX PIPIENS</th>\n",
       "      <th>species_CULEX PIPIENS/RESTUANS</th>\n",
       "      <th>species_CULEX RESTUANS</th>\n",
       "      <th>species_CULEX SALINARIUS</th>\n",
       "      <th>species_CULEX TARSALIS</th>\n",
       "      <th>species_CULEX TERRITANS</th>\n",
       "      <th>species_UNSPECIFIED CULEX</th>\n",
       "    </tr>\n",
       "  </thead>\n",
       "  <tbody>\n",
       "    <tr>\n",
       "      <th>0</th>\n",
       "      <td>1.0</td>\n",
       "      <td>41.95469</td>\n",
       "      <td>-87.800991</td>\n",
       "      <td>0.0</td>\n",
       "      <td>4800.0</td>\n",
       "      <td>3552.0</td>\n",
       "      <td>266400.0</td>\n",
       "      <td>0</td>\n",
       "      <td>1</td>\n",
       "      <td>0</td>\n",
       "      <td>0</td>\n",
       "      <td>0</td>\n",
       "      <td>0</td>\n",
       "      <td>0</td>\n",
       "    </tr>\n",
       "    <tr>\n",
       "      <th>1</th>\n",
       "      <td>2.0</td>\n",
       "      <td>41.95469</td>\n",
       "      <td>-87.800991</td>\n",
       "      <td>0.0</td>\n",
       "      <td>4800.0</td>\n",
       "      <td>3552.0</td>\n",
       "      <td>266400.0</td>\n",
       "      <td>0</td>\n",
       "      <td>0</td>\n",
       "      <td>1</td>\n",
       "      <td>0</td>\n",
       "      <td>0</td>\n",
       "      <td>0</td>\n",
       "      <td>0</td>\n",
       "    </tr>\n",
       "    <tr>\n",
       "      <th>2</th>\n",
       "      <td>3.0</td>\n",
       "      <td>41.95469</td>\n",
       "      <td>-87.800991</td>\n",
       "      <td>0.0</td>\n",
       "      <td>4800.0</td>\n",
       "      <td>3552.0</td>\n",
       "      <td>266400.0</td>\n",
       "      <td>1</td>\n",
       "      <td>0</td>\n",
       "      <td>0</td>\n",
       "      <td>0</td>\n",
       "      <td>0</td>\n",
       "      <td>0</td>\n",
       "      <td>0</td>\n",
       "    </tr>\n",
       "    <tr>\n",
       "      <th>3</th>\n",
       "      <td>4.0</td>\n",
       "      <td>41.95469</td>\n",
       "      <td>-87.800991</td>\n",
       "      <td>0.0</td>\n",
       "      <td>4800.0</td>\n",
       "      <td>3552.0</td>\n",
       "      <td>266400.0</td>\n",
       "      <td>0</td>\n",
       "      <td>0</td>\n",
       "      <td>0</td>\n",
       "      <td>1</td>\n",
       "      <td>0</td>\n",
       "      <td>0</td>\n",
       "      <td>0</td>\n",
       "    </tr>\n",
       "    <tr>\n",
       "      <th>4</th>\n",
       "      <td>5.0</td>\n",
       "      <td>41.95469</td>\n",
       "      <td>-87.800991</td>\n",
       "      <td>0.0</td>\n",
       "      <td>4800.0</td>\n",
       "      <td>3552.0</td>\n",
       "      <td>266400.0</td>\n",
       "      <td>0</td>\n",
       "      <td>0</td>\n",
       "      <td>0</td>\n",
       "      <td>0</td>\n",
       "      <td>0</td>\n",
       "      <td>1</td>\n",
       "      <td>0</td>\n",
       "    </tr>\n",
       "  </tbody>\n",
       "</table>\n",
       "</div>"
      ],
      "text/plain": [
       "    id  latitude  longitude  preciptotal  tavg*wetbulb  wetbulb*dewpoint  \\\n",
       "0  1.0  41.95469 -87.800991          0.0        4800.0            3552.0   \n",
       "1  2.0  41.95469 -87.800991          0.0        4800.0            3552.0   \n",
       "2  3.0  41.95469 -87.800991          0.0        4800.0            3552.0   \n",
       "3  4.0  41.95469 -87.800991          0.0        4800.0            3552.0   \n",
       "4  5.0  41.95469 -87.800991          0.0        4800.0            3552.0   \n",
       "\n",
       "   tavg*wetbulb*dewpoint  species_CULEX PIPIENS  \\\n",
       "0               266400.0                      0   \n",
       "1               266400.0                      0   \n",
       "2               266400.0                      1   \n",
       "3               266400.0                      0   \n",
       "4               266400.0                      0   \n",
       "\n",
       "   species_CULEX PIPIENS/RESTUANS  species_CULEX RESTUANS  \\\n",
       "0                               1                       0   \n",
       "1                               0                       1   \n",
       "2                               0                       0   \n",
       "3                               0                       0   \n",
       "4                               0                       0   \n",
       "\n",
       "   species_CULEX SALINARIUS  species_CULEX TARSALIS  species_CULEX TERRITANS  \\\n",
       "0                         0                       0                        0   \n",
       "1                         0                       0                        0   \n",
       "2                         0                       0                        0   \n",
       "3                         1                       0                        0   \n",
       "4                         0                       0                        1   \n",
       "\n",
       "   species_UNSPECIFIED CULEX  \n",
       "0                          0  \n",
       "1                          0  \n",
       "2                          0  \n",
       "3                          0  \n",
       "4                          0  "
      ]
     },
     "execution_count": 6,
     "metadata": {},
     "output_type": "execute_result"
    }
   ],
   "source": [
    "test.head()"
   ]
  },
  {
   "cell_type": "code",
   "execution_count": 7,
   "metadata": {},
   "outputs": [
    {
     "data": {
      "text/plain": [
       "((9693, 14), (116293, 14))"
      ]
     },
     "execution_count": 7,
     "metadata": {},
     "output_type": "execute_result"
    }
   ],
   "source": [
    "train.shape, test.shape"
   ]
  },
  {
   "cell_type": "code",
   "execution_count": 8,
   "metadata": {},
   "outputs": [],
   "source": [
    "# X and Y variable\n",
    "X = train.drop(columns = ['wnvpresent']) \n",
    "y = train['wnvpresent']"
   ]
  },
  {
   "cell_type": "code",
   "execution_count": 9,
   "metadata": {},
   "outputs": [],
   "source": [
    "#Train Test split \n",
    "X_train, X_valid, y_train, y_valid = train_test_split(X,\n",
    "                                                    y,\n",
    "                                                    test_size=0.25,\n",
    "                                                    random_state=42,\n",
    "                                                    stratify=y)"
   ]
  },
  {
   "cell_type": "code",
   "execution_count": 10,
   "metadata": {},
   "outputs": [],
   "source": [
    "X_test = test.drop(['id'], axis=1)"
   ]
  },
  {
   "cell_type": "markdown",
   "metadata": {},
   "source": [
    "## Baseline Accuracy"
   ]
  },
  {
   "cell_type": "code",
   "execution_count": 11,
   "metadata": {},
   "outputs": [
    {
     "data": {
      "text/plain": [
       "0.0    0.948136\n",
       "1.0    0.051864\n",
       "Name: wnvpresent, dtype: float64"
      ]
     },
     "execution_count": 11,
     "metadata": {},
     "output_type": "execute_result"
    }
   ],
   "source": [
    "y_train.value_counts(normalize = True)"
   ]
  },
  {
   "cell_type": "markdown",
   "metadata": {},
   "source": [
    "We observe above that the baseline accuracy (for non-WNV-infected mosquitoes) is approximately 94.81%. The naive model will predict all 0s and will be correct 94.81% of the time."
   ]
  },
  {
   "cell_type": "markdown",
   "metadata": {},
   "source": [
    "## Handling of Imbalanced Classes"
   ]
  },
  {
   "cell_type": "markdown",
   "metadata": {},
   "source": [
    "The baseline accuracy above indicates that the **training set is highly imbalanced** -- i.e. the wnvpresent=1 class takes up just 0.05% of all the mosquitoes caught.\n",
    "\n",
    "To deal with this, we choose to oversample the minority class by creating synthetic samples using imblearn’s SMOTE or Synthetic Minority Oversampling Technique. SMOTE uses a nearest neighbors algorithm to generate new and synthetic data we can use for training our model. We generate new samples **only in the training set** to ensure our model generalises well to unseen data."
   ]
  },
  {
   "cell_type": "code",
   "execution_count": 12,
   "metadata": {},
   "outputs": [
    {
     "name": "stderr",
     "output_type": "stream",
     "text": [
      "Using TensorFlow backend.\n"
     ]
    },
    {
     "name": "stdout",
     "output_type": "stream",
     "text": [
      "Couldn't import dot_parser, loading of dot files will not be possible.\n"
     ]
    }
   ],
   "source": [
    "from imblearn.over_sampling import SMOTE\n",
    "# Instantiate a SMOTE object to oversample minority classes\n",
    "sm = SMOTE(random_state=42)\n",
    "X_train, y_train = sm.fit_sample(X_train, y_train)\n",
    "# check distribution of y_train after applying SMOTE\n",
    "y_train.value_counts(normalize = True);"
   ]
  },
  {
   "cell_type": "code",
   "execution_count": 13,
   "metadata": {},
   "outputs": [
    {
     "data": {
      "text/plain": [
       "1.0    0.5\n",
       "0.0    0.5\n",
       "Name: wnvpresent, dtype: float64"
      ]
     },
     "execution_count": 13,
     "metadata": {},
     "output_type": "execute_result"
    }
   ],
   "source": [
    "y_train.value_counts(normalize=True)"
   ]
  },
  {
   "cell_type": "markdown",
   "metadata": {},
   "source": [
    "As shown above, oversampling of the minority class (wnvpresent=1) has been performed, and there is now an equal distribution of WNV-infected and non-WNV-infected mosquitoes."
   ]
  },
  {
   "cell_type": "markdown",
   "metadata": {},
   "source": [
    "## Randomised Search for the Best Classifier"
   ]
  },
  {
   "cell_type": "markdown",
   "metadata": {},
   "source": [
    "To manage the total time and resources used to tune the hyperparameters, we use the RandomizedSearchCV to randomly find the optimal parameters for each of the models based on the training dataset, with a maximum of 50 iterations. We specify the range of parameters to be used by RandomizedSearchCV for each classifer, based on experience and past results of running the RandomizedSearchCV.\n",
    "\n",
    "We obtain the AUC score on the validation dataset for each classifier using the optimal parameters identified by RandomizedSearchCV. We will select the best classifier based on the **highest AUC score** found."
   ]
  },
  {
   "cell_type": "code",
   "execution_count": 14,
   "metadata": {},
   "outputs": [],
   "source": [
    "# We fit a StandardScaler() object on just the training dataset,\n",
    "# then use the object to transform both the training and validation datasets\n",
    "ss = StandardScaler()\n",
    "X_train_sc = ss.fit_transform(X_train)\n",
    "X_valid_sc = ss.transform(X_valid)\n",
    "X_test_sc = ss.transform(X_test)"
   ]
  },
  {
   "cell_type": "code",
   "execution_count": 15,
   "metadata": {},
   "outputs": [],
   "source": [
    "# We have selected the models below for modelling purposes.\n",
    "estimators = {\n",
    "    'lr': LogisticRegression(random_state=42),\n",
    "    'knn': KNeighborsClassifier(),\n",
    "    'ada': AdaBoostClassifier(random_state=42),\n",
    "    'dtree': DecisionTreeClassifier(random_state=42),\n",
    "    'rf': RandomForestClassifier(random_state=42),\n",
    "    'etree': ExtraTreesClassifier(random_state=42)\n",
    "}.items()"
   ]
  },
  {
   "cell_type": "code",
   "execution_count": 16,
   "metadata": {},
   "outputs": [],
   "source": [
    "params = {\n",
    "    'lr': {\n",
    "        'lr__solver': ['liblinear'],\n",
    "        'lr__penalty': ['l1', 'l2', 'elasticnet'],\n",
    "        'lr__C': np.logspace(1, 5, 20)\n",
    "    },\n",
    "    'knn': {\n",
    "        'knn__n_neighbors': [3, 5, 7, 9]\n",
    "    },\n",
    "    'ada': {\n",
    "        'ada__n_estimators': [500, 1000, 1500, 2000],\n",
    "        'ada__learning_rate': [1, 1.5, 2]\n",
    "    },\n",
    "    'dtree': {\n",
    "        'dtree__max_depth': [25, 50, 75, 100],\n",
    "        'dtree__max_features': ['auto', 'log2', None, 50, 100],\n",
    "        'dtree__min_samples_split': [5, 10, 20, 30],\n",
    "        'dtree__min_samples_leaf': [5, 10, 15, 20]\n",
    "    },\n",
    "    'rf': {\n",
    "        'rf__max_depth': [1000, 2000, 3000, 4000],\n",
    "        'rf__max_features': ['auto', 'log2', None, 50],\n",
    "        'rf__min_samples_split': [2, 4, 6],\n",
    "        'rf__min_samples_leaf': [1, 3, 5]\n",
    "    },\n",
    "    'etree': {\n",
    "        'etree__max_depth': [40, 50, 60, 70],\n",
    "        'etree__max_features': ['auto', 'log2', None, 50],\n",
    "        'etree__min_samples_split': [2, 4, 6],\n",
    "        'etree__min_samples_leaf': [1, 2, 3]\n",
    "    }\n",
    "}"
   ]
  },
  {
   "cell_type": "markdown",
   "metadata": {},
   "source": [
    "We now use RandomizedSearchCV to select the optimal parameters for each classifier that produces the best mean accuracy score based on the training dataset."
   ]
  },
  {
   "cell_type": "code",
   "execution_count": 17,
   "metadata": {
    "scrolled": false
   },
   "outputs": [
    {
     "name": "stdout",
     "output_type": "stream",
     "text": [
      "Fitting 5 folds for each of 50 candidates, totalling 250 fits\n"
     ]
    },
    {
     "name": "stderr",
     "output_type": "stream",
     "text": [
      "[Parallel(n_jobs=-1)]: Using backend LokyBackend with 8 concurrent workers.\n",
      "[Parallel(n_jobs=-1)]: Done  34 tasks      | elapsed:   17.8s\n",
      "[Parallel(n_jobs=-1)]: Done 184 tasks      | elapsed:   46.2s\n",
      "[Parallel(n_jobs=-1)]: Done 250 out of 250 | elapsed:   54.4s finished\n"
     ]
    },
    {
     "name": "stdout",
     "output_type": "stream",
     "text": [
      "Model:  lr\n",
      "Best parameters: {'lr__solver': 'liblinear', 'lr__penalty': 'l1', 'lr__C': 2069.13808111479}\n",
      "Best AUC cross validation score: 0.795890317219247\n",
      "Training dataset accuracy: 0.7058908879860708\n",
      "Validation dataset accuracy: 0.681930693069307\n",
      "Training dataset AUC score: 0.7058908879860708\n",
      "Validation dataset AUC score: 0.6672157984168429\n",
      "Validation dataset sensitivity 0.6507936507936508\n",
      "\n",
      "Fitting 5 folds for each of 4 candidates, totalling 20 fits\n"
     ]
    },
    {
     "name": "stderr",
     "output_type": "stream",
     "text": [
      "C:\\Users\\yuchy\\Anaconda3\\lib\\site-packages\\sklearn\\model_selection\\_search.py:281: UserWarning: The total space of parameters 4 is smaller than n_iter=50. Running 4 iterations. For exhaustive searches, use GridSearchCV.\n",
      "  % (grid_size, self.n_iter, grid_size), UserWarning)\n",
      "[Parallel(n_jobs=-1)]: Using backend LokyBackend with 8 concurrent workers.\n",
      "[Parallel(n_jobs=-1)]: Done  20 out of  20 | elapsed:   13.5s finished\n"
     ]
    },
    {
     "name": "stdout",
     "output_type": "stream",
     "text": [
      "Model:  knn\n",
      "Best parameters: {'knn__n_neighbors': 7}\n",
      "Best AUC cross validation score: 0.9382604665396848\n",
      "Training dataset accuracy: 0.9035113174695298\n",
      "Validation dataset accuracy: 0.7871287128712872\n",
      "Training dataset AUC score: 0.9035113174695298\n",
      "Validation dataset AUC score: 0.6476853578681255\n",
      "Validation dataset sensitivity 0.49206349206349204\n",
      "\n",
      "Fitting 5 folds for each of 12 candidates, totalling 60 fits\n"
     ]
    },
    {
     "name": "stderr",
     "output_type": "stream",
     "text": [
      "C:\\Users\\yuchy\\Anaconda3\\lib\\site-packages\\sklearn\\model_selection\\_search.py:281: UserWarning: The total space of parameters 12 is smaller than n_iter=50. Running 12 iterations. For exhaustive searches, use GridSearchCV.\n",
      "  % (grid_size, self.n_iter, grid_size), UserWarning)\n",
      "[Parallel(n_jobs=-1)]: Using backend LokyBackend with 8 concurrent workers.\n",
      "[Parallel(n_jobs=-1)]: Done  34 tasks      | elapsed:  3.0min\n",
      "[Parallel(n_jobs=-1)]: Done  60 out of  60 | elapsed:  5.3min finished\n"
     ]
    },
    {
     "name": "stdout",
     "output_type": "stream",
     "text": [
      "Model:  ada\n",
      "Best parameters: {'ada__n_estimators': 2000, 'ada__learning_rate': 1.5}\n",
      "Best AUC cross validation score: 0.9779000117223159\n",
      "Training dataset accuracy: 0.931442251886245\n",
      "Validation dataset accuracy: 0.8989273927392739\n",
      "Training dataset AUC score: 0.931442251886245\n",
      "Validation dataset AUC score: 0.639137552322931\n",
      "Validation dataset sensitivity 0.3492063492063492\n",
      "\n",
      "Fitting 5 folds for each of 50 candidates, totalling 250 fits\n"
     ]
    },
    {
     "name": "stderr",
     "output_type": "stream",
     "text": [
      "[Parallel(n_jobs=-1)]: Using backend LokyBackend with 8 concurrent workers.\n",
      "[Parallel(n_jobs=-1)]: Done  56 tasks      | elapsed:    0.3s\n",
      "[Parallel(n_jobs=-1)]: Done 250 out of 250 | elapsed:    1.7s finished\n",
      "[Parallel(n_jobs=-1)]: Using backend LokyBackend with 8 concurrent workers.\n"
     ]
    },
    {
     "name": "stdout",
     "output_type": "stream",
     "text": [
      "Model:  dtree\n",
      "Best parameters: {'dtree__min_samples_split': 20, 'dtree__min_samples_leaf': 5, 'dtree__max_features': None, 'dtree__max_depth': 75}\n",
      "Best AUC cross validation score: 0.9413607543650931\n",
      "Training dataset accuracy: 0.9323128264654672\n",
      "Validation dataset accuracy: 0.8597359735973598\n",
      "Training dataset AUC score: 0.9323128264654672\n",
      "Validation dataset AUC score: 0.6484727920759252\n",
      "Validation dataset sensitivity 0.4126984126984127\n",
      "\n",
      "Fitting 5 folds for each of 50 candidates, totalling 250 fits\n"
     ]
    },
    {
     "name": "stderr",
     "output_type": "stream",
     "text": [
      "[Parallel(n_jobs=-1)]: Done  34 tasks      | elapsed:   18.6s\n",
      "[Parallel(n_jobs=-1)]: Done 184 tasks      | elapsed:  1.2min\n",
      "[Parallel(n_jobs=-1)]: Done 250 out of 250 | elapsed:  1.8min finished\n"
     ]
    },
    {
     "name": "stdout",
     "output_type": "stream",
     "text": [
      "Model:  rf\n",
      "Best parameters: {'rf__min_samples_split': 6, 'rf__min_samples_leaf': 1, 'rf__max_features': None, 'rf__max_depth': 2000}\n",
      "Best AUC cross validation score: 0.9770945462506301\n",
      "Training dataset accuracy: 0.9836041787579802\n",
      "Validation dataset accuracy: 0.8960396039603961\n",
      "Training dataset AUC score: 0.9836041787579802\n",
      "Validation dataset AUC score: 0.6151104480086204\n",
      "Validation dataset sensitivity 0.30158730158730157\n",
      "\n",
      "Fitting 5 folds for each of 50 candidates, totalling 250 fits\n"
     ]
    },
    {
     "name": "stderr",
     "output_type": "stream",
     "text": [
      "[Parallel(n_jobs=-1)]: Using backend LokyBackend with 8 concurrent workers.\n",
      "[Parallel(n_jobs=-1)]: Done  34 tasks      | elapsed:   15.7s\n",
      "[Parallel(n_jobs=-1)]: Done 184 tasks      | elapsed:  1.2min\n",
      "[Parallel(n_jobs=-1)]: Done 250 out of 250 | elapsed:  1.7min finished\n"
     ]
    },
    {
     "name": "stdout",
     "output_type": "stream",
     "text": [
      "Model:  etree\n",
      "Best parameters: {'etree__min_samples_split': 6, 'etree__min_samples_leaf': 1, 'etree__max_features': None, 'etree__max_depth': 50}\n",
      "Best AUC cross validation score: 0.9759604899658333\n",
      "Training dataset accuracy: 0.9818630295995356\n",
      "Validation dataset accuracy: 0.8857260726072608\n",
      "Training dataset AUC score: 0.9818630295995358\n",
      "Validation dataset AUC score: 0.6509283434870903\n",
      "Validation dataset sensitivity 0.3888888888888889\n",
      "\n",
      "Wall time: 10min 34s\n"
     ]
    }
   ],
   "source": [
    "%%time\n",
    "# initialise empty lists to store information later\n",
    "models = []\n",
    "parameters = []\n",
    "train_accuracy = []\n",
    "val_accuracy = []\n",
    "best_score = []\n",
    "train_roc_auc = []\n",
    "val_roc_auc = []\n",
    "sensitivity = []\n",
    "\n",
    "for k,v in estimators:\n",
    "    pipe = Pipeline([(k,v)])\n",
    "    param = params[k]\n",
    "    randomsearch = RandomizedSearchCV(\n",
    "        n_iter=50, # we set a max. of 50 iterations\n",
    "        estimator=pipe,\n",
    "        random_state=42,\n",
    "        param_distributions=param,\n",
    "        verbose=1,\n",
    "        cv= 5,\n",
    "        n_jobs=-1,\n",
    "        return_train_score= True,\n",
    "        scoring = 'roc_auc' # we adopt AUC score as our scoring metric as it is provides the best overall assessment\n",
    "    )\n",
    "\n",
    "    randomsearch.fit(X_train_sc, y_train)\n",
    "    \n",
    "    model = randomsearch.best_estimator_\n",
    "    cv_score = randomsearch.cv_results_\n",
    "    best_params = randomsearch.best_params_\n",
    "\n",
    "    # predict y\n",
    "    y_pred_train = model.predict(X_train_sc)\n",
    "    y_pred_valid = model.predict(X_valid_sc)\n",
    "    \n",
    "    # print results\n",
    "    print (\"Model: \", k)\n",
    "    print (\"Best parameters:\", best_params)\n",
    "    print (\"Best AUC cross validation score:\", randomsearch.best_score_)\n",
    "    print (\"Training dataset accuracy:\", accuracy_score(y_train,y_pred_train))\n",
    "    print (\"Validation dataset accuracy:\", accuracy_score(y_valid,y_pred_valid))\n",
    "    print (\"Training dataset AUC score:\", roc_auc_score(y_train,y_pred_train))\n",
    "    print (\"Validation dataset AUC score:\", roc_auc_score(y_valid,y_pred_valid))\n",
    "    # obtain true positive and false negatives to calculate sensitivity\n",
    "    tn, fp, fn, tp = confusion_matrix(y_valid, y_pred_valid).ravel() \n",
    "    print (\"Validation dataset sensitivity\", tp/(tp+fn))\n",
    "    print (\"\")\n",
    "    \n",
    "    # append info to list\n",
    "    models.append(k)\n",
    "    best_score.append(randomsearch.best_score_)\n",
    "    parameters.append(best_params)\n",
    "    train_accuracy.append(accuracy_score(y_train,y_pred_train))\n",
    "    val_accuracy.append(accuracy_score(y_valid,y_pred_valid))\n",
    "    train_roc_auc.append(roc_auc_score(y_train,y_pred_train))\n",
    "    val_roc_auc.append(roc_auc_score(y_valid,y_pred_valid))\n",
    "    sensitivity.append(tp/(tp+fn))"
   ]
  },
  {
   "cell_type": "markdown",
   "metadata": {},
   "source": [
    "## Selection of the Best Classifier"
   ]
  },
  {
   "cell_type": "code",
   "execution_count": 18,
   "metadata": {
    "scrolled": true
   },
   "outputs": [
    {
     "name": "stderr",
     "output_type": "stream",
     "text": [
      "C:\\Users\\yuchy\\Anaconda3\\lib\\site-packages\\ipykernel_launcher.py:13: FutureWarning: Passing a negative integer is deprecated in version 1.0 and will not be supported in future version. Instead, use None to not limit the column width.\n",
      "  del sys.path[0]\n"
     ]
    },
    {
     "data": {
      "text/html": [
       "<div>\n",
       "<style scoped>\n",
       "    .dataframe tbody tr th:only-of-type {\n",
       "        vertical-align: middle;\n",
       "    }\n",
       "\n",
       "    .dataframe tbody tr th {\n",
       "        vertical-align: top;\n",
       "    }\n",
       "\n",
       "    .dataframe thead th {\n",
       "        text-align: right;\n",
       "    }\n",
       "</style>\n",
       "<table border=\"1\" class=\"dataframe\">\n",
       "  <thead>\n",
       "    <tr style=\"text-align: right;\">\n",
       "      <th></th>\n",
       "      <th>model</th>\n",
       "      <th>parameters</th>\n",
       "      <th>Best AUC cross validation score</th>\n",
       "      <th>Training dataset accuracy</th>\n",
       "      <th>Validation dataset accuracy</th>\n",
       "      <th>Training dataset AUC score</th>\n",
       "      <th>Validation dataset AUC score</th>\n",
       "      <th>Validation dataset sensitivity</th>\n",
       "    </tr>\n",
       "  </thead>\n",
       "  <tbody>\n",
       "    <tr>\n",
       "      <th>0</th>\n",
       "      <td>lr</td>\n",
       "      <td>{'lr__solver': 'liblinear', 'lr__penalty': 'l1', 'lr__C': 2069.13808111479}</td>\n",
       "      <td>0.795890</td>\n",
       "      <td>0.705891</td>\n",
       "      <td>0.681931</td>\n",
       "      <td>0.705891</td>\n",
       "      <td>0.667216</td>\n",
       "      <td>0.650794</td>\n",
       "    </tr>\n",
       "    <tr>\n",
       "      <th>1</th>\n",
       "      <td>etree</td>\n",
       "      <td>{'etree__min_samples_split': 6, 'etree__min_samples_leaf': 1, 'etree__max_features': None, 'etree__max_depth': 50}</td>\n",
       "      <td>0.975960</td>\n",
       "      <td>0.981863</td>\n",
       "      <td>0.885726</td>\n",
       "      <td>0.981863</td>\n",
       "      <td>0.650928</td>\n",
       "      <td>0.388889</td>\n",
       "    </tr>\n",
       "    <tr>\n",
       "      <th>2</th>\n",
       "      <td>dtree</td>\n",
       "      <td>{'dtree__min_samples_split': 20, 'dtree__min_samples_leaf': 5, 'dtree__max_features': None, 'dtree__max_depth': 75}</td>\n",
       "      <td>0.941361</td>\n",
       "      <td>0.932313</td>\n",
       "      <td>0.859736</td>\n",
       "      <td>0.932313</td>\n",
       "      <td>0.648473</td>\n",
       "      <td>0.412698</td>\n",
       "    </tr>\n",
       "    <tr>\n",
       "      <th>3</th>\n",
       "      <td>knn</td>\n",
       "      <td>{'knn__n_neighbors': 7}</td>\n",
       "      <td>0.938260</td>\n",
       "      <td>0.903511</td>\n",
       "      <td>0.787129</td>\n",
       "      <td>0.903511</td>\n",
       "      <td>0.647685</td>\n",
       "      <td>0.492063</td>\n",
       "    </tr>\n",
       "    <tr>\n",
       "      <th>4</th>\n",
       "      <td>ada</td>\n",
       "      <td>{'ada__n_estimators': 2000, 'ada__learning_rate': 1.5}</td>\n",
       "      <td>0.977900</td>\n",
       "      <td>0.931442</td>\n",
       "      <td>0.898927</td>\n",
       "      <td>0.931442</td>\n",
       "      <td>0.639138</td>\n",
       "      <td>0.349206</td>\n",
       "    </tr>\n",
       "    <tr>\n",
       "      <th>5</th>\n",
       "      <td>rf</td>\n",
       "      <td>{'rf__min_samples_split': 6, 'rf__min_samples_leaf': 1, 'rf__max_features': None, 'rf__max_depth': 2000}</td>\n",
       "      <td>0.977095</td>\n",
       "      <td>0.983604</td>\n",
       "      <td>0.896040</td>\n",
       "      <td>0.983604</td>\n",
       "      <td>0.615110</td>\n",
       "      <td>0.301587</td>\n",
       "    </tr>\n",
       "  </tbody>\n",
       "</table>\n",
       "</div>"
      ],
      "text/plain": [
       "   model  \\\n",
       "0  lr      \n",
       "1  etree   \n",
       "2  dtree   \n",
       "3  knn     \n",
       "4  ada     \n",
       "5  rf      \n",
       "\n",
       "                                                                                                            parameters  \\\n",
       "0  {'lr__solver': 'liblinear', 'lr__penalty': 'l1', 'lr__C': 2069.13808111479}                                           \n",
       "1  {'etree__min_samples_split': 6, 'etree__min_samples_leaf': 1, 'etree__max_features': None, 'etree__max_depth': 50}    \n",
       "2  {'dtree__min_samples_split': 20, 'dtree__min_samples_leaf': 5, 'dtree__max_features': None, 'dtree__max_depth': 75}   \n",
       "3  {'knn__n_neighbors': 7}                                                                                               \n",
       "4  {'ada__n_estimators': 2000, 'ada__learning_rate': 1.5}                                                                \n",
       "5  {'rf__min_samples_split': 6, 'rf__min_samples_leaf': 1, 'rf__max_features': None, 'rf__max_depth': 2000}              \n",
       "\n",
       "   Best AUC cross validation score  Training dataset accuracy  \\\n",
       "0  0.795890                         0.705891                    \n",
       "1  0.975960                         0.981863                    \n",
       "2  0.941361                         0.932313                    \n",
       "3  0.938260                         0.903511                    \n",
       "4  0.977900                         0.931442                    \n",
       "5  0.977095                         0.983604                    \n",
       "\n",
       "   Validation dataset accuracy  Training dataset AUC score  \\\n",
       "0  0.681931                     0.705891                     \n",
       "1  0.885726                     0.981863                     \n",
       "2  0.859736                     0.932313                     \n",
       "3  0.787129                     0.903511                     \n",
       "4  0.898927                     0.931442                     \n",
       "5  0.896040                     0.983604                     \n",
       "\n",
       "   Validation dataset AUC score  Validation dataset sensitivity  \n",
       "0  0.667216                      0.650794                        \n",
       "1  0.650928                      0.388889                        \n",
       "2  0.648473                      0.412698                        \n",
       "3  0.647685                      0.492063                        \n",
       "4  0.639138                      0.349206                        \n",
       "5  0.615110                      0.301587                        "
      ]
     },
     "execution_count": 18,
     "metadata": {},
     "output_type": "execute_result"
    }
   ],
   "source": [
    "# Produce a summary table of the tuned classifiers\n",
    "summary = pd.DataFrame({\n",
    "    'model': models,\n",
    "    'parameters': parameters,\n",
    "    'Best AUC cross validation score': best_score,\n",
    "    'Training dataset accuracy': train_accuracy,\n",
    "    'Validation dataset accuracy': val_accuracy,\n",
    "    'Training dataset AUC score': train_roc_auc,\n",
    "    'Validation dataset AUC score': val_roc_auc,\n",
    "    'Validation dataset sensitivity': sensitivity\n",
    "    })\n",
    "\n",
    "pd.set_option('display.max_colwidth', -1)\n",
    "summary.sort_values('Validation dataset AUC score', ascending=False).reset_index(drop=True)"
   ]
  },
  {
   "cell_type": "markdown",
   "metadata": {},
   "source": [
    "The table above shows the performance of the various models in terms of their optimal parameters, and the different metrics used to evaluate the models, namely accuracy, AUC scores and sensitivity. The classifiers are sorted based on descending order of the sensitivity score on the validation dataset.\n",
    "\n",
    "We choose the **Logistic Regression** (lr) classifier as our best classifier, given that it has the highest AUC score on the validation dataset (0.667). Although it did not achieve an accuracy (i.e. 68.2%) higher than the baseline accuracy of 94.8% (extremely high due to imbalanced data), this is still a much better model because the baseline model will also never predict that a location has West Nile Virus, which may lead to outbreaks of the disease. Besides, we observe minimal overfitting of the model when comparing both the accuracy and AUC scores of the training and validation datasets.\n",
    "\n",
    "Besides having the highest ROC-AUC score, the Logistic Regression model has the highest sensitivity (0.651), which is an important metric in this case. False negatives need to be reduced so that mosquito control measures can be done at all areas which have the virus."
   ]
  },
  {
   "cell_type": "markdown",
   "metadata": {},
   "source": [
    "## Further exploration of the Best Classifier"
   ]
  },
  {
   "cell_type": "markdown",
   "metadata": {},
   "source": [
    "### Logistic Regression Coefficients"
   ]
  },
  {
   "cell_type": "code",
   "execution_count": 19,
   "metadata": {},
   "outputs": [],
   "source": [
    "# We instantiate the logistic regression classifier based on the best parameters found above\n",
    "lr_best = LogisticRegression(random_state=42, solver='liblinear', penalty='l1', C=1274.2749857031336)"
   ]
  },
  {
   "cell_type": "code",
   "execution_count": 20,
   "metadata": {},
   "outputs": [
    {
     "data": {
      "text/plain": [
       "LogisticRegression(C=1274.2749857031336, class_weight=None, dual=False,\n",
       "                   fit_intercept=True, intercept_scaling=1, l1_ratio=None,\n",
       "                   max_iter=100, multi_class='auto', n_jobs=None, penalty='l1',\n",
       "                   random_state=42, solver='liblinear', tol=0.0001, verbose=0,\n",
       "                   warm_start=False)"
      ]
     },
     "execution_count": 20,
     "metadata": {},
     "output_type": "execute_result"
    }
   ],
   "source": [
    "# Fit the logistic regression classifier on the scaled training dataset\n",
    "lr_best.fit(X_train_sc, y_train)"
   ]
  },
  {
   "cell_type": "code",
   "execution_count": 21,
   "metadata": {},
   "outputs": [
    {
     "data": {
      "image/png": "[encoded data removed]",
      "text/plain": [
       "<Figure size 720x360 with 1 Axes>"
      ]
     },
     "metadata": {
      "needs_background": "light"
     },
     "output_type": "display_data"
    }
   ],
   "source": [
    "# Generate a plot of the logistic regression coefficients\n",
    "# The coefficients are exponentiated to reverse the effect of logistic regression\n",
    "fig = plt.figure(figsize=(10,5))\n",
    "feature_scores = pd.DataFrame(np.exp(lr_best.coef_), columns=X.columns)\n",
    "feature_scores.loc[0,:].sort_values(ascending=True).plot(kind='barh');\n",
    "plt.xlabel(\"Logistic Regression Coefficient\")\n",
    "plt.ylabel(\"Feature\")\n",
    "plt.title(\"Effect of feature on number of WNV-infected mosquitoes\");"
   ]
  },
  {
   "cell_type": "markdown",
   "metadata": {},
   "source": [
    "**Findings:**\n",
    "\n",
    "*wetbulb * dewpoint*\n",
    "\n",
    "The coefficient which is most significant is the interaction term wetbulb * dewpoint.\n",
    "Wet bulb temperature measures the temperature with the bulb of the thermometer wrapped in wet cloth. The idea is that as water evaporates from the cloth, the temperature drops. This is a useful method of measurement because the more saturated with moisture the air is, the less evaporation occurs and the less cooling there is.\n",
    "\n",
    "The dew point temperature, on the other hand, is the temperature at which moisture in the air starts to condense, as it does during the formation of dew. Like wet bulb temperature, the dew point really shows the relationship between temperature and humidity, but it does it in a different way.\n",
    "\n",
    "Wet bulb temperature can be thought of as a measure of water evaporation while dew point temperature can be seen as a measure of water condensation. Since both variables are measures of humidity, it makes sense that they are important variables in predicting whether the virus is present. Based on the PubMed Central article ([Climate change impacts on West Nile virus transmission in a global context](https://www.ncbi.nlm.nih.gov/pmc/articles/PMC4342965/)), relative humidity correlates positively with:\n",
    "* vector population dynamics\n",
    "* morbidity in humans\n",
    " \n",
    "Thus, we can infer that as relative humidity goes up, the mosquito population size increases and morbidity in humans also increase.\n",
    "\n",
    "*tavg * wetbulb*\n",
    "\n",
    "The second most significant interaction term is related to humidity and temperature. According to the same article, temperature correlates positively with:\n",
    "* viral replication rates\n",
    "* seasonal phenology of mosquito host populations\n",
    "* growth rates of vector populations\n",
    "* geographical variations in human case incidence\n",
    "\n",
    "We can infer that as this humidity and temperature interaction term increases, there should be a corresponding rise in the presence of the virus given that viral replication rates and the growth rate of mosquito populations will increase. These will lead to higher geographical variations in human case incidence."
   ]
  },
  {
   "cell_type": "markdown",
   "metadata": {},
   "source": [
    "### ROC-AUC Curve"
   ]
  },
  {
   "cell_type": "code",
   "execution_count": 22,
   "metadata": {},
   "outputs": [
    {
     "data": {
      "text/html": [
       "<div>\n",
       "<style scoped>\n",
       "    .dataframe tbody tr th:only-of-type {\n",
       "        vertical-align: middle;\n",
       "    }\n",
       "\n",
       "    .dataframe tbody tr th {\n",
       "        vertical-align: top;\n",
       "    }\n",
       "\n",
       "    .dataframe thead th {\n",
       "        text-align: right;\n",
       "    }\n",
       "</style>\n",
       "<table border=\"1\" class=\"dataframe\">\n",
       "  <thead>\n",
       "    <tr style=\"text-align: right;\">\n",
       "      <th></th>\n",
       "      <th>true_values</th>\n",
       "      <th>pred_probs</th>\n",
       "    </tr>\n",
       "  </thead>\n",
       "  <tbody>\n",
       "    <tr>\n",
       "      <th>8914</th>\n",
       "      <td>0.0</td>\n",
       "      <td>0.228475</td>\n",
       "    </tr>\n",
       "    <tr>\n",
       "      <th>6079</th>\n",
       "      <td>0.0</td>\n",
       "      <td>0.668096</td>\n",
       "    </tr>\n",
       "    <tr>\n",
       "      <th>2279</th>\n",
       "      <td>0.0</td>\n",
       "      <td>0.443008</td>\n",
       "    </tr>\n",
       "    <tr>\n",
       "      <th>9369</th>\n",
       "      <td>1.0</td>\n",
       "      <td>0.721823</td>\n",
       "    </tr>\n",
       "    <tr>\n",
       "      <th>4835</th>\n",
       "      <td>0.0</td>\n",
       "      <td>0.662433</td>\n",
       "    </tr>\n",
       "  </tbody>\n",
       "</table>\n",
       "</div>"
      ],
      "text/plain": [
       "      true_values  pred_probs\n",
       "8914  0.0          0.228475  \n",
       "6079  0.0          0.668096  \n",
       "2279  0.0          0.443008  \n",
       "9369  1.0          0.721823  \n",
       "4835  0.0          0.662433  "
      ]
     },
     "execution_count": 22,
     "metadata": {},
     "output_type": "execute_result"
    }
   ],
   "source": [
    "# Create a dataframe called pred_df that contains:\n",
    "# 1. The list of true values of our validation set.\n",
    "# 2. The list of predicted probabilities based on our model.\n",
    "\n",
    "pred_proba = [i[1] for i in lr_best.predict_proba(X_valid_sc)]\n",
    "\n",
    "pred_df = pd.DataFrame({'true_values': y_valid,\n",
    "                        'pred_probs':pred_proba})\n",
    "pred_df.head()"
   ]
  },
  {
   "cell_type": "code",
   "execution_count": 23,
   "metadata": {
    "scrolled": false
   },
   "outputs": [
    {
     "data": {
      "image/png": "[encoded data removed]",
      "text/plain": [
       "<Figure size 720x504 with 1 Axes>"
      ]
     },
     "metadata": {
      "needs_background": "light"
     },
     "output_type": "display_data"
    }
   ],
   "source": [
    "# Create figure.\n",
    "plt.figure(figsize = (10,7))\n",
    "\n",
    "# Create threshold values.\n",
    "thresholds = np.linspace(0, 1, 200)\n",
    "\n",
    "# Define function to calculate sensitivity. (True positive rate.)\n",
    "def TPR(df, true_col, pred_prob_col, threshold):\n",
    "    true_positive = df[(df[true_col] == 1) & (df[pred_prob_col] >= threshold)].shape[0]\n",
    "    false_negative = df[(df[true_col] == 1) & (df[pred_prob_col] < threshold)].shape[0]\n",
    "    return true_positive / (true_positive + false_negative)\n",
    "    \n",
    "\n",
    "# Define function to calculate 1 - specificity. (False positive rate.)\n",
    "def FPR(df, true_col, pred_prob_col, threshold):\n",
    "    true_negative = df[(df[true_col] == 0) & (df[pred_prob_col] <= threshold)].shape[0]\n",
    "    false_positive = df[(df[true_col] == 0) & (df[pred_prob_col] > threshold)].shape[0]\n",
    "    return 1 - (true_negative / (true_negative + false_positive))\n",
    "    \n",
    "# Calculate sensitivity & 1-specificity for each threshold between 0 and 1.\n",
    "tpr_values = [TPR(pred_df, 'true_values', 'pred_probs', prob) for prob in thresholds]\n",
    "fpr_values = [FPR(pred_df, 'true_values', 'pred_probs', prob) for prob in thresholds]\n",
    "\n",
    "# Plot ROC curve.\n",
    "plt.plot(fpr_values, # False Positive Rate on X-axis\n",
    "         tpr_values, # True Positive Rate on Y-axis\n",
    "         label='ROC Curve')\n",
    "\n",
    "# Plot baseline. (Perfect overlap between the two populations.)\n",
    "plt.plot(np.linspace(0, 1, 200),\n",
    "         np.linspace(0, 1, 200),\n",
    "         label='baseline',\n",
    "         linestyle='--')\n",
    "\n",
    "# Label axes.\n",
    "plt.title('Receiver Operating Characteristic Curve', fontsize=22)\n",
    "plt.ylabel('Sensitivity', fontsize=18)\n",
    "plt.xlabel('1 - Specificity', fontsize=18)\n",
    "\n",
    "# Create legend.\n",
    "plt.legend(fontsize=16);"
   ]
  },
  {
   "cell_type": "markdown",
   "metadata": {},
   "source": [
    "**Interpreting ROC AUC**\n",
    "\n",
    "ROC is a probability curve and AUC represents the degree of separability i.e. the capability of the model in distinguishing between classes. The higher the AUC, the better the model is at predicting 0s as 0s and 1s as 1s. If AUC is 1, the positive (wnvpresent = 1) and negative populations (wnvpresent = 0) are perfectly separated. Here, we have an AUC of 0.667216."
   ]
  },
  {
   "cell_type": "markdown",
   "metadata": {},
   "source": [
    "---\n",
    "## Cost-Benefit Analysis\n",
    "\n",
    "\n",
    "We can quantify the costs of pesticide spraying by looking at the explicit costs associated with spray implementation.\n",
    "\n",
    "Approximately USD 2.6M spray cost :\n",
    "\n",
    "### Quantitative Cost Factors\n",
    "\n",
    "**Method 1**\n",
    "\n",
    "1. Cost of Zenivex E4 = USD 80 per gallon (https://www.cmmcp.org/pesticide-information/pages/zenivex-e4-etofenprox)\n",
    "2. Estimated cost of pesticides for each sprayer truck is USD 800-1,600 (based on spraying at 4.5 - 9 ounces per minute, at a vehicle speed of 10 - 15 mph)\n",
    "3. Estimated cost of pesticides for all sprayer trucks is USD 1.6M in total (based on 1,000 trucks requires to cover the total area of Chicago is 606.1 km (http://www.gfmosquito.com/wp-content/uploads/2013/06/2013-North-Dakota-Bid-Tabulation.pdf)\n",
    "\n",
    "Total cost = USD 1.6-3.25M\n",
    "\n",
    "**Method 2**\n",
    "\n",
    "4. Cost of spray trucks (USD 400-650 per hour x 5 hrs x 1,000 trucks = USD 2-3.25M) (http://meepi.org/wnv/overkillma.htm)\n",
    "5. Miscellaneous advertising costs related to mosquito control notices\n",
    "\n",
    "### Qualitative Cost Factors\n",
    "\n",
    "Human and ecologic risks associated with the pesticide spray(http://envinfo.org/appendix%20ii-c.html)\n",
    "\n",
    "### Quantitative Benefit Factors\n",
    "\n",
    "We can quantify the benefit of pesticide spraying by looking at the aversion of loss of income which could have resulted from WNV. \t\n",
    "\n",
    "Approximately USD $1.23M from medical/hospitalization expenses and loss of income due to WNV, as follows:\n",
    "\n",
    "1. Potential aversion of loss in household income:\n",
    "\n",
    "\t- The annual median household income in Chicago was USD 57,238, as of 2018  and can be used as an estimate to measure the loss of income during patient recovery from WNV. https://datausa.io/profile/geo/chicago-il/\n",
    "\t- Given that 1 in 5 experience symptoms such as headache, body aches, joint pains, vomiting, diarrhea, or rash , this could mean that approximately 35 people out of 176 may have been hospitalized or received medical treatment.https://www.cdc.gov/westnile/symptoms/index.html If these were working adults and required two weeks off work to recover, this would have resulted in a total loss of income of USD 2,200 per patient over 2 weeks or USD 77,000 for 35 patients.\n",
    "\n",
    "\n",
    "2. Potential aversion of hospital and medical expenses:\n",
    "\n",
    "\t- Method 1: In 2018, there were 176 WNV cases reported in Illinois where Chicago  is located.  On average, each WNV patient spends approximately USD 33,143 per inpatient and USD 6,317 per outpatient for all treatments. Total cost of 35 patients would amount to 1,160,005. Therefore the total monetary loss caused by WNV in 2018 could be as high as USD 1,237,005 in total https://www.ncbi.nlm.nih.gov/pmc/articles/PMC3322011\n",
    "\t- Method 2: Studies have shown that the WNV hospitalization costs are annually USD 56M for the United States. If we divide this amount by 50 states, this amounts to USD 1.12M a year for Illinois where Chicao is located. https://www.sciencedaily.com/releases/2014/02/140210184713.htm\n",
    "\n",
    "\n",
    "3. Potential aversion of medical expensess of non-WNV issues\n",
    "Our analysis also does not include medical costs associated with non-WNV issues which may have been resolved through spraying of pesticides, such as mosquito-bite allergenicity or potential adverse sequelae, which are unaccounted for but may be significant.\n",
    "\n",
    "4. Potential aversion of loss of income in business or tourism: more data is required on this\n",
    "\n",
    "### Qualitative Benefit Factors\n",
    "\n",
    "1. Pain and distress are difficult to quantify monetarily\n",
    "2. Averted medical costs associated with non-WNV issues are difficult to account for\n",
    "3. Benefits from mosquito spraying such as increased quality of life from fewer people falling sick and increased workplace productivity from fewer people falling ill and going on medical leave, are less easily quantifiable.\n",
    "\n",
    "### Cost-benefit Assessment\n",
    "\n",
    "It is inconclusive that benefits of pesticide spraying exceeded its costs. Based on quantitative analysis, the actual/realised monetary costs associated with spraying appear to exceed the benefits. However, given that WNV cases may be underestimated and factoring in the qualitative factors, mentioned above, results are inconclusive. Regarding unreported figures, the actual number of persons affected with WNF remains unknown as the total number of WNF cases have been underreported or underdiagnosed. The Centers for Disease control estimates that for every confirmed case, there’s 30 to 60 cases that go unreported. (https://www.abc10.com/article/news/local/)\n"
   ]
  },
  {
   "cell_type": "markdown",
   "metadata": {},
   "source": [
    "---\n",
    "## Conclusions and Recommendations\n",
    "\n",
    "### A. Our Classifier\n",
    "\n",
    "We have trained a classifier to predict when and where different species of mosquitos will test positive for West Nile Virus (WNV). Our classifier is a Logistic Regression which gives a rather high sensitivity rate of 65% .\n",
    "\n",
    "**Limitations**\n",
    "\n",
    "1. The limitation of this model lies in the use of time-series data which could mean that the data is autocorrelated. This can lead to implications on the computation of standard errors.\n",
    "2. More data is required for more accurate analysis. Earlier EDA revealed that spraying was only done in 2011 and 2013, and mostly in September. As this is near the end of summer, breeding conditions were already becoming less favourable for mosquitos, hence it would be difficult to discern the effects of spraying from the natural decline in mosquito populations. Further examinations of spraying efforts in 2013 August also did not reveal any noticeable decrease in WNV occurrences.\n",
    "\n",
    "**Areas for further investigation**\n",
    "\n",
    "We have yet to explore the variable of number of mosquitoes. A larger population size of mosquitoes would mean that there are more mosquitoes which can become infected, and it also increases the number of interactions among hosts, allowing for a faster spread of the virus. The size of the population could be estimated from the number of mosquitoes found in each trap. However, as this variable is not present in the test set, we dropped it from our training dataset. In future analysis, we could impute the value from other variables so that it can be used as an input.\n",
    "\n",
    "### B. Further Efforts in Spraying\n",
    "\n",
    "Based on our observations, the duration and magnitude of spraying could be improved, as mentioned below.\n",
    "\n",
    "**Focus on Sensitivity**\n",
    "\n",
    "The sensitivity of our model to detect WNV is 65%. (we can tune parameters to get different results)\n",
    "\n",
    "We view sensitivity as a priority as the cost and tolerance of falsely spraying areas (ones that are not infested) is high for the Chicago Municipality. Based on solvency, Illinois where Chicago is located, has between 0.55 and 1.13 times the cash needed to cover short-term obligations and ranks 50th among the US states for fiscal health, well below the US average (https://www.mercatus.org/publications/50-ranking-states-fiscal-condition-illinois).\n",
    "\n",
    "Hence the cost of overspending is high.\n",
    "\n",
    "We choose to focus less on specificity in the case of Chicago as it is one of the healthiest states in US (https://news.wttw.com/2017/02/17/chicago-ranked-one-healthiest-cities-us). Hence we infer that false negatives is a less serious issue.\n",
    "\n",
    "**A Targeted Approach**\n",
    "\n",
    "1. Targeting WNV geographic clusters that we identified in our EDA, so as to allow for broader coverage.\n",
    "2. Increase spraying frequency during WNV seasonal periods, as identified during our EDA, such as in August where mosquitoes numbers tend to increase.\n",
    "3. Targeting of one species (Culex Pipiens, Culex Pipiens/Restuans) which stands out as a carrier with higher rates of WNV in our EDA. We propose reducing this species in particular through targeted biological mosquito control which would make spraying more efficient and less costly.\n",
    "\n",
    "As 14,244 sprays were conducted over 10 days, this could be viewed as excessive and temporal. Our EDA comparing spray locations and WNV incidences also suggests that spray efficacy could be limited since incidences of WNV were still present during periods after pesticide spray.\n",
    "\n",
    "**A Holistic Approach**\n",
    "\n",
    "1. Implementing other vector control measures such as education campaigns (such as using insect repellents and emptying water from containers to reduce exposure) (http://phsneb.org/programs/population-protection/environmental/west-nile-virus/).\n",
    "2. More use of larvicides instead of adulticides. Spraying of pesticides (adulticides) mainly works against winged mosquitoes as compared to larvicides that work in standing water against mosquito larvae. Larvicides can be targeted to mosquito breeding sites, which could help to reduce cost. Given that there are over 210,000 catch basins in Chicago which are excellent breeding grounds for mosquitoes, more frequent use of larvicides could be carried out (https://www.chicago.gov/city/en/depts/cdph/provdrs/healthy_communities/svcs/report_standing_water.html).\n"
   ]
  },
  {
   "cell_type": "markdown",
   "metadata": {},
   "source": [
    "## Generation of Predictions"
   ]
  },
  {
   "cell_type": "code",
   "execution_count": 24,
   "metadata": {},
   "outputs": [],
   "source": [
    "# Generate the predictions based on the scaled testing dataset\n",
    "y_pred = pd.DataFrame(lr_best.predict(X_test_sc), columns=['wnvpresent'])"
   ]
  },
  {
   "cell_type": "code",
   "execution_count": 25,
   "metadata": {},
   "outputs": [],
   "source": [
    "# Concatenate the predictions with the X_test dataframe\n",
    "test_pred = pd.concat([X_test, y_pred], axis=1)"
   ]
  },
  {
   "cell_type": "code",
   "execution_count": 26,
   "metadata": {},
   "outputs": [],
   "source": [
    "# Restore the 'id' column since we need this for the Kaggle submission\n",
    "test_pred = pd.concat([test_pred, test['id']], axis=1)"
   ]
  },
  {
   "cell_type": "code",
   "execution_count": 27,
   "metadata": {
    "scrolled": true
   },
   "outputs": [
    {
     "data": {
      "text/plain": [
       "0.0    75332\n",
       "1.0    40961\n",
       "Name: wnvpresent, dtype: int64"
      ]
     },
     "execution_count": 27,
     "metadata": {},
     "output_type": "execute_result"
    }
   ],
   "source": [
    "# Verify that we have a mix of predictions for WNV\n",
    "test_pred['wnvpresent'].value_counts()"
   ]
  },
  {
   "cell_type": "markdown",
   "metadata": {},
   "source": [
    "## Data Export"
   ]
  },
  {
   "cell_type": "code",
   "execution_count": 28,
   "metadata": {},
   "outputs": [],
   "source": [
    "test_pred.to_csv(\"../assets/test_pred.csv\", index=False)"
   ]
  },
  {
   "cell_type": "code",
   "execution_count": null,
   "metadata": {},
   "outputs": [],
   "source": []
  }
 ],
 "metadata": {
  "kernelspec": {
   "display_name": "Python 3",
   "language": "python",
   "name": "python3"
  },
  "language_info": {
   "codemirror_mode": {
    "name": "ipython",
    "version": 3
   },
   "file_extension": ".py",
   "mimetype": "text/x-python",
   "name": "python",
   "nbconvert_exporter": "python",
   "pygments_lexer": "ipython3",
   "version": "3.7.6"
  }
 },
 "nbformat": 4,
 "nbformat_minor": 2
}
