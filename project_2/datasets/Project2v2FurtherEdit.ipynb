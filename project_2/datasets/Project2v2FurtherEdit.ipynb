{
 "cells": [
  {
   "cell_type": "markdown",
   "metadata": {},
   "source": [
    "# Project 2: Ames Housing Project Suggestions"
   ]
  },
  {
   "cell_type": "code",
   "execution_count": 3,
   "metadata": {},
   "outputs": [],
   "source": [
    "import pandas as pd\n",
    "import numpy as np\n",
    "from scipy import stats\n",
    "\n",
    "from sklearn.linear_model import LinearRegression,LassoCV,RidgeCV\n",
    "from sklearn.model_selection import train_test_split, KFold, cross_val_score\n",
    "from sklearn.preprocessing import Imputer, PolynomialFeatures,StandardScaler\n",
    "import sklearn.metrics as metrics\n",
    "from sklearn.metrics import r2_score\n",
    "\n",
    "import matplotlib.pyplot as plt\n",
    "import seaborn as sns\n",
    "\n",
    "\n",
    "%matplotlib inline"
   ]
  },
  {
   "cell_type": "code",
   "execution_count": 4,
   "metadata": {},
   "outputs": [],
   "source": [
    "ames=pd.read_csv('train2.csv')\n",
    "ames_test=pd.read_csv('test.csv')\n",
    "data_dict=pd.read_excel('data_dict2.xls')\n"
   ]
  },
  {
   "cell_type": "code",
   "execution_count": 5,
   "metadata": {},
   "outputs": [],
   "source": [
    "df=pd.DataFrame(ames)"
   ]
  },
  {
   "cell_type": "markdown",
   "metadata": {},
   "source": [
    "# Data Checking\n",
    "1)identify numeric and non-mumeric columns and their NaNs<br>\n",
    "2)identify datatypes for conversion<br>\n",
    "3)determine meaning of missing values by cross-checking with data dictionary<br>\n"
   ]
  },
  {
   "cell_type": "code",
   "execution_count": 6,
   "metadata": {},
   "outputs": [
    {
     "data": {
      "text/html": [
       "<div>\n",
       "<style scoped>\n",
       "    .dataframe tbody tr th:only-of-type {\n",
       "        vertical-align: middle;\n",
       "    }\n",
       "\n",
       "    .dataframe tbody tr th {\n",
       "        vertical-align: top;\n",
       "    }\n",
       "\n",
       "    .dataframe thead th {\n",
       "        text-align: right;\n",
       "    }\n",
       "</style>\n",
       "<table border=\"1\" class=\"dataframe\">\n",
       "  <thead>\n",
       "    <tr style=\"text-align: right;\">\n",
       "      <th></th>\n",
       "      <th>Id</th>\n",
       "      <th>PID</th>\n",
       "      <th>MS SubClass</th>\n",
       "      <th>MS Zoning</th>\n",
       "      <th>Lot Frontage</th>\n",
       "      <th>Lot Area</th>\n",
       "      <th>Street</th>\n",
       "      <th>Alley</th>\n",
       "      <th>Lot Shape</th>\n",
       "      <th>Land Contour</th>\n",
       "      <th>...</th>\n",
       "      <th>Screen Porch</th>\n",
       "      <th>Pool Area</th>\n",
       "      <th>Pool QC</th>\n",
       "      <th>Fence</th>\n",
       "      <th>Misc Feature</th>\n",
       "      <th>Misc Val</th>\n",
       "      <th>Mo Sold</th>\n",
       "      <th>Yr Sold</th>\n",
       "      <th>Sale Type</th>\n",
       "      <th>SalePrice</th>\n",
       "    </tr>\n",
       "  </thead>\n",
       "  <tbody>\n",
       "    <tr>\n",
       "      <th>0</th>\n",
       "      <td>109</td>\n",
       "      <td>533352170</td>\n",
       "      <td>60</td>\n",
       "      <td>RL</td>\n",
       "      <td>NaN</td>\n",
       "      <td>13517</td>\n",
       "      <td>Pave</td>\n",
       "      <td>NaN</td>\n",
       "      <td>IR1</td>\n",
       "      <td>Lvl</td>\n",
       "      <td>...</td>\n",
       "      <td>0</td>\n",
       "      <td>0</td>\n",
       "      <td>NaN</td>\n",
       "      <td>NaN</td>\n",
       "      <td>NaN</td>\n",
       "      <td>0</td>\n",
       "      <td>3</td>\n",
       "      <td>2010</td>\n",
       "      <td>WD</td>\n",
       "      <td>130500</td>\n",
       "    </tr>\n",
       "    <tr>\n",
       "      <th>1</th>\n",
       "      <td>544</td>\n",
       "      <td>531379050</td>\n",
       "      <td>60</td>\n",
       "      <td>RL</td>\n",
       "      <td>43.0</td>\n",
       "      <td>11492</td>\n",
       "      <td>Pave</td>\n",
       "      <td>NaN</td>\n",
       "      <td>IR1</td>\n",
       "      <td>Lvl</td>\n",
       "      <td>...</td>\n",
       "      <td>0</td>\n",
       "      <td>0</td>\n",
       "      <td>NaN</td>\n",
       "      <td>NaN</td>\n",
       "      <td>NaN</td>\n",
       "      <td>0</td>\n",
       "      <td>4</td>\n",
       "      <td>2009</td>\n",
       "      <td>WD</td>\n",
       "      <td>220000</td>\n",
       "    </tr>\n",
       "    <tr>\n",
       "      <th>2</th>\n",
       "      <td>153</td>\n",
       "      <td>535304180</td>\n",
       "      <td>20</td>\n",
       "      <td>RL</td>\n",
       "      <td>68.0</td>\n",
       "      <td>7922</td>\n",
       "      <td>Pave</td>\n",
       "      <td>NaN</td>\n",
       "      <td>Reg</td>\n",
       "      <td>Lvl</td>\n",
       "      <td>...</td>\n",
       "      <td>0</td>\n",
       "      <td>0</td>\n",
       "      <td>NaN</td>\n",
       "      <td>NaN</td>\n",
       "      <td>NaN</td>\n",
       "      <td>0</td>\n",
       "      <td>1</td>\n",
       "      <td>2010</td>\n",
       "      <td>WD</td>\n",
       "      <td>109000</td>\n",
       "    </tr>\n",
       "    <tr>\n",
       "      <th>3</th>\n",
       "      <td>318</td>\n",
       "      <td>916386060</td>\n",
       "      <td>60</td>\n",
       "      <td>RL</td>\n",
       "      <td>73.0</td>\n",
       "      <td>9802</td>\n",
       "      <td>Pave</td>\n",
       "      <td>NaN</td>\n",
       "      <td>Reg</td>\n",
       "      <td>Lvl</td>\n",
       "      <td>...</td>\n",
       "      <td>0</td>\n",
       "      <td>0</td>\n",
       "      <td>NaN</td>\n",
       "      <td>NaN</td>\n",
       "      <td>NaN</td>\n",
       "      <td>0</td>\n",
       "      <td>4</td>\n",
       "      <td>2010</td>\n",
       "      <td>WD</td>\n",
       "      <td>174000</td>\n",
       "    </tr>\n",
       "    <tr>\n",
       "      <th>4</th>\n",
       "      <td>255</td>\n",
       "      <td>906425045</td>\n",
       "      <td>50</td>\n",
       "      <td>RL</td>\n",
       "      <td>82.0</td>\n",
       "      <td>14235</td>\n",
       "      <td>Pave</td>\n",
       "      <td>NaN</td>\n",
       "      <td>IR1</td>\n",
       "      <td>Lvl</td>\n",
       "      <td>...</td>\n",
       "      <td>0</td>\n",
       "      <td>0</td>\n",
       "      <td>NaN</td>\n",
       "      <td>NaN</td>\n",
       "      <td>NaN</td>\n",
       "      <td>0</td>\n",
       "      <td>3</td>\n",
       "      <td>2010</td>\n",
       "      <td>WD</td>\n",
       "      <td>138500</td>\n",
       "    </tr>\n",
       "    <tr>\n",
       "      <th>5</th>\n",
       "      <td>138</td>\n",
       "      <td>535126040</td>\n",
       "      <td>20</td>\n",
       "      <td>RL</td>\n",
       "      <td>137.0</td>\n",
       "      <td>16492</td>\n",
       "      <td>Pave</td>\n",
       "      <td>NaN</td>\n",
       "      <td>IR1</td>\n",
       "      <td>Lvl</td>\n",
       "      <td>...</td>\n",
       "      <td>0</td>\n",
       "      <td>0</td>\n",
       "      <td>NaN</td>\n",
       "      <td>NaN</td>\n",
       "      <td>NaN</td>\n",
       "      <td>0</td>\n",
       "      <td>6</td>\n",
       "      <td>2010</td>\n",
       "      <td>WD</td>\n",
       "      <td>190000</td>\n",
       "    </tr>\n",
       "    <tr>\n",
       "      <th>6</th>\n",
       "      <td>2827</td>\n",
       "      <td>908186070</td>\n",
       "      <td>180</td>\n",
       "      <td>RM</td>\n",
       "      <td>35.0</td>\n",
       "      <td>3675</td>\n",
       "      <td>Pave</td>\n",
       "      <td>NaN</td>\n",
       "      <td>Reg</td>\n",
       "      <td>Lvl</td>\n",
       "      <td>...</td>\n",
       "      <td>0</td>\n",
       "      <td>0</td>\n",
       "      <td>NaN</td>\n",
       "      <td>NaN</td>\n",
       "      <td>NaN</td>\n",
       "      <td>0</td>\n",
       "      <td>6</td>\n",
       "      <td>2006</td>\n",
       "      <td>New</td>\n",
       "      <td>140000</td>\n",
       "    </tr>\n",
       "    <tr>\n",
       "      <th>7</th>\n",
       "      <td>145</td>\n",
       "      <td>535154050</td>\n",
       "      <td>20</td>\n",
       "      <td>RL</td>\n",
       "      <td>NaN</td>\n",
       "      <td>12160</td>\n",
       "      <td>Pave</td>\n",
       "      <td>NaN</td>\n",
       "      <td>IR1</td>\n",
       "      <td>Lvl</td>\n",
       "      <td>...</td>\n",
       "      <td>0</td>\n",
       "      <td>0</td>\n",
       "      <td>NaN</td>\n",
       "      <td>MnPrv</td>\n",
       "      <td>NaN</td>\n",
       "      <td>0</td>\n",
       "      <td>5</td>\n",
       "      <td>2010</td>\n",
       "      <td>COD</td>\n",
       "      <td>142000</td>\n",
       "    </tr>\n",
       "    <tr>\n",
       "      <th>8</th>\n",
       "      <td>1942</td>\n",
       "      <td>535353130</td>\n",
       "      <td>20</td>\n",
       "      <td>RL</td>\n",
       "      <td>NaN</td>\n",
       "      <td>15783</td>\n",
       "      <td>Pave</td>\n",
       "      <td>NaN</td>\n",
       "      <td>Reg</td>\n",
       "      <td>Lvl</td>\n",
       "      <td>...</td>\n",
       "      <td>0</td>\n",
       "      <td>0</td>\n",
       "      <td>NaN</td>\n",
       "      <td>MnPrv</td>\n",
       "      <td>Shed</td>\n",
       "      <td>400</td>\n",
       "      <td>6</td>\n",
       "      <td>2007</td>\n",
       "      <td>WD</td>\n",
       "      <td>112500</td>\n",
       "    </tr>\n",
       "    <tr>\n",
       "      <th>9</th>\n",
       "      <td>1956</td>\n",
       "      <td>535426130</td>\n",
       "      <td>60</td>\n",
       "      <td>RL</td>\n",
       "      <td>70.0</td>\n",
       "      <td>11606</td>\n",
       "      <td>Pave</td>\n",
       "      <td>NaN</td>\n",
       "      <td>IR1</td>\n",
       "      <td>HLS</td>\n",
       "      <td>...</td>\n",
       "      <td>0</td>\n",
       "      <td>0</td>\n",
       "      <td>NaN</td>\n",
       "      <td>NaN</td>\n",
       "      <td>NaN</td>\n",
       "      <td>0</td>\n",
       "      <td>9</td>\n",
       "      <td>2007</td>\n",
       "      <td>WD</td>\n",
       "      <td>135000</td>\n",
       "    </tr>\n",
       "  </tbody>\n",
       "</table>\n",
       "<p>10 rows × 81 columns</p>\n",
       "</div>"
      ],
      "text/plain": [
       "     Id        PID  MS SubClass MS Zoning  Lot Frontage  Lot Area Street  \\\n",
       "0   109  533352170           60        RL           NaN     13517   Pave   \n",
       "1   544  531379050           60        RL          43.0     11492   Pave   \n",
       "2   153  535304180           20        RL          68.0      7922   Pave   \n",
       "3   318  916386060           60        RL          73.0      9802   Pave   \n",
       "4   255  906425045           50        RL          82.0     14235   Pave   \n",
       "5   138  535126040           20        RL         137.0     16492   Pave   \n",
       "6  2827  908186070          180        RM          35.0      3675   Pave   \n",
       "7   145  535154050           20        RL           NaN     12160   Pave   \n",
       "8  1942  535353130           20        RL           NaN     15783   Pave   \n",
       "9  1956  535426130           60        RL          70.0     11606   Pave   \n",
       "\n",
       "  Alley Lot Shape Land Contour  ... Screen Porch Pool Area Pool QC  Fence  \\\n",
       "0   NaN       IR1          Lvl  ...            0         0     NaN    NaN   \n",
       "1   NaN       IR1          Lvl  ...            0         0     NaN    NaN   \n",
       "2   NaN       Reg          Lvl  ...            0         0     NaN    NaN   \n",
       "3   NaN       Reg          Lvl  ...            0         0     NaN    NaN   \n",
       "4   NaN       IR1          Lvl  ...            0         0     NaN    NaN   \n",
       "5   NaN       IR1          Lvl  ...            0         0     NaN    NaN   \n",
       "6   NaN       Reg          Lvl  ...            0         0     NaN    NaN   \n",
       "7   NaN       IR1          Lvl  ...            0         0     NaN  MnPrv   \n",
       "8   NaN       Reg          Lvl  ...            0         0     NaN  MnPrv   \n",
       "9   NaN       IR1          HLS  ...            0         0     NaN    NaN   \n",
       "\n",
       "  Misc Feature Misc Val Mo Sold Yr Sold  Sale Type  SalePrice  \n",
       "0          NaN        0       3    2010        WD      130500  \n",
       "1          NaN        0       4    2009        WD      220000  \n",
       "2          NaN        0       1    2010        WD      109000  \n",
       "3          NaN        0       4    2010        WD      174000  \n",
       "4          NaN        0       3    2010        WD      138500  \n",
       "5          NaN        0       6    2010        WD      190000  \n",
       "6          NaN        0       6    2006        New     140000  \n",
       "7          NaN        0       5    2010        COD     142000  \n",
       "8         Shed      400       6    2007        WD      112500  \n",
       "9          NaN        0       9    2007        WD      135000  \n",
       "\n",
       "[10 rows x 81 columns]"
      ]
     },
     "execution_count": 6,
     "metadata": {},
     "output_type": "execute_result"
    }
   ],
   "source": [
    "ames.head(10)"
   ]
  },
  {
   "cell_type": "code",
   "execution_count": 7,
   "metadata": {},
   "outputs": [
    {
     "name": "stdout",
     "output_type": "stream",
     "text": [
      "Alley has 1911 NaNs\n",
      "Mas Vnr Type has 22 NaNs\n",
      "Bsmt Qual has 55 NaNs\n",
      "Bsmt Cond has 55 NaNs\n",
      "Bsmt Exposure has 58 NaNs\n",
      "BsmtFin Type 1 has 55 NaNs\n",
      "BsmtFin Type 2 has 56 NaNs\n",
      "Fireplace Qu has 1000 NaNs\n",
      "Garage Type has 113 NaNs\n",
      "Garage Finish has 114 NaNs\n",
      "Garage Qual has 114 NaNs\n",
      "Garage Cond has 114 NaNs\n",
      "Pool QC has 2042 NaNs\n",
      "Fence has 1651 NaNs\n",
      "Misc Feature has 1986 NaNs\n"
     ]
    },
    {
     "data": {
      "text/html": [
       "<div>\n",
       "<style scoped>\n",
       "    .dataframe tbody tr th:only-of-type {\n",
       "        vertical-align: middle;\n",
       "    }\n",
       "\n",
       "    .dataframe tbody tr th {\n",
       "        vertical-align: top;\n",
       "    }\n",
       "\n",
       "    .dataframe thead th {\n",
       "        text-align: right;\n",
       "    }\n",
       "</style>\n",
       "<table border=\"1\" class=\"dataframe\">\n",
       "  <thead>\n",
       "    <tr style=\"text-align: right;\">\n",
       "      <th></th>\n",
       "    </tr>\n",
       "  </thead>\n",
       "  <tbody>\n",
       "  </tbody>\n",
       "</table>\n",
       "</div>"
      ],
      "text/plain": [
       "Empty DataFrame\n",
       "Columns: []\n",
       "Index: []"
      ]
     },
     "execution_count": 7,
     "metadata": {},
     "output_type": "execute_result"
    }
   ],
   "source": [
    "#create a function that identifies non-numeric columns and their NaNs by taking an argument of the file in the function and checking the columns for non numeric objects\n",
    "\n",
    "def check_cols(ames):\n",
    "    check_cols=ames.select_dtypes([np.object]).columns\n",
    "    for col in check_cols:\n",
    "        n_nan=ames[col].isnull().sum()\n",
    "        if n_nan>0:\n",
    "            print(\"{} has {} NaNs\".format(col,n_nan))\n",
    "            \n",
    "    return\n",
    "\n",
    "pd.DataFrame(check_cols(ames))"
   ]
  },
  {
   "cell_type": "code",
   "execution_count": 8,
   "metadata": {},
   "outputs": [
    {
     "name": "stdout",
     "output_type": "stream",
     "text": [
      "Lot Frontage has 330 NaNs\n",
      "Mas Vnr Area has 22 NaNs\n",
      "BsmtFin SF 1 has 1 NaNs\n",
      "BsmtFin SF 2 has 1 NaNs\n",
      "Bsmt Unf SF has 1 NaNs\n",
      "Total Bsmt SF has 1 NaNs\n",
      "Bsmt Full Bath has 2 NaNs\n",
      "Bsmt Half Bath has 2 NaNs\n",
      "Garage Yr Blt has 114 NaNs\n",
      "Garage Cars has 1 NaNs\n",
      "Garage Area has 1 NaNs\n"
     ]
    },
    {
     "data": {
      "text/html": [
       "<div>\n",
       "<style scoped>\n",
       "    .dataframe tbody tr th:only-of-type {\n",
       "        vertical-align: middle;\n",
       "    }\n",
       "\n",
       "    .dataframe tbody tr th {\n",
       "        vertical-align: top;\n",
       "    }\n",
       "\n",
       "    .dataframe thead th {\n",
       "        text-align: right;\n",
       "    }\n",
       "</style>\n",
       "<table border=\"1\" class=\"dataframe\">\n",
       "  <thead>\n",
       "    <tr style=\"text-align: right;\">\n",
       "      <th></th>\n",
       "    </tr>\n",
       "  </thead>\n",
       "  <tbody>\n",
       "  </tbody>\n",
       "</table>\n",
       "</div>"
      ],
      "text/plain": [
       "Empty DataFrame\n",
       "Columns: []\n",
       "Index: []"
      ]
     },
     "execution_count": 8,
     "metadata": {},
     "output_type": "execute_result"
    }
   ],
   "source": [
    "#create a function that identifies numeric columns (integers and floats) and their NaNsby taking an argument of the file in the function and checking the columns for numeric integers or floats\n",
    "\n",
    "\n",
    "\n",
    "def check_cols(ames):\n",
    "    check_cols=ames.select_dtypes([np.float, np.int]).columns\n",
    "    for col in check_cols:\n",
    "        n_nan=ames[col].isnull().sum()\n",
    "        if n_nan>0:\n",
    "            print(\"{} has {} NaNs\".format(col,n_nan))\n",
    "            \n",
    "    return\n",
    "\n",
    "pd.DataFrame(check_cols(ames))"
   ]
  },
  {
   "cell_type": "raw",
   "metadata": {},
   "source": [
    "data_dict=pd.read.xlx(data_dict2)"
   ]
  },
  {
   "cell_type": "code",
   "execution_count": 9,
   "metadata": {},
   "outputs": [
    {
     "data": {
      "text/html": [
       "<div>\n",
       "<style scoped>\n",
       "    .dataframe tbody tr th:only-of-type {\n",
       "        vertical-align: middle;\n",
       "    }\n",
       "\n",
       "    .dataframe tbody tr th {\n",
       "        vertical-align: top;\n",
       "    }\n",
       "\n",
       "    .dataframe thead th {\n",
       "        text-align: right;\n",
       "    }\n",
       "</style>\n",
       "<table border=\"1\" class=\"dataframe\">\n",
       "  <thead>\n",
       "    <tr style=\"text-align: right;\">\n",
       "      <th></th>\n",
       "      <th>Name</th>\n",
       "      <th>data type</th>\n",
       "      <th>Description</th>\n",
       "    </tr>\n",
       "  </thead>\n",
       "  <tbody>\n",
       "    <tr>\n",
       "      <th>0</th>\n",
       "      <td>id</td>\n",
       "      <td>int64</td>\n",
       "      <td>ID Index Number</td>\n",
       "    </tr>\n",
       "    <tr>\n",
       "      <th>1</th>\n",
       "      <td>pid</td>\n",
       "      <td>int64</td>\n",
       "      <td>PID (Nominal): Parcel identification number  -...</td>\n",
       "    </tr>\n",
       "    <tr>\n",
       "      <th>2</th>\n",
       "      <td>lot_frontage</td>\n",
       "      <td>float64</td>\n",
       "      <td>Lot Frontage (Continuous): Linear feet of stre...</td>\n",
       "    </tr>\n",
       "    <tr>\n",
       "      <th>3</th>\n",
       "      <td>lot_area</td>\n",
       "      <td>int64</td>\n",
       "      <td>Lot Area (Continuous): Lot size in square feet</td>\n",
       "    </tr>\n",
       "    <tr>\n",
       "      <th>4</th>\n",
       "      <td>lot_shape</td>\n",
       "      <td>object</td>\n",
       "      <td>Lot Shape (Ordinal): General shape of property</td>\n",
       "    </tr>\n",
       "    <tr>\n",
       "      <th>...</th>\n",
       "      <td>...</td>\n",
       "      <td>...</td>\n",
       "      <td>...</td>\n",
       "    </tr>\n",
       "    <tr>\n",
       "      <th>156</th>\n",
       "      <td>house_style_2.5Fin</td>\n",
       "      <td>uint8</td>\n",
       "      <td>House Style (Nominal): Style of dwelling</td>\n",
       "    </tr>\n",
       "    <tr>\n",
       "      <th>157</th>\n",
       "      <td>house_style_2.5Unf</td>\n",
       "      <td>uint8</td>\n",
       "      <td>House Style (Nominal): Style of dwelling</td>\n",
       "    </tr>\n",
       "    <tr>\n",
       "      <th>158</th>\n",
       "      <td>house_style_2Story</td>\n",
       "      <td>uint8</td>\n",
       "      <td>House Style (Nominal): Style of dwelling</td>\n",
       "    </tr>\n",
       "    <tr>\n",
       "      <th>159</th>\n",
       "      <td>house_style_SFoyer</td>\n",
       "      <td>uint8</td>\n",
       "      <td>House Style (Nominal): Style of dwelling</td>\n",
       "    </tr>\n",
       "    <tr>\n",
       "      <th>160</th>\n",
       "      <td>house_style_SLvl</td>\n",
       "      <td>uint8</td>\n",
       "      <td>House Style (Nominal): Style of dwelling</td>\n",
       "    </tr>\n",
       "  </tbody>\n",
       "</table>\n",
       "<p>161 rows × 3 columns</p>\n",
       "</div>"
      ],
      "text/plain": [
       "                   Name data type  \\\n",
       "0                    id     int64   \n",
       "1                   pid     int64   \n",
       "2          lot_frontage   float64   \n",
       "3              lot_area     int64   \n",
       "4             lot_shape    object   \n",
       "..                  ...       ...   \n",
       "156  house_style_2.5Fin     uint8   \n",
       "157  house_style_2.5Unf     uint8   \n",
       "158  house_style_2Story     uint8   \n",
       "159  house_style_SFoyer     uint8   \n",
       "160    house_style_SLvl     uint8   \n",
       "\n",
       "                                           Description  \n",
       "0                                      ID Index Number  \n",
       "1    PID (Nominal): Parcel identification number  -...  \n",
       "2    Lot Frontage (Continuous): Linear feet of stre...  \n",
       "3       Lot Area (Continuous): Lot size in square feet  \n",
       "4       Lot Shape (Ordinal): General shape of property  \n",
       "..                                                 ...  \n",
       "156           House Style (Nominal): Style of dwelling  \n",
       "157           House Style (Nominal): Style of dwelling  \n",
       "158           House Style (Nominal): Style of dwelling  \n",
       "159           House Style (Nominal): Style of dwelling  \n",
       "160           House Style (Nominal): Style of dwelling  \n",
       "\n",
       "[161 rows x 3 columns]"
      ]
     },
     "execution_count": 9,
     "metadata": {},
     "output_type": "execute_result"
    }
   ],
   "source": [
    "data_dict2"
   ]
  },
  {
   "cell_type": "raw",
   "metadata": {},
   "source": [
    "With reference to the data dictionary, the majority of NA/NaN values do not represent absent data but are variables that do not exist or apply to these houses.\n",
    "E.g. 1911 NaNs in 'Alley' represent that 1911 houses have no alley access.\n",
    "Similarly, 2042 NaNs in 'Pool QC' represents that 2042 houses do not have a pool.\n",
    "\n"
   ]
  },
  {
   "cell_type": "code",
   "execution_count": 10,
   "metadata": {},
   "outputs": [
    {
     "data": {
      "text/html": [
       "<div>\n",
       "<style scoped>\n",
       "    .dataframe tbody tr th:only-of-type {\n",
       "        vertical-align: middle;\n",
       "    }\n",
       "\n",
       "    .dataframe tbody tr th {\n",
       "        vertical-align: top;\n",
       "    }\n",
       "\n",
       "    .dataframe thead th {\n",
       "        text-align: right;\n",
       "    }\n",
       "</style>\n",
       "<table border=\"1\" class=\"dataframe\">\n",
       "  <thead>\n",
       "    <tr style=\"text-align: right;\">\n",
       "      <th></th>\n",
       "      <th>DataType</th>\n",
       "    </tr>\n",
       "  </thead>\n",
       "  <tbody>\n",
       "    <tr>\n",
       "      <th>Id</th>\n",
       "      <td>int64</td>\n",
       "    </tr>\n",
       "    <tr>\n",
       "      <th>PID</th>\n",
       "      <td>int64</td>\n",
       "    </tr>\n",
       "    <tr>\n",
       "      <th>MS SubClass</th>\n",
       "      <td>int64</td>\n",
       "    </tr>\n",
       "    <tr>\n",
       "      <th>MS Zoning</th>\n",
       "      <td>object</td>\n",
       "    </tr>\n",
       "    <tr>\n",
       "      <th>Lot Frontage</th>\n",
       "      <td>float64</td>\n",
       "    </tr>\n",
       "    <tr>\n",
       "      <th>...</th>\n",
       "      <td>...</td>\n",
       "    </tr>\n",
       "    <tr>\n",
       "      <th>Misc Val</th>\n",
       "      <td>int64</td>\n",
       "    </tr>\n",
       "    <tr>\n",
       "      <th>Mo Sold</th>\n",
       "      <td>int64</td>\n",
       "    </tr>\n",
       "    <tr>\n",
       "      <th>Yr Sold</th>\n",
       "      <td>int64</td>\n",
       "    </tr>\n",
       "    <tr>\n",
       "      <th>Sale Type</th>\n",
       "      <td>object</td>\n",
       "    </tr>\n",
       "    <tr>\n",
       "      <th>SalePrice</th>\n",
       "      <td>int64</td>\n",
       "    </tr>\n",
       "  </tbody>\n",
       "</table>\n",
       "<p>81 rows × 1 columns</p>\n",
       "</div>"
      ],
      "text/plain": [
       "             DataType\n",
       "Id              int64\n",
       "PID             int64\n",
       "MS SubClass     int64\n",
       "MS Zoning      object\n",
       "Lot Frontage  float64\n",
       "...               ...\n",
       "Misc Val        int64\n",
       "Mo Sold         int64\n",
       "Yr Sold         int64\n",
       "Sale Type      object\n",
       "SalePrice       int64\n",
       "\n",
       "[81 rows x 1 columns]"
      ]
     },
     "execution_count": 10,
     "metadata": {},
     "output_type": "execute_result"
    }
   ],
   "source": [
    "#check datatypes\n",
    "#to view all rows:\n",
    "#pd.options.display.max_rows = None\n",
    "pd.DataFrame(ames.dtypes, columns=['DataType'])"
   ]
  },
  {
   "cell_type": "markdown",
   "metadata": {},
   "source": [
    "# Data Cleaning Train Set\n",
    "1) convert headings to underscore and lowercase<br> \n",
    "2) change NaNs in numeric columns to 0<br>\n",
    "3) impute remaining null values<br>\n",
    "4) create new columns<br>\n",
    "5) remove collinear features<br>"
   ]
  },
  {
   "cell_type": "code",
   "execution_count": 11,
   "metadata": {},
   "outputs": [],
   "source": [
    "#I am iterating x in ames data file and after each iteration stripping away the space character \n",
    "#to convert headings  to be underscored and lowercase to avoid technical issues when coding\n",
    "\n",
    "\n",
    "#To view alll columns:\n",
    "#pd.options.display.max_columns= None\n",
    "\n",
    "ames.columns = [x.strip().replace(' ', '_') for x in ames.columns.str.lower()]\n",
    "\n"
   ]
  },
  {
   "cell_type": "code",
   "execution_count": 12,
   "metadata": {},
   "outputs": [],
   "source": [
    "#condition_1 and condition_2 are vaguely worded and will be renamed for greater clarity\n",
    "ames.rename(columns={'condition_1':'proximity_to_transport'}, inplace=True)\n",
    "ames.rename(columns={'condition_2':'proximity_to_more_than_1_transport'},inplace=True)\n"
   ]
  },
  {
   "cell_type": "code",
   "execution_count": 13,
   "metadata": {},
   "outputs": [],
   "source": [
    "#create a function will turn \"ranking\" columns into numeric ones\n",
    "#I am iterating keys and values in the dictionry called dict values's items and replacing the key with its values but as a string\n",
    "\n",
    "def clean_quality_cols(df,col,dict_values,fill_value):\n",
    "    possible_values=dict_values.keys()\n",
    "    clean_check_col(df,col,possible_values,fill_value)\n",
    "    \n",
    "    for key,value in dict_values.items():\n",
    "        df[col]=df[col].map(lambda cell:cell.replace(key,str(value)))\n",
    "    df[col]=df[col].astype(int)\n",
    "    return"
   ]
  },
  {
   "cell_type": "code",
   "execution_count": 14,
   "metadata": {},
   "outputs": [],
   "source": [
    "#create a function that changes the Nans in numeric columns to the value 0\n",
    "\n",
    "val=0\n",
    "def clean_data(col,val):\n",
    "    numeric_cols=ames.select_dtypes([np.int64,np.float64,np.uint64]).columns\n",
    "    ames[numeric_cols]=ames[numeric_cols].fillna(val)\n",
    "    \n",
    "    return"
   ]
  },
  {
   "cell_type": "code",
   "execution_count": 15,
   "metadata": {},
   "outputs": [],
   "source": [
    "# create a function that will take values which is the name of a set and that set is being made from the list df and that \n",
    "# list of dataframes is taking its index from the column number\n",
    "# if the items in the set called values is not part of the possible values then it will go inside the \n",
    "# f condition and execute that printed statement\n",
    "\n",
    "def clean_check_col(df,col,possible_values,fill_value):\n",
    "    df[col]=df[col].fillna(fill_value)\n",
    "    values = set (df[col])\n",
    "    if not values.issubset(possible_values):\n",
    "        print(\"Problem with {}\".format(col))\n",
    "    return"
   ]
  },
  {
   "cell_type": "code",
   "execution_count": 16,
   "metadata": {},
   "outputs": [],
   "source": [
    "#Turn \"quality\" columns into numeric ones\n",
    "\n",
    "ames['exter_qual'] = ames['exter_qual'].apply({'Ex': 5,'Gd' : 4,'TA' : 3,'Fa' : 2, 'Po' : 1,'0' : 0 }.get)\n",
    "ames['exter_cond'] = ames['exter_cond'].apply({'Ex': 5,'Gd' : 4,'TA' : 3,'Fa' : 2, 'Po' : 1,'0' : 0 }.get)\n",
    "ames['kitchen_qual'] = ames['kitchen_qual'].apply({'Ex': 5,'Gd' : 4,'TA' : 3,'Fa' : 2, 'Po' : 1,'0' : 0 }.get)\n",
    "ames['bsmt_qual'] = ames['bsmt_qual'].apply({'Ex': 5,'Gd' : 4,'TA' : 3,'Fa' : 2, 'Po' : 1,'0' : 0 }.get)\n",
    "ames['heating_qc'] = ames['heating_qc'].apply({'Ex': 5,'Gd' : 4,'TA' : 3,'Fa' : 2, 'Po' : 1,'0' : 0 }.get)\n",
    "ames['fireplace_qu'] = ames['fireplace_qu'].apply({'Ex': 5,'Gd' : 4,'TA' : 3,'Fa' : 2, 'Po' : 1,'0' : 0 }.get)\n",
    "ames['garage_qual'] = ames['garage_qual'].apply({'Ex': 5,'Gd' : 4,'TA' : 3,'Fa' : 2, 'Po' : 1,'0' : 0 }.get)\n",
    "ames['garage_cond'] = ames['garage_cond'].apply({'Ex': 5,'Gd' : 4,'TA' : 3,'Fa' : 2, 'Po' : 1,'0' : 0 }.get)\n",
    "ames['bsmt_cond'] = ames['bsmt_cond'].apply({'Ex': 5,'Gd' : 4,'TA' : 3,'Fa' : 2, 'Po' : 1,'0' : 0 }.get)\n",
    "ames['pool_qc'] = ames['pool_qc'].apply({'Ex': 5,'Gd' : 4,'TA' : 3,'Fa' : 2, 'Po' : 1,'0' : 0 }.get)\n",
    "ames['land_slope'] = ames['land_slope'].apply({'Gtl' : 3,'Mod' : 2,'Sev' : 1,'0'  : 0 }.get)\n",
    "ames['bsmt_exposure'] = ames['bsmt_exposure'].apply({'Gd' : 4,'Av' : 3,'Mn' : 2,'No' : 1,'0' : 0 }.get)\n",
    "ames['garage_finish'] = ames['garage_finish'].apply({'Fin' : 3, 'RFn' : 2,'Unf' : 1,'0' : 0 }.get)\n",
    "ames['central_air'] = ames['central_air'].apply({'Y' : 1,'N' : 0 }.get)\n"
   ]
  },
  {
   "cell_type": "code",
   "execution_count": 17,
   "metadata": {},
   "outputs": [],
   "source": [
    "#The following NA/NaNs represents instances where these variables are absent from the houses\n",
    "#and hence will be converted to zero : \n",
    "#lot_frontage,alley,fireplace_qu, pool_qc,fence and misc_feature, mas_vnr_type, \n",
    "#mas_vnr_area, bsmt_qual, bsmt_cond,bsmt_exposure, bsmtfin_type_1, \n",
    "#bsmtfin_type_2,garage_type, garage_yr_#blt, garage_finish,garage_qual,garage_cond.\n",
    "\n",
    "#These NaNs and their rows have not been removed as this absent data is deemed\n",
    "#as fairly accurate and the integrity of the data sound. \n",
    "\n",
    "\n",
    "ames['lot_frontage'].fillna(0, inplace=True)\n",
    "#ames['alley'].fillna(0, inplace=True)\n",
    "ames['fireplace_qu'].fillna(0, inplace=True)\n",
    "ames['pool_qc'].fillna(0, inplace=True)\n",
    "ames['fence'].fillna(0, inplace=True)\n",
    "ames['misc_feature'].fillna(0, inplace=True)\n",
    "#ames['mas_vnr_type'].fillna(0, inplace=True)\n",
    "ames['mas_vnr_area'].fillna(0, inplace=True)\n",
    "ames['bsmt_qual'].fillna(0, inplace=True)\n",
    "ames['bsmt_cond'].fillna(0, inplace=True)\n",
    "ames['bsmt_exposure'].fillna(0, inplace=True)\n",
    "ames['bsmtfin_type_1'].fillna(0, inplace=True)\n",
    "ames['bsmtfin_type_2'].fillna(0, inplace=True)\n",
    "ames['garage_type'].fillna(0, inplace=True)\n",
    "ames['garage_yr_blt'].fillna(0, inplace=True)\n",
    "ames['garage_finish'].fillna(0, inplace=True)\n",
    "ames['garage_qual'].fillna(0, inplace=True)\n",
    "ames['garage_cond'].fillna(0, inplace=True)"
   ]
  },
  {
   "cell_type": "code",
   "execution_count": 18,
   "metadata": {},
   "outputs": [],
   "source": [
    "#identify categorical data that needs to be converted with dummies\n",
    "todummy_list=['ms_subclass','ms_zoning','street','alley','land_contour','utilities',\n",
    "              'lot_config','land_slope','neighborhood','proximity_to_transport',\n",
    "              'proximity_to_more_than_1_transport',\n",
    "              'bldg_type','house_style', 'roof_style','roof_matl','exterior_1st',\n",
    "              'exterior_2nd','mas_vnr_type' ]\n",
    "\n"
   ]
  },
  {
   "cell_type": "code",
   "execution_count": 19,
   "metadata": {},
   "outputs": [],
   "source": [
    "\n",
    "#create a function that uses get_dummies to assign numerical values for each NA column\n",
    "\n",
    "\n",
    "def dummy_ames(ames,todummy_list):\n",
    "    for x in todummy_list:\n",
    "        dummies=pd.get_dummies(ames[x],prefix=x,dummy_na=False)\n",
    "        ames=ames.drop(x,1)\n",
    "        ames=pd.concat([ames,dummies],axis=1)\n",
    "    return ames\n",
    "    "
   ]
  },
  {
   "cell_type": "code",
   "execution_count": 20,
   "metadata": {},
   "outputs": [
    {
     "name": "stdout",
     "output_type": "stream",
     "text": [
      "     id        pid  lot_frontage  lot_area lot_shape  overall_qual  \\\n",
      "0   109  533352170           0.0     13517       IR1             6   \n",
      "1   544  531379050          43.0     11492       IR1             7   \n",
      "2   153  535304180          68.0      7922       Reg             5   \n",
      "3   318  916386060          73.0      9802       Reg             5   \n",
      "4   255  906425045          82.0     14235       IR1             6   \n",
      "5   138  535126040         137.0     16492       IR1             6   \n",
      "6  2827  908186070          35.0      3675       Reg             6   \n",
      "7   145  535154050           0.0     12160       IR1             5   \n",
      "8  1942  535353130           0.0     15783       Reg             5   \n",
      "9  1956  535426130          70.0     11606       IR1             5   \n",
      "\n",
      "   overall_cond  year_built  year_remod/add  mas_vnr_area  ...  \\\n",
      "0             8        1976            2005         289.0  ...   \n",
      "1             5        1996            1997         132.0  ...   \n",
      "2             7        1953            2007           0.0  ...   \n",
      "3             5        2006            2007           0.0  ...   \n",
      "4             8        1900            1993           0.0  ...   \n",
      "5             6        1966            2002           0.0  ...   \n",
      "6             5        2005            2006          82.0  ...   \n",
      "7             5        1959            1959         180.0  ...   \n",
      "8             5        1952            1952           0.0  ...   \n",
      "9             5        1969            1969         192.0  ...   \n",
      "\n",
      "   exterior_2nd_Plywood  exterior_2nd_Stone exterior_2nd_Stucco  \\\n",
      "0                     1                   0                   0   \n",
      "1                     0                   0                   0   \n",
      "2                     0                   0                   0   \n",
      "3                     0                   0                   0   \n",
      "4                     1                   0                   0   \n",
      "5                     1                   0                   0   \n",
      "6                     0                   0                   0   \n",
      "7                     1                   0                   0   \n",
      "8                     0                   0                   0   \n",
      "9                     1                   0                   0   \n",
      "\n",
      "   exterior_2nd_VinylSd  exterior_2nd_Wd Sdng  exterior_2nd_Wd Shng  \\\n",
      "0                     0                     0                     0   \n",
      "1                     1                     0                     0   \n",
      "2                     1                     0                     0   \n",
      "3                     1                     0                     0   \n",
      "4                     0                     0                     0   \n",
      "5                     0                     0                     0   \n",
      "6                     1                     0                     0   \n",
      "7                     0                     0                     0   \n",
      "8                     0                     1                     0   \n",
      "9                     0                     0                     0   \n",
      "\n",
      "  mas_vnr_type_BrkCmn  mas_vnr_type_BrkFace mas_vnr_type_None  \\\n",
      "0                   0                     1                 0   \n",
      "1                   0                     1                 0   \n",
      "2                   0                     0                 1   \n",
      "3                   0                     0                 1   \n",
      "4                   0                     0                 1   \n",
      "5                   0                     0                 1   \n",
      "6                   0                     1                 0   \n",
      "7                   0                     1                 0   \n",
      "8                   0                     0                 1   \n",
      "9                   0                     1                 0   \n",
      "\n",
      "   mas_vnr_type_Stone  \n",
      "0                   0  \n",
      "1                   0  \n",
      "2                   0  \n",
      "3                   0  \n",
      "4                   0  \n",
      "5                   0  \n",
      "6                   0  \n",
      "7                   0  \n",
      "8                   0  \n",
      "9                   0  \n",
      "\n",
      "[10 rows x 209 columns]\n"
     ]
    }
   ],
   "source": [
    "ames = dummy_ames(ames,todummy_list)\n",
    "print(ames.head(10))"
   ]
  },
  {
   "cell_type": "code",
   "execution_count": 21,
   "metadata": {},
   "outputs": [
    {
     "data": {
      "text/html": [
       "<div>\n",
       "<style scoped>\n",
       "    .dataframe tbody tr th:only-of-type {\n",
       "        vertical-align: middle;\n",
       "    }\n",
       "\n",
       "    .dataframe tbody tr th {\n",
       "        vertical-align: top;\n",
       "    }\n",
       "\n",
       "    .dataframe thead th {\n",
       "        text-align: right;\n",
       "    }\n",
       "</style>\n",
       "<table border=\"1\" class=\"dataframe\">\n",
       "  <thead>\n",
       "    <tr style=\"text-align: right;\">\n",
       "      <th></th>\n",
       "      <th>data type</th>\n",
       "    </tr>\n",
       "  </thead>\n",
       "  <tbody>\n",
       "    <tr>\n",
       "      <th>id</th>\n",
       "      <td>int64</td>\n",
       "    </tr>\n",
       "    <tr>\n",
       "      <th>pid</th>\n",
       "      <td>int64</td>\n",
       "    </tr>\n",
       "    <tr>\n",
       "      <th>lot_frontage</th>\n",
       "      <td>float64</td>\n",
       "    </tr>\n",
       "    <tr>\n",
       "      <th>lot_area</th>\n",
       "      <td>int64</td>\n",
       "    </tr>\n",
       "    <tr>\n",
       "      <th>lot_shape</th>\n",
       "      <td>object</td>\n",
       "    </tr>\n",
       "    <tr>\n",
       "      <th>...</th>\n",
       "      <td>...</td>\n",
       "    </tr>\n",
       "    <tr>\n",
       "      <th>exterior_2nd_Wd Shng</th>\n",
       "      <td>uint8</td>\n",
       "    </tr>\n",
       "    <tr>\n",
       "      <th>mas_vnr_type_BrkCmn</th>\n",
       "      <td>uint8</td>\n",
       "    </tr>\n",
       "    <tr>\n",
       "      <th>mas_vnr_type_BrkFace</th>\n",
       "      <td>uint8</td>\n",
       "    </tr>\n",
       "    <tr>\n",
       "      <th>mas_vnr_type_None</th>\n",
       "      <td>uint8</td>\n",
       "    </tr>\n",
       "    <tr>\n",
       "      <th>mas_vnr_type_Stone</th>\n",
       "      <td>uint8</td>\n",
       "    </tr>\n",
       "  </tbody>\n",
       "</table>\n",
       "<p>209 rows × 1 columns</p>\n",
       "</div>"
      ],
      "text/plain": [
       "                     data type\n",
       "id                       int64\n",
       "pid                      int64\n",
       "lot_frontage           float64\n",
       "lot_area                 int64\n",
       "lot_shape               object\n",
       "...                        ...\n",
       "exterior_2nd_Wd Shng     uint8\n",
       "mas_vnr_type_BrkCmn      uint8\n",
       "mas_vnr_type_BrkFace     uint8\n",
       "mas_vnr_type_None        uint8\n",
       "mas_vnr_type_Stone       uint8\n",
       "\n",
       "[209 rows x 1 columns]"
      ]
     },
     "execution_count": 21,
     "metadata": {},
     "output_type": "execute_result"
    }
   ],
   "source": [
    "#pd.options.display.max_rows = None\n",
    "pd.DataFrame(ames.dtypes, columns=['data type'])"
   ]
  },
  {
   "cell_type": "markdown",
   "metadata": {},
   "source": [
    "Mean imputation was used to replace the missing values (NA/NaN) for the following continuous variables found below: bsmtfin_sf_1,bsmtfin_sf_2, bsmt_unf_sf, total_bsmt_sf.\n",
    "\n",
    "These features appear to have an equal number of missing values. However this is not due \n",
    "to incomplete data collection as the description for these variables is given as  ‘NA’   = ‘No Basement’.\n",
    "\n",
    "While we note that mean imputation may not preserve the relationship amongst variables, this method was selected as the number of these NaNs is small and unlikely to compromise the final data analsis. \n",
    "\n",
    "\n",
    "This imputation method was also appropriate given that these were continuous variables. \n"
   ]
  },
  {
   "cell_type": "code",
   "execution_count": 22,
   "metadata": {},
   "outputs": [
    {
     "data": {
      "text/plain": [
       "442.30048780487806"
      ]
     },
     "execution_count": 22,
     "metadata": {},
     "output_type": "execute_result"
    }
   ],
   "source": [
    "ames.bsmtfin_sf_1.mean()"
   ]
  },
  {
   "cell_type": "code",
   "execution_count": 23,
   "metadata": {},
   "outputs": [],
   "source": [
    "ames['bsmtfin_sf_1_mean']=ames['bsmtfin_sf_1'].fillna(442.3004878048780)"
   ]
  },
  {
   "cell_type": "code",
   "execution_count": 24,
   "metadata": {},
   "outputs": [
    {
     "data": {
      "text/plain": [
       "47.959024390243904"
      ]
     },
     "execution_count": 24,
     "metadata": {},
     "output_type": "execute_result"
    }
   ],
   "source": [
    "ames.bsmtfin_sf_2.mean()"
   ]
  },
  {
   "cell_type": "code",
   "execution_count": 25,
   "metadata": {},
   "outputs": [],
   "source": [
    "ames['bsmtfin_sf_2_mean']=ames['bsmtfin_sf_2'].fillna(47.959024390243904)"
   ]
  },
  {
   "cell_type": "code",
   "execution_count": 26,
   "metadata": {},
   "outputs": [
    {
     "data": {
      "text/plain": [
       "567.7282926829268"
      ]
     },
     "execution_count": 26,
     "metadata": {},
     "output_type": "execute_result"
    }
   ],
   "source": [
    "ames.bsmt_unf_sf.mean()"
   ]
  },
  {
   "cell_type": "code",
   "execution_count": 27,
   "metadata": {},
   "outputs": [],
   "source": [
    "ames['bsmt_unf_sf_mean']=ames['bsmt_unf_sf'].fillna(567.7282926829268)"
   ]
  },
  {
   "cell_type": "code",
   "execution_count": 28,
   "metadata": {},
   "outputs": [
    {
     "data": {
      "text/plain": [
       "1057.9878048780488"
      ]
     },
     "execution_count": 28,
     "metadata": {},
     "output_type": "execute_result"
    }
   ],
   "source": [
    "ames.total_bsmt_sf.mean()"
   ]
  },
  {
   "cell_type": "code",
   "execution_count": 29,
   "metadata": {},
   "outputs": [],
   "source": [
    "ames['total_bsmt_sf']=df['total_bsmt_sf'].fillna(1057.9878048780488)"
   ]
  },
  {
   "cell_type": "markdown",
   "metadata": {},
   "source": [
    "# Clean Test Set\n",
    "We will be cleaning the test set in the same way."
   ]
  },
  {
   "cell_type": "code",
   "execution_count": 30,
   "metadata": {},
   "outputs": [],
   "source": [
    "ames_test.columns = [x.strip().replace(' ', '_') for x in ames_test.columns.str.lower()]"
   ]
  },
  {
   "cell_type": "code",
   "execution_count": 31,
   "metadata": {},
   "outputs": [
    {
     "data": {
      "text/html": [
       "<div>\n",
       "<style scoped>\n",
       "    .dataframe tbody tr th:only-of-type {\n",
       "        vertical-align: middle;\n",
       "    }\n",
       "\n",
       "    .dataframe tbody tr th {\n",
       "        vertical-align: top;\n",
       "    }\n",
       "\n",
       "    .dataframe thead th {\n",
       "        text-align: right;\n",
       "    }\n",
       "</style>\n",
       "<table border=\"1\" class=\"dataframe\">\n",
       "  <thead>\n",
       "    <tr style=\"text-align: right;\">\n",
       "      <th></th>\n",
       "      <th>id</th>\n",
       "      <th>ms_subclass</th>\n",
       "      <th>ms_zoning</th>\n",
       "      <th>lot_frontage</th>\n",
       "      <th>lot_area</th>\n",
       "      <th>street</th>\n",
       "      <th>alley</th>\n",
       "      <th>lot_shape</th>\n",
       "      <th>land_contour</th>\n",
       "      <th>utilities</th>\n",
       "      <th>...</th>\n",
       "      <th>3ssn_porch</th>\n",
       "      <th>screen_porch</th>\n",
       "      <th>pool_area</th>\n",
       "      <th>pool_qc</th>\n",
       "      <th>fence</th>\n",
       "      <th>misc_feature</th>\n",
       "      <th>misc_val</th>\n",
       "      <th>mo_sold</th>\n",
       "      <th>yr_sold</th>\n",
       "      <th>sale_type</th>\n",
       "    </tr>\n",
       "    <tr>\n",
       "      <th>pid</th>\n",
       "      <th></th>\n",
       "      <th></th>\n",
       "      <th></th>\n",
       "      <th></th>\n",
       "      <th></th>\n",
       "      <th></th>\n",
       "      <th></th>\n",
       "      <th></th>\n",
       "      <th></th>\n",
       "      <th></th>\n",
       "      <th></th>\n",
       "      <th></th>\n",
       "      <th></th>\n",
       "      <th></th>\n",
       "      <th></th>\n",
       "      <th></th>\n",
       "      <th></th>\n",
       "      <th></th>\n",
       "      <th></th>\n",
       "      <th></th>\n",
       "      <th></th>\n",
       "    </tr>\n",
       "  </thead>\n",
       "  <tbody>\n",
       "    <tr>\n",
       "      <th>902301120</th>\n",
       "      <td>2658</td>\n",
       "      <td>190</td>\n",
       "      <td>RM</td>\n",
       "      <td>69.0</td>\n",
       "      <td>9142</td>\n",
       "      <td>Pave</td>\n",
       "      <td>Grvl</td>\n",
       "      <td>Reg</td>\n",
       "      <td>Lvl</td>\n",
       "      <td>AllPub</td>\n",
       "      <td>...</td>\n",
       "      <td>0</td>\n",
       "      <td>0</td>\n",
       "      <td>0</td>\n",
       "      <td>NaN</td>\n",
       "      <td>NaN</td>\n",
       "      <td>NaN</td>\n",
       "      <td>0</td>\n",
       "      <td>4</td>\n",
       "      <td>2006</td>\n",
       "      <td>WD</td>\n",
       "    </tr>\n",
       "    <tr>\n",
       "      <th>905108090</th>\n",
       "      <td>2718</td>\n",
       "      <td>90</td>\n",
       "      <td>RL</td>\n",
       "      <td>NaN</td>\n",
       "      <td>9662</td>\n",
       "      <td>Pave</td>\n",
       "      <td>NaN</td>\n",
       "      <td>IR1</td>\n",
       "      <td>Lvl</td>\n",
       "      <td>AllPub</td>\n",
       "      <td>...</td>\n",
       "      <td>0</td>\n",
       "      <td>0</td>\n",
       "      <td>0</td>\n",
       "      <td>NaN</td>\n",
       "      <td>NaN</td>\n",
       "      <td>NaN</td>\n",
       "      <td>0</td>\n",
       "      <td>8</td>\n",
       "      <td>2006</td>\n",
       "      <td>WD</td>\n",
       "    </tr>\n",
       "    <tr>\n",
       "      <th>528218130</th>\n",
       "      <td>2414</td>\n",
       "      <td>60</td>\n",
       "      <td>RL</td>\n",
       "      <td>58.0</td>\n",
       "      <td>17104</td>\n",
       "      <td>Pave</td>\n",
       "      <td>NaN</td>\n",
       "      <td>IR1</td>\n",
       "      <td>Lvl</td>\n",
       "      <td>AllPub</td>\n",
       "      <td>...</td>\n",
       "      <td>0</td>\n",
       "      <td>0</td>\n",
       "      <td>0</td>\n",
       "      <td>NaN</td>\n",
       "      <td>NaN</td>\n",
       "      <td>NaN</td>\n",
       "      <td>0</td>\n",
       "      <td>9</td>\n",
       "      <td>2006</td>\n",
       "      <td>New</td>\n",
       "    </tr>\n",
       "    <tr>\n",
       "      <th>902207150</th>\n",
       "      <td>1989</td>\n",
       "      <td>30</td>\n",
       "      <td>RM</td>\n",
       "      <td>60.0</td>\n",
       "      <td>8520</td>\n",
       "      <td>Pave</td>\n",
       "      <td>NaN</td>\n",
       "      <td>Reg</td>\n",
       "      <td>Lvl</td>\n",
       "      <td>AllPub</td>\n",
       "      <td>...</td>\n",
       "      <td>0</td>\n",
       "      <td>0</td>\n",
       "      <td>0</td>\n",
       "      <td>NaN</td>\n",
       "      <td>NaN</td>\n",
       "      <td>NaN</td>\n",
       "      <td>0</td>\n",
       "      <td>7</td>\n",
       "      <td>2007</td>\n",
       "      <td>WD</td>\n",
       "    </tr>\n",
       "    <tr>\n",
       "      <th>535105100</th>\n",
       "      <td>625</td>\n",
       "      <td>20</td>\n",
       "      <td>RL</td>\n",
       "      <td>NaN</td>\n",
       "      <td>9500</td>\n",
       "      <td>Pave</td>\n",
       "      <td>NaN</td>\n",
       "      <td>IR1</td>\n",
       "      <td>Lvl</td>\n",
       "      <td>AllPub</td>\n",
       "      <td>...</td>\n",
       "      <td>0</td>\n",
       "      <td>185</td>\n",
       "      <td>0</td>\n",
       "      <td>NaN</td>\n",
       "      <td>NaN</td>\n",
       "      <td>NaN</td>\n",
       "      <td>0</td>\n",
       "      <td>7</td>\n",
       "      <td>2009</td>\n",
       "      <td>WD</td>\n",
       "    </tr>\n",
       "    <tr>\n",
       "      <th>...</th>\n",
       "      <td>...</td>\n",
       "      <td>...</td>\n",
       "      <td>...</td>\n",
       "      <td>...</td>\n",
       "      <td>...</td>\n",
       "      <td>...</td>\n",
       "      <td>...</td>\n",
       "      <td>...</td>\n",
       "      <td>...</td>\n",
       "      <td>...</td>\n",
       "      <td>...</td>\n",
       "      <td>...</td>\n",
       "      <td>...</td>\n",
       "      <td>...</td>\n",
       "      <td>...</td>\n",
       "      <td>...</td>\n",
       "      <td>...</td>\n",
       "      <td>...</td>\n",
       "      <td>...</td>\n",
       "      <td>...</td>\n",
       "      <td>...</td>\n",
       "    </tr>\n",
       "    <tr>\n",
       "      <th>527377110</th>\n",
       "      <td>1662</td>\n",
       "      <td>60</td>\n",
       "      <td>RL</td>\n",
       "      <td>80.0</td>\n",
       "      <td>8000</td>\n",
       "      <td>Pave</td>\n",
       "      <td>NaN</td>\n",
       "      <td>Reg</td>\n",
       "      <td>Lvl</td>\n",
       "      <td>AllPub</td>\n",
       "      <td>...</td>\n",
       "      <td>0</td>\n",
       "      <td>0</td>\n",
       "      <td>0</td>\n",
       "      <td>NaN</td>\n",
       "      <td>NaN</td>\n",
       "      <td>NaN</td>\n",
       "      <td>0</td>\n",
       "      <td>11</td>\n",
       "      <td>2007</td>\n",
       "      <td>WD</td>\n",
       "    </tr>\n",
       "    <tr>\n",
       "      <th>535126140</th>\n",
       "      <td>1234</td>\n",
       "      <td>60</td>\n",
       "      <td>RL</td>\n",
       "      <td>90.0</td>\n",
       "      <td>14670</td>\n",
       "      <td>Pave</td>\n",
       "      <td>NaN</td>\n",
       "      <td>Reg</td>\n",
       "      <td>Lvl</td>\n",
       "      <td>AllPub</td>\n",
       "      <td>...</td>\n",
       "      <td>0</td>\n",
       "      <td>0</td>\n",
       "      <td>0</td>\n",
       "      <td>NaN</td>\n",
       "      <td>MnPrv</td>\n",
       "      <td>NaN</td>\n",
       "      <td>0</td>\n",
       "      <td>8</td>\n",
       "      <td>2008</td>\n",
       "      <td>WD</td>\n",
       "    </tr>\n",
       "    <tr>\n",
       "      <th>904100040</th>\n",
       "      <td>1373</td>\n",
       "      <td>20</td>\n",
       "      <td>RL</td>\n",
       "      <td>55.0</td>\n",
       "      <td>8250</td>\n",
       "      <td>Pave</td>\n",
       "      <td>NaN</td>\n",
       "      <td>Reg</td>\n",
       "      <td>Lvl</td>\n",
       "      <td>AllPub</td>\n",
       "      <td>...</td>\n",
       "      <td>0</td>\n",
       "      <td>0</td>\n",
       "      <td>0</td>\n",
       "      <td>NaN</td>\n",
       "      <td>NaN</td>\n",
       "      <td>NaN</td>\n",
       "      <td>0</td>\n",
       "      <td>8</td>\n",
       "      <td>2008</td>\n",
       "      <td>WD</td>\n",
       "    </tr>\n",
       "    <tr>\n",
       "      <th>527425140</th>\n",
       "      <td>1672</td>\n",
       "      <td>20</td>\n",
       "      <td>RL</td>\n",
       "      <td>60.0</td>\n",
       "      <td>9000</td>\n",
       "      <td>Pave</td>\n",
       "      <td>NaN</td>\n",
       "      <td>Reg</td>\n",
       "      <td>Lvl</td>\n",
       "      <td>AllPub</td>\n",
       "      <td>...</td>\n",
       "      <td>0</td>\n",
       "      <td>0</td>\n",
       "      <td>0</td>\n",
       "      <td>NaN</td>\n",
       "      <td>GdWo</td>\n",
       "      <td>NaN</td>\n",
       "      <td>0</td>\n",
       "      <td>5</td>\n",
       "      <td>2007</td>\n",
       "      <td>WD</td>\n",
       "    </tr>\n",
       "    <tr>\n",
       "      <th>535327160</th>\n",
       "      <td>1939</td>\n",
       "      <td>20</td>\n",
       "      <td>RL</td>\n",
       "      <td>70.0</td>\n",
       "      <td>8400</td>\n",
       "      <td>Pave</td>\n",
       "      <td>NaN</td>\n",
       "      <td>Reg</td>\n",
       "      <td>Lvl</td>\n",
       "      <td>AllPub</td>\n",
       "      <td>...</td>\n",
       "      <td>0</td>\n",
       "      <td>0</td>\n",
       "      <td>0</td>\n",
       "      <td>NaN</td>\n",
       "      <td>GdWo</td>\n",
       "      <td>NaN</td>\n",
       "      <td>0</td>\n",
       "      <td>3</td>\n",
       "      <td>2007</td>\n",
       "      <td>WD</td>\n",
       "    </tr>\n",
       "  </tbody>\n",
       "</table>\n",
       "<p>879 rows × 79 columns</p>\n",
       "</div>"
      ],
      "text/plain": [
       "             id  ms_subclass ms_zoning  lot_frontage  lot_area street alley  \\\n",
       "pid                                                                           \n",
       "902301120  2658          190        RM          69.0      9142   Pave  Grvl   \n",
       "905108090  2718           90        RL           NaN      9662   Pave   NaN   \n",
       "528218130  2414           60        RL          58.0     17104   Pave   NaN   \n",
       "902207150  1989           30        RM          60.0      8520   Pave   NaN   \n",
       "535105100   625           20        RL           NaN      9500   Pave   NaN   \n",
       "...         ...          ...       ...           ...       ...    ...   ...   \n",
       "527377110  1662           60        RL          80.0      8000   Pave   NaN   \n",
       "535126140  1234           60        RL          90.0     14670   Pave   NaN   \n",
       "904100040  1373           20        RL          55.0      8250   Pave   NaN   \n",
       "527425140  1672           20        RL          60.0      9000   Pave   NaN   \n",
       "535327160  1939           20        RL          70.0      8400   Pave   NaN   \n",
       "\n",
       "          lot_shape land_contour utilities  ... 3ssn_porch screen_porch  \\\n",
       "pid                                         ...                           \n",
       "902301120       Reg          Lvl    AllPub  ...          0            0   \n",
       "905108090       IR1          Lvl    AllPub  ...          0            0   \n",
       "528218130       IR1          Lvl    AllPub  ...          0            0   \n",
       "902207150       Reg          Lvl    AllPub  ...          0            0   \n",
       "535105100       IR1          Lvl    AllPub  ...          0          185   \n",
       "...             ...          ...       ...  ...        ...          ...   \n",
       "527377110       Reg          Lvl    AllPub  ...          0            0   \n",
       "535126140       Reg          Lvl    AllPub  ...          0            0   \n",
       "904100040       Reg          Lvl    AllPub  ...          0            0   \n",
       "527425140       Reg          Lvl    AllPub  ...          0            0   \n",
       "535327160       Reg          Lvl    AllPub  ...          0            0   \n",
       "\n",
       "          pool_area pool_qc  fence misc_feature misc_val  mo_sold  yr_sold  \\\n",
       "pid                                                                          \n",
       "902301120         0     NaN    NaN          NaN        0        4     2006   \n",
       "905108090         0     NaN    NaN          NaN        0        8     2006   \n",
       "528218130         0     NaN    NaN          NaN        0        9     2006   \n",
       "902207150         0     NaN    NaN          NaN        0        7     2007   \n",
       "535105100         0     NaN    NaN          NaN        0        7     2009   \n",
       "...             ...     ...    ...          ...      ...      ...      ...   \n",
       "527377110         0     NaN    NaN          NaN        0       11     2007   \n",
       "535126140         0     NaN  MnPrv          NaN        0        8     2008   \n",
       "904100040         0     NaN    NaN          NaN        0        8     2008   \n",
       "527425140         0     NaN   GdWo          NaN        0        5     2007   \n",
       "535327160         0     NaN   GdWo          NaN        0        3     2007   \n",
       "\n",
       "           sale_type  \n",
       "pid                   \n",
       "902301120        WD   \n",
       "905108090        WD   \n",
       "528218130        New  \n",
       "902207150        WD   \n",
       "535105100        WD   \n",
       "...              ...  \n",
       "527377110        WD   \n",
       "535126140        WD   \n",
       "904100040        WD   \n",
       "527425140        WD   \n",
       "535327160        WD   \n",
       "\n",
       "[879 rows x 79 columns]"
      ]
     },
     "execution_count": 31,
     "metadata": {},
     "output_type": "execute_result"
    }
   ],
   "source": [
    "ames_test.set_index('pid')"
   ]
  },
  {
   "cell_type": "code",
   "execution_count": 32,
   "metadata": {},
   "outputs": [],
   "source": [
    "ames_test.rename(columns={'condition_1':'proximity_to_transport'}, inplace=True)\n",
    "ames_test.rename(columns={'condition_2':'proximity_to_more_than_1_transport'},inplace=True)"
   ]
  },
  {
   "cell_type": "code",
   "execution_count": 33,
   "metadata": {},
   "outputs": [],
   "source": [
    "#create a function that changes the Nans in numeric columns to the value 0\n",
    "\n",
    "val=0\n",
    "def clean_data(col,val):\n",
    "    numeric_cols=ames_test.select_dtypes([np.int64,np.float64,np.uint64]).columns\n",
    "    ames_test[numeric_cols]=ames_test[numeric_cols].fillna(val)\n",
    "    \n",
    "    return"
   ]
  },
  {
   "cell_type": "code",
   "execution_count": 34,
   "metadata": {},
   "outputs": [],
   "source": [
    "#Turn \"quality\" columns into numeric ones\n",
    "\n",
    "ames_test['exter_qual'] = ames_test['exter_qual'].apply({'Ex': 5,'Gd' : 4,'TA' : 3,'Fa' : 2, 'Po' : 1,'0' : 0 }.get)\n",
    "ames_test['exter_cond'] = ames_test['exter_cond'].apply({'Ex': 5,'Gd' : 4,'TA' : 3,'Fa' : 2, 'Po' : 1,'0' : 0 }.get)\n",
    "ames_test['kitchen_qual'] = ames_test['kitchen_qual'].apply({'Ex': 5,'Gd' : 4,'TA' : 3,'Fa' : 2, 'Po' : 1,'0' : 0 }.get)\n",
    "ames_test['bsmt_qual'] = ames_test['bsmt_qual'].apply({'Ex': 5,'Gd' : 4,'TA' : 3,'Fa' : 2, 'Po' : 1,'0' : 0 }.get)\n",
    "ames_test['heating_qc'] = ames_test['heating_qc'].apply({'Ex': 5,'Gd' : 4,'TA' : 3,'Fa' : 2, 'Po' : 1,'0' : 0 }.get)\n",
    "ames_test['fireplace_qu'] = ames_test['fireplace_qu'].apply({'Ex': 5,'Gd' : 4,'TA' : 3,'Fa' : 2, 'Po' : 1,'0' : 0 }.get)\n",
    "ames_test['garage_qual'] = ames_test['garage_qual'].apply({'Ex': 5,'Gd' : 4,'TA' : 3,'Fa' : 2, 'Po' : 1,'0' : 0 }.get)\n",
    "ames_test['garage_cond'] = ames_test['garage_cond'].apply({'Ex': 5,'Gd' : 4,'TA' : 3,'Fa' : 2, 'Po' : 1,'0' : 0 }.get)\n",
    "ames_test['bsmt_cond'] = ames_test['bsmt_cond'].apply({'Ex': 5,'Gd' : 4,'TA' : 3,'Fa' : 2, 'Po' : 1,'0' : 0 }.get)\n",
    "ames_test['pool_qc'] = ames_test['pool_qc'].apply({'Ex': 5,'Gd' : 4,'TA' : 3,'Fa' : 2, 'Po' : 1,'0' : 0 }.get)\n",
    "ames_test['land_slope'] = ames_test['land_slope'].apply({'Gtl' : 3,'Mod' : 2,'Sev' : 1,'0'  : 0 }.get)\n",
    "ames_test['bsmt_exposure'] = ames_test['bsmt_exposure'].apply({'Gd' : 4,'Av' : 3,'Mn' : 2,'No' : 1,'0' : 0 }.get)\n",
    "ames_test['garage_finish'] = ames_test['garage_finish'].apply({'Fin' : 3, 'RFn' : 2,'Unf' : 1,'0' : 0 }.get)\n",
    "ames_test['central_air'] = ames_test['central_air'].apply({'Y' : 1,'N' : 0 }.get)\n",
    "\n"
   ]
  },
  {
   "cell_type": "code",
   "execution_count": 35,
   "metadata": {},
   "outputs": [],
   "source": [
    "#identify categorical data that needs to be converted with dummies\n",
    "todummy_list_test=['ms_subclass','ms_zoning','street','alley','land_contour','utilities',\n",
    "              'lot_config','land_slope','neighborhood','proximity_to_transport',\n",
    "              'proximity_to_more_than_1_transport',\n",
    "              'bldg_type','house_style', 'roof_style','roof_matl','exterior_1st',\n",
    "              'exterior_2nd','mas_vnr_type' ]\n",
    "\n"
   ]
  },
  {
   "cell_type": "code",
   "execution_count": 36,
   "metadata": {},
   "outputs": [],
   "source": [
    "def dummy_ames_test(ames,todummy_list_test):\n",
    "    for x in todummy_list_test:\n",
    "        dummies=pd.get_dummies(ames[x],prefix=x,dummy_na=False)\n",
    "        ames=ames.drop(x,1)\n",
    "        ames=pd.concat([ames,dummies],axis=1)\n",
    "    return ames\n",
    "    "
   ]
  },
  {
   "cell_type": "code",
   "execution_count": 37,
   "metadata": {},
   "outputs": [
    {
     "name": "stdout",
     "output_type": "stream",
     "text": [
      "     id        pid  lot_frontage  lot_area lot_shape  overall_qual  \\\n",
      "0  2658  902301120          69.0      9142       Reg             6   \n",
      "1  2718  905108090           NaN      9662       IR1             5   \n",
      "2  2414  528218130          58.0     17104       IR1             7   \n",
      "3  1989  902207150          60.0      8520       Reg             5   \n",
      "4   625  535105100           NaN      9500       IR1             6   \n",
      "5   333  923228370          21.0      1890       Reg             4   \n",
      "6  1327  902427150          52.0      8516       Reg             4   \n",
      "7   858  907202130           NaN      9286       IR1             5   \n",
      "8    95  533208090          39.0      3515       Reg             7   \n",
      "9  1568  914476010          75.0     10125       Reg             6   \n",
      "\n",
      "   overall_cond  year_built  year_remod/add  mas_vnr_area  ...  \\\n",
      "0             8        1910            1950           0.0  ...   \n",
      "1             4        1977            1977           0.0  ...   \n",
      "2             5        2006            2006           0.0  ...   \n",
      "3             6        1923            2006           0.0  ...   \n",
      "4             5        1963            1963         247.0  ...   \n",
      "5             6        1972            1972           0.0  ...   \n",
      "6             6        1958            2006           0.0  ...   \n",
      "7             7        1977            1989           0.0  ...   \n",
      "8             5        2004            2004           0.0  ...   \n",
      "9             6        1977            1977           0.0  ...   \n",
      "\n",
      "   exterior_2nd_PreCast  exterior_2nd_Stucco exterior_2nd_VinylSd  \\\n",
      "0                     0                    0                    0   \n",
      "1                     0                    0                    0   \n",
      "2                     0                    0                    1   \n",
      "3                     0                    0                    0   \n",
      "4                     0                    0                    0   \n",
      "5                     0                    0                    0   \n",
      "6                     0                    0                    0   \n",
      "7                     0                    0                    0   \n",
      "8                     0                    0                    1   \n",
      "9                     0                    0                    0   \n",
      "\n",
      "   exterior_2nd_Wd Sdng  exterior_2nd_Wd Shng  mas_vnr_type_BrkCmn  \\\n",
      "0                     0                     0                    0   \n",
      "1                     0                     0                    0   \n",
      "2                     0                     0                    0   \n",
      "3                     1                     0                    0   \n",
      "4                     0                     0                    0   \n",
      "5                     0                     0                    0   \n",
      "6                     0                     0                    0   \n",
      "7                     0                     0                    0   \n",
      "8                     0                     0                    0   \n",
      "9                     0                     0                    0   \n",
      "\n",
      "  mas_vnr_type_BrkFace  mas_vnr_type_CBlock mas_vnr_type_None  \\\n",
      "0                    0                    0                 1   \n",
      "1                    0                    0                 1   \n",
      "2                    0                    0                 1   \n",
      "3                    0                    0                 1   \n",
      "4                    1                    0                 0   \n",
      "5                    0                    0                 1   \n",
      "6                    0                    0                 1   \n",
      "7                    0                    0                 1   \n",
      "8                    0                    0                 1   \n",
      "9                    0                    0                 1   \n",
      "\n",
      "   mas_vnr_type_Stone  \n",
      "0                   0  \n",
      "1                   0  \n",
      "2                   0  \n",
      "3                   0  \n",
      "4                   0  \n",
      "5                   0  \n",
      "6                   0  \n",
      "7                   0  \n",
      "8                   0  \n",
      "9                   0  \n",
      "\n",
      "[10 rows x 199 columns]\n"
     ]
    }
   ],
   "source": [
    "ames_test = dummy_ames_test(ames_test,todummy_list_test)\n",
    "print(ames_test.head(10))"
   ]
  },
  {
   "cell_type": "markdown",
   "metadata": {},
   "source": []
  },
  {
   "cell_type": "code",
   "execution_count": 38,
   "metadata": {},
   "outputs": [],
   "source": [
    "#The following NA/NaNs represents instances where these variables are absent from the houses\n",
    "#and hence will be converted to zero : \n",
    "#lot_frontage,alley,fireplace_qu, pool_qc,fence and misc_feature, mas_vnr_type, \n",
    "#mas_vnr_area, bsmt_qual, bsmt_cond,bsmt_exposure, bsmtfin_type_1, \n",
    "#bsmtfin_type_2,garage_type, garage_yr_#blt, garage_finish,garage_qual,garage_cond.\n",
    "\n",
    "#These NaNs and their rows have not been removed as this absent data is deemed\n",
    "#as fairly accurate and the integrity of the data sound. \n",
    "\n",
    "\n",
    "ames_test['lot_frontage'].fillna(0, inplace=True)\n",
    "#ames_test['alley'].fillna(0, inplace=True)\n",
    "ames_test['fireplace_qu'].fillna(0, inplace=True)\n",
    "ames_test['pool_qc'].fillna(0, inplace=True)\n",
    "ames_test['fence'].fillna(0, inplace=True)\n",
    "ames_test['misc_feature'].fillna(0, inplace=True)\n",
    "#ames_test['mas_vnr_type'].fillna(0, inplace=True)\n",
    "#ames_test['mas_vnr_area'].fillna(0, inplace=True)\n",
    "ames_test['bsmt_qual'].fillna(0, inplace=True)\n",
    "ames_test['bsmt_cond'].fillna(0, inplace=True)\n",
    "ames_test['bsmt_exposure'].fillna(0, inplace=True)\n",
    "ames_test['bsmtfin_type_1'].fillna(0, inplace=True)\n",
    "ames_test['bsmtfin_type_2'].fillna(0, inplace=True)\n",
    "ames_test['garage_type'].fillna(0, inplace=True)\n",
    "ames_test['garage_yr_blt'].fillna(0, inplace=True)\n",
    "ames_test['garage_finish'].fillna(0, inplace=True)\n",
    "ames_test['garage_qual'].fillna(0, inplace=True)\n",
    "ames_test['garage_cond'].fillna(0, inplace=True)"
   ]
  },
  {
   "cell_type": "code",
   "execution_count": 39,
   "metadata": {},
   "outputs": [
    {
     "data": {
      "text/plain": [
       "443.39704209328784"
      ]
     },
     "execution_count": 39,
     "metadata": {},
     "output_type": "execute_result"
    }
   ],
   "source": [
    "ames_test.bsmtfin_sf_1.mean()"
   ]
  },
  {
   "cell_type": "code",
   "execution_count": 40,
   "metadata": {},
   "outputs": [],
   "source": [
    "ames_test['bsmtfin_sf_1_mean']=ames['bsmtfin_sf_1'].fillna(442.3004878048780)"
   ]
  },
  {
   "cell_type": "code",
   "execution_count": 41,
   "metadata": {},
   "outputs": [
    {
     "data": {
      "text/plain": [
       "53.83503981797497"
      ]
     },
     "execution_count": 41,
     "metadata": {},
     "output_type": "execute_result"
    }
   ],
   "source": [
    "ames_test.bsmtfin_sf_2.mean()"
   ]
  },
  {
   "cell_type": "code",
   "execution_count": 42,
   "metadata": {},
   "outputs": [],
   "source": [
    "ames_test['bsmtfin_sf_2_mean']=ames['bsmtfin_sf_2'].fillna(47.959024390243904)"
   ]
  },
  {
   "cell_type": "code",
   "execution_count": 43,
   "metadata": {},
   "outputs": [],
   "source": [
    "ames_test['bsmt_unf_sf_mean']=ames['bsmt_unf_sf'].fillna(567.7282926829268)"
   ]
  },
  {
   "cell_type": "code",
   "execution_count": 44,
   "metadata": {},
   "outputs": [
    {
     "data": {
      "text/plain": [
       "1036.7508532423208"
      ]
     },
     "execution_count": 44,
     "metadata": {},
     "output_type": "execute_result"
    }
   ],
   "source": [
    "ames_test.total_bsmt_sf.mean()"
   ]
  },
  {
   "cell_type": "code",
   "execution_count": 45,
   "metadata": {},
   "outputs": [],
   "source": [
    "ames_test['total_bsmt_sf']=df['total_bsmt_sf'].fillna(1057.9878048780488)"
   ]
  },
  {
   "cell_type": "code",
   "execution_count": 46,
   "metadata": {},
   "outputs": [],
   "source": [
    "df3=ames_test[['id','overall_qual','year_built','year_remod/add','total_bsmt_sf','1st_flr_sf','gr_liv_area','full_bath','garage_area']]"
   ]
  },
  {
   "cell_type": "markdown",
   "metadata": {},
   "source": [
    "# Feature Engineering"
   ]
  },
  {
   "cell_type": "code",
   "execution_count": 47,
   "metadata": {},
   "outputs": [
    {
     "data": {
      "text/plain": [
       "1    1438\n",
       "0     613\n",
       "Name: porch, dtype: int64"
      ]
     },
     "execution_count": 47,
     "metadata": {},
     "output_type": "execute_result"
    }
   ],
   "source": [
    "#We will be combining OpenPorch, EnclosedPorch, 3SsnPorch and Screenporch into a single variable.\n",
    "#Instead of porch area, we will mark the new variable as 1 for Porch exists and 0 for No Porch\n",
    "\n",
    "ames['porch'] = ames['open_porch_sf']+ames['enclosed_porch']+ames['3ssn_porch']+ames['screen_porch']\n",
    "ames['porch'] = ames['porch'].astype(bool).astype(int)\n",
    "\n",
    "ames['porch'].value_counts()\n"
   ]
  },
  {
   "cell_type": "code",
   "execution_count": 48,
   "metadata": {},
   "outputs": [
    {
     "data": {
      "text/plain": [
       "(2051, 207)"
      ]
     },
     "execution_count": 48,
     "metadata": {},
     "output_type": "execute_result"
    }
   ],
   "source": [
    "#We will now combine FullBath, BsmtFullBath and HalfBath, BsmtHalfBath to show the total number of Full and Half Bathrooms\n",
    "ames['full_bath'] = ames['full_bath'] + ames['bsmt_full_bath']\n",
    "ames['half_bath'] = ames['half_bath'] + ames['bsmt_half_bath']\n",
    "\n",
    "#Since we created new features from existing ones, lets drop them\n",
    "\n",
    "drop_col = ['bsmt_full_bath','bsmt_half_bath', '3ssn_porch', 'enclosed_porch', 'open_porch_sf','screen_porch']\n",
    "ames.drop(drop_col, axis=1, inplace=True)\n",
    "ames.shape"
   ]
  },
  {
   "cell_type": "code",
   "execution_count": 49,
   "metadata": {},
   "outputs": [
    {
     "data": {
      "text/plain": [
       "id                      int64\n",
       "pid                     int64\n",
       "lot_frontage          float64\n",
       "lot_area                int64\n",
       "lot_shape              object\n",
       "                       ...   \n",
       "mas_vnr_type_Stone      uint8\n",
       "bsmtfin_sf_1_mean     float64\n",
       "bsmtfin_sf_2_mean     float64\n",
       "bsmt_unf_sf_mean      float64\n",
       "porch                   int64\n",
       "Length: 207, dtype: object"
      ]
     },
     "execution_count": 49,
     "metadata": {},
     "output_type": "execute_result"
    }
   ],
   "source": [
    "ames.dtypes"
   ]
  },
  {
   "cell_type": "code",
   "execution_count": 50,
   "metadata": {},
   "outputs": [
    {
     "data": {
      "text/html": [
       "<div>\n",
       "<style scoped>\n",
       "    .dataframe tbody tr th:only-of-type {\n",
       "        vertical-align: middle;\n",
       "    }\n",
       "\n",
       "    .dataframe tbody tr th {\n",
       "        vertical-align: top;\n",
       "    }\n",
       "\n",
       "    .dataframe thead th {\n",
       "        text-align: right;\n",
       "    }\n",
       "</style>\n",
       "<table border=\"1\" class=\"dataframe\">\n",
       "  <thead>\n",
       "    <tr style=\"text-align: right;\">\n",
       "      <th></th>\n",
       "      <th>id</th>\n",
       "      <th>pid</th>\n",
       "      <th>lot_frontage</th>\n",
       "      <th>lot_area</th>\n",
       "      <th>lot_shape</th>\n",
       "      <th>overall_qual</th>\n",
       "      <th>overall_cond</th>\n",
       "      <th>year_built</th>\n",
       "      <th>year_remod/add</th>\n",
       "      <th>mas_vnr_area</th>\n",
       "      <th>...</th>\n",
       "      <th>exterior_2nd_Wd Sdng</th>\n",
       "      <th>exterior_2nd_Wd Shng</th>\n",
       "      <th>mas_vnr_type_BrkCmn</th>\n",
       "      <th>mas_vnr_type_BrkFace</th>\n",
       "      <th>mas_vnr_type_None</th>\n",
       "      <th>mas_vnr_type_Stone</th>\n",
       "      <th>bsmtfin_sf_1_mean</th>\n",
       "      <th>bsmtfin_sf_2_mean</th>\n",
       "      <th>bsmt_unf_sf_mean</th>\n",
       "      <th>porch</th>\n",
       "    </tr>\n",
       "  </thead>\n",
       "  <tbody>\n",
       "    <tr>\n",
       "      <th>0</th>\n",
       "      <td>109</td>\n",
       "      <td>533352170</td>\n",
       "      <td>0.0</td>\n",
       "      <td>13517</td>\n",
       "      <td>IR1</td>\n",
       "      <td>6</td>\n",
       "      <td>8</td>\n",
       "      <td>1976</td>\n",
       "      <td>2005</td>\n",
       "      <td>289.0</td>\n",
       "      <td>...</td>\n",
       "      <td>0</td>\n",
       "      <td>0</td>\n",
       "      <td>0</td>\n",
       "      <td>1</td>\n",
       "      <td>0</td>\n",
       "      <td>0</td>\n",
       "      <td>533.0</td>\n",
       "      <td>0.0</td>\n",
       "      <td>192.0</td>\n",
       "      <td>1</td>\n",
       "    </tr>\n",
       "    <tr>\n",
       "      <th>1</th>\n",
       "      <td>544</td>\n",
       "      <td>531379050</td>\n",
       "      <td>43.0</td>\n",
       "      <td>11492</td>\n",
       "      <td>IR1</td>\n",
       "      <td>7</td>\n",
       "      <td>5</td>\n",
       "      <td>1996</td>\n",
       "      <td>1997</td>\n",
       "      <td>132.0</td>\n",
       "      <td>...</td>\n",
       "      <td>0</td>\n",
       "      <td>0</td>\n",
       "      <td>0</td>\n",
       "      <td>1</td>\n",
       "      <td>0</td>\n",
       "      <td>0</td>\n",
       "      <td>637.0</td>\n",
       "      <td>0.0</td>\n",
       "      <td>276.0</td>\n",
       "      <td>1</td>\n",
       "    </tr>\n",
       "    <tr>\n",
       "      <th>2</th>\n",
       "      <td>153</td>\n",
       "      <td>535304180</td>\n",
       "      <td>68.0</td>\n",
       "      <td>7922</td>\n",
       "      <td>Reg</td>\n",
       "      <td>5</td>\n",
       "      <td>7</td>\n",
       "      <td>1953</td>\n",
       "      <td>2007</td>\n",
       "      <td>0.0</td>\n",
       "      <td>...</td>\n",
       "      <td>0</td>\n",
       "      <td>0</td>\n",
       "      <td>0</td>\n",
       "      <td>0</td>\n",
       "      <td>1</td>\n",
       "      <td>0</td>\n",
       "      <td>731.0</td>\n",
       "      <td>0.0</td>\n",
       "      <td>326.0</td>\n",
       "      <td>1</td>\n",
       "    </tr>\n",
       "    <tr>\n",
       "      <th>3</th>\n",
       "      <td>318</td>\n",
       "      <td>916386060</td>\n",
       "      <td>73.0</td>\n",
       "      <td>9802</td>\n",
       "      <td>Reg</td>\n",
       "      <td>5</td>\n",
       "      <td>5</td>\n",
       "      <td>2006</td>\n",
       "      <td>2007</td>\n",
       "      <td>0.0</td>\n",
       "      <td>...</td>\n",
       "      <td>0</td>\n",
       "      <td>0</td>\n",
       "      <td>0</td>\n",
       "      <td>0</td>\n",
       "      <td>1</td>\n",
       "      <td>0</td>\n",
       "      <td>0.0</td>\n",
       "      <td>0.0</td>\n",
       "      <td>384.0</td>\n",
       "      <td>0</td>\n",
       "    </tr>\n",
       "    <tr>\n",
       "      <th>4</th>\n",
       "      <td>255</td>\n",
       "      <td>906425045</td>\n",
       "      <td>82.0</td>\n",
       "      <td>14235</td>\n",
       "      <td>IR1</td>\n",
       "      <td>6</td>\n",
       "      <td>8</td>\n",
       "      <td>1900</td>\n",
       "      <td>1993</td>\n",
       "      <td>0.0</td>\n",
       "      <td>...</td>\n",
       "      <td>0</td>\n",
       "      <td>0</td>\n",
       "      <td>0</td>\n",
       "      <td>0</td>\n",
       "      <td>1</td>\n",
       "      <td>0</td>\n",
       "      <td>0.0</td>\n",
       "      <td>0.0</td>\n",
       "      <td>676.0</td>\n",
       "      <td>1</td>\n",
       "    </tr>\n",
       "    <tr>\n",
       "      <th>...</th>\n",
       "      <td>...</td>\n",
       "      <td>...</td>\n",
       "      <td>...</td>\n",
       "      <td>...</td>\n",
       "      <td>...</td>\n",
       "      <td>...</td>\n",
       "      <td>...</td>\n",
       "      <td>...</td>\n",
       "      <td>...</td>\n",
       "      <td>...</td>\n",
       "      <td>...</td>\n",
       "      <td>...</td>\n",
       "      <td>...</td>\n",
       "      <td>...</td>\n",
       "      <td>...</td>\n",
       "      <td>...</td>\n",
       "      <td>...</td>\n",
       "      <td>...</td>\n",
       "      <td>...</td>\n",
       "      <td>...</td>\n",
       "      <td>...</td>\n",
       "    </tr>\n",
       "    <tr>\n",
       "      <th>2046</th>\n",
       "      <td>1587</td>\n",
       "      <td>921126030</td>\n",
       "      <td>79.0</td>\n",
       "      <td>11449</td>\n",
       "      <td>IR1</td>\n",
       "      <td>8</td>\n",
       "      <td>5</td>\n",
       "      <td>2007</td>\n",
       "      <td>2007</td>\n",
       "      <td>0.0</td>\n",
       "      <td>...</td>\n",
       "      <td>0</td>\n",
       "      <td>0</td>\n",
       "      <td>0</td>\n",
       "      <td>0</td>\n",
       "      <td>1</td>\n",
       "      <td>0</td>\n",
       "      <td>1011.0</td>\n",
       "      <td>0.0</td>\n",
       "      <td>873.0</td>\n",
       "      <td>1</td>\n",
       "    </tr>\n",
       "    <tr>\n",
       "      <th>2047</th>\n",
       "      <td>785</td>\n",
       "      <td>905377130</td>\n",
       "      <td>0.0</td>\n",
       "      <td>12342</td>\n",
       "      <td>IR1</td>\n",
       "      <td>4</td>\n",
       "      <td>5</td>\n",
       "      <td>1940</td>\n",
       "      <td>1950</td>\n",
       "      <td>0.0</td>\n",
       "      <td>...</td>\n",
       "      <td>0</td>\n",
       "      <td>0</td>\n",
       "      <td>0</td>\n",
       "      <td>0</td>\n",
       "      <td>1</td>\n",
       "      <td>0</td>\n",
       "      <td>262.0</td>\n",
       "      <td>0.0</td>\n",
       "      <td>599.0</td>\n",
       "      <td>0</td>\n",
       "    </tr>\n",
       "    <tr>\n",
       "      <th>2048</th>\n",
       "      <td>916</td>\n",
       "      <td>909253010</td>\n",
       "      <td>57.0</td>\n",
       "      <td>7558</td>\n",
       "      <td>Reg</td>\n",
       "      <td>6</td>\n",
       "      <td>6</td>\n",
       "      <td>1928</td>\n",
       "      <td>1950</td>\n",
       "      <td>0.0</td>\n",
       "      <td>...</td>\n",
       "      <td>0</td>\n",
       "      <td>0</td>\n",
       "      <td>0</td>\n",
       "      <td>0</td>\n",
       "      <td>1</td>\n",
       "      <td>0</td>\n",
       "      <td>0.0</td>\n",
       "      <td>0.0</td>\n",
       "      <td>896.0</td>\n",
       "      <td>0</td>\n",
       "    </tr>\n",
       "    <tr>\n",
       "      <th>2049</th>\n",
       "      <td>639</td>\n",
       "      <td>535179160</td>\n",
       "      <td>80.0</td>\n",
       "      <td>10400</td>\n",
       "      <td>Reg</td>\n",
       "      <td>4</td>\n",
       "      <td>5</td>\n",
       "      <td>1956</td>\n",
       "      <td>1956</td>\n",
       "      <td>0.0</td>\n",
       "      <td>...</td>\n",
       "      <td>0</td>\n",
       "      <td>0</td>\n",
       "      <td>0</td>\n",
       "      <td>0</td>\n",
       "      <td>1</td>\n",
       "      <td>0</td>\n",
       "      <td>155.0</td>\n",
       "      <td>750.0</td>\n",
       "      <td>295.0</td>\n",
       "      <td>1</td>\n",
       "    </tr>\n",
       "    <tr>\n",
       "      <th>2050</th>\n",
       "      <td>10</td>\n",
       "      <td>527162130</td>\n",
       "      <td>60.0</td>\n",
       "      <td>7500</td>\n",
       "      <td>Reg</td>\n",
       "      <td>7</td>\n",
       "      <td>5</td>\n",
       "      <td>1999</td>\n",
       "      <td>1999</td>\n",
       "      <td>0.0</td>\n",
       "      <td>...</td>\n",
       "      <td>0</td>\n",
       "      <td>0</td>\n",
       "      <td>0</td>\n",
       "      <td>0</td>\n",
       "      <td>1</td>\n",
       "      <td>0</td>\n",
       "      <td>0.0</td>\n",
       "      <td>0.0</td>\n",
       "      <td>994.0</td>\n",
       "      <td>1</td>\n",
       "    </tr>\n",
       "  </tbody>\n",
       "</table>\n",
       "<p>2051 rows × 207 columns</p>\n",
       "</div>"
      ],
      "text/plain": [
       "        id        pid  lot_frontage  lot_area lot_shape  overall_qual  \\\n",
       "0      109  533352170           0.0     13517       IR1             6   \n",
       "1      544  531379050          43.0     11492       IR1             7   \n",
       "2      153  535304180          68.0      7922       Reg             5   \n",
       "3      318  916386060          73.0      9802       Reg             5   \n",
       "4      255  906425045          82.0     14235       IR1             6   \n",
       "...    ...        ...           ...       ...       ...           ...   \n",
       "2046  1587  921126030          79.0     11449       IR1             8   \n",
       "2047   785  905377130           0.0     12342       IR1             4   \n",
       "2048   916  909253010          57.0      7558       Reg             6   \n",
       "2049   639  535179160          80.0     10400       Reg             4   \n",
       "2050    10  527162130          60.0      7500       Reg             7   \n",
       "\n",
       "      overall_cond  year_built  year_remod/add  mas_vnr_area  ...  \\\n",
       "0                8        1976            2005         289.0  ...   \n",
       "1                5        1996            1997         132.0  ...   \n",
       "2                7        1953            2007           0.0  ...   \n",
       "3                5        2006            2007           0.0  ...   \n",
       "4                8        1900            1993           0.0  ...   \n",
       "...            ...         ...             ...           ...  ...   \n",
       "2046             5        2007            2007           0.0  ...   \n",
       "2047             5        1940            1950           0.0  ...   \n",
       "2048             6        1928            1950           0.0  ...   \n",
       "2049             5        1956            1956           0.0  ...   \n",
       "2050             5        1999            1999           0.0  ...   \n",
       "\n",
       "      exterior_2nd_Wd Sdng  exterior_2nd_Wd Shng mas_vnr_type_BrkCmn  \\\n",
       "0                        0                     0                   0   \n",
       "1                        0                     0                   0   \n",
       "2                        0                     0                   0   \n",
       "3                        0                     0                   0   \n",
       "4                        0                     0                   0   \n",
       "...                    ...                   ...                 ...   \n",
       "2046                     0                     0                   0   \n",
       "2047                     0                     0                   0   \n",
       "2048                     0                     0                   0   \n",
       "2049                     0                     0                   0   \n",
       "2050                     0                     0                   0   \n",
       "\n",
       "      mas_vnr_type_BrkFace  mas_vnr_type_None  mas_vnr_type_Stone  \\\n",
       "0                        1                  0                   0   \n",
       "1                        1                  0                   0   \n",
       "2                        0                  1                   0   \n",
       "3                        0                  1                   0   \n",
       "4                        0                  1                   0   \n",
       "...                    ...                ...                 ...   \n",
       "2046                     0                  1                   0   \n",
       "2047                     0                  1                   0   \n",
       "2048                     0                  1                   0   \n",
       "2049                     0                  1                   0   \n",
       "2050                     0                  1                   0   \n",
       "\n",
       "     bsmtfin_sf_1_mean  bsmtfin_sf_2_mean bsmt_unf_sf_mean  porch  \n",
       "0                533.0                0.0            192.0      1  \n",
       "1                637.0                0.0            276.0      1  \n",
       "2                731.0                0.0            326.0      1  \n",
       "3                  0.0                0.0            384.0      0  \n",
       "4                  0.0                0.0            676.0      1  \n",
       "...                ...                ...              ...    ...  \n",
       "2046            1011.0                0.0            873.0      1  \n",
       "2047             262.0                0.0            599.0      0  \n",
       "2048               0.0                0.0            896.0      0  \n",
       "2049             155.0              750.0            295.0      1  \n",
       "2050               0.0                0.0            994.0      1  \n",
       "\n",
       "[2051 rows x 207 columns]"
      ]
     },
     "execution_count": 50,
     "metadata": {},
     "output_type": "execute_result"
    }
   ],
   "source": [
    "#Description says  ‘NA’ or null values on GarageCond mean ‘No Garage’ which is same for other garage features.\n",
    "#Numeric Garage fields ‘garage_area’, garage_cars and garage_yr_blt should be made zero for rows where GarageCond is null\n",
    "\n",
    "ames"
   ]
  },
  {
   "cell_type": "markdown",
   "metadata": {},
   "source": [
    "# Exploration"
   ]
  },
  {
   "cell_type": "code",
   "execution_count": 51,
   "metadata": {},
   "outputs": [],
   "source": [
    "def find_outliers_tukey(ames):\n",
    "    q1=np.percentile(ames,25)\n",
    "    q3=np.percentile(ames,75)\n",
    "    iqr=q3<q1\n",
    "    floor=q1-1.5*iqr\n",
    "    ceiling=q3+1.5*iqr\n",
    "    outlier_indices=list(ames.index[(ames<floor)|(ames>ceiling)])\n",
    "    outlier_values=list(ames[outlier_indices])\n",
    "\n",
    "    return outlier_indices,outlier_values"
   ]
  },
  {
   "cell_type": "code",
   "execution_count": 52,
   "metadata": {},
   "outputs": [
    {
     "name": "stdout",
     "output_type": "stream",
     "text": [
      "[ 12789  13100  34900 ... 584500 591587 611657]\n"
     ]
    }
   ],
   "source": [
    "tukey_indices,tukey_values=find_outliers_tukey(ames['saleprice'])\n",
    "print(np.sort(tukey_values))"
   ]
  },
  {
   "cell_type": "code",
   "execution_count": null,
   "metadata": {},
   "outputs": [],
   "source": []
  },
  {
   "cell_type": "code",
   "execution_count": 53,
   "metadata": {},
   "outputs": [],
   "source": [
    "df2=ames[['id','saleprice','overall_qual','year_built','year_remod/add','total_bsmt_sf','1st_flr_sf','gr_liv_area','full_bath','garage_area']]"
   ]
  },
  {
   "cell_type": "code",
   "execution_count": 54,
   "metadata": {},
   "outputs": [
    {
     "data": {
      "text/plain": [
       "(10.5, -0.5)"
      ]
     },
     "execution_count": 54,
     "metadata": {},
     "output_type": "execute_result"
    },
    {
     "data": {
      "image/png": "[encoded data removed]",
      "text/plain": [
       "<Figure size 1440x1440 with 2 Axes>"
      ]
     },
     "metadata": {},
     "output_type": "display_data"
    }
   ],
   "source": [
    "plt.figure(figsize=(20,20))\n",
    "plt.title('Fig 1: Housing Data Correlation', color='white',fontsize=20)\n",
    "mask = np.zeros(df2.corr().shape, dtype=bool)\n",
    "mask[np.triu_indices(len(mask))] = True\n",
    "plt.style.use('dark_background')\n",
    "plt.xticks(rotation=45)\n",
    "ax = sns.heatmap(df2.corr(),mask=mask ,vmin = -1, vmax = 1, cmap=\"YlGnBu\", center = 0, annot = True)\n",
    "bottom, top = ax.get_ylim()\n",
    "ax.set_ylim(bottom + 0.5, top - 0.5)\n"
   ]
  },
  {
   "cell_type": "code",
   "execution_count": 55,
   "metadata": {},
   "outputs": [
    {
     "name": "stderr",
     "output_type": "stream",
     "text": [
      "/anaconda3/lib/python3.7/site-packages/scipy/stats/stats.py:1713: FutureWarning: Using a non-tuple sequence for multidimensional indexing is deprecated; use `arr[tuple(seq)]` instead of `arr[seq]`. In the future this will be interpreted as an array index, `arr[np.array(seq)]`, which will result either in an error or a different result.\n",
      "  return np.add.reduce(sorted[indexer] * weights, axis=axis) / sumval\n"
     ]
    },
    {
     "data": {
      "text/plain": [
       "<matplotlib.axes._subplots.AxesSubplot at 0x1a1bb12d68>"
      ]
     },
     "execution_count": 55,
     "metadata": {},
     "output_type": "execute_result"
    },
    {
     "data": {
      "image/png": "[encoded data removed]",
      "text/plain": [
       "<Figure size 792x432 with 1 Axes>"
      ]
     },
     "metadata": {},
     "output_type": "display_data"
    }
   ],
   "source": [
    "\n",
    "\n",
    "plt.style.use('dark_background')\n",
    "plt.figure(figsize=(11,6))\n",
    "bottom, top = ax.get_ylim()\n",
    "ax.set_ylim(bottom + 0.5, top - 0.5)\n",
    "plt.title('Fig 2: Sale Price & Ground Living Area Correlation',fontsize=20 )\n",
    "sns.regplot(df2.gr_liv_area, df2.saleprice, data = df2, scatter_kws = {'color': 'pink', 'alpha': 0.3}, line_kws = {'color': '#00FFFF', 'alpha': 0.3, 'lw':6})\n",
    "\n"
   ]
  },
  {
   "cell_type": "code",
   "execution_count": 56,
   "metadata": {},
   "outputs": [
    {
     "name": "stderr",
     "output_type": "stream",
     "text": [
      "/anaconda3/lib/python3.7/site-packages/seaborn/axisgrid.py:2065: UserWarning: The `size` parameter has been renamed to `height`; pleaes update your code.\n",
      "  warnings.warn(msg, UserWarning)\n"
     ]
    },
    {
     "data": {
      "text/plain": [
       "Text(0.5, 1, 'Fig 3a: Sales Price & Overall Quality, 1st Flr Sqft, Total Basement Sqft Correlation')"
      ]
     },
     "execution_count": 56,
     "metadata": {},
     "output_type": "execute_result"
    },
    {
     "data": {
      "image/png": "[encoded data removed]",
      "text/plain": [
       "<Figure size 1209.6x576 with 3 Axes>"
      ]
     },
     "metadata": {},
     "output_type": "display_data"
    }
   ],
   "source": [
    "\n",
    "sns.pairplot(df2,x_vars=['overall_qual','1st_flr_sf','total_bsmt_sf'], y_vars=['saleprice'], size=8, aspect=0.7)\n",
    "plt.title('Fig 3a: Sales Price & Overall Quality, 1st Flr Sqft, Total Basement Sqft Correlation', fontsize=20)\n",
    "\n",
    "\n",
    "\n",
    "\n",
    "#we can see that there is somewhat of a linear relationship between saleprice  and overall quality.\n",
    "#Hence as overall quality increases, saleprice increases in a somewhat linear way as highlighted by \n",
    "#the line of best fit and 95%confidence band. \n",
    "\n",
    "#Because there appears to be a linear relationship \n",
    "#between the features and response (i.e saleprice), we will focusing first on the\n",
    "#linear regression model."
   ]
  },
  {
   "cell_type": "code",
   "execution_count": 57,
   "metadata": {},
   "outputs": [
    {
     "name": "stderr",
     "output_type": "stream",
     "text": [
      "/anaconda3/lib/python3.7/site-packages/seaborn/axisgrid.py:2065: UserWarning: The `size` parameter has been renamed to `height`; pleaes update your code.\n",
      "  warnings.warn(msg, UserWarning)\n"
     ]
    },
    {
     "data": {
      "text/plain": [
       "Text(0.5, 1, 'Fig 3b: Full Bath , Garage Area, Year Built,Year Remod / Add Correlation')"
      ]
     },
     "execution_count": 57,
     "metadata": {},
     "output_type": "execute_result"
    },
    {
     "data": {
      "image/png": "[encoded data removed]",
      "text/plain": [
       "<Figure size 1612.8x576 with 4 Axes>"
      ]
     },
     "metadata": {},
     "output_type": "display_data"
    }
   ],
   "source": [
    "sns.pairplot(df2,x_vars=['full_bath','garage_area','year_built','year_remod/add'], \n",
    "              y_vars=['saleprice'], size=8, aspect=0.7)\n",
    "plt.title('Fig 3b: Full Bath , Garage Area, Year Built,Year Remod / Add Correlation', fontsize=20)\n",
    "\n"
   ]
  },
  {
   "cell_type": "code",
   "execution_count": 58,
   "metadata": {},
   "outputs": [],
   "source": [
    "#There appears to be a less strong relationship between garage area and saleprice.\n",
    "\n",
    "\n"
   ]
  },
  {
   "cell_type": "markdown",
   "metadata": {},
   "source": [
    "# Plot Distributions of the Top Correlated Variables"
   ]
  },
  {
   "cell_type": "code",
   "execution_count": 59,
   "metadata": {},
   "outputs": [
    {
     "data": {
      "text/plain": [
       "Text(0.5, 1.0, 'Fig 4: Distribution between Top Correlated Variables')"
      ]
     },
     "execution_count": 59,
     "metadata": {},
     "output_type": "execute_result"
    },
    {
     "data": {
      "image/png": "[encoded data removed]",
      "text/plain": [
       "<Figure size 1152x288 with 12 Axes>"
      ]
     },
     "metadata": {},
     "output_type": "display_data"
    }
   ],
   "source": [
    "df2.hist(figsize=(16,4))\n",
    "plt.title('Fig 4: Distribution between Top Correlated Variables')\n"
   ]
  },
  {
   "cell_type": "markdown",
   "metadata": {},
   "source": [
    "We observe that the distribution is right skewed for the year built and gthe year renovated. This suggests that the gains from sales price resulting from renovation works tends to be those in more recent years. This informs choice and selection of property to invest and develop."
   ]
  },
  {
   "cell_type": "markdown",
   "metadata": {},
   "source": [
    "# Remove Outliers"
   ]
  },
  {
   "cell_type": "code",
   "execution_count": 60,
   "metadata": {},
   "outputs": [
    {
     "data": {
      "text/plain": [
       "<matplotlib.axes._subplots.AxesSubplot at 0x1a27ed6f28>"
      ]
     },
     "execution_count": 60,
     "metadata": {},
     "output_type": "execute_result"
    },
    {
     "data": {
      "image/png": "[encoded data removed]",
      "text/plain": [
       "<Figure size 432x288 with 1 Axes>"
      ]
     },
     "metadata": {},
     "output_type": "display_data"
    }
   ],
   "source": [
    "sns.boxplot(df2['1st_flr_sf'], color='pink')"
   ]
  },
  {
   "cell_type": "code",
   "execution_count": 61,
   "metadata": {},
   "outputs": [
    {
     "data": {
      "text/plain": [
       "<matplotlib.axes._subplots.AxesSubplot at 0x1a2837c128>"
      ]
     },
     "execution_count": 61,
     "metadata": {},
     "output_type": "execute_result"
    },
    {
     "data": {
      "image/png": "[encoded data removed]",
      "text/plain": [
       "<Figure size 432x288 with 1 Axes>"
      ]
     },
     "metadata": {},
     "output_type": "display_data"
    }
   ],
   "source": [
    "sns.boxplot(df2['garage_area'], color='pink')"
   ]
  },
  {
   "cell_type": "markdown",
   "metadata": {},
   "source": [
    "The following outliers identified below will be removed:"
   ]
  },
  {
   "cell_type": "markdown",
   "metadata": {},
   "source": [
    "The following houses were removed from the data:\n",
    "Index 1035,1141,960,1885,616.\n",
    "\n",
    "Removing these outliers also reduced potential outliers in more than 1 category\n"
   ]
  },
  {
   "cell_type": "code",
   "execution_count": 62,
   "metadata": {},
   "outputs": [
    {
     "data": {
      "text/html": [
       "<div>\n",
       "<style scoped>\n",
       "    .dataframe tbody tr th:only-of-type {\n",
       "        vertical-align: middle;\n",
       "    }\n",
       "\n",
       "    .dataframe tbody tr th {\n",
       "        vertical-align: top;\n",
       "    }\n",
       "\n",
       "    .dataframe thead th {\n",
       "        text-align: right;\n",
       "    }\n",
       "</style>\n",
       "<table border=\"1\" class=\"dataframe\">\n",
       "  <thead>\n",
       "    <tr style=\"text-align: right;\">\n",
       "      <th></th>\n",
       "      <th>id</th>\n",
       "      <th>saleprice</th>\n",
       "      <th>overall_qual</th>\n",
       "      <th>year_built</th>\n",
       "      <th>year_remod/add</th>\n",
       "      <th>total_bsmt_sf</th>\n",
       "      <th>1st_flr_sf</th>\n",
       "      <th>gr_liv_area</th>\n",
       "      <th>full_bath</th>\n",
       "      <th>garage_area</th>\n",
       "    </tr>\n",
       "  </thead>\n",
       "  <tbody>\n",
       "    <tr>\n",
       "      <th>1035</th>\n",
       "      <td>2667</td>\n",
       "      <td>475000</td>\n",
       "      <td>10</td>\n",
       "      <td>1892</td>\n",
       "      <td>1993</td>\n",
       "      <td>1107.0</td>\n",
       "      <td>1518</td>\n",
       "      <td>3608</td>\n",
       "      <td>2.0</td>\n",
       "      <td>840.0</td>\n",
       "    </tr>\n",
       "    <tr>\n",
       "      <th>1141</th>\n",
       "      <td>1321</td>\n",
       "      <td>325000</td>\n",
       "      <td>10</td>\n",
       "      <td>1893</td>\n",
       "      <td>2000</td>\n",
       "      <td>1237.0</td>\n",
       "      <td>1521</td>\n",
       "      <td>2775</td>\n",
       "      <td>3.0</td>\n",
       "      <td>880.0</td>\n",
       "    </tr>\n",
       "  </tbody>\n",
       "</table>\n",
       "</div>"
      ],
      "text/plain": [
       "        id  saleprice  overall_qual  year_built  year_remod/add  \\\n",
       "1035  2667     475000            10        1892            1993   \n",
       "1141  1321     325000            10        1893            2000   \n",
       "\n",
       "      total_bsmt_sf  1st_flr_sf  gr_liv_area  full_bath  garage_area  \n",
       "1035         1107.0        1518         3608        2.0        840.0  \n",
       "1141         1237.0        1521         2775        3.0        880.0  "
      ]
     },
     "execution_count": 62,
     "metadata": {},
     "output_type": "execute_result"
    }
   ],
   "source": [
    "df2[(df2['saleprice']>300000) & (df2['year_built']<1900)]"
   ]
  },
  {
   "cell_type": "code",
   "execution_count": 63,
   "metadata": {},
   "outputs": [
    {
     "name": "stderr",
     "output_type": "stream",
     "text": [
      "/anaconda3/lib/python3.7/site-packages/pandas/core/frame.py:3997: SettingWithCopyWarning: \n",
      "A value is trying to be set on a copy of a slice from a DataFrame\n",
      "\n",
      "See the caveats in the documentation: https://pandas.pydata.org/pandas-docs/stable/user_guide/indexing.html#returning-a-view-versus-a-copy\n",
      "  errors=errors,\n"
     ]
    }
   ],
   "source": [
    "df2.drop([1035,1141],axis=0,inplace=True)"
   ]
  },
  {
   "cell_type": "code",
   "execution_count": 72,
   "metadata": {},
   "outputs": [
    {
     "data": {
      "text/html": [
       "<div>\n",
       "<style scoped>\n",
       "    .dataframe tbody tr th:only-of-type {\n",
       "        vertical-align: middle;\n",
       "    }\n",
       "\n",
       "    .dataframe tbody tr th {\n",
       "        vertical-align: top;\n",
       "    }\n",
       "\n",
       "    .dataframe thead th {\n",
       "        text-align: right;\n",
       "    }\n",
       "</style>\n",
       "<table border=\"1\" class=\"dataframe\">\n",
       "  <thead>\n",
       "    <tr style=\"text-align: right;\">\n",
       "      <th></th>\n",
       "      <th>id</th>\n",
       "      <th>pid</th>\n",
       "      <th>ms_subclass</th>\n",
       "      <th>ms_zoning</th>\n",
       "      <th>lot_frontage</th>\n",
       "      <th>lot_area</th>\n",
       "      <th>street</th>\n",
       "      <th>alley</th>\n",
       "      <th>lot_shape</th>\n",
       "      <th>land_contour</th>\n",
       "      <th>utilities</th>\n",
       "      <th>lot_config</th>\n",
       "      <th>land_slope</th>\n",
       "      <th>neighborhood</th>\n",
       "      <th>condition_1</th>\n",
       "      <th>condition_2</th>\n",
       "      <th>bldg_type</th>\n",
       "      <th>house_style</th>\n",
       "      <th>overall_qual</th>\n",
       "      <th>overall_cond</th>\n",
       "      <th>year_built</th>\n",
       "      <th>year_remod/add</th>\n",
       "      <th>roof_style</th>\n",
       "      <th>roof_matl</th>\n",
       "      <th>exterior_1st</th>\n",
       "      <th>exterior_2nd</th>\n",
       "      <th>mas_vnr_type</th>\n",
       "      <th>mas_vnr_area</th>\n",
       "      <th>exter_qual</th>\n",
       "      <th>exter_cond</th>\n",
       "      <th>foundation</th>\n",
       "      <th>bsmt_qual</th>\n",
       "      <th>bsmt_cond</th>\n",
       "      <th>bsmt_exposure</th>\n",
       "      <th>bsmtfin_type_1</th>\n",
       "      <th>bsmtfin_sf_1</th>\n",
       "      <th>bsmtfin_type_2</th>\n",
       "      <th>bsmtfin_sf_2</th>\n",
       "      <th>bsmt_unf_sf</th>\n",
       "      <th>total_bsmt_sf</th>\n",
       "      <th>heating</th>\n",
       "      <th>heating_qc</th>\n",
       "      <th>central_air</th>\n",
       "      <th>electrical</th>\n",
       "      <th>1st_flr_sf</th>\n",
       "      <th>2nd_flr_sf</th>\n",
       "      <th>low_qual_fin_sf</th>\n",
       "      <th>gr_liv_area</th>\n",
       "      <th>bsmt_full_bath</th>\n",
       "      <th>bsmt_half_bath</th>\n",
       "      <th>full_bath</th>\n",
       "      <th>half_bath</th>\n",
       "      <th>bedroom_abvgr</th>\n",
       "      <th>kitchen_abvgr</th>\n",
       "      <th>kitchen_qual</th>\n",
       "      <th>totrms_abvgrd</th>\n",
       "      <th>functional</th>\n",
       "      <th>fireplaces</th>\n",
       "      <th>fireplace_qu</th>\n",
       "      <th>garage_type</th>\n",
       "      <th>garage_yr_blt</th>\n",
       "      <th>garage_finish</th>\n",
       "      <th>garage_cars</th>\n",
       "      <th>garage_area</th>\n",
       "      <th>garage_qual</th>\n",
       "      <th>garage_cond</th>\n",
       "      <th>paved_drive</th>\n",
       "      <th>wood_deck_sf</th>\n",
       "      <th>open_porch_sf</th>\n",
       "      <th>enclosed_porch</th>\n",
       "      <th>3ssn_porch</th>\n",
       "      <th>screen_porch</th>\n",
       "      <th>pool_area</th>\n",
       "      <th>pool_qc</th>\n",
       "      <th>fence</th>\n",
       "      <th>misc_feature</th>\n",
       "      <th>misc_val</th>\n",
       "      <th>mo_sold</th>\n",
       "      <th>yr_sold</th>\n",
       "      <th>sale_type</th>\n",
       "      <th>saleprice</th>\n",
       "    </tr>\n",
       "  </thead>\n",
       "  <tbody>\n",
       "    <tr>\n",
       "      <th>960</th>\n",
       "      <td>1499</td>\n",
       "      <td>908154235</td>\n",
       "      <td>60</td>\n",
       "      <td>RL</td>\n",
       "      <td>313.0</td>\n",
       "      <td>63887</td>\n",
       "      <td>Pave</td>\n",
       "      <td>NaN</td>\n",
       "      <td>IR3</td>\n",
       "      <td>Bnk</td>\n",
       "      <td>AllPub</td>\n",
       "      <td>Corner</td>\n",
       "      <td>Gtl</td>\n",
       "      <td>Edwards</td>\n",
       "      <td>Feedr</td>\n",
       "      <td>Norm</td>\n",
       "      <td>1Fam</td>\n",
       "      <td>2Story</td>\n",
       "      <td>10</td>\n",
       "      <td>5</td>\n",
       "      <td>2008</td>\n",
       "      <td>2008</td>\n",
       "      <td>Hip</td>\n",
       "      <td>ClyTile</td>\n",
       "      <td>Stucco</td>\n",
       "      <td>Stucco</td>\n",
       "      <td>Stone</td>\n",
       "      <td>796.0</td>\n",
       "      <td>Ex</td>\n",
       "      <td>TA</td>\n",
       "      <td>PConc</td>\n",
       "      <td>Ex</td>\n",
       "      <td>TA</td>\n",
       "      <td>Gd</td>\n",
       "      <td>GLQ</td>\n",
       "      <td>5644.0</td>\n",
       "      <td>Unf</td>\n",
       "      <td>0.0</td>\n",
       "      <td>466.0</td>\n",
       "      <td>6110.0</td>\n",
       "      <td>GasA</td>\n",
       "      <td>Ex</td>\n",
       "      <td>Y</td>\n",
       "      <td>SBrkr</td>\n",
       "      <td>4692</td>\n",
       "      <td>950</td>\n",
       "      <td>0</td>\n",
       "      <td>5642</td>\n",
       "      <td>2.0</td>\n",
       "      <td>0.0</td>\n",
       "      <td>2</td>\n",
       "      <td>1</td>\n",
       "      <td>3</td>\n",
       "      <td>1</td>\n",
       "      <td>Ex</td>\n",
       "      <td>12</td>\n",
       "      <td>Typ</td>\n",
       "      <td>3</td>\n",
       "      <td>Gd</td>\n",
       "      <td>Attchd</td>\n",
       "      <td>2008.0</td>\n",
       "      <td>Fin</td>\n",
       "      <td>2.0</td>\n",
       "      <td>1418.0</td>\n",
       "      <td>TA</td>\n",
       "      <td>TA</td>\n",
       "      <td>Y</td>\n",
       "      <td>214</td>\n",
       "      <td>292</td>\n",
       "      <td>0</td>\n",
       "      <td>0</td>\n",
       "      <td>0</td>\n",
       "      <td>480</td>\n",
       "      <td>Gd</td>\n",
       "      <td>NaN</td>\n",
       "      <td>NaN</td>\n",
       "      <td>0</td>\n",
       "      <td>1</td>\n",
       "      <td>2008</td>\n",
       "      <td>New</td>\n",
       "      <td>160000</td>\n",
       "    </tr>\n",
       "    <tr>\n",
       "      <th>1885</th>\n",
       "      <td>2181</td>\n",
       "      <td>908154195</td>\n",
       "      <td>20</td>\n",
       "      <td>RL</td>\n",
       "      <td>128.0</td>\n",
       "      <td>39290</td>\n",
       "      <td>Pave</td>\n",
       "      <td>NaN</td>\n",
       "      <td>IR1</td>\n",
       "      <td>Bnk</td>\n",
       "      <td>AllPub</td>\n",
       "      <td>Inside</td>\n",
       "      <td>Gtl</td>\n",
       "      <td>Edwards</td>\n",
       "      <td>Norm</td>\n",
       "      <td>Norm</td>\n",
       "      <td>1Fam</td>\n",
       "      <td>1Story</td>\n",
       "      <td>10</td>\n",
       "      <td>5</td>\n",
       "      <td>2008</td>\n",
       "      <td>2009</td>\n",
       "      <td>Hip</td>\n",
       "      <td>CompShg</td>\n",
       "      <td>CemntBd</td>\n",
       "      <td>CmentBd</td>\n",
       "      <td>Stone</td>\n",
       "      <td>1224.0</td>\n",
       "      <td>Ex</td>\n",
       "      <td>TA</td>\n",
       "      <td>PConc</td>\n",
       "      <td>Ex</td>\n",
       "      <td>TA</td>\n",
       "      <td>Gd</td>\n",
       "      <td>GLQ</td>\n",
       "      <td>4010.0</td>\n",
       "      <td>Unf</td>\n",
       "      <td>0.0</td>\n",
       "      <td>1085.0</td>\n",
       "      <td>5095.0</td>\n",
       "      <td>GasA</td>\n",
       "      <td>Ex</td>\n",
       "      <td>Y</td>\n",
       "      <td>SBrkr</td>\n",
       "      <td>5095</td>\n",
       "      <td>0</td>\n",
       "      <td>0</td>\n",
       "      <td>5095</td>\n",
       "      <td>1.0</td>\n",
       "      <td>1.0</td>\n",
       "      <td>2</td>\n",
       "      <td>1</td>\n",
       "      <td>2</td>\n",
       "      <td>1</td>\n",
       "      <td>Ex</td>\n",
       "      <td>15</td>\n",
       "      <td>Typ</td>\n",
       "      <td>2</td>\n",
       "      <td>Gd</td>\n",
       "      <td>Attchd</td>\n",
       "      <td>2008.0</td>\n",
       "      <td>Fin</td>\n",
       "      <td>3.0</td>\n",
       "      <td>1154.0</td>\n",
       "      <td>TA</td>\n",
       "      <td>TA</td>\n",
       "      <td>Y</td>\n",
       "      <td>546</td>\n",
       "      <td>484</td>\n",
       "      <td>0</td>\n",
       "      <td>0</td>\n",
       "      <td>0</td>\n",
       "      <td>0</td>\n",
       "      <td>NaN</td>\n",
       "      <td>NaN</td>\n",
       "      <td>Elev</td>\n",
       "      <td>17000</td>\n",
       "      <td>10</td>\n",
       "      <td>2007</td>\n",
       "      <td>New</td>\n",
       "      <td>183850</td>\n",
       "    </tr>\n",
       "  </tbody>\n",
       "</table>\n",
       "</div>"
      ],
      "text/plain": [
       "        id        pid  ms_subclass ms_zoning  lot_frontage  lot_area street  \\\n",
       "960   1499  908154235           60        RL         313.0     63887   Pave   \n",
       "1885  2181  908154195           20        RL         128.0     39290   Pave   \n",
       "\n",
       "     alley lot_shape land_contour utilities lot_config land_slope  \\\n",
       "960    NaN       IR3          Bnk    AllPub     Corner        Gtl   \n",
       "1885   NaN       IR1          Bnk    AllPub     Inside        Gtl   \n",
       "\n",
       "     neighborhood condition_1 condition_2 bldg_type house_style  overall_qual  \\\n",
       "960       Edwards       Feedr        Norm      1Fam      2Story            10   \n",
       "1885      Edwards        Norm        Norm      1Fam      1Story            10   \n",
       "\n",
       "      overall_cond  year_built  year_remod/add roof_style roof_matl  \\\n",
       "960              5        2008            2008        Hip   ClyTile   \n",
       "1885             5        2008            2009        Hip   CompShg   \n",
       "\n",
       "     exterior_1st exterior_2nd mas_vnr_type  mas_vnr_area exter_qual  \\\n",
       "960        Stucco       Stucco        Stone         796.0         Ex   \n",
       "1885      CemntBd      CmentBd        Stone        1224.0         Ex   \n",
       "\n",
       "     exter_cond foundation bsmt_qual bsmt_cond bsmt_exposure bsmtfin_type_1  \\\n",
       "960          TA      PConc        Ex        TA            Gd            GLQ   \n",
       "1885         TA      PConc        Ex        TA            Gd            GLQ   \n",
       "\n",
       "      bsmtfin_sf_1 bsmtfin_type_2  bsmtfin_sf_2  bsmt_unf_sf  total_bsmt_sf  \\\n",
       "960         5644.0            Unf           0.0        466.0         6110.0   \n",
       "1885        4010.0            Unf           0.0       1085.0         5095.0   \n",
       "\n",
       "     heating heating_qc central_air electrical  1st_flr_sf  2nd_flr_sf  \\\n",
       "960     GasA         Ex           Y      SBrkr        4692         950   \n",
       "1885    GasA         Ex           Y      SBrkr        5095           0   \n",
       "\n",
       "      low_qual_fin_sf  gr_liv_area  bsmt_full_bath  bsmt_half_bath  full_bath  \\\n",
       "960                 0         5642             2.0             0.0          2   \n",
       "1885                0         5095             1.0             1.0          2   \n",
       "\n",
       "      half_bath  bedroom_abvgr  kitchen_abvgr kitchen_qual  totrms_abvgrd  \\\n",
       "960           1              3              1           Ex             12   \n",
       "1885          1              2              1           Ex             15   \n",
       "\n",
       "     functional  fireplaces fireplace_qu garage_type  garage_yr_blt  \\\n",
       "960         Typ           3           Gd      Attchd         2008.0   \n",
       "1885        Typ           2           Gd      Attchd         2008.0   \n",
       "\n",
       "     garage_finish  garage_cars  garage_area garage_qual garage_cond  \\\n",
       "960            Fin          2.0       1418.0          TA          TA   \n",
       "1885           Fin          3.0       1154.0          TA          TA   \n",
       "\n",
       "     paved_drive  wood_deck_sf  open_porch_sf  enclosed_porch  3ssn_porch  \\\n",
       "960            Y           214            292               0           0   \n",
       "1885           Y           546            484               0           0   \n",
       "\n",
       "      screen_porch  pool_area pool_qc fence misc_feature  misc_val  mo_sold  \\\n",
       "960              0        480      Gd   NaN          NaN         0        1   \n",
       "1885             0          0     NaN   NaN         Elev     17000       10   \n",
       "\n",
       "      yr_sold sale_type  saleprice  \n",
       "960      2008       New     160000  \n",
       "1885     2007       New     183850  "
      ]
     },
     "execution_count": 72,
     "metadata": {},
     "output_type": "execute_result"
    }
   ],
   "source": [
    "pd.options.display.max_rows = None\n",
    "df[(df['saleprice']<300000) & (df['total_bsmt_sf']>5000)]"
   ]
  },
  {
   "cell_type": "code",
   "execution_count": 65,
   "metadata": {},
   "outputs": [
    {
     "data": {
      "text/html": [
       "<div>\n",
       "<style scoped>\n",
       "    .dataframe tbody tr th:only-of-type {\n",
       "        vertical-align: middle;\n",
       "    }\n",
       "\n",
       "    .dataframe tbody tr th {\n",
       "        vertical-align: top;\n",
       "    }\n",
       "\n",
       "    .dataframe thead th {\n",
       "        text-align: right;\n",
       "    }\n",
       "</style>\n",
       "<table border=\"1\" class=\"dataframe\">\n",
       "  <thead>\n",
       "    <tr style=\"text-align: right;\">\n",
       "      <th></th>\n",
       "      <th>id</th>\n",
       "      <th>saleprice</th>\n",
       "      <th>overall_qual</th>\n",
       "      <th>year_built</th>\n",
       "      <th>year_remod/add</th>\n",
       "      <th>total_bsmt_sf</th>\n",
       "      <th>1st_flr_sf</th>\n",
       "      <th>gr_liv_area</th>\n",
       "      <th>full_bath</th>\n",
       "      <th>garage_area</th>\n",
       "    </tr>\n",
       "  </thead>\n",
       "  <tbody>\n",
       "    <tr>\n",
       "      <th>960</th>\n",
       "      <td>1499</td>\n",
       "      <td>160000</td>\n",
       "      <td>10</td>\n",
       "      <td>2008</td>\n",
       "      <td>2008</td>\n",
       "      <td>6110.0</td>\n",
       "      <td>4692</td>\n",
       "      <td>5642</td>\n",
       "      <td>4.0</td>\n",
       "      <td>1418.0</td>\n",
       "    </tr>\n",
       "    <tr>\n",
       "      <th>1885</th>\n",
       "      <td>2181</td>\n",
       "      <td>183850</td>\n",
       "      <td>10</td>\n",
       "      <td>2008</td>\n",
       "      <td>2009</td>\n",
       "      <td>5095.0</td>\n",
       "      <td>5095</td>\n",
       "      <td>5095</td>\n",
       "      <td>3.0</td>\n",
       "      <td>1154.0</td>\n",
       "    </tr>\n",
       "  </tbody>\n",
       "</table>\n",
       "</div>"
      ],
      "text/plain": [
       "        id  saleprice  overall_qual  year_built  year_remod/add  \\\n",
       "960   1499     160000            10        2008            2008   \n",
       "1885  2181     183850            10        2008            2009   \n",
       "\n",
       "      total_bsmt_sf  1st_flr_sf  gr_liv_area  full_bath  garage_area  \n",
       "960          6110.0        4692         5642        4.0       1418.0  \n",
       "1885         5095.0        5095         5095        3.0       1154.0  "
      ]
     },
     "execution_count": 65,
     "metadata": {},
     "output_type": "execute_result"
    }
   ],
   "source": [
    "df2[(df2['saleprice']<300000) & (df2['total_bsmt_sf']>5000)]"
   ]
  },
  {
   "cell_type": "code",
   "execution_count": 66,
   "metadata": {},
   "outputs": [
    {
     "name": "stderr",
     "output_type": "stream",
     "text": [
      "/anaconda3/lib/python3.7/site-packages/pandas/core/frame.py:3997: SettingWithCopyWarning: \n",
      "A value is trying to be set on a copy of a slice from a DataFrame\n",
      "\n",
      "See the caveats in the documentation: https://pandas.pydata.org/pandas-docs/stable/user_guide/indexing.html#returning-a-view-versus-a-copy\n",
      "  errors=errors,\n"
     ]
    }
   ],
   "source": [
    "df2.drop([960,1885],axis=0,inplace=True)"
   ]
  },
  {
   "cell_type": "code",
   "execution_count": 67,
   "metadata": {},
   "outputs": [
    {
     "data": {
      "text/html": [
       "<div>\n",
       "<style scoped>\n",
       "    .dataframe tbody tr th:only-of-type {\n",
       "        vertical-align: middle;\n",
       "    }\n",
       "\n",
       "    .dataframe tbody tr th {\n",
       "        vertical-align: top;\n",
       "    }\n",
       "\n",
       "    .dataframe thead th {\n",
       "        text-align: right;\n",
       "    }\n",
       "</style>\n",
       "<table border=\"1\" class=\"dataframe\">\n",
       "  <thead>\n",
       "    <tr style=\"text-align: right;\">\n",
       "      <th></th>\n",
       "      <th>id</th>\n",
       "      <th>saleprice</th>\n",
       "      <th>overall_qual</th>\n",
       "      <th>year_built</th>\n",
       "      <th>year_remod/add</th>\n",
       "      <th>total_bsmt_sf</th>\n",
       "      <th>1st_flr_sf</th>\n",
       "      <th>gr_liv_area</th>\n",
       "      <th>full_bath</th>\n",
       "      <th>garage_area</th>\n",
       "    </tr>\n",
       "  </thead>\n",
       "  <tbody>\n",
       "    <tr>\n",
       "      <th>616</th>\n",
       "      <td>1498</td>\n",
       "      <td>284700</td>\n",
       "      <td>5</td>\n",
       "      <td>1959</td>\n",
       "      <td>1996</td>\n",
       "      <td>0.0</td>\n",
       "      <td>3820</td>\n",
       "      <td>3820</td>\n",
       "      <td>NaN</td>\n",
       "      <td>624.0</td>\n",
       "    </tr>\n",
       "  </tbody>\n",
       "</table>\n",
       "</div>"
      ],
      "text/plain": [
       "       id  saleprice  overall_qual  year_built  year_remod/add  total_bsmt_sf  \\\n",
       "616  1498     284700             5        1959            1996            0.0   \n",
       "\n",
       "     1st_flr_sf  gr_liv_area  full_bath  garage_area  \n",
       "616        3820         3820        NaN        624.0  "
      ]
     },
     "execution_count": 67,
     "metadata": {},
     "output_type": "execute_result"
    }
   ],
   "source": [
    "df2[(df2['saleprice']<300000) & (df2['1st_flr_sf']>3000)]"
   ]
  },
  {
   "cell_type": "code",
   "execution_count": 68,
   "metadata": {},
   "outputs": [
    {
     "name": "stderr",
     "output_type": "stream",
     "text": [
      "/anaconda3/lib/python3.7/site-packages/pandas/core/frame.py:3997: SettingWithCopyWarning: \n",
      "A value is trying to be set on a copy of a slice from a DataFrame\n",
      "\n",
      "See the caveats in the documentation: https://pandas.pydata.org/pandas-docs/stable/user_guide/indexing.html#returning-a-view-versus-a-copy\n",
      "  errors=errors,\n"
     ]
    }
   ],
   "source": [
    "df2.drop([616],axis=0,inplace=True)"
   ]
  },
  {
   "cell_type": "code",
   "execution_count": 69,
   "metadata": {},
   "outputs": [
    {
     "data": {
      "text/html": [
       "<div>\n",
       "<style scoped>\n",
       "    .dataframe tbody tr th:only-of-type {\n",
       "        vertical-align: middle;\n",
       "    }\n",
       "\n",
       "    .dataframe tbody tr th {\n",
       "        vertical-align: top;\n",
       "    }\n",
       "\n",
       "    .dataframe thead th {\n",
       "        text-align: right;\n",
       "    }\n",
       "</style>\n",
       "<table border=\"1\" class=\"dataframe\">\n",
       "  <thead>\n",
       "    <tr style=\"text-align: right;\">\n",
       "      <th></th>\n",
       "      <th>id</th>\n",
       "      <th>saleprice</th>\n",
       "      <th>overall_qual</th>\n",
       "      <th>year_built</th>\n",
       "      <th>year_remod/add</th>\n",
       "      <th>total_bsmt_sf</th>\n",
       "      <th>1st_flr_sf</th>\n",
       "      <th>gr_liv_area</th>\n",
       "      <th>full_bath</th>\n",
       "      <th>garage_area</th>\n",
       "    </tr>\n",
       "  </thead>\n",
       "  <tbody>\n",
       "  </tbody>\n",
       "</table>\n",
       "</div>"
      ],
      "text/plain": [
       "Empty DataFrame\n",
       "Columns: [id, saleprice, overall_qual, year_built, year_remod/add, total_bsmt_sf, 1st_flr_sf, gr_liv_area, full_bath, garage_area]\n",
       "Index: []"
      ]
     },
     "execution_count": 69,
     "metadata": {},
     "output_type": "execute_result"
    }
   ],
   "source": [
    "df2[(df2['saleprice']<300000) & (df2['gr_liv_area']>5000)]"
   ]
  },
  {
   "cell_type": "code",
   "execution_count": 70,
   "metadata": {},
   "outputs": [
    {
     "data": {
      "text/html": [
       "<div>\n",
       "<style scoped>\n",
       "    .dataframe tbody tr th:only-of-type {\n",
       "        vertical-align: middle;\n",
       "    }\n",
       "\n",
       "    .dataframe tbody tr th {\n",
       "        vertical-align: top;\n",
       "    }\n",
       "\n",
       "    .dataframe thead th {\n",
       "        text-align: right;\n",
       "    }\n",
       "</style>\n",
       "<table border=\"1\" class=\"dataframe\">\n",
       "  <thead>\n",
       "    <tr style=\"text-align: right;\">\n",
       "      <th></th>\n",
       "      <th>id</th>\n",
       "      <th>saleprice</th>\n",
       "      <th>overall_qual</th>\n",
       "      <th>year_built</th>\n",
       "      <th>year_remod/add</th>\n",
       "      <th>total_bsmt_sf</th>\n",
       "      <th>1st_flr_sf</th>\n",
       "      <th>gr_liv_area</th>\n",
       "      <th>full_bath</th>\n",
       "      <th>garage_area</th>\n",
       "    </tr>\n",
       "  </thead>\n",
       "  <tbody>\n",
       "    <tr>\n",
       "      <th>1712</th>\n",
       "      <td>2237</td>\n",
       "      <td>150909</td>\n",
       "      <td>5</td>\n",
       "      <td>1923</td>\n",
       "      <td>1999</td>\n",
       "      <td>859.0</td>\n",
       "      <td>942</td>\n",
       "      <td>1828</td>\n",
       "      <td>2.0</td>\n",
       "      <td>NaN</td>\n",
       "    </tr>\n",
       "  </tbody>\n",
       "</table>\n",
       "</div>"
      ],
      "text/plain": [
       "        id  saleprice  overall_qual  year_built  year_remod/add  \\\n",
       "1712  2237     150909             5        1923            1999   \n",
       "\n",
       "      total_bsmt_sf  1st_flr_sf  gr_liv_area  full_bath  garage_area  \n",
       "1712          859.0         942         1828        2.0          NaN  "
      ]
     },
     "execution_count": 70,
     "metadata": {},
     "output_type": "execute_result"
    }
   ],
   "source": [
    "pd.options.display.max_columns = None\n",
    "df2.loc[df2['garage_area'].isnull(),:].head()"
   ]
  },
  {
   "cell_type": "code",
   "execution_count": 64,
   "metadata": {},
   "outputs": [
    {
     "name": "stderr",
     "output_type": "stream",
     "text": [
      "/anaconda3/lib/python3.7/site-packages/pandas/core/frame.py:3997: SettingWithCopyWarning: \n",
      "A value is trying to be set on a copy of a slice from a DataFrame\n",
      "\n",
      "See the caveats in the documentation: https://pandas.pydata.org/pandas-docs/stable/user_guide/indexing.html#returning-a-view-versus-a-copy\n",
      "  errors=errors,\n"
     ]
    }
   ],
   "source": [
    "df2.drop([1712],axis=0,inplace=True)"
   ]
  },
  {
   "cell_type": "code",
   "execution_count": 65,
   "metadata": {},
   "outputs": [
    {
     "data": {
      "text/html": [
       "<div>\n",
       "<style scoped>\n",
       "    .dataframe tbody tr th:only-of-type {\n",
       "        vertical-align: middle;\n",
       "    }\n",
       "\n",
       "    .dataframe tbody tr th {\n",
       "        vertical-align: top;\n",
       "    }\n",
       "\n",
       "    .dataframe thead th {\n",
       "        text-align: right;\n",
       "    }\n",
       "</style>\n",
       "<table border=\"1\" class=\"dataframe\">\n",
       "  <thead>\n",
       "    <tr style=\"text-align: right;\">\n",
       "      <th></th>\n",
       "      <th>id</th>\n",
       "      <th>saleprice</th>\n",
       "      <th>overall_qual</th>\n",
       "      <th>year_built</th>\n",
       "      <th>year_remod/add</th>\n",
       "      <th>total_bsmt_sf</th>\n",
       "      <th>1st_flr_sf</th>\n",
       "      <th>gr_liv_area</th>\n",
       "      <th>full_bath</th>\n",
       "      <th>garage_area</th>\n",
       "    </tr>\n",
       "  </thead>\n",
       "  <tbody>\n",
       "    <tr>\n",
       "      <th>1327</th>\n",
       "      <td>1342</td>\n",
       "      <td>79000</td>\n",
       "      <td>4</td>\n",
       "      <td>1946</td>\n",
       "      <td>1950</td>\n",
       "      <td>1057.987805</td>\n",
       "      <td>896</td>\n",
       "      <td>896</td>\n",
       "      <td>NaN</td>\n",
       "      <td>280.0</td>\n",
       "    </tr>\n",
       "  </tbody>\n",
       "</table>\n",
       "</div>"
      ],
      "text/plain": [
       "        id  saleprice  overall_qual  year_built  year_remod/add  \\\n",
       "1327  1342      79000             4        1946            1950   \n",
       "\n",
       "      total_bsmt_sf  1st_flr_sf  gr_liv_area  full_bath  garage_area  \n",
       "1327    1057.987805         896          896        NaN        280.0  "
      ]
     },
     "execution_count": 65,
     "metadata": {},
     "output_type": "execute_result"
    }
   ],
   "source": [
    "df2.loc[df2['full_bath'].isnull(),:].head()"
   ]
  },
  {
   "cell_type": "code",
   "execution_count": 66,
   "metadata": {},
   "outputs": [
    {
     "name": "stderr",
     "output_type": "stream",
     "text": [
      "/anaconda3/lib/python3.7/site-packages/pandas/core/frame.py:3997: SettingWithCopyWarning: \n",
      "A value is trying to be set on a copy of a slice from a DataFrame\n",
      "\n",
      "See the caveats in the documentation: https://pandas.pydata.org/pandas-docs/stable/user_guide/indexing.html#returning-a-view-versus-a-copy\n",
      "  errors=errors,\n"
     ]
    }
   ],
   "source": [
    "df2.drop([1327],axis=0,inplace=True)"
   ]
  },
  {
   "cell_type": "code",
   "execution_count": 67,
   "metadata": {},
   "outputs": [
    {
     "data": {
      "text/plain": [
       "id                0\n",
       "saleprice         0\n",
       "overall_qual      0\n",
       "year_built        0\n",
       "year_remod/add    0\n",
       "total_bsmt_sf     0\n",
       "1st_flr_sf        0\n",
       "gr_liv_area       0\n",
       "full_bath         0\n",
       "garage_area       0\n",
       "dtype: int64"
      ]
     },
     "execution_count": 67,
     "metadata": {},
     "output_type": "execute_result"
    }
   ],
   "source": [
    "#pd.options.display.max_rows = None\n",
    "df2.isnull().sum()"
   ]
  },
  {
   "cell_type": "code",
   "execution_count": 68,
   "metadata": {},
   "outputs": [
    {
     "data": {
      "text/plain": [
       "Index(['id', 'saleprice', 'overall_qual', 'year_built', 'year_remod/add',\n",
       "       'total_bsmt_sf', '1st_flr_sf', 'gr_liv_area', 'full_bath',\n",
       "       'garage_area'],\n",
       "      dtype='object')"
      ]
     },
     "execution_count": 68,
     "metadata": {},
     "output_type": "execute_result"
    }
   ],
   "source": [
    "df2.columns\n"
   ]
  },
  {
   "cell_type": "code",
   "execution_count": 69,
   "metadata": {},
   "outputs": [],
   "source": [
    "df4=pd.DataFrame(df2)"
   ]
  },
  {
   "cell_type": "code",
   "execution_count": 70,
   "metadata": {},
   "outputs": [],
   "source": [
    "#dataframe withour salesprice with id\n",
    "\n",
    "df4.drop(columns=['saleprice'], inplace=True)\n"
   ]
  },
  {
   "cell_type": "code",
   "execution_count": 71,
   "metadata": {},
   "outputs": [],
   "source": [
    "#The features are ['id', 'saleprice', 'overall_qual', 'year_built', 'year_remod/add',\n",
    "#'total_bsmt_sf', '1st_flr_sf', 'gr_liv_area', 'full_bath','garage_area'].\n",
    "#The response variable is the saleprice\n",
    "\n",
    "#Create features matrix (X) and target vector (y)\n",
    "#features=[col for col in df2._get_numeric_data().columns if col!='saleprice']\n",
    "X=df4\n",
    "y=df2['saleprice']"
   ]
  },
  {
   "cell_type": "code",
   "execution_count": 72,
   "metadata": {},
   "outputs": [],
   "source": [
    "X_train,X_test,y_train,y_test=train_test_split(X,y,random_state=42)"
   ]
  },
  {
   "cell_type": "code",
   "execution_count": 73,
   "metadata": {},
   "outputs": [],
   "source": [
    "ss=StandardScaler()\n",
    "ss.fit(X_train)\n",
    "X_train=ss.transform(X_train)\n",
    "X_test=ss.transform(X_test)"
   ]
  },
  {
   "cell_type": "code",
   "execution_count": 74,
   "metadata": {},
   "outputs": [
    {
     "data": {
      "text/plain": [
       "Index(['id', 'overall_qual', 'year_built', 'year_remod/add', 'total_bsmt_sf',\n",
       "       '1st_flr_sf', 'gr_liv_area', 'full_bath', 'garage_area'],\n",
       "      dtype='object')"
      ]
     },
     "execution_count": 74,
     "metadata": {},
     "output_type": "execute_result"
    }
   ],
   "source": [
    "df4.columns"
   ]
  },
  {
   "cell_type": "code",
   "execution_count": 75,
   "metadata": {},
   "outputs": [],
   "source": [
    "lr=LinearRegression()"
   ]
  },
  {
   "cell_type": "code",
   "execution_count": 76,
   "metadata": {},
   "outputs": [],
   "source": [
    "lasso=LassoCV(n_alphas=200)"
   ]
  },
  {
   "cell_type": "code",
   "execution_count": 77,
   "metadata": {},
   "outputs": [],
   "source": [
    "ridge=RidgeCV(alphas=np.linspace(.1,10,100))"
   ]
  },
  {
   "cell_type": "code",
   "execution_count": 78,
   "metadata": {},
   "outputs": [
    {
     "data": {
      "text/plain": [
       "0.8212934167605034"
      ]
     },
     "execution_count": 78,
     "metadata": {},
     "output_type": "execute_result"
    }
   ],
   "source": [
    "lr_scores=cross_val_score(lr,X_train,y_train,cv=3)\n",
    "lr_scores.mean()"
   ]
  },
  {
   "cell_type": "code",
   "execution_count": 79,
   "metadata": {},
   "outputs": [
    {
     "data": {
      "text/plain": [
       "0.8217126641115011"
      ]
     },
     "execution_count": 79,
     "metadata": {},
     "output_type": "execute_result"
    }
   ],
   "source": [
    "lasso_scores=cross_val_score(lasso,X_train,y_train,cv=3)\n",
    "lasso_scores.mean()"
   ]
  },
  {
   "cell_type": "code",
   "execution_count": 80,
   "metadata": {},
   "outputs": [
    {
     "data": {
      "text/plain": [
       "0.8213566230416545"
      ]
     },
     "execution_count": 80,
     "metadata": {},
     "output_type": "execute_result"
    }
   ],
   "source": [
    "ridge_scores=cross_val_score(ridge,X_train,y_train,cv=3)\n",
    "ridge_scores.mean()"
   ]
  },
  {
   "cell_type": "code",
   "execution_count": 81,
   "metadata": {},
   "outputs": [
    {
     "data": {
      "text/plain": [
       "0.8216802090490626"
      ]
     },
     "execution_count": 81,
     "metadata": {},
     "output_type": "execute_result"
    }
   ],
   "source": [
    "lr_scores=cross_val_score(lr,X_train,y_train,cv=5)\n",
    "lr_scores.mean()"
   ]
  },
  {
   "cell_type": "code",
   "execution_count": 82,
   "metadata": {},
   "outputs": [
    {
     "data": {
      "text/plain": [
       "0.8219332762579219"
      ]
     },
     "execution_count": 82,
     "metadata": {},
     "output_type": "execute_result"
    }
   ],
   "source": [
    "lasso_scores=cross_val_score(lasso,X_train,y_train,cv=5)\n",
    "lasso_scores.mean()"
   ]
  },
  {
   "cell_type": "code",
   "execution_count": 83,
   "metadata": {},
   "outputs": [
    {
     "data": {
      "text/plain": [
       "0.821754946702207"
      ]
     },
     "execution_count": 83,
     "metadata": {},
     "output_type": "execute_result"
    }
   ],
   "source": [
    "ridge_scores=cross_val_score(ridge,X_train,y_train,cv=5)\n",
    "ridge_scores.mean()"
   ]
  },
  {
   "cell_type": "code",
   "execution_count": 102,
   "metadata": {},
   "outputs": [
    {
     "data": {
      "text/plain": [
       "0.8220636327502696"
      ]
     },
     "execution_count": 102,
     "metadata": {},
     "output_type": "execute_result"
    }
   ],
   "source": [
    "lr_scores=cross_val_score(lr,X_train,y_train,cv=10)\n",
    "lr_scores.mean()"
   ]
  },
  {
   "cell_type": "code",
   "execution_count": 103,
   "metadata": {},
   "outputs": [
    {
     "data": {
      "text/plain": [
       "0.8221608553468652"
      ]
     },
     "execution_count": 103,
     "metadata": {},
     "output_type": "execute_result"
    }
   ],
   "source": [
    "lasso_scores=cross_val_score(lasso,X_train,y_train,cv=10)\n",
    "lasso_scores.mean()"
   ]
  },
  {
   "cell_type": "code",
   "execution_count": 104,
   "metadata": {},
   "outputs": [
    {
     "data": {
      "text/plain": [
       "0.8221181863111079"
      ]
     },
     "execution_count": 104,
     "metadata": {},
     "output_type": "execute_result"
    }
   ],
   "source": [
    "ridge_scores=cross_val_score(ridge,X_train,y_train,cv=10)\n",
    "ridge_scores.mean()"
   ]
  },
  {
   "cell_type": "markdown",
   "metadata": {},
   "source": [
    "# Fitting the Linear Regression model to the training data"
   ]
  },
  {
   "cell_type": "code",
   "execution_count": 106,
   "metadata": {},
   "outputs": [
    {
     "data": {
      "text/plain": [
       "LinearRegression(copy_X=True, fit_intercept=True, n_jobs=1, normalize=False)"
      ]
     },
     "execution_count": 106,
     "metadata": {},
     "output_type": "execute_result"
    }
   ],
   "source": [
    "lr.fit(X_train,y_train)"
   ]
  },
  {
   "cell_type": "code",
   "execution_count": 107,
   "metadata": {},
   "outputs": [
    {
     "data": {
      "text/plain": [
       "0.8267845719876664"
      ]
     },
     "execution_count": 107,
     "metadata": {},
     "output_type": "execute_result"
    }
   ],
   "source": [
    "lr.score(X_train,y_train)"
   ]
  },
  {
   "cell_type": "code",
   "execution_count": 113,
   "metadata": {},
   "outputs": [
    {
     "data": {
      "text/plain": [
       "0.8220636327502696"
      ]
     },
     "execution_count": 113,
     "metadata": {},
     "output_type": "execute_result"
    }
   ],
   "source": [
    "lr_scores.mean()"
   ]
  },
  {
   "cell_type": "code",
   "execution_count": 114,
   "metadata": {},
   "outputs": [],
   "source": [
    "pred=lr.predict(X_test)"
   ]
  },
  {
   "cell_type": "code",
   "execution_count": 115,
   "metadata": {},
   "outputs": [
    {
     "data": {
      "text/plain": [
       "0.8380306167098994"
      ]
     },
     "execution_count": 115,
     "metadata": {},
     "output_type": "execute_result"
    }
   ],
   "source": [
    "r2_score(y_test,pred)"
   ]
  },
  {
   "cell_type": "code",
   "execution_count": 116,
   "metadata": {},
   "outputs": [],
   "source": [
    "pred=lr.predict(df3)"
   ]
  },
  {
   "cell_type": "code",
   "execution_count": 117,
   "metadata": {},
   "outputs": [
    {
     "data": {
      "text/plain": [
       "array([8.94511564e+07, 1.01105073e+08, 8.27129802e+07, 6.29454700e+07,\n",
       "       7.92066890e+07, 7.56537404e+07, 6.69973996e+07, 7.98993358e+07,\n",
       "       8.69788663e+07, 8.07276210e+07, 7.22354145e+07, 7.40087671e+07,\n",
       "       6.98856161e+07, 1.18366698e+08, 9.43049575e+07, 8.57505249e+07,\n",
       "       7.96605275e+07, 7.37224369e+07, 9.03855810e+07, 8.45910382e+07,\n",
       "       6.97648890e+07, 7.63055454e+07, 9.36303128e+07, 7.48111903e+07,\n",
       "       8.00617681e+07, 7.24410609e+07, 8.81438369e+07, 8.72204955e+07,\n",
       "       7.22047352e+07, 5.14243227e+07, 8.96556147e+07, 7.29913636e+07,\n",
       "       1.22513669e+08, 7.60323369e+07, 9.71390649e+07, 6.96844067e+07,\n",
       "       8.22760421e+07, 8.25918241e+07, 7.16191307e+07, 8.43397723e+07,\n",
       "       7.87484583e+07, 1.07105450e+08, 8.45669139e+07, 8.11093400e+07,\n",
       "       8.81728475e+07, 6.89052992e+07, 9.15235788e+07, 6.64169669e+07,\n",
       "       6.84680858e+07, 6.75149155e+07, 7.07062808e+07, 1.05271779e+08,\n",
       "       9.95684233e+07, 7.19433100e+07, 6.15514722e+07, 6.75269537e+07,\n",
       "       8.41513887e+07, 8.14461083e+07, 7.79810141e+07, 9.52121249e+07,\n",
       "       1.08562956e+08, 7.71611331e+07, 8.11796621e+07, 8.57890150e+07,\n",
       "       9.08141818e+07, 1.08327458e+08, 5.70412219e+07, 8.25289417e+07,\n",
       "       7.11168983e+07, 7.18553761e+07, 7.14910814e+07, 1.23744902e+08,\n",
       "       8.51887617e+07, 8.10773516e+07, 7.95014542e+07, 9.00060723e+07,\n",
       "       1.75407466e+08, 8.70196702e+07, 7.77843851e+07, 6.56538632e+07,\n",
       "       9.42455765e+07, 1.02635599e+08, 7.17996259e+07, 7.54772343e+07,\n",
       "       8.41266369e+07, 9.61882872e+07, 1.14244459e+08, 6.66959411e+07,\n",
       "       8.49329194e+07, 8.87608771e+07, 9.02474981e+07, 6.80989533e+07,\n",
       "       7.47899311e+07, 6.07267653e+07, 8.06112255e+07, 7.62669411e+07,\n",
       "       8.72407028e+07, 8.38350534e+07, 9.77448205e+07, 9.30948678e+07,\n",
       "       9.86567788e+07, 8.78637924e+07, 1.01320980e+08, 5.76874076e+07,\n",
       "       1.16448472e+08, 7.97290591e+07, 5.90250958e+07, 7.82575187e+07,\n",
       "       1.05504857e+08, 9.76023735e+07, 8.72030277e+07, 8.45137632e+07,\n",
       "       9.50392381e+07, 8.40576367e+07, 5.91528222e+07, 8.92347860e+07,\n",
       "       1.49593295e+08, 1.00533968e+08, 7.63259854e+07, 9.62070317e+07,\n",
       "       8.53278750e+07, 1.09995761e+08, 9.90796819e+07, 9.44520386e+07,\n",
       "       7.75967699e+07, 1.00493282e+08, 1.07658527e+08, 6.16744904e+07,\n",
       "       6.75436306e+07, 6.80106301e+07, 9.34347562e+07, 6.75671278e+07,\n",
       "       8.48369789e+07, 8.94890978e+07, 7.18629962e+07, 7.64893249e+07,\n",
       "       9.50808803e+07, 9.19294839e+07, 8.31299903e+07, 7.99556010e+07,\n",
       "       6.29065817e+07, 8.45322628e+07, 7.17502514e+07, 8.09540548e+07,\n",
       "       9.41243809e+07, 6.84101647e+07, 7.99871456e+07, 9.61690459e+07,\n",
       "       7.68832426e+07, 6.06941400e+07, 9.24650200e+07, 1.03019600e+08,\n",
       "       9.15634388e+07, 7.12659041e+07, 6.61218795e+07, 6.71243668e+07,\n",
       "       7.47778692e+07, 6.31321983e+07, 6.80624353e+07, 1.03111642e+08,\n",
       "       1.04460227e+08, 8.61969723e+07, 7.33734159e+07, 6.85228715e+07,\n",
       "       1.22201290e+08, 8.00019431e+07, 8.60736898e+07, 7.45167477e+07,\n",
       "       7.12566476e+07, 1.05221769e+08, 7.72998145e+07, 1.63907401e+08,\n",
       "       7.43781159e+07, 8.58591698e+07, 7.87152301e+07, 9.72044877e+07,\n",
       "       8.71024038e+07, 6.09923340e+07, 1.05852543e+08, 6.31758925e+07,\n",
       "       7.91596754e+07, 8.02973208e+07, 9.64082055e+07, 9.03890000e+07,\n",
       "       8.09296390e+07, 8.51985593e+07, 8.25716944e+07, 8.78861571e+07,\n",
       "       9.50380976e+07, 7.29936837e+07, 7.53173514e+07, 8.71575522e+07,\n",
       "       7.49015476e+07, 6.59995037e+07, 6.87651651e+07, 8.92270351e+07,\n",
       "       7.54380468e+07, 9.44752799e+07, 7.72027880e+07, 1.02752967e+08,\n",
       "       7.22838370e+07, 1.15597927e+08, 1.00314999e+08, 6.78229898e+07,\n",
       "       8.45643196e+07, 7.28460355e+07, 7.74935889e+07, 8.29884912e+07,\n",
       "       7.90277195e+07, 8.29181137e+07, 9.56227369e+07, 9.07844670e+07,\n",
       "       9.86149604e+07, 7.51838285e+07, 1.05363936e+08, 9.21302415e+07,\n",
       "       8.92697246e+07, 9.02650466e+07, 8.33011016e+07, 6.20724032e+07,\n",
       "       6.81519925e+07, 8.26149957e+07, 8.79276889e+07, 9.84645915e+07,\n",
       "       7.43887859e+07, 6.74193650e+07, 7.03440674e+07, 1.08446202e+08,\n",
       "       9.29545151e+07, 7.44770106e+07, 1.18692745e+08, 8.85957648e+07,\n",
       "       5.23293475e+07, 9.28919419e+07, 6.18660298e+07, 1.21288344e+08,\n",
       "       8.95858801e+07, 6.33101195e+07, 1.22792041e+08, 1.12174406e+08,\n",
       "       6.96723436e+07, 1.03109856e+08, 8.52883481e+07, 1.11128443e+08,\n",
       "       1.06988252e+08, 1.13046007e+08, 9.66886629e+07, 6.85251443e+07,\n",
       "       6.60679440e+07, 7.75730037e+07, 1.02890532e+08, 9.41716688e+07,\n",
       "       7.68434940e+07, 1.04537443e+08, 1.03136085e+08, 8.24407320e+07,\n",
       "       5.88404217e+07, 6.82094621e+07, 1.20930056e+08, 9.03108400e+07,\n",
       "       1.06639361e+08, 7.46611718e+07, 8.27392961e+07, 7.18820507e+07,\n",
       "       6.69326753e+07, 1.03282656e+08, 9.13901284e+07, 7.86643155e+07,\n",
       "       9.05507416e+07, 7.72226131e+07, 8.54612785e+07, 1.02293039e+08,\n",
       "       8.28617157e+07, 8.92785769e+07, 1.46031065e+08, 6.89624465e+07,\n",
       "       7.53055490e+07, 7.22794582e+07, 8.22789337e+07, 7.07657564e+07,\n",
       "       7.28715369e+07, 1.04819025e+08, 7.91343676e+07, 6.46799300e+07,\n",
       "       6.04278324e+07, 7.82846650e+07, 1.07347559e+08, 1.11630582e+08,\n",
       "       6.52806404e+07, 6.79598561e+07, 8.50982806e+07, 6.39870576e+07,\n",
       "       8.44798642e+07, 6.77654176e+07, 6.86427078e+07, 9.01676500e+07,\n",
       "       6.21671565e+07, 7.99593228e+07, 1.00117013e+08, 8.35219608e+07,\n",
       "       8.89502130e+07, 9.67019849e+07, 9.60618703e+07, 6.32616689e+07,\n",
       "       9.94846620e+07, 5.76520538e+07, 6.34115791e+07, 9.18747914e+07,\n",
       "       7.99156370e+07, 7.67614064e+07, 8.14125503e+07, 1.01604203e+08,\n",
       "       8.20520229e+07, 9.21643822e+07, 1.09072595e+08, 9.90465394e+07,\n",
       "       1.10632427e+08, 1.02257085e+08, 1.03300553e+08, 1.03965639e+08,\n",
       "       7.09678349e+07, 6.12379941e+07, 8.41064567e+07, 8.40570902e+07,\n",
       "       9.24451918e+07, 6.63648323e+07, 7.84029767e+07, 8.44409457e+07,\n",
       "       1.05403067e+08, 9.34889458e+07, 8.27929305e+07, 9.18274534e+07,\n",
       "       9.53915339e+07, 9.04083444e+07, 7.53695425e+07, 6.52195283e+07,\n",
       "       8.66664042e+07, 6.62463434e+07, 7.94022084e+07, 7.28353362e+07,\n",
       "       6.56439315e+07, 8.91715575e+07, 6.89507803e+07, 7.05142225e+07,\n",
       "       8.67487235e+07, 1.03300526e+08, 8.81904901e+07, 8.57934490e+07,\n",
       "       7.66525086e+07, 7.66649434e+07, 6.90620681e+07, 8.13057072e+07,\n",
       "       7.88952952e+07, 7.21830778e+07, 9.27116310e+07, 9.35950068e+07,\n",
       "       1.25023660e+08, 8.00868275e+07, 8.73596195e+07, 1.13484412e+08,\n",
       "       7.88874885e+07, 9.24103786e+07, 8.71489129e+07, 6.88518346e+07,\n",
       "       1.05569317e+08, 7.81518460e+07, 9.04877509e+07, 9.18930859e+07,\n",
       "       9.47498965e+07, 9.37181312e+07, 7.79187863e+07, 1.11347373e+08,\n",
       "       6.60108533e+07, 8.39654406e+07, 1.22111110e+08, 6.68554549e+07,\n",
       "       9.99756715e+07, 8.05711897e+07, 1.07661585e+08, 7.65016370e+07,\n",
       "       7.04990325e+07, 8.42468893e+07, 8.77018126e+07, 9.88113916e+07,\n",
       "       1.21118732e+08, 1.01572659e+08, 8.87373138e+07, 1.20054286e+08,\n",
       "       8.59091792e+07, 7.53183480e+07, 6.52866700e+07, 6.94848552e+07,\n",
       "       9.82747587e+07, 8.44668606e+07, 8.21436466e+07, 7.43031198e+07,\n",
       "       5.55165711e+07, 8.08182512e+07, 9.05911431e+07, 7.18694508e+07,\n",
       "       7.70157694e+07, 8.57843005e+07, 9.43930434e+07, 7.21612795e+07,\n",
       "       1.06268289e+08, 8.32624307e+07, 6.63309408e+07, 8.38528673e+07,\n",
       "       8.78339450e+07, 9.29674488e+07, 7.03981110e+07, 7.96776256e+07,\n",
       "       8.23609317e+07, 1.11372351e+08, 1.01888985e+08, 1.00589822e+08,\n",
       "       1.12020767e+08, 7.12020238e+07, 1.17255672e+08, 6.27663932e+07,\n",
       "       9.58126851e+07, 1.17097393e+08, 8.03735246e+07, 1.27193477e+08,\n",
       "       7.65882243e+07, 9.09302927e+07, 1.02035825e+08, 7.84996700e+07,\n",
       "       9.13005967e+07, 7.30398528e+07, 8.87919795e+07, 7.74454895e+07,\n",
       "       6.19994033e+07, 6.27074661e+07, 8.63021419e+07, 7.91969721e+07,\n",
       "       1.07236423e+08, 7.04627111e+07, 9.07298076e+07, 6.73508024e+07,\n",
       "       9.31172752e+07, 9.04890941e+07, 7.43094134e+07, 7.32475749e+07,\n",
       "       7.56023973e+07, 7.66962522e+07, 9.13257103e+07, 7.61902550e+07,\n",
       "       6.17846728e+07, 1.07965868e+08, 6.69862946e+07, 9.69462626e+07,\n",
       "       8.92832009e+07, 8.06311329e+07, 8.37534506e+07, 8.28679109e+07,\n",
       "       8.96894486e+07, 8.11932453e+07, 7.81782668e+07, 9.50890581e+07,\n",
       "       6.96457840e+07, 7.84030454e+07, 6.96196288e+07, 8.48630758e+07,\n",
       "       1.52902718e+08, 8.26504097e+07, 9.29255588e+07, 9.10554740e+07,\n",
       "       1.02878158e+08, 6.34600626e+07, 6.79089354e+07, 7.47068047e+07,\n",
       "       9.22968176e+07, 8.89122563e+07, 6.59065030e+07, 1.15850717e+08,\n",
       "       8.52165332e+07, 6.82398848e+07, 8.29908711e+07, 6.99291548e+07,\n",
       "       9.72707905e+07, 6.33338658e+07, 1.01349888e+08, 6.27168635e+07,\n",
       "       8.22971318e+07, 1.15984684e+08, 7.13732270e+07, 6.29035704e+07,\n",
       "       8.82059792e+07, 8.73914886e+07, 7.57605839e+07, 1.07311319e+08,\n",
       "       1.02550117e+08, 9.64788120e+07, 9.78523103e+07, 1.07493837e+08,\n",
       "       8.24154580e+07, 7.75399405e+07, 8.60568901e+07, 8.32977508e+07,\n",
       "       7.39221726e+07, 7.60541335e+07, 1.08572664e+08, 7.46620781e+07,\n",
       "       8.37161040e+07, 9.55447889e+07, 7.22644492e+07, 1.13362886e+08,\n",
       "       6.50213948e+07, 8.19642590e+07, 9.62735164e+07, 9.11765283e+07,\n",
       "       8.52644028e+07, 7.40982124e+07, 5.74529098e+07, 5.45811194e+07,\n",
       "       8.86790682e+07, 9.12734468e+07, 8.41687215e+07, 9.41872001e+07,\n",
       "       1.04249679e+08, 6.23609090e+07, 8.53145332e+07, 8.73941023e+07,\n",
       "       7.05507060e+07, 9.17484614e+07, 1.34472487e+08, 6.85956228e+07,\n",
       "       8.94402279e+07, 8.94378705e+07, 6.32873724e+07, 6.87455015e+07,\n",
       "       9.47698215e+07, 7.14767827e+07, 8.93054511e+07, 9.72316017e+07,\n",
       "       7.84267211e+07, 6.81889659e+07, 9.94365143e+07, 6.88919986e+07,\n",
       "       8.52475392e+07, 7.65348621e+07, 6.14550194e+07, 5.98586084e+07,\n",
       "       7.13593873e+07, 1.05878522e+08, 1.14893464e+08, 9.92052365e+07,\n",
       "       6.22803522e+07, 6.76743331e+07, 9.14778848e+07, 7.49761086e+07,\n",
       "       1.09123063e+08, 6.47930777e+07, 9.79997329e+07, 7.67003403e+07,\n",
       "       6.64437312e+07, 6.96059701e+07, 8.65586012e+07, 7.07634446e+07,\n",
       "       9.20838058e+07, 6.60540001e+07, 7.51954818e+07, 8.07539379e+07,\n",
       "       8.26143891e+07, 7.50564282e+07, 7.04831020e+07, 7.72442500e+07,\n",
       "       9.08940343e+07, 6.31291448e+07, 7.20532607e+07, 8.09993306e+07,\n",
       "       6.85984095e+07, 6.25470845e+07, 7.05771317e+07, 8.61999295e+07,\n",
       "       6.41420530e+07, 8.13634536e+07, 7.30636387e+07, 1.26410569e+08,\n",
       "       6.12567779e+07, 8.00514668e+07, 8.63818675e+07, 1.11444884e+08,\n",
       "       6.89279630e+07, 7.59230982e+07, 7.66435520e+07, 7.50889994e+07,\n",
       "       7.04636569e+07, 1.08437599e+08, 8.86646304e+07, 8.05793780e+07,\n",
       "       6.59404485e+07, 7.75360489e+07, 8.86842566e+07, 9.87033843e+07,\n",
       "       1.10819842e+08, 8.84943963e+07, 7.32921460e+07, 6.04713647e+07,\n",
       "       1.07495892e+08, 7.68851642e+07, 9.57907124e+07, 6.67912636e+07,\n",
       "       8.89523082e+07, 9.15431006e+07, 6.89240478e+07, 7.89232916e+07,\n",
       "       6.90323028e+07, 7.87057763e+07, 7.53240627e+07, 6.27066198e+07,\n",
       "       1.24855278e+08, 8.46866750e+07, 7.77796577e+07, 8.34261966e+07,\n",
       "       4.72664357e+07, 7.76299970e+07, 1.07321888e+08, 7.15995399e+07,\n",
       "       8.99688289e+07, 9.25323250e+07, 9.60734152e+07, 1.11000254e+08,\n",
       "       6.17234085e+07, 8.20660546e+07, 1.02750513e+08, 8.15013970e+07,\n",
       "       7.51978537e+07, 1.16833076e+08, 7.17248501e+07, 9.78160036e+07,\n",
       "       1.22171612e+08, 6.82527299e+07, 6.18298152e+07, 6.62823828e+07,\n",
       "       7.95238835e+07, 9.86181882e+07, 8.48916012e+07, 7.49764336e+07,\n",
       "       8.90751630e+07, 9.37722043e+07, 5.48106040e+07, 7.82531964e+07,\n",
       "       8.78312345e+07, 7.63834827e+07, 6.59695618e+07, 1.09719926e+08,\n",
       "       7.72720541e+07, 7.37490490e+07, 8.78929970e+07, 8.14811381e+07,\n",
       "       5.85319962e+07, 6.57717930e+07, 7.16443713e+07, 5.93587507e+07,\n",
       "       8.64404813e+07, 9.45574455e+07, 9.22516346e+07, 1.02565160e+08,\n",
       "       8.13404326e+07, 7.84696051e+07, 9.16733875e+07, 9.66199363e+07,\n",
       "       1.14099743e+08, 1.21425234e+08, 1.03775564e+08, 1.06794690e+08,\n",
       "       9.22773015e+07, 8.33898686e+07, 1.05057334e+08, 8.25415609e+07,\n",
       "       1.23992255e+08, 8.95713176e+07, 8.73776361e+07, 7.34079936e+07,\n",
       "       7.26443589e+07, 8.05539894e+07, 7.11078077e+07, 7.97360980e+07,\n",
       "       6.60115991e+07, 1.14742884e+08, 1.04827959e+08, 8.65777805e+07,\n",
       "       9.86313148e+07, 1.10597057e+08, 8.84995722e+07, 9.50289157e+07,\n",
       "       1.01381833e+08, 7.53621563e+07, 8.99339051e+07, 5.91478919e+07,\n",
       "       5.74631012e+07, 9.47126031e+07, 7.88549207e+07, 8.39595772e+07,\n",
       "       6.43700153e+07, 8.74394129e+07, 1.10140930e+08, 6.70943677e+07,\n",
       "       7.87568759e+07, 6.53710296e+07, 7.63841044e+07, 9.38957118e+07,\n",
       "       6.36104392e+07, 1.11144974e+08, 1.13819944e+08, 7.17526803e+07,\n",
       "       6.92380782e+07, 7.58176506e+07, 1.02933627e+08, 8.99356780e+07,\n",
       "       8.37960250e+07, 7.62637088e+07, 7.53998376e+07, 7.39724375e+07,\n",
       "       9.74336115e+07, 1.09113880e+08, 8.37336452e+07, 9.65688583e+07,\n",
       "       1.13978905e+08, 8.87350106e+07, 1.00042644e+08, 6.49905528e+07,\n",
       "       6.93632290e+07, 1.08252585e+08, 9.55712865e+07, 9.18041593e+07,\n",
       "       7.65702113e+07, 9.80415052e+07, 7.61133516e+07, 8.03186575e+07,\n",
       "       9.33763377e+07, 1.01628154e+08, 7.48833365e+07, 9.72857718e+07,\n",
       "       7.84404444e+07, 7.35013575e+07, 7.90292704e+07, 8.10319071e+07,\n",
       "       7.67887064e+07, 8.93047161e+07, 9.76615815e+07, 9.41705116e+07,\n",
       "       7.80836229e+07, 7.69932584e+07, 1.09201976e+08, 8.51104415e+07,\n",
       "       1.09549890e+08, 7.14127949e+07, 1.16260284e+08, 9.73617596e+07,\n",
       "       9.34089588e+07, 8.93762271e+07, 8.14355266e+07, 8.06154153e+07,\n",
       "       8.23710224e+07, 1.26498755e+08, 6.62665251e+07, 7.71800170e+07,\n",
       "       8.52319160e+07, 7.80197976e+07, 9.77200197e+07, 8.18018436e+07,\n",
       "       9.05485729e+07, 9.99860294e+07, 1.01186159e+08, 8.10463436e+07,\n",
       "       7.56789620e+07, 1.06152700e+08, 8.33797127e+07, 9.46443605e+07,\n",
       "       7.32063554e+07, 9.19995574e+07, 1.04307355e+08, 8.10472468e+07,\n",
       "       9.08116177e+07, 8.95987624e+07, 7.83420936e+07, 9.25805461e+07,\n",
       "       1.15089946e+08, 8.15640269e+07, 1.21554456e+08, 6.67806126e+07,\n",
       "       6.41084485e+07, 7.23533819e+07, 1.00931965e+08, 8.98871043e+07,\n",
       "       6.20876416e+07, 1.02799306e+08, 7.18092836e+07, 7.95312057e+07,\n",
       "       1.01989488e+08, 8.92146856e+07, 9.48677562e+07, 8.79159943e+07,\n",
       "       7.57191500e+07, 6.95538914e+07, 9.58081248e+07, 9.00265521e+07,\n",
       "       1.12051256e+08, 7.76372625e+07, 6.97018049e+07, 7.92044269e+07,\n",
       "       8.16382778e+07, 1.04941061e+08, 6.61515283e+07, 6.34655370e+07,\n",
       "       8.73515602e+07, 8.03641267e+07, 6.59683029e+07, 7.28619149e+07,\n",
       "       1.19833632e+08, 8.34535073e+07, 8.65555218e+07, 8.05085763e+07,\n",
       "       8.05168111e+07, 9.47853290e+07, 7.98710844e+07, 6.95102091e+07,\n",
       "       7.67833137e+07, 8.22493091e+07, 6.50076098e+07, 1.29639374e+08,\n",
       "       9.77705345e+07, 8.81931469e+07, 9.04627812e+07, 1.20277433e+08,\n",
       "       7.73160868e+07, 9.41647785e+07, 8.05459208e+07, 7.29155134e+07,\n",
       "       8.66059883e+07, 1.03496573e+08, 7.87732032e+07, 7.67535343e+07,\n",
       "       6.65817775e+07, 1.07752796e+08, 8.19140208e+07, 8.18162863e+07,\n",
       "       7.34916136e+07, 1.03032914e+08, 9.65264716e+07, 8.70300163e+07,\n",
       "       7.64285337e+07, 8.56729655e+07, 8.44972168e+07, 1.11419453e+08,\n",
       "       9.41028170e+07, 8.01818467e+07, 8.21636742e+07, 8.36541652e+07,\n",
       "       9.24659411e+07, 6.39402372e+07, 7.15540331e+07, 8.59736447e+07,\n",
       "       8.96634018e+07, 8.80943186e+07, 6.45857460e+07, 8.59065090e+07,\n",
       "       6.89379165e+07, 1.04489301e+08, 6.81658894e+07, 8.48008038e+07,\n",
       "       7.98630719e+07, 9.21801704e+07, 9.70449414e+07, 9.45564204e+07,\n",
       "       9.83798946e+07, 9.90459966e+07, 8.24574295e+07, 9.38441794e+07,\n",
       "       1.06139890e+08, 8.26740408e+07, 8.53586168e+07, 9.71211663e+07,\n",
       "       7.67798398e+07, 6.75548295e+07, 7.44751853e+07])"
      ]
     },
     "execution_count": 117,
     "metadata": {},
     "output_type": "execute_result"
    }
   ],
   "source": [
    "pred"
   ]
  },
  {
   "cell_type": "markdown",
   "metadata": {},
   "source": [
    "# Fitting the Ridge model to the training data"
   ]
  },
  {
   "cell_type": "code",
   "execution_count": 150,
   "metadata": {},
   "outputs": [
    {
     "data": {
      "text/plain": [
       "RidgeCV(alphas=array([ 0.1,  0.2, ...,  9.9, 10. ]), cv=None,\n",
       "    fit_intercept=True, gcv_mode=None, normalize=False, scoring=None,\n",
       "    store_cv_values=False)"
      ]
     },
     "execution_count": 150,
     "metadata": {},
     "output_type": "execute_result"
    }
   ],
   "source": [
    "ridge.fit(X_train,y_train)"
   ]
  },
  {
   "cell_type": "code",
   "execution_count": 151,
   "metadata": {},
   "outputs": [
    {
     "data": {
      "text/plain": [
       "0.8267762654564471"
      ]
     },
     "execution_count": 151,
     "metadata": {},
     "output_type": "execute_result"
    }
   ],
   "source": [
    "ridge.score(X_train,y_train)"
   ]
  },
  {
   "cell_type": "code",
   "execution_count": 152,
   "metadata": {},
   "outputs": [
    {
     "data": {
      "text/plain": [
       "0.8380536149838992"
      ]
     },
     "execution_count": 152,
     "metadata": {},
     "output_type": "execute_result"
    }
   ],
   "source": [
    "ridge.score(X_test, y_test)"
   ]
  },
  {
   "cell_type": "code",
   "execution_count": 153,
   "metadata": {},
   "outputs": [
    {
     "data": {
      "text/plain": [
       "0.8221181863111079"
      ]
     },
     "execution_count": 153,
     "metadata": {},
     "output_type": "execute_result"
    }
   ],
   "source": [
    "ridge_scores.mean()"
   ]
  },
  {
   "cell_type": "code",
   "execution_count": 154,
   "metadata": {},
   "outputs": [],
   "source": [
    "pred=ridge.predict(X_test)"
   ]
  },
  {
   "cell_type": "code",
   "execution_count": 155,
   "metadata": {},
   "outputs": [
    {
     "data": {
      "text/plain": [
       "0.8380536149838992"
      ]
     },
     "execution_count": 155,
     "metadata": {},
     "output_type": "execute_result"
    }
   ],
   "source": [
    "r2_score(y_test,pred)"
   ]
  },
  {
   "cell_type": "code",
   "execution_count": 156,
   "metadata": {},
   "outputs": [
    {
     "data": {
      "text/plain": [
       "array([112487.11414844,  97155.87109775, 145780.46477455, 227006.93763003,\n",
       "       314643.18383766, 159992.17853066, 328690.42717597, 166235.29622291,\n",
       "       218313.11291316, 315098.94181338, 168151.02492332, 142530.59935322,\n",
       "       186274.11793022, 236081.02668539, 234502.75639291, 203614.05563082,\n",
       "       166841.0914835 , 201379.21691909, 352272.91748118,  31484.84083426,\n",
       "       177327.10079207, 158595.57185731, 173999.83612201, 321483.42758638,\n",
       "       325535.54408329, 159675.52136996, 206059.95951382, 318416.10336697,\n",
       "       112707.85660245, 121619.20838908, 307088.63867042, 197831.65896108,\n",
       "       137470.9016474 , 305651.32310647, 186260.44579487, 181093.54107184,\n",
       "       102876.78250142, 279922.45495324, 375915.44725694, 212563.70773979,\n",
       "       100118.94279125, 154216.55728389, 273100.64976105, 141326.02995534,\n",
       "       116182.46463719, 200737.08202559, 228935.75209714,  55799.30186015,\n",
       "       144134.43092707, 212802.01614854, 127528.98785488, 240162.14448016,\n",
       "        86842.11938592, 154305.14168647, 261457.47532794,  85377.83741949,\n",
       "       171700.10325212, 290691.75771199, 264982.44284287, 309903.7478559 ,\n",
       "       239879.89996721, 187614.57203873, 212904.48692797, 177919.5522267 ,\n",
       "       124934.04809395, 149446.44843438, 131379.73841803, 134851.7684316 ,\n",
       "       269008.49415878, 131157.17343284, 222192.40829447, 107698.6797107 ,\n",
       "       264550.11751091, 262529.38361517, 171137.46762937, 247341.16249977,\n",
       "       303424.60845848, 110048.19108202, 218076.4862621 , 179941.22424866,\n",
       "        97930.20289357,  94072.18618682, 128738.77219515, 160626.6295541 ,\n",
       "       214778.32053628, 226003.34172844, 167140.30600572, 272125.56533097,\n",
       "       217110.76027956, 146467.01142712, 356154.54750798, 146517.55097289,\n",
       "       210535.00393248, 151753.36197852, 238330.23214637, 277643.09417952,\n",
       "       163558.41257897, 113277.38001585, 224239.86476081, 111877.68141846,\n",
       "       148521.72231147, 179813.54288093, 168305.68090155, 134267.35467598,\n",
       "       198075.12551387, 140940.20321389, 122006.47755281, 146836.86151917,\n",
       "       307374.90867779, 217732.50860576, 200870.88270852, 130745.45175419,\n",
       "       116027.0819461 , 149298.16128791, 298040.40651724, 271866.6437865 ,\n",
       "       367210.58418854, 253440.07044795, 100202.8560763 , 124584.24456971,\n",
       "       208238.064658  ,  55167.09597386, 101468.87207364, 181750.4549158 ,\n",
       "       174265.25126956, 156857.42319327, 300996.3676153 ,  62825.48686241,\n",
       "       143923.88370487, 201293.56884133, 108839.88234882, 183505.25458089,\n",
       "       134576.97880158, 205194.45616577, 178064.6089977 , 151530.68863525,\n",
       "        65078.18416618, 247371.54625015,  68487.62091681, 107908.10801343,\n",
       "        71099.48224627, 210465.43989711, 163984.35352232, 172143.1250284 ,\n",
       "       250332.63512142, 131547.405813  , 178023.12588393, 163032.47728549,\n",
       "       146477.10177497,  71004.43763485, 223482.77127484, 184867.56741737,\n",
       "       296952.68415307, 133547.81449769, 243382.80318039, 102100.58329492,\n",
       "       201786.93695536, 307255.21825951, 135583.08986889, 206906.96716899,\n",
       "       181273.32700634, 179529.02649169, 146961.31017957, 111773.50345607,\n",
       "       263177.5819398 , 141805.01264544, 177511.40574066, 250120.01133744,\n",
       "       221728.86472247, 328974.8974597 ,  65817.71931542, 229238.48934418,\n",
       "       193291.28709266, 129075.00865672, 200578.54932083, 136132.68030134,\n",
       "       100967.37272298, 138042.23141188, 162086.01047173, 260271.77792663,\n",
       "       141553.37634362, 119120.81316159, 148026.50466053, 107530.42567044,\n",
       "       106562.19048545, 175384.50352908, 103288.917359  , 301992.29824526,\n",
       "        58560.72586888, 240086.9430084 , 214422.63512263, 109603.8603828 ,\n",
       "       199257.29638122, 181452.61447729, 226812.47957799, 193654.19878631,\n",
       "       225443.41832176, 288277.43791005, 171688.93276732,  96850.53355822,\n",
       "       185921.67268712, 282275.46539809, 227412.53315406, 104907.99672206,\n",
       "       177274.28510545,  53798.71889681, 320133.94034205, 221367.13815036,\n",
       "       126731.87183708, 159119.35047093, 282199.43143211, 162764.1098559 ,\n",
       "       150281.66079892, 207025.6124378 , 252803.2683417 , 137138.85336318,\n",
       "       110369.63990727, 142795.89964897, 292070.47051853, 341719.44910776,\n",
       "       220877.32302387, 202364.53653456, 135376.44306679, 250799.15492562,\n",
       "       236426.57664705, 117235.41738395, 206010.50405591, 272476.15656539,\n",
       "       200074.08649342, 203093.48452094, -13650.97983278, 174813.81977725,\n",
       "       328305.76637805, 182461.36077915, 124752.69162927, 357308.76756401,\n",
       "       205535.69657666, 140184.46274266, 247596.08329857, 137403.19479571,\n",
       "       318205.04258154, 121605.27660155,  92044.02994685, 258472.93975227,\n",
       "       143537.80641171, 209585.99756058, 181686.97929306, 187425.51537177,\n",
       "       282321.46627598, 130534.46484251,  37471.31434194, 221675.40939906,\n",
       "       225081.62102272, 295457.48111347, 195846.99726073, 132624.12129944,\n",
       "       198344.57943013,  71961.88186102, 252025.7049818 , 166638.54235276,\n",
       "       126511.34680728, 136738.60975695, 114618.89743612, 208280.06909443,\n",
       "       228757.69004658, 140685.70257225, 177794.74485808, 104941.06022331,\n",
       "       246618.03430351, 129977.0760163 , 137762.10971834, 332191.7233621 ,\n",
       "       134999.63128594, 107863.3094322 , 106576.66212989, 119488.87092983,\n",
       "       193724.41983782, 281582.4710175 , 191833.92659054, 222936.18424723,\n",
       "       242314.56137965, 311244.06091298,  96377.32446616,  92954.8241558 ,\n",
       "       157437.70291946, 205807.9945609 , 170314.28936292, 229767.37205699,\n",
       "       309255.762343  ,  79976.60039363, 125242.1408037 , 232813.04992589,\n",
       "       256609.58969462, 118363.47439297, 226800.35893015, 156991.46968008,\n",
       "       199541.94747653, 118282.91902386, 187953.29977135, 140072.70801119,\n",
       "       163520.94816797, 348559.52890186, 203418.52425829, 144066.40924176,\n",
       "       182424.90480811, 355054.94112041, 230020.9643265 , 210536.51281382,\n",
       "       150403.85862522, 236184.97054373, 258399.50068245, 204073.42010604,\n",
       "       115428.75177912, 138031.01408064, 185547.55822331, 208677.76875373,\n",
       "       154532.3461558 ,  24187.78156153, 161717.21807939, 148851.57916712,\n",
       "        90154.41954362, 215922.30383757, 238236.40854525, 100316.25618046,\n",
       "       133874.77874924, 251284.95852844, 175505.38890083, 155587.3190547 ,\n",
       "       341860.15322196, 256426.95177854, 297415.56609177, 144862.48402367,\n",
       "       121033.64768345, 316437.2221993 , 191074.68804003, 203458.26069021,\n",
       "       220729.98820493, 313481.91504575, 119940.35214073, 145169.28989617,\n",
       "       126348.72094248, 405274.82935427,  71632.57455442,  86298.55010154,\n",
       "       201846.96428684,  79970.05193886,  82356.80768653,  99211.63073434,\n",
       "        60181.44947475,  90483.94771408, 117870.32956805, 160457.09241394,\n",
       "       243797.09211561, 180094.02350019,  66102.42405256, 165132.82642006,\n",
       "       141986.15360288, 109514.69663262, 129177.8205074 , 133096.74347713,\n",
       "       205878.52479793,  52817.94602571, 220140.49575531, 269390.0826411 ,\n",
       "       206614.17151796, 216332.92498954, 153973.26317647, 102242.7681488 ,\n",
       "       114476.2341212 , 164555.46939101, 193890.78348771, 192440.71584601,\n",
       "       224724.86436886, 161761.57549505, 240350.84269493,  97830.52394396,\n",
       "        83542.68478149, 177052.94958299, 105593.96629189, 173446.16751318,\n",
       "       275610.76593512, 226407.78689268, 135986.77431241, 126048.23351428,\n",
       "       360564.3253666 , 197595.0732023 , 249105.96464462, 250760.9680586 ,\n",
       "       209332.51060255, 280550.50097991, 159396.43401047, 227683.94444167,\n",
       "       117800.11734407, 124797.6951461 , 190224.86542864, 202564.93076745,\n",
       "       210768.3208378 , 249655.55513693, 167560.6234768 , 145551.10655472,\n",
       "       197530.57762185, 299204.8574537 , 307009.25961554, 136561.51848048,\n",
       "       177112.11879502, 233452.49838423, 117034.12364477, 298058.76558395,\n",
       "       219851.60660081, 226809.15769377, 163463.37527915, 266935.05993137,\n",
       "       201249.97088298,  68322.79465558, 138595.03630463, 203311.80235796,\n",
       "       254686.48444108, 204147.23377979, 160333.6510957 , 103459.88353064,\n",
       "       131521.68730941, 239181.19101223, 298186.73451778,  71546.32388853,\n",
       "       198023.62145931, 192825.0611706 , 136271.03234628,  94821.46014264,\n",
       "       204004.66208427, 157689.19523928, 111559.94542475, 130578.37694901,\n",
       "       172938.18587005, 145966.96517735, 227619.46659045, 280093.87514662,\n",
       "       171661.23727765, 199376.43939479, 228540.51238066, 174417.28732425,\n",
       "       296393.63251563, 271473.34376533, 132917.98321671, 165681.27399573,\n",
       "       188524.99036771,  90297.36749578, 209291.62709874, 388237.05914631,\n",
       "       141361.00735084, 205440.51165952,  90304.07808928, 265924.68969932,\n",
       "       132166.72213564, 156034.12440933, 193687.34276386, 285720.64224523,\n",
       "        49525.7030811 , 108871.98577289, 169179.25287297, 135482.04233786,\n",
       "       219710.4593752 , 263774.1897112 , 197627.45993811, 156450.56185668,\n",
       "       162450.8952751 , 295710.03952035, 324458.45145258, 165553.1787284 ,\n",
       "        79745.21553255, 142180.22576854, 221165.84852062,  98101.26942505,\n",
       "       208386.02895853, 213128.92721785, 147496.30786526, 289740.37661058,\n",
       "       113088.68730374, 113570.55662243, 231191.65303288, 203202.77310431,\n",
       "       260883.3853406 , 131370.05913203, 150010.56327671, 162994.00963761,\n",
       "       119564.57147267, 249629.90587236, 191028.32420237, 230283.18219834,\n",
       "        79629.59388796,  69292.15563336, 221068.80006412, 153121.94501487,\n",
       "        90554.24797155, 319144.77588509, 157550.50308642, 120257.00698411,\n",
       "       221536.35540024, 130557.60153953, 130883.73493661, 272887.39235159,\n",
       "       131186.1839667 ,  92907.93439532, 106305.11318483, 299972.75400879,\n",
       "       166289.26654585, -52860.36815024, 174501.51584747, 157194.10059089,\n",
       "       254497.8034734 , 232760.6599235 , 229419.17799377])"
      ]
     },
     "execution_count": 156,
     "metadata": {},
     "output_type": "execute_result"
    }
   ],
   "source": [
    "pred"
   ]
  },
  {
   "cell_type": "markdown",
   "metadata": {},
   "source": [
    "# Fitting the Lasso model to the training data"
   ]
  },
  {
   "cell_type": "code",
   "execution_count": 84,
   "metadata": {},
   "outputs": [
    {
     "data": {
      "text/plain": [
       "LassoCV(alphas=None, copy_X=True, cv=None, eps=0.001, fit_intercept=True,\n",
       "    max_iter=1000, n_alphas=200, n_jobs=1, normalize=False, positive=False,\n",
       "    precompute='auto', random_state=None, selection='cyclic', tol=0.0001,\n",
       "    verbose=False)"
      ]
     },
     "execution_count": 84,
     "metadata": {},
     "output_type": "execute_result"
    }
   ],
   "source": [
    "lasso.fit(X_train,y_train)"
   ]
  },
  {
   "cell_type": "code",
   "execution_count": 85,
   "metadata": {},
   "outputs": [
    {
     "data": {
      "text/plain": [
       "0.8264544069301856"
      ]
     },
     "execution_count": 85,
     "metadata": {},
     "output_type": "execute_result"
    }
   ],
   "source": [
    "lasso.score(X_train,y_train)"
   ]
  },
  {
   "cell_type": "code",
   "execution_count": 86,
   "metadata": {},
   "outputs": [
    {
     "data": {
      "text/plain": [
       "0.8375755875440092"
      ]
     },
     "execution_count": 86,
     "metadata": {},
     "output_type": "execute_result"
    }
   ],
   "source": [
    "lasso.score(X_test, y_test)"
   ]
  },
  {
   "cell_type": "code",
   "execution_count": 87,
   "metadata": {},
   "outputs": [
    {
     "data": {
      "text/plain": [
       "0.8219332762579219"
      ]
     },
     "execution_count": 87,
     "metadata": {},
     "output_type": "execute_result"
    }
   ],
   "source": [
    "lasso_scores.mean()"
   ]
  },
  {
   "cell_type": "code",
   "execution_count": 88,
   "metadata": {},
   "outputs": [],
   "source": [
    "pred=lasso.predict(X_test)"
   ]
  },
  {
   "cell_type": "code",
   "execution_count": 89,
   "metadata": {},
   "outputs": [
    {
     "data": {
      "text/plain": [
       "0.8375755875440092"
      ]
     },
     "execution_count": 89,
     "metadata": {},
     "output_type": "execute_result"
    }
   ],
   "source": [
    "r2_score(y_test,pred)"
   ]
  },
  {
   "cell_type": "code",
   "execution_count": 90,
   "metadata": {},
   "outputs": [],
   "source": [
    " pred=lasso.predict(df3)"
   ]
  },
  {
   "cell_type": "code",
   "execution_count": 91,
   "metadata": {},
   "outputs": [
    {
     "data": {
      "text/plain": [
       "array([8.54763923e+07, 9.67068679e+07, 7.89491996e+07, 5.96860135e+07,\n",
       "       7.61817506e+07, 7.29321889e+07, 6.39321481e+07, 7.67768830e+07,\n",
       "       8.40923836e+07, 7.72794237e+07, 6.85589030e+07, 7.08113889e+07,\n",
       "       6.62177540e+07, 1.14563854e+08, 9.02041611e+07, 8.19847998e+07,\n",
       "       7.64050033e+07, 7.07766178e+07, 8.62611496e+07, 8.15163724e+07,\n",
       "       6.71217295e+07, 7.34044065e+07, 9.00687369e+07, 7.09966692e+07,\n",
       "       7.70489446e+07, 6.92496802e+07, 8.49746901e+07, 8.32614802e+07,\n",
       "       6.95604462e+07, 4.85241536e+07, 8.60252298e+07, 7.01063015e+07,\n",
       "       1.18666530e+08, 7.29043927e+07, 9.36406904e+07, 6.64627011e+07,\n",
       "       7.84037726e+07, 7.89377256e+07, 6.85083841e+07, 8.06742898e+07,\n",
       "       7.58315905e+07, 1.02845695e+08, 8.08856888e+07, 7.80426857e+07,\n",
       "       8.42621551e+07, 6.60170964e+07, 8.79717032e+07, 6.28991722e+07,\n",
       "       6.58897160e+07, 6.49862720e+07, 6.73501576e+07, 1.01998539e+08,\n",
       "       9.57512601e+07, 6.82635967e+07, 5.89063259e+07, 6.48455451e+07,\n",
       "       8.08050390e+07, 7.78464697e+07, 7.50930836e+07, 9.15657590e+07,\n",
       "       1.04673579e+08, 7.38954554e+07, 7.75249388e+07, 8.24814383e+07,\n",
       "       8.68564653e+07, 1.04701293e+08, 5.37779348e+07, 7.89556040e+07,\n",
       "       6.76612444e+07, 6.86424929e+07, 6.78652729e+07, 1.19950750e+08,\n",
       "       8.13532683e+07, 7.76674261e+07, 7.66063965e+07, 8.67556871e+07,\n",
       "       1.69737879e+08, 8.36564636e+07, 7.39688268e+07, 6.24160588e+07,\n",
       "       9.01052429e+07, 9.84901468e+07, 6.91294276e+07, 7.20377559e+07,\n",
       "       8.01613737e+07, 9.25933789e+07, 1.10498090e+08, 6.41095414e+07,\n",
       "       8.18141374e+07, 8.45518550e+07, 8.70233704e+07, 6.48162637e+07,\n",
       "       7.12678169e+07, 5.83222550e+07, 7.74022263e+07, 7.28051224e+07,\n",
       "       8.35793179e+07, 8.03916261e+07, 9.38570213e+07, 8.96473775e+07,\n",
       "       9.53459664e+07, 8.46403505e+07, 9.75731757e+07, 5.47048105e+07,\n",
       "       1.12387322e+08, 7.61718629e+07, 5.58776692e+07, 7.46185386e+07,\n",
       "       1.02212707e+08, 9.32911401e+07, 8.41820123e+07, 8.14964107e+07,\n",
       "       9.18560283e+07, 8.03502629e+07, 5.55713267e+07, 8.54857988e+07,\n",
       "       1.44452749e+08, 9.73361869e+07, 7.30103704e+07, 9.27005426e+07,\n",
       "       8.25050984e+07, 1.05782845e+08, 9.49493386e+07, 9.03563079e+07,\n",
       "       7.42555840e+07, 9.62340362e+07, 1.03892256e+08, 5.81260166e+07,\n",
       "       6.42238917e+07, 6.50064641e+07, 9.01195479e+07, 6.41593282e+07,\n",
       "       8.16025321e+07, 8.65307372e+07, 6.92059604e+07, 7.33647419e+07,\n",
       "       9.19555126e+07, 8.81472554e+07, 8.00676488e+07, 7.64317002e+07,\n",
       "       5.95394709e+07, 8.15960685e+07, 6.91147274e+07, 7.76864817e+07,\n",
       "       9.06497085e+07, 6.52914054e+07, 7.70095746e+07, 9.28410402e+07,\n",
       "       7.41589842e+07, 5.77658212e+07, 8.91632337e+07, 9.86753030e+07,\n",
       "       8.77670368e+07, 6.81359799e+07, 6.26618736e+07, 6.43803296e+07,\n",
       "       7.16259163e+07, 6.06671652e+07, 6.47456899e+07, 9.90712370e+07,\n",
       "       1.00639367e+08, 8.26513046e+07, 7.01696988e+07, 6.51843373e+07,\n",
       "       1.18277500e+08, 7.70011651e+07, 8.26558175e+07, 7.13651225e+07,\n",
       "       6.86311551e+07, 1.01040665e+08, 7.39259276e+07, 1.58738451e+08,\n",
       "       7.13762707e+07, 8.17935738e+07, 7.49935875e+07, 9.37262346e+07,\n",
       "       8.31393706e+07, 5.78494618e+07, 1.01364906e+08, 5.95953507e+07,\n",
       "       7.55936426e+07, 7.75127593e+07, 9.28740368e+07, 8.66382448e+07,\n",
       "       7.71864998e+07, 8.21588991e+07, 7.95227884e+07, 8.48270199e+07,\n",
       "       9.19586356e+07, 7.01637184e+07, 7.22975988e+07, 8.33276882e+07,\n",
       "       7.21373076e+07, 6.29787259e+07, 6.57795922e+07, 8.56134317e+07,\n",
       "       7.18373413e+07, 9.09854040e+07, 7.33524578e+07, 9.90170221e+07,\n",
       "       6.85763032e+07, 1.12084104e+08, 9.60758614e+07, 6.41847234e+07,\n",
       "       8.12901086e+07, 6.99800405e+07, 7.36997267e+07, 7.92207738e+07,\n",
       "       7.57733243e+07, 7.93385196e+07, 9.21360809e+07, 8.71735956e+07,\n",
       "       9.50502230e+07, 7.19233980e+07, 1.01636700e+08, 8.85948110e+07,\n",
       "       8.59073922e+07, 8.60937021e+07, 8.02687151e+07, 5.94061650e+07,\n",
       "       6.48025929e+07, 7.88022350e+07, 8.49544304e+07, 9.48695288e+07,\n",
       "       7.16102167e+07, 6.48295260e+07, 6.75330778e+07, 1.04543327e+08,\n",
       "       8.92264903e+07, 7.14405277e+07, 1.14983641e+08, 8.50646052e+07,\n",
       "       5.00390347e+07, 8.98798261e+07, 5.85801916e+07, 1.16694076e+08,\n",
       "       8.57360315e+07, 5.98124202e+07, 1.18987036e+08, 1.07617557e+08,\n",
       "       6.62975950e+07, 9.87372141e+07, 8.17158357e+07, 1.07067100e+08,\n",
       "       1.02548332e+08, 1.09407144e+08, 9.26348935e+07, 6.58783359e+07,\n",
       "       6.33598931e+07, 7.46895105e+07, 9.88729127e+07, 9.01295321e+07,\n",
       "       7.29634191e+07, 1.00999665e+08, 9.97628030e+07, 7.91914664e+07,\n",
       "       5.54389742e+07, 6.56823690e+07, 1.16315443e+08, 8.70471263e+07,\n",
       "       1.02304273e+08, 7.13198508e+07, 7.94452178e+07, 6.86519595e+07,\n",
       "       6.38462240e+07, 9.91567933e+07, 8.81798088e+07, 7.58773460e+07,\n",
       "       8.72919030e+07, 7.39890251e+07, 8.13898566e+07, 9.82975849e+07,\n",
       "       7.90492568e+07, 8.52760359e+07, 1.41314721e+08, 6.62719368e+07,\n",
       "       7.14491981e+07, 6.87731615e+07, 7.86563323e+07, 6.76742429e+07,\n",
       "       6.91857455e+07, 1.00633314e+08, 7.58350944e+07, 6.12735703e+07,\n",
       "       5.75565797e+07, 7.47675982e+07, 1.03899003e+08, 1.07126798e+08,\n",
       "       6.19003775e+07, 6.52590596e+07, 8.21482341e+07, 6.07539940e+07,\n",
       "       8.05810225e+07, 6.43613518e+07, 6.53075314e+07, 8.60271072e+07,\n",
       "       5.91392226e+07, 7.60773568e+07, 9.67887843e+07, 7.99852079e+07,\n",
       "       8.54507102e+07, 9.27609013e+07, 9.27070748e+07, 6.06034460e+07,\n",
       "       9.58189520e+07, 5.48494636e+07, 6.04329742e+07, 8.81893283e+07,\n",
       "       7.59519889e+07, 7.37533058e+07, 7.75990976e+07, 9.72653301e+07,\n",
       "       7.92166426e+07, 8.86364724e+07, 1.04776475e+08, 9.59357622e+07,\n",
       "       1.07178615e+08, 9.89588939e+07, 9.96106568e+07, 9.97739850e+07,\n",
       "       6.81692049e+07, 5.78000424e+07, 8.07356160e+07, 8.11683707e+07,\n",
       "       8.93564059e+07, 6.35230589e+07, 7.55245149e+07, 8.12772870e+07,\n",
       "       1.01120528e+08, 8.96737372e+07, 7.89562769e+07, 8.85118878e+07,\n",
       "       9.19736987e+07, 8.67250212e+07, 7.16234350e+07, 6.22022550e+07,\n",
       "       8.26688180e+07, 6.35148543e+07, 7.59007468e+07, 6.94202332e+07,\n",
       "       6.31498692e+07, 8.51969987e+07, 6.62154307e+07, 6.76974084e+07,\n",
       "       8.38085478e+07, 1.00048148e+08, 8.52670590e+07, 8.20065528e+07,\n",
       "       7.35571095e+07, 7.35613800e+07, 6.53749400e+07, 7.82886461e+07,\n",
       "       7.55929215e+07, 6.86538576e+07, 8.86040397e+07, 8.94104348e+07,\n",
       "       1.21297958e+08, 7.70803610e+07, 8.40542094e+07, 1.09718519e+08,\n",
       "       7.52682428e+07, 8.84043658e+07, 8.32455464e+07, 6.63172869e+07,\n",
       "       1.01993851e+08, 7.47792698e+07, 8.65128756e+07, 8.78812586e+07,\n",
       "       9.04376050e+07, 9.03213020e+07, 7.40802929e+07, 1.07733155e+08,\n",
       "       6.31741946e+07, 8.03331073e+07, 1.17501469e+08, 6.35203498e+07,\n",
       "       9.57834132e+07, 7.69315822e+07, 1.03652035e+08, 7.35655028e+07,\n",
       "       6.76029809e+07, 8.08477799e+07, 8.40207132e+07, 9.54076508e+07,\n",
       "       1.16891296e+08, 9.78328799e+07, 8.51676508e+07, 1.15409296e+08,\n",
       "       8.24751773e+07, 7.25221634e+07, 6.22979185e+07, 6.70110587e+07,\n",
       "       9.43225187e+07, 8.16411808e+07, 7.82897615e+07, 7.15081321e+07,\n",
       "       5.30015704e+07, 7.70956726e+07, 8.67055030e+07, 6.89582269e+07,\n",
       "       7.36513914e+07, 8.29321581e+07, 9.08620407e+07, 6.92514399e+07,\n",
       "       1.02730224e+08, 7.98828488e+07, 6.33249729e+07, 8.10058241e+07,\n",
       "       8.48498289e+07, 8.89588365e+07, 6.73062698e+07, 7.60735846e+07,\n",
       "       7.90588332e+07, 1.07862966e+08, 9.81354536e+07, 9.65410859e+07,\n",
       "       1.08461994e+08, 6.81185524e+07, 1.12575400e+08, 6.01920664e+07,\n",
       "       9.15307133e+07, 1.12623107e+08, 7.65424638e+07, 1.22723079e+08,\n",
       "       7.34151789e+07, 8.67132289e+07, 9.85518298e+07, 7.55184372e+07,\n",
       "       8.77487321e+07, 6.94907889e+07, 8.48780238e+07, 7.43559413e+07,\n",
       "       5.93445462e+07, 5.94697438e+07, 8.32698056e+07, 7.52836200e+07,\n",
       "       1.02960476e+08, 6.68300852e+07, 8.67563852e+07, 6.38365005e+07,\n",
       "       8.98195320e+07, 8.75306030e+07, 7.08730130e+07, 7.00248827e+07,\n",
       "       7.18516942e+07, 7.30038665e+07, 8.79823188e+07, 7.30241451e+07,\n",
       "       5.93645116e+07, 1.03913072e+08, 6.35823712e+07, 9.34048224e+07,\n",
       "       8.60422756e+07, 7.78044839e+07, 8.04160333e+07, 7.90584197e+07,\n",
       "       8.66176338e+07, 7.80044528e+07, 7.46773129e+07, 9.09255479e+07,\n",
       "       6.61774401e+07, 7.53599342e+07, 6.62623835e+07, 8.09810096e+07,\n",
       "       1.47928995e+08, 7.89806139e+07, 8.92430802e+07, 8.77766415e+07,\n",
       "       9.90710971e+07, 6.10321316e+07, 6.44475288e+07, 7.13006041e+07,\n",
       "       8.80541230e+07, 8.59035702e+07, 6.25861829e+07, 1.11549387e+08,\n",
       "       8.12348092e+07, 6.56743341e+07, 7.95495037e+07, 6.73651838e+07,\n",
       "       9.31347366e+07, 6.06077478e+07, 9.72514575e+07, 5.91335669e+07,\n",
       "       7.88808569e+07, 1.11583546e+08, 6.82805284e+07, 5.98603379e+07,\n",
       "       8.48539936e+07, 8.42151111e+07, 7.19287398e+07, 1.03777456e+08,\n",
       "       9.81338231e+07, 9.26106659e+07, 9.45546761e+07, 1.03212845e+08,\n",
       "       7.85487788e+07, 7.47896970e+07, 8.29339581e+07, 7.98265744e+07,\n",
       "       7.09039606e+07, 7.32337439e+07, 1.05033501e+08, 7.12564581e+07,\n",
       "       8.03843447e+07, 9.12367690e+07, 6.93163547e+07, 1.09043530e+08,\n",
       "       6.22961159e+07, 7.80237505e+07, 9.24389957e+07, 8.81395344e+07,\n",
       "       8.14694599e+07, 7.10875150e+07, 5.46261473e+07, 5.18519627e+07,\n",
       "       8.56643553e+07, 8.80343020e+07, 8.03202975e+07, 9.07269378e+07,\n",
       "       9.99950203e+07, 5.96523082e+07, 8.21807471e+07, 8.38753796e+07,\n",
       "       6.69267091e+07, 8.82560507e+07, 1.29864621e+08, 6.49975650e+07,\n",
       "       8.63697732e+07, 8.57277721e+07, 6.06633267e+07, 6.60653368e+07,\n",
       "       9.10740470e+07, 6.78887697e+07, 8.62313421e+07, 9.35710281e+07,\n",
       "       7.49106074e+07, 6.45302832e+07, 9.56832327e+07, 6.54343978e+07,\n",
       "       8.16470717e+07, 7.37505827e+07, 5.80919143e+07, 5.71350723e+07,\n",
       "       6.78111657e+07, 1.01758733e+08, 1.10765983e+08, 9.49215394e+07,\n",
       "       5.93857058e+07, 6.42451069e+07, 8.79726230e+07, 7.15234152e+07,\n",
       "       1.05371390e+08, 6.18059177e+07, 9.45854351e+07, 7.34843174e+07,\n",
       "       6.31544720e+07, 6.61813593e+07, 8.35695957e+07, 6.71375008e+07,\n",
       "       8.79353866e+07, 6.28889485e+07, 7.20899463e+07, 7.70651844e+07,\n",
       "       7.87314139e+07, 7.19596745e+07, 6.73237551e+07, 7.43258527e+07,\n",
       "       8.76099229e+07, 6.01934348e+07, 6.91556610e+07, 7.80412401e+07,\n",
       "       6.52661417e+07, 5.97876606e+07, 6.78917595e+07, 8.27702902e+07,\n",
       "       6.10724451e+07, 7.80538531e+07, 7.03422649e+07, 1.21890117e+08,\n",
       "       5.86433951e+07, 7.67181593e+07, 8.22543559e+07, 1.07039232e+08,\n",
       "       6.55924570e+07, 7.24365458e+07, 7.34270220e+07, 7.23791386e+07,\n",
       "       6.71219338e+07, 1.04703446e+08, 8.56425348e+07, 7.75716227e+07,\n",
       "       6.25419561e+07, 7.43141208e+07, 8.52421272e+07, 9.50816670e+07,\n",
       "       1.07231394e+08, 8.51003965e+07, 6.99837922e+07, 5.80367284e+07,\n",
       "       1.03406374e+08, 7.33792901e+07, 9.24019210e+07, 6.34086599e+07,\n",
       "       8.50922363e+07, 8.74760915e+07, 6.55159927e+07, 7.50866003e+07,\n",
       "       6.64990119e+07, 7.58484547e+07, 7.23505145e+07, 5.97375410e+07,\n",
       "       1.20330036e+08, 8.11901521e+07, 7.41373296e+07, 8.01260478e+07,\n",
       "       4.48946835e+07, 7.41515507e+07, 1.02888998e+08, 6.81141009e+07,\n",
       "       8.70531536e+07, 8.91517197e+07, 9.26321403e+07, 1.07413263e+08,\n",
       "       5.88652093e+07, 7.88038950e+07, 9.86946597e+07, 7.78491413e+07,\n",
       "       7.17518904e+07, 1.13072993e+08, 6.80901430e+07, 9.46416719e+07,\n",
       "       1.18477909e+08, 6.53934637e+07, 5.93606141e+07, 6.31693800e+07,\n",
       "       7.67913299e+07, 9.43432671e+07, 8.15767257e+07, 7.12435393e+07,\n",
       "       8.56337617e+07, 9.02605578e+07, 5.22264366e+07, 7.54494572e+07,\n",
       "       8.38946543e+07, 7.29150410e+07, 6.23400321e+07, 1.05487116e+08,\n",
       "       7.45850511e+07, 7.04643765e+07, 8.48203945e+07, 7.86313022e+07,\n",
       "       5.51172907e+07, 6.21880083e+07, 6.86225711e+07, 5.65438854e+07,\n",
       "       8.25458500e+07, 9.06692743e+07, 8.90546701e+07, 9.89260520e+07,\n",
       "       7.82488863e+07, 7.50471286e+07, 8.78350530e+07, 9.29880349e+07,\n",
       "       1.09690625e+08, 1.17362476e+08, 9.93698596e+07, 1.03417703e+08,\n",
       "       8.87166320e+07, 7.93103208e+07, 1.00792496e+08, 7.92169459e+07,\n",
       "       1.20173537e+08, 8.64250682e+07, 8.39711596e+07, 6.95709186e+07,\n",
       "       6.99609643e+07, 7.74761279e+07, 6.84748281e+07, 7.58466619e+07,\n",
       "       6.29504644e+07, 1.10510693e+08, 1.00756566e+08, 8.29836265e+07,\n",
       "       9.49712137e+07, 1.06536550e+08, 8.55872224e+07, 9.14330907e+07,\n",
       "       9.71134852e+07, 7.23214120e+07, 8.59698285e+07, 5.65604688e+07,\n",
       "       5.42981820e+07, 9.14696420e+07, 7.52140655e+07, 7.99364487e+07,\n",
       "       6.12021232e+07, 8.41709712e+07, 1.05756243e+08, 6.40404163e+07,\n",
       "       7.58435112e+07, 6.22812252e+07, 7.30475982e+07, 9.06854383e+07,\n",
       "       6.11834986e+07, 1.06884599e+08, 1.10326466e+08, 6.81863976e+07,\n",
       "       6.66435117e+07, 7.28804076e+07, 9.96403856e+07, 8.67039414e+07,\n",
       "       8.07591113e+07, 7.25105388e+07, 7.17489977e+07, 7.08203507e+07,\n",
       "       9.37870879e+07, 1.04604029e+08, 8.06977054e+07, 9.29288789e+07,\n",
       "       1.09383447e+08, 8.51429736e+07, 9.64510185e+07, 6.19302830e+07,\n",
       "       6.67283888e+07, 1.04501599e+08, 9.15148330e+07, 8.86355421e+07,\n",
       "       7.28326004e+07, 9.38479442e+07, 7.26779986e+07, 7.72987382e+07,\n",
       "       8.99418153e+07, 9.81276178e+07, 7.10113268e+07, 9.31399990e+07,\n",
       "       7.53422408e+07, 7.03567886e+07, 7.61118313e+07, 7.71200596e+07,\n",
       "       7.40441714e+07, 8.57094647e+07, 9.44430544e+07, 9.09864707e+07,\n",
       "       7.53276862e+07, 7.42141735e+07, 1.05487303e+08, 8.21915487e+07,\n",
       "       1.05453796e+08, 6.85897612e+07, 1.11458139e+08, 9.39608891e+07,\n",
       "       8.93167451e+07, 8.64803010e+07, 7.83609790e+07, 7.68867782e+07,\n",
       "       7.89407306e+07, 1.21958848e+08, 6.31918232e+07, 7.36028600e+07,\n",
       "       8.16072472e+07, 7.49265460e+07, 9.45467233e+07, 7.78418459e+07,\n",
       "       8.65785229e+07, 9.63108783e+07, 9.66877651e+07, 7.81630322e+07,\n",
       "       7.20618373e+07, 1.02195317e+08, 8.03956795e+07, 9.08873675e+07,\n",
       "       6.94476278e+07, 8.81744092e+07, 1.00572326e+08, 7.76897960e+07,\n",
       "       8.73028287e+07, 8.60295117e+07, 7.48428790e+07, 8.89784020e+07,\n",
       "       1.10818392e+08, 7.80532818e+07, 1.17024123e+08, 6.39909145e+07,\n",
       "       6.13217766e+07, 6.87381257e+07, 9.71825501e+07, 8.59645763e+07,\n",
       "       5.90996594e+07, 9.91708628e+07, 6.86492084e+07, 7.67710889e+07,\n",
       "       9.75409052e+07, 8.51024664e+07, 9.17993167e+07, 8.48837835e+07,\n",
       "       7.22295530e+07, 6.60571106e+07, 9.24993838e+07, 8.66575179e+07,\n",
       "       1.08024406e+08, 7.46356205e+07, 6.60414788e+07, 7.63088143e+07,\n",
       "       7.88672308e+07, 1.00707013e+08, 6.25559259e+07, 6.04822922e+07,\n",
       "       8.43183052e+07, 7.70525317e+07, 6.24295395e+07, 6.99961015e+07,\n",
       "       1.15283751e+08, 8.06114179e+07, 8.35845412e+07, 7.72416893e+07,\n",
       "       7.72330786e+07, 9.12848312e+07, 7.63077344e+07, 6.60589078e+07,\n",
       "       7.39223363e+07, 7.82546485e+07, 6.17001698e+07, 1.25401674e+08,\n",
       "       9.36121069e+07, 8.48459172e+07, 8.65608318e+07, 1.15614553e+08,\n",
       "       7.41027282e+07, 8.98371573e+07, 7.77254237e+07, 7.00823397e+07,\n",
       "       8.26281044e+07, 9.98404101e+07, 7.55447060e+07, 7.34350026e+07,\n",
       "       6.36215273e+07, 1.03377432e+08, 7.83024659e+07, 7.78751260e+07,\n",
       "       6.98097030e+07, 9.96201085e+07, 9.33167021e+07, 8.40239053e+07,\n",
       "       7.28509726e+07, 8.19680189e+07, 8.08507785e+07, 1.07894502e+08,\n",
       "       9.08907326e+07, 7.71085586e+07, 7.81600058e+07, 8.04021967e+07,\n",
       "       8.92055251e+07, 6.04294622e+07, 6.78743111e+07, 8.25504039e+07,\n",
       "       8.67347449e+07, 8.49905140e+07, 6.17611198e+07, 8.21807056e+07,\n",
       "       6.60278633e+07, 1.00145885e+08, 6.49576588e+07, 8.18485887e+07,\n",
       "       7.68234563e+07, 8.88255320e+07, 9.36439793e+07, 9.05096885e+07,\n",
       "       9.46038654e+07, 9.58125601e+07, 7.84502890e+07, 9.00226959e+07,\n",
       "       1.02604952e+08, 7.86348289e+07, 8.18343585e+07, 9.35487925e+07,\n",
       "       7.35093623e+07, 6.43529440e+07, 7.10397968e+07])"
      ]
     },
     "execution_count": 91,
     "metadata": {},
     "output_type": "execute_result"
    }
   ],
   "source": [
    "pred"
   ]
  },
  {
   "cell_type": "code",
   "execution_count": 92,
   "metadata": {},
   "outputs": [],
   "source": [
    "lasso_pred=pd.DataFrame()\n",
    "lasso_pred['ID']=df3['id']\n",
    "lasso_pred['saleprice']=pred"
   ]
  },
  {
   "cell_type": "code",
   "execution_count": 93,
   "metadata": {},
   "outputs": [],
   "source": [
    "lasso_pred.to_csv('lasso_pred.csv', index=False)"
   ]
  },
  {
   "cell_type": "code",
   "execution_count": 94,
   "metadata": {},
   "outputs": [
    {
     "data": {
      "text/html": [
       "<div>\n",
       "<style scoped>\n",
       "    .dataframe tbody tr th:only-of-type {\n",
       "        vertical-align: middle;\n",
       "    }\n",
       "\n",
       "    .dataframe tbody tr th {\n",
       "        vertical-align: top;\n",
       "    }\n",
       "\n",
       "    .dataframe thead th {\n",
       "        text-align: right;\n",
       "    }\n",
       "</style>\n",
       "<table border=\"1\" class=\"dataframe\">\n",
       "  <thead>\n",
       "    <tr style=\"text-align: right;\">\n",
       "      <th></th>\n",
       "      <th>ID</th>\n",
       "      <th>saleprice</th>\n",
       "    </tr>\n",
       "  </thead>\n",
       "  <tbody>\n",
       "    <tr>\n",
       "      <th>0</th>\n",
       "      <td>2658</td>\n",
       "      <td>8.547639e+07</td>\n",
       "    </tr>\n",
       "    <tr>\n",
       "      <th>1</th>\n",
       "      <td>2718</td>\n",
       "      <td>9.670687e+07</td>\n",
       "    </tr>\n",
       "    <tr>\n",
       "      <th>2</th>\n",
       "      <td>2414</td>\n",
       "      <td>7.894920e+07</td>\n",
       "    </tr>\n",
       "    <tr>\n",
       "      <th>3</th>\n",
       "      <td>1989</td>\n",
       "      <td>5.968601e+07</td>\n",
       "    </tr>\n",
       "    <tr>\n",
       "      <th>4</th>\n",
       "      <td>625</td>\n",
       "      <td>7.618175e+07</td>\n",
       "    </tr>\n",
       "    <tr>\n",
       "      <th>...</th>\n",
       "      <td>...</td>\n",
       "      <td>...</td>\n",
       "    </tr>\n",
       "    <tr>\n",
       "      <th>874</th>\n",
       "      <td>1662</td>\n",
       "      <td>8.183436e+07</td>\n",
       "    </tr>\n",
       "    <tr>\n",
       "      <th>875</th>\n",
       "      <td>1234</td>\n",
       "      <td>9.354879e+07</td>\n",
       "    </tr>\n",
       "    <tr>\n",
       "      <th>876</th>\n",
       "      <td>1373</td>\n",
       "      <td>7.350936e+07</td>\n",
       "    </tr>\n",
       "    <tr>\n",
       "      <th>877</th>\n",
       "      <td>1672</td>\n",
       "      <td>6.435294e+07</td>\n",
       "    </tr>\n",
       "    <tr>\n",
       "      <th>878</th>\n",
       "      <td>1939</td>\n",
       "      <td>7.103980e+07</td>\n",
       "    </tr>\n",
       "  </tbody>\n",
       "</table>\n",
       "<p>879 rows × 2 columns</p>\n",
       "</div>"
      ],
      "text/plain": [
       "       ID     saleprice\n",
       "0    2658  8.547639e+07\n",
       "1    2718  9.670687e+07\n",
       "2    2414  7.894920e+07\n",
       "3    1989  5.968601e+07\n",
       "4     625  7.618175e+07\n",
       "..    ...           ...\n",
       "874  1662  8.183436e+07\n",
       "875  1234  9.354879e+07\n",
       "876  1373  7.350936e+07\n",
       "877  1672  6.435294e+07\n",
       "878  1939  7.103980e+07\n",
       "\n",
       "[879 rows x 2 columns]"
      ]
     },
     "execution_count": 94,
     "metadata": {},
     "output_type": "execute_result"
    }
   ],
   "source": [
    "lasso_pred"
   ]
  },
  {
   "cell_type": "code",
   "execution_count": 95,
   "metadata": {},
   "outputs": [
    {
     "data": {
      "text/html": [
       "<div>\n",
       "<style scoped>\n",
       "    .dataframe tbody tr th:only-of-type {\n",
       "        vertical-align: middle;\n",
       "    }\n",
       "\n",
       "    .dataframe tbody tr th {\n",
       "        vertical-align: top;\n",
       "    }\n",
       "\n",
       "    .dataframe thead th {\n",
       "        text-align: right;\n",
       "    }\n",
       "</style>\n",
       "<table border=\"1\" class=\"dataframe\">\n",
       "  <thead>\n",
       "    <tr style=\"text-align: right;\">\n",
       "      <th></th>\n",
       "      <th>ID</th>\n",
       "      <th>saleprice</th>\n",
       "    </tr>\n",
       "  </thead>\n",
       "  <tbody>\n",
       "    <tr>\n",
       "      <th>0</th>\n",
       "      <td>2658</td>\n",
       "      <td>8.547639e+07</td>\n",
       "    </tr>\n",
       "    <tr>\n",
       "      <th>1</th>\n",
       "      <td>2718</td>\n",
       "      <td>9.670687e+07</td>\n",
       "    </tr>\n",
       "    <tr>\n",
       "      <th>2</th>\n",
       "      <td>2414</td>\n",
       "      <td>7.894920e+07</td>\n",
       "    </tr>\n",
       "    <tr>\n",
       "      <th>3</th>\n",
       "      <td>1989</td>\n",
       "      <td>5.968601e+07</td>\n",
       "    </tr>\n",
       "    <tr>\n",
       "      <th>4</th>\n",
       "      <td>625</td>\n",
       "      <td>7.618175e+07</td>\n",
       "    </tr>\n",
       "    <tr>\n",
       "      <th>...</th>\n",
       "      <td>...</td>\n",
       "      <td>...</td>\n",
       "    </tr>\n",
       "    <tr>\n",
       "      <th>874</th>\n",
       "      <td>1662</td>\n",
       "      <td>8.183436e+07</td>\n",
       "    </tr>\n",
       "    <tr>\n",
       "      <th>875</th>\n",
       "      <td>1234</td>\n",
       "      <td>9.354879e+07</td>\n",
       "    </tr>\n",
       "    <tr>\n",
       "      <th>876</th>\n",
       "      <td>1373</td>\n",
       "      <td>7.350936e+07</td>\n",
       "    </tr>\n",
       "    <tr>\n",
       "      <th>877</th>\n",
       "      <td>1672</td>\n",
       "      <td>6.435294e+07</td>\n",
       "    </tr>\n",
       "    <tr>\n",
       "      <th>878</th>\n",
       "      <td>1939</td>\n",
       "      <td>7.103980e+07</td>\n",
       "    </tr>\n",
       "  </tbody>\n",
       "</table>\n",
       "<p>879 rows × 2 columns</p>\n",
       "</div>"
      ],
      "text/plain": [
       "       ID     saleprice\n",
       "0    2658  8.547639e+07\n",
       "1    2718  9.670687e+07\n",
       "2    2414  7.894920e+07\n",
       "3    1989  5.968601e+07\n",
       "4     625  7.618175e+07\n",
       "..    ...           ...\n",
       "874  1662  8.183436e+07\n",
       "875  1234  9.354879e+07\n",
       "876  1373  7.350936e+07\n",
       "877  1672  6.435294e+07\n",
       "878  1939  7.103980e+07\n",
       "\n",
       "[879 rows x 2 columns]"
      ]
     },
     "execution_count": 95,
     "metadata": {},
     "output_type": "execute_result"
    }
   ],
   "source": [
    "lasso_pred"
   ]
  },
  {
   "cell_type": "code",
   "execution_count": null,
   "metadata": {},
   "outputs": [],
   "source": []
  },
  {
   "cell_type": "markdown",
   "metadata": {},
   "source": [
    "# Further Feature Engineering"
   ]
  },
  {
   "cell_type": "code",
   "execution_count": 165,
   "metadata": {},
   "outputs": [],
   "source": [
    "#Removal of Certain Features\n",
    "\n",
    "#We will now combine 1st Flr Sqft, Full Bath and Garage Area into one column to show total sqft of the house.\n",
    "#We believe there is also overlap in Ground Living Area and the area of the house.\n",
    "\n",
    "house_area= df2['1st_flr_sf'] + df2['full_bath'] + df2['total_bsmt_sf']"
   ]
  },
  {
   "cell_type": "code",
   "execution_count": null,
   "metadata": {},
   "outputs": [],
   "source": [
    "d4=house_area"
   ]
  },
  {
   "cell_type": "code",
   "execution_count": 168,
   "metadata": {},
   "outputs": [
    {
     "name": "stderr",
     "output_type": "stream",
     "text": [
      "/anaconda3/lib/python3.7/site-packages/scipy/stats/stats.py:1713: FutureWarning: Using a non-tuple sequence for multidimensional indexing is deprecated; use `arr[tuple(seq)]` instead of `arr[seq]`. In the future this will be interpreted as an array index, `arr[np.array(seq)]`, which will result either in an error or a different result.\n",
      "  return np.add.reduce(sorted[indexer] * weights, axis=axis) / sumval\n"
     ]
    },
    {
     "data": {
      "text/plain": [
       "<matplotlib.axes._subplots.AxesSubplot at 0x1a2d651f60>"
      ]
     },
     "execution_count": 168,
     "metadata": {},
     "output_type": "execute_result"
    },
    {
     "data": {
      "image/png": "[encoded data removed]",
      "text/plain": [
       "<Figure size 792x432 with 1 Axes>"
      ]
     },
     "metadata": {},
     "output_type": "display_data"
    }
   ],
   "source": [
    "plt.style.use('dark_background')\n",
    "plt.figure(figsize=(11,6))\n",
    "bottom, top = ax.get_ylim()\n",
    "ax.set_ylim(bottom + 0.5, top - 0.5)\n",
    "plt.title('Fig 5: House Area & Sale Price Correlation',fontsize=20 )\n",
    "sns.regplot(house_area, df2.saleprice, data = df2, scatter_kws = {'color': 'lightblue', 'alpha': 0.3}, line_kws = {'color': '#00FFFF', 'alpha': 0.3, 'lw':6})\n",
    "\n"
   ]
  },
  {
   "cell_type": "code",
   "execution_count": null,
   "metadata": {},
   "outputs": [],
   "source": []
  },
  {
   "cell_type": "code",
   "execution_count": null,
   "metadata": {},
   "outputs": [],
   "source": []
  },
  {
   "cell_type": "code",
   "execution_count": null,
   "metadata": {},
   "outputs": [],
   "source": []
  },
  {
   "cell_type": "code",
   "execution_count": null,
   "metadata": {},
   "outputs": [],
   "source": []
  },
  {
   "cell_type": "code",
   "execution_count": 157,
   "metadata": {},
   "outputs": [],
   "source": [
    "features2=['id', 'overall_qual', 'year_built', 'year_remod/add', 'total_bsmt_sf','']"
   ]
  },
  {
   "cell_type": "code",
   "execution_count": 160,
   "metadata": {},
   "outputs": [],
   "source": [
    "X=df2[features2]\n",
    "y=df2['saleprice']"
   ]
  },
  {
   "cell_type": "code",
   "execution_count": null,
   "metadata": {},
   "outputs": [],
   "source": [
    "ss=StandardScaler()\n",
    "ss.fit(X_train)\n",
    "Xtrain=ss.transform(X_train)\n",
    "X_test=ss.transform(X_test)"
   ]
  },
  {
   "cell_type": "code",
   "execution_count": 206,
   "metadata": {},
   "outputs": [],
   "source": [
    "Xs=ss.fit_transform(X)"
   ]
  },
  {
   "cell_type": "code",
   "execution_count": 207,
   "metadata": {},
   "outputs": [],
   "source": [
    "ridge_alphas=np.logspace(0,5,200)\n"
   ]
  },
  {
   "cell_type": "code",
   "execution_count": 208,
   "metadata": {},
   "outputs": [],
   "source": [
    "optimal_ridge=RidgeCV(alphas=ridge_alphas, cv=10)"
   ]
  },
  {
   "cell_type": "code",
   "execution_count": 209,
   "metadata": {},
   "outputs": [
    {
     "data": {
      "text/plain": [
       "RidgeCV(alphas=array([1.00000e+00, 1.05956e+00, ..., 9.43788e+04, 1.00000e+05]),\n",
       "    cv=10, fit_intercept=True, gcv_mode=None, normalize=False,\n",
       "    scoring=None, store_cv_values=False)"
      ]
     },
     "execution_count": 209,
     "metadata": {},
     "output_type": "execute_result"
    }
   ],
   "source": [
    "optimal_ridge.fit(Xs,y)"
   ]
  },
  {
   "cell_type": "code",
   "execution_count": 212,
   "metadata": {},
   "outputs": [
    {
     "name": "stdout",
     "output_type": "stream",
     "text": [
      "19.116440753857027\n"
     ]
    }
   ],
   "source": [
    "print (optimal_ridge.alpha_)"
   ]
  }
 ],
 "metadata": {
  "kernelspec": {
   "display_name": "Python 3",
   "language": "python",
   "name": "python3"
  },
  "language_info": {
   "codemirror_mode": {
    "name": "ipython",
    "version": 3
   },
   "file_extension": ".py",
   "mimetype": "text/x-python",
   "name": "python",
   "nbconvert_exporter": "python",
   "pygments_lexer": "ipython3",
   "version": "3.7.0"
  }
 },
 "nbformat": 4,
 "nbformat_minor": 2
}
