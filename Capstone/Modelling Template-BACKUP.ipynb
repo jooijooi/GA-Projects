{
 "cells": [
  {
   "cell_type": "markdown",
   "metadata": {},
   "source": [
    "# CAPSTONE PROJECT"
   ]
  },
  {
   "cell_type": "markdown",
   "metadata": {},
   "source": [
    "by Joyce Ooi"
   ]
  },
  {
   "cell_type": "markdown",
   "metadata": {},
   "source": [
    "Problem Statement:\n",
    "\n",
    "There is difficulty in selecting stocks with consistent ROI due to market volatility. We want to identify stocks that allow us to predict consistent returns and which might also allow portfolio diversification, by identifying stocks that correlate to each other or correlate to economic indicators.\n",
    "\n",
    "We want to be able to predict whether stocks in this portfolio will generate positive or negative returns and adjust our stock selection accordingly.\n",
    "\n",
    "We were faced with 2 optional paradigms:\n",
    "\n",
    "Approach 1: Auto regression, ie. using previous timepoints as predictors of outcome and as features (e.g. previous days MA price and use each of those to predict future values. \n",
    "\n",
    "Approach 2: News sentiment / twitter sentiment, other types of regression analysis\n",
    "\n",
    "The aim of this project is to build a predictive model that would predict whether Tesla Stock would close up or down for a given day based on the information on the opening and closing prices of each day as well as the movements in regional indexes, news related to Tesla stock as well as Twitter feeds by its CEO Elon Musk.\n",
    "\n",
    "Part 1 : At the initial ideas stage we identified 2 groups of stocks to investigate and predict before settling on Tesla. The two options were <br> \n",
    "1) FANNG stocks versus Cloud stocks (Co-relation with each other and co-relation to variables such as previous day percentage changes in DJI, current percentage changes in regional indexes (CAC, DAX) and news headlines related to eack stock) <br>2) Any 2 stocks exhibiting a positive or negative co-relation\n",
    "\n",
    "Part 2 is an initial analysis and cleaning of the csv files. It is also the first checkpoint with EDA. Sentiment analysis was performed separately on all portfolio stocks based on online news articles such as Yahoo. News headlines for all stocks was taken from: https://ycharts.com/companies/news\n",
    "\n",
    "Part 3 is the selection process whereby we narrowed our selection down to Tesla to make predictions. Tesla was selected due to the frequency of Elon Musk's Twitter feeds and and strong following which we felt could have impact on Tesla's share price. Tesla's headline sentiments also showed a higher correlation to opening change and percent (pct) change compared to Facebook, Amazon or Google. Tesla stock also showed little correlation to the other FAANG stocks which made it suitable for portfolio diversification.\n",
    "\n",
    "Part 4 is the modelling process, where we selected a series of models to find the best Classifier. These included:\n",
    "- Logistic Regression\n",
    "- KNeighboursClassifier\n",
    "- AdaboostClassifier\n",
    "- DecisionTree Classifier\n",
    "- RandomForestClassfier\n",
    "- ExtraTreesClassifier\n",
    "\n",
    "Part 5 is the conclusion of our project with the process from start to finish outlining all the steps taken, and the presentation and analysis of the predictive model /models Notebook.\n",
    "\n",
    "A KNN model was able to predict Tesla's share priced to X% (baseline of X%)."
   ]
  },
  {
   "cell_type": "markdown",
   "metadata": {},
   "source": [
    "## Notebook 4: Modelling"
   ]
  },
  {
   "cell_type": "markdown",
   "metadata": {},
   "source": [
    "This notebook contains the code for model selection and evaluation."
   ]
  },
  {
   "cell_type": "markdown",
   "metadata": {},
   "source": [
    "### Contents\n",
    "\n",
    "- [Importing of Libraries](#Importing-of-Libraries)\n",
    "- [Data Import](#Data-Import)\n",
    "- [Data Preparation](#Data-Preparation)\n",
    "- [Baseline Accuracy](#Baseline-Accuracy)\n",
    "- [Randomised Search for the Best Classifier](#Randomised-Search-for-the-Best-Classifier)\n",
    "- [Selection of the Best Classifier](#Selection-of-the-Best-Classifier)\n",
    "- [Further Exploration of the Best Classifier](#Further-Exploration-of-the-Best-Classifier)\n",
    "    * [xx](#Logistic-Regression-Coefficient)\n",
    "    * [xxxx](#ROC---AUC-Curve)\n",
    "- [xxxx](#Cost-Benefit-Analysis)\n",
    "    * [xxx](#Quantitative-Cost-Factors)\n",
    "    * [xxx](#Qualitative-Cost-Factors)\n",
    "    * [xx](#Quantitative-Benefit-Factors)\n",
    "    * [xxx](#Qualitative-Benefit-Factors)\n",
    "- [Conclusion and Recommendations](#Conclusion-and-Recommendations)\n",
    "- [Generation of Predictions](#Generation-of-Predictions)\n",
    "- [Data Export](#Data-Export)\n",
    "\n"
   ]
  },
  {
   "cell_type": "code",
   "execution_count": null,
   "metadata": {},
   "outputs": [],
   "source": []
  },
  {
   "cell_type": "markdown",
   "metadata": {},
   "source": [
    "## Importing of Libraries"
   ]
  },
  {
   "cell_type": "code",
   "execution_count": 1,
   "metadata": {
    "scrolled": true
   },
   "outputs": [
    {
     "name": "stderr",
     "output_type": "stream",
     "text": [
      "Using TensorFlow backend.\n"
     ]
    }
   ],
   "source": [
    "# Read in libraries\n",
    "import pandas as pd\n",
    "import numpy as np\n",
    "import seaborn as sns\n",
    "import matplotlib.pyplot as plt\n",
    "from matplotlib.lines import Line2D\n",
    "from matplotlib.ticker import (MultipleLocator, FormatStrFormatter,\n",
    "                               AutoMinorLocator)\n",
    "from sklearn.model_selection import train_test_split\n",
    "import scipy.stats as stats\n",
    "from mpl_toolkits import mplot3d\n",
    "from sklearn import ensemble, preprocessing\n",
    "from sklearn.cluster import DBSCAN\n",
    "from sklearn.metrics import silhouette_score\n",
    "#modelling\n",
    "from sklearn.preprocessing import StandardScaler, MinMaxScaler\n",
    "from sklearn.pipeline import Pipeline\n",
    "from sklearn.model_selection import train_test_split, GridSearchCV, RandomizedSearchCV\n",
    "from sklearn.metrics import confusion_matrix, classification_report, roc_curve, auc, roc_auc_score, accuracy_score\n",
    "from sklearn.neighbors import KNeighborsClassifier\n",
    "from sklearn.ensemble import RandomForestClassifier, ExtraTreesClassifier\n",
    "from sklearn.ensemble import AdaBoostClassifier\n",
    "from sklearn.linear_model import LogisticRegression\n",
    "from sklearn.model_selection import cross_val_score\n",
    "from sklearn.tree import DecisionTreeClassifier\n",
    "from keras.models import Sequential\n",
    "from keras.layers import Dense, Dropout, GRU\n",
    "from keras.preprocessing.sequence import TimeseriesGenerator\n",
    "\n",
    "import xgboost as xgb\n",
    "from xgboost.sklearn import XGBClassifier\n",
    "\n",
    "%matplotlib inline "
   ]
  },
  {
   "cell_type": "code",
   "execution_count": 2,
   "metadata": {},
   "outputs": [],
   "source": [
    "# Import data from downloaded csv files\n",
    "train=pd.read_csv('./datasets/tsla_train.csv')\n",
    "test_actual=pd.read_csv('./datasets/tsla_test.csv')\n"
   ]
  },
  {
   "cell_type": "code",
   "execution_count": 3,
   "metadata": {},
   "outputs": [
    {
     "data": {
      "text/plain": [
       "((1970, 50), (466, 50))"
      ]
     },
     "execution_count": 3,
     "metadata": {},
     "output_type": "execute_result"
    }
   ],
   "source": [
    "train.shape, test_actual.shape"
   ]
  },
  {
   "cell_type": "code",
   "execution_count": 4,
   "metadata": {},
   "outputs": [
    {
     "data": {
      "text/html": [
       "<div>\n",
       "<style scoped>\n",
       "    .dataframe tbody tr th:only-of-type {\n",
       "        vertical-align: middle;\n",
       "    }\n",
       "\n",
       "    .dataframe tbody tr th {\n",
       "        vertical-align: top;\n",
       "    }\n",
       "\n",
       "    .dataframe thead th {\n",
       "        text-align: right;\n",
       "    }\n",
       "</style>\n",
       "<table border=\"1\" class=\"dataframe\">\n",
       "  <thead>\n",
       "    <tr style=\"text-align: right;\">\n",
       "      <th></th>\n",
       "      <th>Unnamed: 0</th>\n",
       "      <th>date</th>\n",
       "      <th>tsla_intra_target</th>\n",
       "      <th>tsla_sentiment</th>\n",
       "      <th>em_tweets3_sentiment</th>\n",
       "      <th>dax_return</th>\n",
       "      <th>cac_return</th>\n",
       "      <th>dji_previous_day_return</th>\n",
       "      <th>MA5</th>\n",
       "      <th>MA10</th>\n",
       "      <th>...</th>\n",
       "      <th>em_tweets3_sentiment_lag3</th>\n",
       "      <th>dax_return_lag3</th>\n",
       "      <th>cac_return_lag3</th>\n",
       "      <th>dji_previous_day_return_lag3</th>\n",
       "      <th>MA5_lag3</th>\n",
       "      <th>MA10_lag3</th>\n",
       "      <th>MA20_lag3</th>\n",
       "      <th>MA50_lag3</th>\n",
       "      <th>change_lag3</th>\n",
       "      <th>volatity_lag3</th>\n",
       "    </tr>\n",
       "  </thead>\n",
       "  <tbody>\n",
       "    <tr>\n",
       "      <th>0</th>\n",
       "      <td>30</td>\n",
       "      <td>2010-08-12</td>\n",
       "      <td>1.0</td>\n",
       "      <td>0.0</td>\n",
       "      <td>0.0</td>\n",
       "      <td>-1.0</td>\n",
       "      <td>1.0</td>\n",
       "      <td>-1.0</td>\n",
       "      <td>18.490</td>\n",
       "      <td>19.168</td>\n",
       "      <td>...</td>\n",
       "      <td>0.0</td>\n",
       "      <td>1.0</td>\n",
       "      <td>1.0</td>\n",
       "      <td>-1.0</td>\n",
       "      <td>19.986</td>\n",
       "      <td>19.824</td>\n",
       "      <td>19.7955</td>\n",
       "      <td>19.6968</td>\n",
       "      <td>0.000510</td>\n",
       "      <td>0.041525</td>\n",
       "    </tr>\n",
       "    <tr>\n",
       "      <th>1</th>\n",
       "      <td>31</td>\n",
       "      <td>2010-08-13</td>\n",
       "      <td>0.0</td>\n",
       "      <td>0.0</td>\n",
       "      <td>0.0</td>\n",
       "      <td>-1.0</td>\n",
       "      <td>-1.0</td>\n",
       "      <td>-1.0</td>\n",
       "      <td>18.326</td>\n",
       "      <td>18.919</td>\n",
       "      <td>...</td>\n",
       "      <td>0.0</td>\n",
       "      <td>-1.0</td>\n",
       "      <td>-1.0</td>\n",
       "      <td>1.0</td>\n",
       "      <td>19.314</td>\n",
       "      <td>19.662</td>\n",
       "      <td>19.6860</td>\n",
       "      <td>19.6720</td>\n",
       "      <td>-0.029513</td>\n",
       "      <td>0.041491</td>\n",
       "    </tr>\n",
       "    <tr>\n",
       "      <th>2</th>\n",
       "      <td>32</td>\n",
       "      <td>2010-08-16</td>\n",
       "      <td>0.0</td>\n",
       "      <td>0.0</td>\n",
       "      <td>0.0</td>\n",
       "      <td>-1.0</td>\n",
       "      <td>-1.0</td>\n",
       "      <td>-1.0</td>\n",
       "      <td>18.350</td>\n",
       "      <td>18.753</td>\n",
       "      <td>...</td>\n",
       "      <td>0.0</td>\n",
       "      <td>-1.0</td>\n",
       "      <td>-1.0</td>\n",
       "      <td>-1.0</td>\n",
       "      <td>18.744</td>\n",
       "      <td>19.448</td>\n",
       "      <td>19.6450</td>\n",
       "      <td>19.7104</td>\n",
       "      <td>-0.061216</td>\n",
       "      <td>0.041826</td>\n",
       "    </tr>\n",
       "    <tr>\n",
       "      <th>3</th>\n",
       "      <td>33</td>\n",
       "      <td>2010-08-17</td>\n",
       "      <td>0.0</td>\n",
       "      <td>0.0</td>\n",
       "      <td>0.0</td>\n",
       "      <td>1.0</td>\n",
       "      <td>1.0</td>\n",
       "      <td>-1.0</td>\n",
       "      <td>18.524</td>\n",
       "      <td>18.704</td>\n",
       "      <td>...</td>\n",
       "      <td>0.0</td>\n",
       "      <td>-1.0</td>\n",
       "      <td>1.0</td>\n",
       "      <td>-1.0</td>\n",
       "      <td>18.490</td>\n",
       "      <td>19.168</td>\n",
       "      <td>19.5775</td>\n",
       "      <td>19.8278</td>\n",
       "      <td>-0.016902</td>\n",
       "      <td>0.042109</td>\n",
       "    </tr>\n",
       "    <tr>\n",
       "      <th>4</th>\n",
       "      <td>34</td>\n",
       "      <td>2010-08-18</td>\n",
       "      <td>1.0</td>\n",
       "      <td>0.0</td>\n",
       "      <td>0.0</td>\n",
       "      <td>1.0</td>\n",
       "      <td>-1.0</td>\n",
       "      <td>1.0</td>\n",
       "      <td>18.762</td>\n",
       "      <td>18.757</td>\n",
       "      <td>...</td>\n",
       "      <td>0.0</td>\n",
       "      <td>-1.0</td>\n",
       "      <td>-1.0</td>\n",
       "      <td>-1.0</td>\n",
       "      <td>18.326</td>\n",
       "      <td>18.919</td>\n",
       "      <td>19.5365</td>\n",
       "      <td>19.9306</td>\n",
       "      <td>0.040094</td>\n",
       "      <td>0.036775</td>\n",
       "    </tr>\n",
       "  </tbody>\n",
       "</table>\n",
       "<p>5 rows × 50 columns</p>\n",
       "</div>"
      ],
      "text/plain": [
       "   Unnamed: 0        date  tsla_intra_target  tsla_sentiment  \\\n",
       "0          30  2010-08-12                1.0             0.0   \n",
       "1          31  2010-08-13                0.0             0.0   \n",
       "2          32  2010-08-16                0.0             0.0   \n",
       "3          33  2010-08-17                0.0             0.0   \n",
       "4          34  2010-08-18                1.0             0.0   \n",
       "\n",
       "   em_tweets3_sentiment  dax_return  cac_return  dji_previous_day_return  \\\n",
       "0                   0.0        -1.0         1.0                     -1.0   \n",
       "1                   0.0        -1.0        -1.0                     -1.0   \n",
       "2                   0.0        -1.0        -1.0                     -1.0   \n",
       "3                   0.0         1.0         1.0                     -1.0   \n",
       "4                   0.0         1.0        -1.0                      1.0   \n",
       "\n",
       "      MA5    MA10  ...  em_tweets3_sentiment_lag3  dax_return_lag3  \\\n",
       "0  18.490  19.168  ...                        0.0              1.0   \n",
       "1  18.326  18.919  ...                        0.0             -1.0   \n",
       "2  18.350  18.753  ...                        0.0             -1.0   \n",
       "3  18.524  18.704  ...                        0.0             -1.0   \n",
       "4  18.762  18.757  ...                        0.0             -1.0   \n",
       "\n",
       "   cac_return_lag3  dji_previous_day_return_lag3  MA5_lag3  MA10_lag3  \\\n",
       "0              1.0                          -1.0    19.986     19.824   \n",
       "1             -1.0                           1.0    19.314     19.662   \n",
       "2             -1.0                          -1.0    18.744     19.448   \n",
       "3              1.0                          -1.0    18.490     19.168   \n",
       "4             -1.0                          -1.0    18.326     18.919   \n",
       "\n",
       "   MA20_lag3  MA50_lag3  change_lag3  volatity_lag3  \n",
       "0    19.7955    19.6968     0.000510       0.041525  \n",
       "1    19.6860    19.6720    -0.029513       0.041491  \n",
       "2    19.6450    19.7104    -0.061216       0.041826  \n",
       "3    19.5775    19.8278    -0.016902       0.042109  \n",
       "4    19.5365    19.9306     0.040094       0.036775  \n",
       "\n",
       "[5 rows x 50 columns]"
      ]
     },
     "execution_count": 4,
     "metadata": {},
     "output_type": "execute_result"
    }
   ],
   "source": [
    "train.head()"
   ]
  },
  {
   "cell_type": "code",
   "execution_count": 5,
   "metadata": {},
   "outputs": [
    {
     "data": {
      "text/html": [
       "<div>\n",
       "<style scoped>\n",
       "    .dataframe tbody tr th:only-of-type {\n",
       "        vertical-align: middle;\n",
       "    }\n",
       "\n",
       "    .dataframe tbody tr th {\n",
       "        vertical-align: top;\n",
       "    }\n",
       "\n",
       "    .dataframe thead th {\n",
       "        text-align: right;\n",
       "    }\n",
       "</style>\n",
       "<table border=\"1\" class=\"dataframe\">\n",
       "  <thead>\n",
       "    <tr style=\"text-align: right;\">\n",
       "      <th></th>\n",
       "      <th>Unnamed: 0</th>\n",
       "      <th>date</th>\n",
       "      <th>tsla_intra_target</th>\n",
       "      <th>tsla_sentiment</th>\n",
       "      <th>em_tweets3_sentiment</th>\n",
       "      <th>dax_return</th>\n",
       "      <th>cac_return</th>\n",
       "      <th>dji_previous_day_return</th>\n",
       "      <th>MA5</th>\n",
       "      <th>MA10</th>\n",
       "      <th>...</th>\n",
       "      <th>em_tweets3_sentiment_lag3</th>\n",
       "      <th>dax_return_lag3</th>\n",
       "      <th>cac_return_lag3</th>\n",
       "      <th>dji_previous_day_return_lag3</th>\n",
       "      <th>MA5_lag3</th>\n",
       "      <th>MA10_lag3</th>\n",
       "      <th>MA20_lag3</th>\n",
       "      <th>MA50_lag3</th>\n",
       "      <th>change_lag3</th>\n",
       "      <th>volatity_lag3</th>\n",
       "    </tr>\n",
       "  </thead>\n",
       "  <tbody>\n",
       "    <tr>\n",
       "      <th>0</th>\n",
       "      <td>2000</td>\n",
       "      <td>2018-06-11</td>\n",
       "      <td>0.0</td>\n",
       "      <td>1.0</td>\n",
       "      <td>-1.0</td>\n",
       "      <td>1.0</td>\n",
       "      <td>1.0</td>\n",
       "      <td>1.0</td>\n",
       "      <td>325.623999</td>\n",
       "      <td>321.031000</td>\n",
       "      <td>...</td>\n",
       "      <td>-1.0</td>\n",
       "      <td>1.0</td>\n",
       "      <td>-1.0</td>\n",
       "      <td>-1.0</td>\n",
       "      <td>303.056000</td>\n",
       "      <td>302.525003</td>\n",
       "      <td>309.739502</td>\n",
       "      <td>312.464601</td>\n",
       "      <td>0.092987</td>\n",
       "      <td>0.021095</td>\n",
       "    </tr>\n",
       "    <tr>\n",
       "      <th>1</th>\n",
       "      <td>2001</td>\n",
       "      <td>2018-06-12</td>\n",
       "      <td>1.0</td>\n",
       "      <td>-1.0</td>\n",
       "      <td>-1.0</td>\n",
       "      <td>-1.0</td>\n",
       "      <td>-1.0</td>\n",
       "      <td>-1.0</td>\n",
       "      <td>330.679999</td>\n",
       "      <td>327.666000</td>\n",
       "      <td>...</td>\n",
       "      <td>1.0</td>\n",
       "      <td>-1.0</td>\n",
       "      <td>-1.0</td>\n",
       "      <td>1.0</td>\n",
       "      <td>308.223999</td>\n",
       "      <td>308.426001</td>\n",
       "      <td>313.142502</td>\n",
       "      <td>312.965801</td>\n",
       "      <td>-0.010730</td>\n",
       "      <td>0.028782</td>\n",
       "    </tr>\n",
       "    <tr>\n",
       "      <th>2</th>\n",
       "      <td>2002</td>\n",
       "      <td>2018-06-13</td>\n",
       "      <td>1.0</td>\n",
       "      <td>1.0</td>\n",
       "      <td>1.0</td>\n",
       "      <td>1.0</td>\n",
       "      <td>-1.0</td>\n",
       "      <td>-1.0</td>\n",
       "      <td>339.006000</td>\n",
       "      <td>335.075000</td>\n",
       "      <td>...</td>\n",
       "      <td>1.0</td>\n",
       "      <td>1.0</td>\n",
       "      <td>1.0</td>\n",
       "      <td>1.0</td>\n",
       "      <td>315.296002</td>\n",
       "      <td>313.732001</td>\n",
       "      <td>317.503001</td>\n",
       "      <td>313.301601</td>\n",
       "      <td>0.004955</td>\n",
       "      <td>0.028909</td>\n",
       "    </tr>\n",
       "    <tr>\n",
       "      <th>3</th>\n",
       "      <td>2003</td>\n",
       "      <td>2018-06-14</td>\n",
       "      <td>0.0</td>\n",
       "      <td>-1.0</td>\n",
       "      <td>-1.0</td>\n",
       "      <td>1.0</td>\n",
       "      <td>1.0</td>\n",
       "      <td>-1.0</td>\n",
       "      <td>347.108002</td>\n",
       "      <td>341.216998</td>\n",
       "      <td>...</td>\n",
       "      <td>-1.0</td>\n",
       "      <td>1.0</td>\n",
       "      <td>1.0</td>\n",
       "      <td>1.0</td>\n",
       "      <td>325.623999</td>\n",
       "      <td>321.031000</td>\n",
       "      <td>320.925001</td>\n",
       "      <td>313.656001</td>\n",
       "      <td>0.044455</td>\n",
       "      <td>0.028744</td>\n",
       "    </tr>\n",
       "    <tr>\n",
       "      <th>4</th>\n",
       "      <td>2004</td>\n",
       "      <td>2018-06-15</td>\n",
       "      <td>0.0</td>\n",
       "      <td>0.0</td>\n",
       "      <td>1.0</td>\n",
       "      <td>-1.0</td>\n",
       "      <td>-1.0</td>\n",
       "      <td>-1.0</td>\n",
       "      <td>354.853998</td>\n",
       "      <td>345.488998</td>\n",
       "      <td>...</td>\n",
       "      <td>-1.0</td>\n",
       "      <td>-1.0</td>\n",
       "      <td>-1.0</td>\n",
       "      <td>-1.0</td>\n",
       "      <td>330.679999</td>\n",
       "      <td>327.666000</td>\n",
       "      <td>323.714001</td>\n",
       "      <td>314.169001</td>\n",
       "      <td>0.031623</td>\n",
       "      <td>0.030147</td>\n",
       "    </tr>\n",
       "  </tbody>\n",
       "</table>\n",
       "<p>5 rows × 50 columns</p>\n",
       "</div>"
      ],
      "text/plain": [
       "   Unnamed: 0        date  tsla_intra_target  tsla_sentiment  \\\n",
       "0        2000  2018-06-11                0.0             1.0   \n",
       "1        2001  2018-06-12                1.0            -1.0   \n",
       "2        2002  2018-06-13                1.0             1.0   \n",
       "3        2003  2018-06-14                0.0            -1.0   \n",
       "4        2004  2018-06-15                0.0             0.0   \n",
       "\n",
       "   em_tweets3_sentiment  dax_return  cac_return  dji_previous_day_return  \\\n",
       "0                  -1.0         1.0         1.0                      1.0   \n",
       "1                  -1.0        -1.0        -1.0                     -1.0   \n",
       "2                   1.0         1.0        -1.0                     -1.0   \n",
       "3                  -1.0         1.0         1.0                     -1.0   \n",
       "4                   1.0        -1.0        -1.0                     -1.0   \n",
       "\n",
       "          MA5        MA10  ...  em_tweets3_sentiment_lag3  dax_return_lag3  \\\n",
       "0  325.623999  321.031000  ...                       -1.0              1.0   \n",
       "1  330.679999  327.666000  ...                        1.0             -1.0   \n",
       "2  339.006000  335.075000  ...                        1.0              1.0   \n",
       "3  347.108002  341.216998  ...                       -1.0              1.0   \n",
       "4  354.853998  345.488998  ...                       -1.0             -1.0   \n",
       "\n",
       "   cac_return_lag3  dji_previous_day_return_lag3    MA5_lag3   MA10_lag3  \\\n",
       "0             -1.0                          -1.0  303.056000  302.525003   \n",
       "1             -1.0                           1.0  308.223999  308.426001   \n",
       "2              1.0                           1.0  315.296002  313.732001   \n",
       "3              1.0                           1.0  325.623999  321.031000   \n",
       "4             -1.0                          -1.0  330.679999  327.666000   \n",
       "\n",
       "    MA20_lag3   MA50_lag3  change_lag3  volatity_lag3  \n",
       "0  309.739502  312.464601     0.092987       0.021095  \n",
       "1  313.142502  312.965801    -0.010730       0.028782  \n",
       "2  317.503001  313.301601     0.004955       0.028909  \n",
       "3  320.925001  313.656001     0.044455       0.028744  \n",
       "4  323.714001  314.169001     0.031623       0.030147  \n",
       "\n",
       "[5 rows x 50 columns]"
      ]
     },
     "execution_count": 5,
     "metadata": {},
     "output_type": "execute_result"
    }
   ],
   "source": [
    "test_actual.head()"
   ]
  },
  {
   "cell_type": "code",
   "execution_count": null,
   "metadata": {},
   "outputs": [],
   "source": []
  },
  {
   "cell_type": "markdown",
   "metadata": {},
   "source": [
    "## Data Preparation"
   ]
  },
  {
   "cell_type": "code",
   "execution_count": 6,
   "metadata": {},
   "outputs": [],
   "source": [
    "train = train.drop(['Unnamed: 0'], axis = 1)\n",
    "test_actual = test_actual.drop(['Unnamed: 0'], axis = 1)"
   ]
  },
  {
   "cell_type": "code",
   "execution_count": 7,
   "metadata": {},
   "outputs": [
    {
     "data": {
      "text/html": [
       "<div>\n",
       "<style scoped>\n",
       "    .dataframe tbody tr th:only-of-type {\n",
       "        vertical-align: middle;\n",
       "    }\n",
       "\n",
       "    .dataframe tbody tr th {\n",
       "        vertical-align: top;\n",
       "    }\n",
       "\n",
       "    .dataframe thead th {\n",
       "        text-align: right;\n",
       "    }\n",
       "</style>\n",
       "<table border=\"1\" class=\"dataframe\">\n",
       "  <thead>\n",
       "    <tr style=\"text-align: right;\">\n",
       "      <th></th>\n",
       "      <th>date</th>\n",
       "      <th>tsla_intra_target</th>\n",
       "      <th>tsla_sentiment</th>\n",
       "      <th>em_tweets3_sentiment</th>\n",
       "      <th>dax_return</th>\n",
       "      <th>cac_return</th>\n",
       "      <th>dji_previous_day_return</th>\n",
       "      <th>MA5</th>\n",
       "      <th>MA10</th>\n",
       "      <th>MA20</th>\n",
       "      <th>...</th>\n",
       "      <th>em_tweets3_sentiment_lag3</th>\n",
       "      <th>dax_return_lag3</th>\n",
       "      <th>cac_return_lag3</th>\n",
       "      <th>dji_previous_day_return_lag3</th>\n",
       "      <th>MA5_lag3</th>\n",
       "      <th>MA10_lag3</th>\n",
       "      <th>MA20_lag3</th>\n",
       "      <th>MA50_lag3</th>\n",
       "      <th>change_lag3</th>\n",
       "      <th>volatity_lag3</th>\n",
       "    </tr>\n",
       "  </thead>\n",
       "  <tbody>\n",
       "    <tr>\n",
       "      <th>0</th>\n",
       "      <td>2010-08-12</td>\n",
       "      <td>1.0</td>\n",
       "      <td>0.0</td>\n",
       "      <td>0.0</td>\n",
       "      <td>-1.0</td>\n",
       "      <td>1.0</td>\n",
       "      <td>-1.0</td>\n",
       "      <td>18.490</td>\n",
       "      <td>19.168</td>\n",
       "      <td>19.5775</td>\n",
       "      <td>...</td>\n",
       "      <td>0.0</td>\n",
       "      <td>1.0</td>\n",
       "      <td>1.0</td>\n",
       "      <td>-1.0</td>\n",
       "      <td>19.986</td>\n",
       "      <td>19.824</td>\n",
       "      <td>19.7955</td>\n",
       "      <td>19.6968</td>\n",
       "      <td>0.000510</td>\n",
       "      <td>0.041525</td>\n",
       "    </tr>\n",
       "    <tr>\n",
       "      <th>1</th>\n",
       "      <td>2010-08-13</td>\n",
       "      <td>0.0</td>\n",
       "      <td>0.0</td>\n",
       "      <td>0.0</td>\n",
       "      <td>-1.0</td>\n",
       "      <td>-1.0</td>\n",
       "      <td>-1.0</td>\n",
       "      <td>18.326</td>\n",
       "      <td>18.919</td>\n",
       "      <td>19.5365</td>\n",
       "      <td>...</td>\n",
       "      <td>0.0</td>\n",
       "      <td>-1.0</td>\n",
       "      <td>-1.0</td>\n",
       "      <td>1.0</td>\n",
       "      <td>19.314</td>\n",
       "      <td>19.662</td>\n",
       "      <td>19.6860</td>\n",
       "      <td>19.6720</td>\n",
       "      <td>-0.029513</td>\n",
       "      <td>0.041491</td>\n",
       "    </tr>\n",
       "    <tr>\n",
       "      <th>2</th>\n",
       "      <td>2010-08-16</td>\n",
       "      <td>0.0</td>\n",
       "      <td>0.0</td>\n",
       "      <td>0.0</td>\n",
       "      <td>-1.0</td>\n",
       "      <td>-1.0</td>\n",
       "      <td>-1.0</td>\n",
       "      <td>18.350</td>\n",
       "      <td>18.753</td>\n",
       "      <td>19.5065</td>\n",
       "      <td>...</td>\n",
       "      <td>0.0</td>\n",
       "      <td>-1.0</td>\n",
       "      <td>-1.0</td>\n",
       "      <td>-1.0</td>\n",
       "      <td>18.744</td>\n",
       "      <td>19.448</td>\n",
       "      <td>19.6450</td>\n",
       "      <td>19.7104</td>\n",
       "      <td>-0.061216</td>\n",
       "      <td>0.041826</td>\n",
       "    </tr>\n",
       "    <tr>\n",
       "      <th>3</th>\n",
       "      <td>2010-08-17</td>\n",
       "      <td>0.0</td>\n",
       "      <td>0.0</td>\n",
       "      <td>0.0</td>\n",
       "      <td>1.0</td>\n",
       "      <td>1.0</td>\n",
       "      <td>-1.0</td>\n",
       "      <td>18.524</td>\n",
       "      <td>18.704</td>\n",
       "      <td>19.4945</td>\n",
       "      <td>...</td>\n",
       "      <td>0.0</td>\n",
       "      <td>-1.0</td>\n",
       "      <td>1.0</td>\n",
       "      <td>-1.0</td>\n",
       "      <td>18.490</td>\n",
       "      <td>19.168</td>\n",
       "      <td>19.5775</td>\n",
       "      <td>19.8278</td>\n",
       "      <td>-0.016902</td>\n",
       "      <td>0.042109</td>\n",
       "    </tr>\n",
       "    <tr>\n",
       "      <th>4</th>\n",
       "      <td>2010-08-18</td>\n",
       "      <td>1.0</td>\n",
       "      <td>0.0</td>\n",
       "      <td>0.0</td>\n",
       "      <td>1.0</td>\n",
       "      <td>-1.0</td>\n",
       "      <td>1.0</td>\n",
       "      <td>18.762</td>\n",
       "      <td>18.757</td>\n",
       "      <td>19.4420</td>\n",
       "      <td>...</td>\n",
       "      <td>0.0</td>\n",
       "      <td>-1.0</td>\n",
       "      <td>-1.0</td>\n",
       "      <td>-1.0</td>\n",
       "      <td>18.326</td>\n",
       "      <td>18.919</td>\n",
       "      <td>19.5365</td>\n",
       "      <td>19.9306</td>\n",
       "      <td>0.040094</td>\n",
       "      <td>0.036775</td>\n",
       "    </tr>\n",
       "  </tbody>\n",
       "</table>\n",
       "<p>5 rows × 49 columns</p>\n",
       "</div>"
      ],
      "text/plain": [
       "         date  tsla_intra_target  tsla_sentiment  em_tweets3_sentiment  \\\n",
       "0  2010-08-12                1.0             0.0                   0.0   \n",
       "1  2010-08-13                0.0             0.0                   0.0   \n",
       "2  2010-08-16                0.0             0.0                   0.0   \n",
       "3  2010-08-17                0.0             0.0                   0.0   \n",
       "4  2010-08-18                1.0             0.0                   0.0   \n",
       "\n",
       "   dax_return  cac_return  dji_previous_day_return     MA5    MA10     MA20  \\\n",
       "0        -1.0         1.0                     -1.0  18.490  19.168  19.5775   \n",
       "1        -1.0        -1.0                     -1.0  18.326  18.919  19.5365   \n",
       "2        -1.0        -1.0                     -1.0  18.350  18.753  19.5065   \n",
       "3         1.0         1.0                     -1.0  18.524  18.704  19.4945   \n",
       "4         1.0        -1.0                      1.0  18.762  18.757  19.4420   \n",
       "\n",
       "   ...  em_tweets3_sentiment_lag3  dax_return_lag3  cac_return_lag3  \\\n",
       "0  ...                        0.0              1.0              1.0   \n",
       "1  ...                        0.0             -1.0             -1.0   \n",
       "2  ...                        0.0             -1.0             -1.0   \n",
       "3  ...                        0.0             -1.0              1.0   \n",
       "4  ...                        0.0             -1.0             -1.0   \n",
       "\n",
       "   dji_previous_day_return_lag3  MA5_lag3  MA10_lag3  MA20_lag3  MA50_lag3  \\\n",
       "0                          -1.0    19.986     19.824    19.7955    19.6968   \n",
       "1                           1.0    19.314     19.662    19.6860    19.6720   \n",
       "2                          -1.0    18.744     19.448    19.6450    19.7104   \n",
       "3                          -1.0    18.490     19.168    19.5775    19.8278   \n",
       "4                          -1.0    18.326     18.919    19.5365    19.9306   \n",
       "\n",
       "   change_lag3  volatity_lag3  \n",
       "0     0.000510       0.041525  \n",
       "1    -0.029513       0.041491  \n",
       "2    -0.061216       0.041826  \n",
       "3    -0.016902       0.042109  \n",
       "4     0.040094       0.036775  \n",
       "\n",
       "[5 rows x 49 columns]"
      ]
     },
     "execution_count": 7,
     "metadata": {},
     "output_type": "execute_result"
    }
   ],
   "source": [
    "train.head()"
   ]
  },
  {
   "cell_type": "code",
   "execution_count": 8,
   "metadata": {},
   "outputs": [
    {
     "data": {
      "text/html": [
       "<div>\n",
       "<style scoped>\n",
       "    .dataframe tbody tr th:only-of-type {\n",
       "        vertical-align: middle;\n",
       "    }\n",
       "\n",
       "    .dataframe tbody tr th {\n",
       "        vertical-align: top;\n",
       "    }\n",
       "\n",
       "    .dataframe thead th {\n",
       "        text-align: right;\n",
       "    }\n",
       "</style>\n",
       "<table border=\"1\" class=\"dataframe\">\n",
       "  <thead>\n",
       "    <tr style=\"text-align: right;\">\n",
       "      <th></th>\n",
       "      <th>date</th>\n",
       "      <th>tsla_intra_target</th>\n",
       "      <th>tsla_sentiment</th>\n",
       "      <th>em_tweets3_sentiment</th>\n",
       "      <th>dax_return</th>\n",
       "      <th>cac_return</th>\n",
       "      <th>dji_previous_day_return</th>\n",
       "      <th>MA5</th>\n",
       "      <th>MA10</th>\n",
       "      <th>MA20</th>\n",
       "      <th>...</th>\n",
       "      <th>em_tweets3_sentiment_lag3</th>\n",
       "      <th>dax_return_lag3</th>\n",
       "      <th>cac_return_lag3</th>\n",
       "      <th>dji_previous_day_return_lag3</th>\n",
       "      <th>MA5_lag3</th>\n",
       "      <th>MA10_lag3</th>\n",
       "      <th>MA20_lag3</th>\n",
       "      <th>MA50_lag3</th>\n",
       "      <th>change_lag3</th>\n",
       "      <th>volatity_lag3</th>\n",
       "    </tr>\n",
       "  </thead>\n",
       "  <tbody>\n",
       "    <tr>\n",
       "      <th>0</th>\n",
       "      <td>2018-06-11</td>\n",
       "      <td>0.0</td>\n",
       "      <td>1.0</td>\n",
       "      <td>-1.0</td>\n",
       "      <td>1.0</td>\n",
       "      <td>1.0</td>\n",
       "      <td>1.0</td>\n",
       "      <td>325.623999</td>\n",
       "      <td>321.031000</td>\n",
       "      <td>320.925001</td>\n",
       "      <td>...</td>\n",
       "      <td>-1.0</td>\n",
       "      <td>1.0</td>\n",
       "      <td>-1.0</td>\n",
       "      <td>-1.0</td>\n",
       "      <td>303.056000</td>\n",
       "      <td>302.525003</td>\n",
       "      <td>309.739502</td>\n",
       "      <td>312.464601</td>\n",
       "      <td>0.092987</td>\n",
       "      <td>0.021095</td>\n",
       "    </tr>\n",
       "    <tr>\n",
       "      <th>1</th>\n",
       "      <td>2018-06-12</td>\n",
       "      <td>1.0</td>\n",
       "      <td>-1.0</td>\n",
       "      <td>-1.0</td>\n",
       "      <td>-1.0</td>\n",
       "      <td>-1.0</td>\n",
       "      <td>-1.0</td>\n",
       "      <td>330.679999</td>\n",
       "      <td>327.666000</td>\n",
       "      <td>323.714001</td>\n",
       "      <td>...</td>\n",
       "      <td>1.0</td>\n",
       "      <td>-1.0</td>\n",
       "      <td>-1.0</td>\n",
       "      <td>1.0</td>\n",
       "      <td>308.223999</td>\n",
       "      <td>308.426001</td>\n",
       "      <td>313.142502</td>\n",
       "      <td>312.965801</td>\n",
       "      <td>-0.010730</td>\n",
       "      <td>0.028782</td>\n",
       "    </tr>\n",
       "    <tr>\n",
       "      <th>2</th>\n",
       "      <td>2018-06-13</td>\n",
       "      <td>1.0</td>\n",
       "      <td>1.0</td>\n",
       "      <td>1.0</td>\n",
       "      <td>1.0</td>\n",
       "      <td>-1.0</td>\n",
       "      <td>-1.0</td>\n",
       "      <td>339.006000</td>\n",
       "      <td>335.075000</td>\n",
       "      <td>326.422002</td>\n",
       "      <td>...</td>\n",
       "      <td>1.0</td>\n",
       "      <td>1.0</td>\n",
       "      <td>1.0</td>\n",
       "      <td>1.0</td>\n",
       "      <td>315.296002</td>\n",
       "      <td>313.732001</td>\n",
       "      <td>317.503001</td>\n",
       "      <td>313.301601</td>\n",
       "      <td>0.004955</td>\n",
       "      <td>0.028909</td>\n",
       "    </tr>\n",
       "    <tr>\n",
       "      <th>3</th>\n",
       "      <td>2018-06-14</td>\n",
       "      <td>0.0</td>\n",
       "      <td>-1.0</td>\n",
       "      <td>-1.0</td>\n",
       "      <td>1.0</td>\n",
       "      <td>1.0</td>\n",
       "      <td>-1.0</td>\n",
       "      <td>347.108002</td>\n",
       "      <td>341.216998</td>\n",
       "      <td>329.334001</td>\n",
       "      <td>...</td>\n",
       "      <td>-1.0</td>\n",
       "      <td>1.0</td>\n",
       "      <td>1.0</td>\n",
       "      <td>1.0</td>\n",
       "      <td>325.623999</td>\n",
       "      <td>321.031000</td>\n",
       "      <td>320.925001</td>\n",
       "      <td>313.656001</td>\n",
       "      <td>0.044455</td>\n",
       "      <td>0.028744</td>\n",
       "    </tr>\n",
       "    <tr>\n",
       "      <th>4</th>\n",
       "      <td>2018-06-15</td>\n",
       "      <td>0.0</td>\n",
       "      <td>0.0</td>\n",
       "      <td>1.0</td>\n",
       "      <td>-1.0</td>\n",
       "      <td>-1.0</td>\n",
       "      <td>-1.0</td>\n",
       "      <td>354.853998</td>\n",
       "      <td>345.488998</td>\n",
       "      <td>331.973001</td>\n",
       "      <td>...</td>\n",
       "      <td>-1.0</td>\n",
       "      <td>-1.0</td>\n",
       "      <td>-1.0</td>\n",
       "      <td>-1.0</td>\n",
       "      <td>330.679999</td>\n",
       "      <td>327.666000</td>\n",
       "      <td>323.714001</td>\n",
       "      <td>314.169001</td>\n",
       "      <td>0.031623</td>\n",
       "      <td>0.030147</td>\n",
       "    </tr>\n",
       "  </tbody>\n",
       "</table>\n",
       "<p>5 rows × 49 columns</p>\n",
       "</div>"
      ],
      "text/plain": [
       "         date  tsla_intra_target  tsla_sentiment  em_tweets3_sentiment  \\\n",
       "0  2018-06-11                0.0             1.0                  -1.0   \n",
       "1  2018-06-12                1.0            -1.0                  -1.0   \n",
       "2  2018-06-13                1.0             1.0                   1.0   \n",
       "3  2018-06-14                0.0            -1.0                  -1.0   \n",
       "4  2018-06-15                0.0             0.0                   1.0   \n",
       "\n",
       "   dax_return  cac_return  dji_previous_day_return         MA5        MA10  \\\n",
       "0         1.0         1.0                      1.0  325.623999  321.031000   \n",
       "1        -1.0        -1.0                     -1.0  330.679999  327.666000   \n",
       "2         1.0        -1.0                     -1.0  339.006000  335.075000   \n",
       "3         1.0         1.0                     -1.0  347.108002  341.216998   \n",
       "4        -1.0        -1.0                     -1.0  354.853998  345.488998   \n",
       "\n",
       "         MA20  ...  em_tweets3_sentiment_lag3  dax_return_lag3  \\\n",
       "0  320.925001  ...                       -1.0              1.0   \n",
       "1  323.714001  ...                        1.0             -1.0   \n",
       "2  326.422002  ...                        1.0              1.0   \n",
       "3  329.334001  ...                       -1.0              1.0   \n",
       "4  331.973001  ...                       -1.0             -1.0   \n",
       "\n",
       "   cac_return_lag3  dji_previous_day_return_lag3    MA5_lag3   MA10_lag3  \\\n",
       "0             -1.0                          -1.0  303.056000  302.525003   \n",
       "1             -1.0                           1.0  308.223999  308.426001   \n",
       "2              1.0                           1.0  315.296002  313.732001   \n",
       "3              1.0                           1.0  325.623999  321.031000   \n",
       "4             -1.0                          -1.0  330.679999  327.666000   \n",
       "\n",
       "    MA20_lag3   MA50_lag3  change_lag3  volatity_lag3  \n",
       "0  309.739502  312.464601     0.092987       0.021095  \n",
       "1  313.142502  312.965801    -0.010730       0.028782  \n",
       "2  317.503001  313.301601     0.004955       0.028909  \n",
       "3  320.925001  313.656001     0.044455       0.028744  \n",
       "4  323.714001  314.169001     0.031623       0.030147  \n",
       "\n",
       "[5 rows x 49 columns]"
      ]
     },
     "execution_count": 8,
     "metadata": {},
     "output_type": "execute_result"
    }
   ],
   "source": [
    "test_actual.head()"
   ]
  },
  {
   "cell_type": "code",
   "execution_count": 9,
   "metadata": {},
   "outputs": [
    {
     "data": {
      "text/plain": [
       "date                            0\n",
       "tsla_intra_target               0\n",
       "tsla_sentiment                  0\n",
       "em_tweets3_sentiment            0\n",
       "dax_return                      0\n",
       "cac_return                      0\n",
       "dji_previous_day_return         0\n",
       "MA5                             0\n",
       "MA10                            0\n",
       "MA20                            0\n",
       "MA50                            0\n",
       "change                          0\n",
       "volatility                      0\n",
       "tsla_intra_target_lag1          0\n",
       "tsla_sentiment_lag1             0\n",
       "em_tweets3_sentiment_lag1       0\n",
       "dax_return_lag1                 0\n",
       "cac_return_lag1                 0\n",
       "dji_previous_day_return_lag1    0\n",
       "MA5_lag1                        0\n",
       "MA10_lag1                       0\n",
       "MA20_lag1                       0\n",
       "MA50_lag1                       0\n",
       "change_lag1                     0\n",
       "volatity_lag1                   0\n",
       "tsla_intra_target_lag2          0\n",
       "tsla_sentiment_lag2             0\n",
       "em_tweets3_sentiment_lag2       0\n",
       "dax_return_lag2                 0\n",
       "cac_return_lag2                 0\n",
       "dji_previous_day_return_lag2    0\n",
       "MA5_lag2                        0\n",
       "MA10_lag2                       0\n",
       "MA20_lag2                       0\n",
       "MA50_lag2                       0\n",
       "change_lag2                     0\n",
       "volatity_lag2                   0\n",
       "tsla_intra_target_lag3          0\n",
       "tsla_sentiment_lag3             0\n",
       "em_tweets3_sentiment_lag3       0\n",
       "dax_return_lag3                 0\n",
       "cac_return_lag3                 0\n",
       "dji_previous_day_return_lag3    0\n",
       "MA5_lag3                        0\n",
       "MA10_lag3                       0\n",
       "MA20_lag3                       0\n",
       "MA50_lag3                       0\n",
       "change_lag3                     0\n",
       "volatity_lag3                   0\n",
       "dtype: int64"
      ]
     },
     "execution_count": 9,
     "metadata": {},
     "output_type": "execute_result"
    }
   ],
   "source": [
    "train.isnull().sum()"
   ]
  },
  {
   "cell_type": "code",
   "execution_count": 10,
   "metadata": {},
   "outputs": [],
   "source": [
    "train['date']=pd.to_datetime(train['date'])"
   ]
  },
  {
   "cell_type": "code",
   "execution_count": 11,
   "metadata": {},
   "outputs": [],
   "source": [
    "test_actual['date']=pd.to_datetime(test_actual['date'])"
   ]
  },
  {
   "cell_type": "markdown",
   "metadata": {},
   "source": [
    "train.shape, test_actual.shape"
   ]
  },
  {
   "cell_type": "code",
   "execution_count": 12,
   "metadata": {},
   "outputs": [],
   "source": [
    "# X and Y variable\n",
    "X = train.drop(columns = ['tsla_intra_target', 'date']) \n",
    "y = train['tsla_intra_target']\n"
   ]
  },
  {
   "cell_type": "code",
   "execution_count": 13,
   "metadata": {},
   "outputs": [],
   "source": [
    "X_testuntrain = test_actual.drop(columns = ['tsla_intra_target','date']) \n",
    "y_testuntrain = test_actual['tsla_intra_target']"
   ]
  },
  {
   "cell_type": "code",
   "execution_count": 14,
   "metadata": {},
   "outputs": [],
   "source": [
    "#Train Test split \n",
    "X_train, X_valid, y_train, y_valid = train_test_split(X,\n",
    "                                                    y,\n",
    "                                                    test_size=0.25,\n",
    "                                                    random_state=42,\n",
    "                                                    stratify=y)"
   ]
  },
  {
   "cell_type": "code",
   "execution_count": 15,
   "metadata": {},
   "outputs": [],
   "source": [
    "#X_test = test.drop(['    '], axis=1)"
   ]
  },
  {
   "cell_type": "markdown",
   "metadata": {},
   "source": [
    "## Baseline Accuracy"
   ]
  },
  {
   "cell_type": "code",
   "execution_count": 16,
   "metadata": {},
   "outputs": [
    {
     "data": {
      "text/plain": [
       "1.0    0.508463\n",
       "0.0    0.491537\n",
       "Name: tsla_intra_target, dtype: float64"
      ]
     },
     "execution_count": 16,
     "metadata": {},
     "output_type": "execute_result"
    }
   ],
   "source": [
    "y_train.value_counts(normalize = True)"
   ]
  },
  {
   "cell_type": "markdown",
   "metadata": {},
   "source": [
    "We observe above that the baseline accuracy (for predicting an intraday positive return for Tesla stock) is approximately 51.18%. The naive model will predict all 1s and will be correct 51.18% of the time."
   ]
  },
  {
   "cell_type": "markdown",
   "metadata": {},
   "source": [
    "## Balanced Class"
   ]
  },
  {
   "cell_type": "markdown",
   "metadata": {},
   "source": [
    "The baseline accuracy above indicates that the **training set is balanced** \n",
    "\n",
    "As this is a classification problem, we foresee that our methods should perform relatively well given roughly equal-sized class."
   ]
  },
  {
   "cell_type": "markdown",
   "metadata": {},
   "source": [
    "## Randomised Search for the Best Classifier"
   ]
  },
  {
   "cell_type": "markdown",
   "metadata": {},
   "source": [
    "To manage the total time and resources used to tune the hyperparameters, we use the RandomizedSearchCV to randomly find the optimal parameters for each of the models based on the training dataset, with a maximum of 50 iterations. We specify the range of parameters to be used by RandomizedSearchCV for each classifer, based on experience and past results of running the RandomizedSearchCV.\n",
    "\n",
    "We obtain the AUC score on the validation dataset for each classifier using the optimal parameters identified by RandomizedSearchCV. We will select the best classifier based on the **highest AUC score** found."
   ]
  },
  {
   "cell_type": "code",
   "execution_count": 17,
   "metadata": {},
   "outputs": [],
   "source": [
    "# We fit a StandardScaler() object on just the training dataset,\n",
    "# then use the object to transform both the training and validation datasets\n",
    "\n",
    "ss = StandardScaler()\n",
    "X_train_sc = ss.fit_transform(X_train) #fit with X train data and use it to transform both X_train and X_valid data\n",
    "X_valid_sc = ss.transform(X_valid)\n",
    "\n",
    "X_testuntrain_sc = ss.transform(X_testuntrain) #use the same fit above with X train data on the untrained (test_actual) data set\n"
   ]
  },
  {
   "cell_type": "code",
   "execution_count": 18,
   "metadata": {},
   "outputs": [],
   "source": [
    "# We have selected the models below for modelling purposes.\n",
    "estimators = {\n",
    "    'lr': LogisticRegression(random_state=42),\n",
    "    'knn': KNeighborsClassifier(),\n",
    "    'ada': AdaBoostClassifier(random_state=42),\n",
    "    'dtree': DecisionTreeClassifier(random_state=42),\n",
    "    'rf': RandomForestClassifier(random_state=42),\n",
    "    'etree': ExtraTreesClassifier(random_state=42),\n",
    "    'xgb': XGBClassifier(random_state=42)\n",
    "}.items()"
   ]
  },
  {
   "cell_type": "code",
   "execution_count": 98,
   "metadata": {},
   "outputs": [],
   "source": [
    "params = {\n",
    "    'lr': {\n",
    "        'lr__solver': ['liblinear'],\n",
    "        'lr__penalty': ['l1', 'l2', 'elasticnet'],\n",
    "        'lr__C': np.logspace(1, 5, 20)\n",
    "    },\n",
    "    \n",
    "    'knn': {\n",
    "        'knn__n_neighbors': [3, 5, 7, 9],\n",
    "        'weights':['uniform','distance'],\n",
    "        'algorithm':['ball_tree','kd_tree','brute','auto'],\n",
    "        'leaf__size':range(1,152),\n",
    "        'metric':['euclidean','manhatten','minkowski']\n",
    " },\n",
    "    'ada': {\n",
    "        'ada__n_estimators': [500, 1000, 1500, 2000],\n",
    "        'ada__learning_rate': [1, 1.5, 2]\n",
    "    },\n",
    "    'dtree': {\n",
    "        'dtree__max_depth': [ 10 ,15, 25, 50],\n",
    "        'dtree__max_features': ['auto', 'log2', None, 50, 100],\n",
    "        'dtree__min_samples_split': [5, 10, 20, 30],\n",
    "        'dtree__min_samples_leaf': [2, 3, 4, 5]\n",
    "    },\n",
    "     'rf': {\n",
    "         'rf__max_depth': [1000, 2000, 3000, 4000],\n",
    "         'rf__max_features': ['auto', 'log2', None, 50],\n",
    "         'rf__min_samples_split': [2, 4, 6],\n",
    "         'rf__min_samples_leaf': [1, 3, 5]\n",
    "     },\n",
    "     'etree': {\n",
    "         'etree__max_depth': [40, 50, 60, 70],\n",
    "         'etree__max_features': ['auto', 'log2', None, 50],\n",
    "         'etree__min_samples_split': [2, 4, 6],\n",
    "         'etree__min_samples_leaf': [1, 2, 3]\n",
    "     },\n",
    "    \n",
    "    \n",
    "'xgb' : {\n",
    "    'xgb__learning_rate': [1, 1.5,2],\n",
    "    'xgb__n_estimators': [200,300, 400, 500],\n",
    "    'xgb__min_samples_leaf': [1, 2, 3],\n",
    "    'xgb__max_depth': [3,5,7,9,10],\n",
    "    'xgb__min_child_weight':[1],\n",
    "    'xgb__gamma': [0,1,2,3],\n",
    "    'xgb__subsample':[0.6, 0.8, 1],\n",
    "    'xgb__colsample_bytree':[0.5, 0.7, 0.8,1],\n",
    "    'xgb__nthread':[-1,1,2,3,4],\n",
    "    'xgb__scale_pos_weight':[1]  \n",
    "},\n",
    "    \n",
    "    \n",
    "}\n",
    "\n"
   ]
  },
  {
   "cell_type": "code",
   "execution_count": null,
   "metadata": {},
   "outputs": [],
   "source": []
  },
  {
   "cell_type": "markdown",
   "metadata": {},
   "source": [
    "We now use RandomizedSearchCV to select the optimal parameters for each classifier that produces the best mean accuracy score based on the training dataset."
   ]
  },
  {
   "cell_type": "code",
   "execution_count": 99,
   "metadata": {
    "scrolled": false
   },
   "outputs": [
    {
     "name": "stdout",
     "output_type": "stream",
     "text": [
      "Fitting 5 folds for each of 50 candidates, totalling 250 fits\n"
     ]
    },
    {
     "name": "stderr",
     "output_type": "stream",
     "text": [
      "[Parallel(n_jobs=-1)]: Using backend LokyBackend with 4 concurrent workers.\n",
      "[Parallel(n_jobs=-1)]: Done  42 tasks      | elapsed:  1.9min\n",
      "[Parallel(n_jobs=-1)]: Done 192 tasks      | elapsed:  4.6min\n",
      "[Parallel(n_jobs=-1)]: Done 243 out of 250 | elapsed:  5.0min remaining:    8.7s\n",
      "[Parallel(n_jobs=-1)]: Done 250 out of 250 | elapsed:  5.3min finished\n",
      "[Parallel(n_jobs=-1)]: Using backend LokyBackend with 4 concurrent workers.\n"
     ]
    },
    {
     "name": "stdout",
     "output_type": "stream",
     "text": [
      "Model:  lr\n",
      "Best parameters: {'lr__solver': 'liblinear', 'lr__penalty': 'l2', 'lr__C': 10.0}\n",
      "Best AUC cross validation score: 0.905221099456622\n",
      "Training dataset accuracy: 0.8469871360866622\n",
      "Validation dataset accuracy: 0.8235294117647058\n",
      "Training dataset AUC score: 0.8467598757212607\n",
      "Validation dataset AUC score: 0.8232112870830727\n",
      "Validation dataset sensitivity 0.8406374501992032\n",
      "Validation dataset specificity 0.8057851239669421\n",
      "\n",
      "Fitting 5 folds for each of 50 candidates, totalling 250 fits\n"
     ]
    },
    {
     "ename": "ValueError",
     "evalue": "Invalid parameter weights for estimator Pipeline(memory=None,\n         steps=[('knn',\n                 KNeighborsClassifier(algorithm='auto', leaf_size=30,\n                                      metric='minkowski', metric_params=None,\n                                      n_jobs=None, n_neighbors=5, p=2,\n                                      weights='uniform'))],\n         verbose=False). Check the list of available parameters with `estimator.get_params().keys()`.",
     "output_type": "error",
     "traceback": [
      "\u001b[0;31m---------------------------------------------------------------------------\u001b[0m",
      "\u001b[0;31m_RemoteTraceback\u001b[0m                          Traceback (most recent call last)",
      "\u001b[0;31m_RemoteTraceback\u001b[0m: \n\"\"\"\nTraceback (most recent call last):\n  File \"/Users/joyceooi/anaconda3/lib/python3.7/site-packages/joblib/externals/loky/process_executor.py\", line 418, in _process_worker\n    r = call_item()\n  File \"/Users/joyceooi/anaconda3/lib/python3.7/site-packages/joblib/externals/loky/process_executor.py\", line 272, in __call__\n    return self.fn(*self.args, **self.kwargs)\n  File \"/Users/joyceooi/anaconda3/lib/python3.7/site-packages/joblib/_parallel_backends.py\", line 608, in __call__\n    return self.func(*args, **kwargs)\n  File \"/Users/joyceooi/anaconda3/lib/python3.7/site-packages/joblib/parallel.py\", line 256, in __call__\n    for func, args, kwargs in self.items]\n  File \"/Users/joyceooi/anaconda3/lib/python3.7/site-packages/joblib/parallel.py\", line 256, in <listcomp>\n    for func, args, kwargs in self.items]\n  File \"/Users/joyceooi/anaconda3/lib/python3.7/site-packages/sklearn/model_selection/_validation.py\", line 504, in _fit_and_score\n    estimator = estimator.set_params(**cloned_parameters)\n  File \"/Users/joyceooi/anaconda3/lib/python3.7/site-packages/sklearn/pipeline.py\", line 163, in set_params\n    self._set_params('steps', **kwargs)\n  File \"/Users/joyceooi/anaconda3/lib/python3.7/site-packages/sklearn/utils/metaestimators.py\", line 50, in _set_params\n    super().set_params(**params)\n  File \"/Users/joyceooi/anaconda3/lib/python3.7/site-packages/sklearn/base.py\", line 236, in set_params\n    (key, self))\nValueError: Invalid parameter weights for estimator Pipeline(memory=None,\n         steps=[('knn',\n                 KNeighborsClassifier(algorithm='auto', leaf_size=30,\n                                      metric='minkowski', metric_params=None,\n                                      n_jobs=None, n_neighbors=5, p=2,\n                                      weights='uniform'))],\n         verbose=False). Check the list of available parameters with `estimator.get_params().keys()`.\n\"\"\"",
      "\nThe above exception was the direct cause of the following exception:\n",
      "\u001b[0;31mValueError\u001b[0m                                Traceback (most recent call last)",
      "\u001b[0;32m<timed exec>\u001b[0m in \u001b[0;36m<module>\u001b[0;34m\u001b[0m\n",
      "\u001b[0;32m~/anaconda3/lib/python3.7/site-packages/sklearn/model_selection/_search.py\u001b[0m in \u001b[0;36mfit\u001b[0;34m(self, X, y, groups, **fit_params)\u001b[0m\n\u001b[1;32m    708\u001b[0m                 \u001b[0;32mreturn\u001b[0m \u001b[0mresults\u001b[0m\u001b[0;34m\u001b[0m\u001b[0;34m\u001b[0m\u001b[0m\n\u001b[1;32m    709\u001b[0m \u001b[0;34m\u001b[0m\u001b[0m\n\u001b[0;32m--> 710\u001b[0;31m             \u001b[0mself\u001b[0m\u001b[0;34m.\u001b[0m\u001b[0m_run_search\u001b[0m\u001b[0;34m(\u001b[0m\u001b[0mevaluate_candidates\u001b[0m\u001b[0;34m)\u001b[0m\u001b[0;34m\u001b[0m\u001b[0;34m\u001b[0m\u001b[0m\n\u001b[0m\u001b[1;32m    711\u001b[0m \u001b[0;34m\u001b[0m\u001b[0m\n\u001b[1;32m    712\u001b[0m         \u001b[0;31m# For multi-metric evaluation, store the best_index_, best_params_ and\u001b[0m\u001b[0;34m\u001b[0m\u001b[0;34m\u001b[0m\u001b[0;34m\u001b[0m\u001b[0m\n",
      "\u001b[0;32m~/anaconda3/lib/python3.7/site-packages/sklearn/model_selection/_search.py\u001b[0m in \u001b[0;36m_run_search\u001b[0;34m(self, evaluate_candidates)\u001b[0m\n\u001b[1;32m   1482\u001b[0m         evaluate_candidates(ParameterSampler(\n\u001b[1;32m   1483\u001b[0m             \u001b[0mself\u001b[0m\u001b[0;34m.\u001b[0m\u001b[0mparam_distributions\u001b[0m\u001b[0;34m,\u001b[0m \u001b[0mself\u001b[0m\u001b[0;34m.\u001b[0m\u001b[0mn_iter\u001b[0m\u001b[0;34m,\u001b[0m\u001b[0;34m\u001b[0m\u001b[0;34m\u001b[0m\u001b[0m\n\u001b[0;32m-> 1484\u001b[0;31m             random_state=self.random_state))\n\u001b[0m",
      "\u001b[0;32m~/anaconda3/lib/python3.7/site-packages/sklearn/model_selection/_search.py\u001b[0m in \u001b[0;36mevaluate_candidates\u001b[0;34m(candidate_params)\u001b[0m\n\u001b[1;32m    687\u001b[0m                                \u001b[0;32mfor\u001b[0m \u001b[0mparameters\u001b[0m\u001b[0;34m,\u001b[0m \u001b[0;34m(\u001b[0m\u001b[0mtrain\u001b[0m\u001b[0;34m,\u001b[0m \u001b[0mtest\u001b[0m\u001b[0;34m)\u001b[0m\u001b[0;34m\u001b[0m\u001b[0;34m\u001b[0m\u001b[0m\n\u001b[1;32m    688\u001b[0m                                in product(candidate_params,\n\u001b[0;32m--> 689\u001b[0;31m                                           cv.split(X, y, groups)))\n\u001b[0m\u001b[1;32m    690\u001b[0m \u001b[0;34m\u001b[0m\u001b[0m\n\u001b[1;32m    691\u001b[0m                 \u001b[0;32mif\u001b[0m \u001b[0mlen\u001b[0m\u001b[0;34m(\u001b[0m\u001b[0mout\u001b[0m\u001b[0;34m)\u001b[0m \u001b[0;34m<\u001b[0m \u001b[0;36m1\u001b[0m\u001b[0;34m:\u001b[0m\u001b[0;34m\u001b[0m\u001b[0;34m\u001b[0m\u001b[0m\n",
      "\u001b[0;32m~/anaconda3/lib/python3.7/site-packages/joblib/parallel.py\u001b[0m in \u001b[0;36m__call__\u001b[0;34m(self, iterable)\u001b[0m\n\u001b[1;32m   1015\u001b[0m \u001b[0;34m\u001b[0m\u001b[0m\n\u001b[1;32m   1016\u001b[0m             \u001b[0;32mwith\u001b[0m \u001b[0mself\u001b[0m\u001b[0;34m.\u001b[0m\u001b[0m_backend\u001b[0m\u001b[0;34m.\u001b[0m\u001b[0mretrieval_context\u001b[0m\u001b[0;34m(\u001b[0m\u001b[0;34m)\u001b[0m\u001b[0;34m:\u001b[0m\u001b[0;34m\u001b[0m\u001b[0;34m\u001b[0m\u001b[0m\n\u001b[0;32m-> 1017\u001b[0;31m                 \u001b[0mself\u001b[0m\u001b[0;34m.\u001b[0m\u001b[0mretrieve\u001b[0m\u001b[0;34m(\u001b[0m\u001b[0;34m)\u001b[0m\u001b[0;34m\u001b[0m\u001b[0;34m\u001b[0m\u001b[0m\n\u001b[0m\u001b[1;32m   1018\u001b[0m             \u001b[0;31m# Make sure that we get a last message telling us we are done\u001b[0m\u001b[0;34m\u001b[0m\u001b[0;34m\u001b[0m\u001b[0;34m\u001b[0m\u001b[0m\n\u001b[1;32m   1019\u001b[0m             \u001b[0melapsed_time\u001b[0m \u001b[0;34m=\u001b[0m \u001b[0mtime\u001b[0m\u001b[0;34m.\u001b[0m\u001b[0mtime\u001b[0m\u001b[0;34m(\u001b[0m\u001b[0;34m)\u001b[0m \u001b[0;34m-\u001b[0m \u001b[0mself\u001b[0m\u001b[0;34m.\u001b[0m\u001b[0m_start_time\u001b[0m\u001b[0;34m\u001b[0m\u001b[0;34m\u001b[0m\u001b[0m\n",
      "\u001b[0;32m~/anaconda3/lib/python3.7/site-packages/joblib/parallel.py\u001b[0m in \u001b[0;36mretrieve\u001b[0;34m(self)\u001b[0m\n\u001b[1;32m    907\u001b[0m             \u001b[0;32mtry\u001b[0m\u001b[0;34m:\u001b[0m\u001b[0;34m\u001b[0m\u001b[0;34m\u001b[0m\u001b[0m\n\u001b[1;32m    908\u001b[0m                 \u001b[0;32mif\u001b[0m \u001b[0mgetattr\u001b[0m\u001b[0;34m(\u001b[0m\u001b[0mself\u001b[0m\u001b[0;34m.\u001b[0m\u001b[0m_backend\u001b[0m\u001b[0;34m,\u001b[0m \u001b[0;34m'supports_timeout'\u001b[0m\u001b[0;34m,\u001b[0m \u001b[0;32mFalse\u001b[0m\u001b[0;34m)\u001b[0m\u001b[0;34m:\u001b[0m\u001b[0;34m\u001b[0m\u001b[0;34m\u001b[0m\u001b[0m\n\u001b[0;32m--> 909\u001b[0;31m                     \u001b[0mself\u001b[0m\u001b[0;34m.\u001b[0m\u001b[0m_output\u001b[0m\u001b[0;34m.\u001b[0m\u001b[0mextend\u001b[0m\u001b[0;34m(\u001b[0m\u001b[0mjob\u001b[0m\u001b[0;34m.\u001b[0m\u001b[0mget\u001b[0m\u001b[0;34m(\u001b[0m\u001b[0mtimeout\u001b[0m\u001b[0;34m=\u001b[0m\u001b[0mself\u001b[0m\u001b[0;34m.\u001b[0m\u001b[0mtimeout\u001b[0m\u001b[0;34m)\u001b[0m\u001b[0;34m)\u001b[0m\u001b[0;34m\u001b[0m\u001b[0;34m\u001b[0m\u001b[0m\n\u001b[0m\u001b[1;32m    910\u001b[0m                 \u001b[0;32melse\u001b[0m\u001b[0;34m:\u001b[0m\u001b[0;34m\u001b[0m\u001b[0;34m\u001b[0m\u001b[0m\n\u001b[1;32m    911\u001b[0m                     \u001b[0mself\u001b[0m\u001b[0;34m.\u001b[0m\u001b[0m_output\u001b[0m\u001b[0;34m.\u001b[0m\u001b[0mextend\u001b[0m\u001b[0;34m(\u001b[0m\u001b[0mjob\u001b[0m\u001b[0;34m.\u001b[0m\u001b[0mget\u001b[0m\u001b[0;34m(\u001b[0m\u001b[0;34m)\u001b[0m\u001b[0;34m)\u001b[0m\u001b[0;34m\u001b[0m\u001b[0;34m\u001b[0m\u001b[0m\n",
      "\u001b[0;32m~/anaconda3/lib/python3.7/site-packages/joblib/_parallel_backends.py\u001b[0m in \u001b[0;36mwrap_future_result\u001b[0;34m(future, timeout)\u001b[0m\n\u001b[1;32m    560\u001b[0m         AsyncResults.get from multiprocessing.\"\"\"\n\u001b[1;32m    561\u001b[0m         \u001b[0;32mtry\u001b[0m\u001b[0;34m:\u001b[0m\u001b[0;34m\u001b[0m\u001b[0;34m\u001b[0m\u001b[0m\n\u001b[0;32m--> 562\u001b[0;31m             \u001b[0;32mreturn\u001b[0m \u001b[0mfuture\u001b[0m\u001b[0;34m.\u001b[0m\u001b[0mresult\u001b[0m\u001b[0;34m(\u001b[0m\u001b[0mtimeout\u001b[0m\u001b[0;34m=\u001b[0m\u001b[0mtimeout\u001b[0m\u001b[0;34m)\u001b[0m\u001b[0;34m\u001b[0m\u001b[0;34m\u001b[0m\u001b[0m\n\u001b[0m\u001b[1;32m    563\u001b[0m         \u001b[0;32mexcept\u001b[0m \u001b[0mLokyTimeoutError\u001b[0m\u001b[0;34m:\u001b[0m\u001b[0;34m\u001b[0m\u001b[0;34m\u001b[0m\u001b[0m\n\u001b[1;32m    564\u001b[0m             \u001b[0;32mraise\u001b[0m \u001b[0mTimeoutError\u001b[0m\u001b[0;34m(\u001b[0m\u001b[0;34m)\u001b[0m\u001b[0;34m\u001b[0m\u001b[0;34m\u001b[0m\u001b[0m\n",
      "\u001b[0;32m~/anaconda3/lib/python3.7/concurrent/futures/_base.py\u001b[0m in \u001b[0;36mresult\u001b[0;34m(self, timeout)\u001b[0m\n\u001b[1;32m    433\u001b[0m                 \u001b[0;32mraise\u001b[0m \u001b[0mCancelledError\u001b[0m\u001b[0;34m(\u001b[0m\u001b[0;34m)\u001b[0m\u001b[0;34m\u001b[0m\u001b[0;34m\u001b[0m\u001b[0m\n\u001b[1;32m    434\u001b[0m             \u001b[0;32melif\u001b[0m \u001b[0mself\u001b[0m\u001b[0;34m.\u001b[0m\u001b[0m_state\u001b[0m \u001b[0;34m==\u001b[0m \u001b[0mFINISHED\u001b[0m\u001b[0;34m:\u001b[0m\u001b[0;34m\u001b[0m\u001b[0;34m\u001b[0m\u001b[0m\n\u001b[0;32m--> 435\u001b[0;31m                 \u001b[0;32mreturn\u001b[0m \u001b[0mself\u001b[0m\u001b[0;34m.\u001b[0m\u001b[0m__get_result\u001b[0m\u001b[0;34m(\u001b[0m\u001b[0;34m)\u001b[0m\u001b[0;34m\u001b[0m\u001b[0;34m\u001b[0m\u001b[0m\n\u001b[0m\u001b[1;32m    436\u001b[0m             \u001b[0;32melse\u001b[0m\u001b[0;34m:\u001b[0m\u001b[0;34m\u001b[0m\u001b[0;34m\u001b[0m\u001b[0m\n\u001b[1;32m    437\u001b[0m                 \u001b[0;32mraise\u001b[0m \u001b[0mTimeoutError\u001b[0m\u001b[0;34m(\u001b[0m\u001b[0;34m)\u001b[0m\u001b[0;34m\u001b[0m\u001b[0;34m\u001b[0m\u001b[0m\n",
      "\u001b[0;32m~/anaconda3/lib/python3.7/concurrent/futures/_base.py\u001b[0m in \u001b[0;36m__get_result\u001b[0;34m(self)\u001b[0m\n\u001b[1;32m    382\u001b[0m     \u001b[0;32mdef\u001b[0m \u001b[0m__get_result\u001b[0m\u001b[0;34m(\u001b[0m\u001b[0mself\u001b[0m\u001b[0;34m)\u001b[0m\u001b[0;34m:\u001b[0m\u001b[0;34m\u001b[0m\u001b[0;34m\u001b[0m\u001b[0m\n\u001b[1;32m    383\u001b[0m         \u001b[0;32mif\u001b[0m \u001b[0mself\u001b[0m\u001b[0;34m.\u001b[0m\u001b[0m_exception\u001b[0m\u001b[0;34m:\u001b[0m\u001b[0;34m\u001b[0m\u001b[0;34m\u001b[0m\u001b[0m\n\u001b[0;32m--> 384\u001b[0;31m             \u001b[0;32mraise\u001b[0m \u001b[0mself\u001b[0m\u001b[0;34m.\u001b[0m\u001b[0m_exception\u001b[0m\u001b[0;34m\u001b[0m\u001b[0;34m\u001b[0m\u001b[0m\n\u001b[0m\u001b[1;32m    385\u001b[0m         \u001b[0;32melse\u001b[0m\u001b[0;34m:\u001b[0m\u001b[0;34m\u001b[0m\u001b[0;34m\u001b[0m\u001b[0m\n\u001b[1;32m    386\u001b[0m             \u001b[0;32mreturn\u001b[0m \u001b[0mself\u001b[0m\u001b[0;34m.\u001b[0m\u001b[0m_result\u001b[0m\u001b[0;34m\u001b[0m\u001b[0;34m\u001b[0m\u001b[0m\n",
      "\u001b[0;31mValueError\u001b[0m: Invalid parameter weights for estimator Pipeline(memory=None,\n         steps=[('knn',\n                 KNeighborsClassifier(algorithm='auto', leaf_size=30,\n                                      metric='minkowski', metric_params=None,\n                                      n_jobs=None, n_neighbors=5, p=2,\n                                      weights='uniform'))],\n         verbose=False). Check the list of available parameters with `estimator.get_params().keys()`."
     ]
    }
   ],
   "source": [
    "%%time\n",
    "# initialise empty lists to store information later\n",
    "models = []\n",
    "parameters = []\n",
    "train_accuracy = []\n",
    "val_accuracy = []\n",
    "best_score = []\n",
    "train_roc_auc = []\n",
    "val_roc_auc = []\n",
    "sensitivity = []\n",
    "specificity = []\n",
    "\n",
    "for k,v in estimators:\n",
    "    pipe = Pipeline([(k,v)])\n",
    "    param = params[k]\n",
    "    randomsearch = RandomizedSearchCV(\n",
    "        n_iter=50, # we set a max. of 50 iterations\n",
    "        estimator=pipe,\n",
    "        random_state=42,\n",
    "        param_distributions=param,\n",
    "        verbose=1,\n",
    "        cv= 5,\n",
    "        n_jobs=-1,\n",
    "        return_train_score= True,\n",
    "        scoring = 'roc_auc' # we adopt AUC score as our scoring metric as it is provides the best overall assessment\n",
    "    )\n",
    "\n",
    "    randomsearch.fit(X_train_sc, y_train)\n",
    "    \n",
    "    model = randomsearch.best_estimator_\n",
    "    cv_score = randomsearch.cv_results_\n",
    "    best_params = randomsearch.best_params_\n",
    "\n",
    "    # predict y\n",
    "    y_pred_train = model.predict(X_train_sc)\n",
    "    y_pred_valid = model.predict(X_valid_sc)\n",
    "    \n",
    "    # print results\n",
    "    print (\"Model: \", k)\n",
    "    print (\"Best parameters:\", best_params)\n",
    "    print (\"Best AUC cross validation score:\", randomsearch.best_score_)\n",
    "    print (\"Training dataset accuracy:\", accuracy_score(y_train,y_pred_train))\n",
    "    print (\"Validation dataset accuracy:\", accuracy_score(y_valid,y_pred_valid))\n",
    "    print (\"Training dataset AUC score:\", roc_auc_score(y_train,y_pred_train))\n",
    "    print (\"Validation dataset AUC score:\", roc_auc_score(y_valid,y_pred_valid))\n",
    "    # obtain true positive and false negatives to calculate sensitivity\n",
    "    tn, fp, fn, tp = confusion_matrix(y_valid, y_pred_valid).ravel() \n",
    "    print (\"Validation dataset sensitivity\", tp/(tp+fn))\n",
    "    print (\"Validation dataset specificity\", tn/(tn+fp))\n",
    "    print (\"\")\n",
    "    \n",
    "    # append info to list\n",
    "    models.append(k)\n",
    "    best_score.append(randomsearch.best_score_)\n",
    "    parameters.append(best_params)\n",
    "    train_accuracy.append(accuracy_score(y_train,y_pred_train))\n",
    "    val_accuracy.append(accuracy_score(y_valid,y_pred_valid))\n",
    "    train_roc_auc.append(roc_auc_score(y_train,y_pred_train))\n",
    "    val_roc_auc.append(roc_auc_score(y_valid,y_pred_valid))\n",
    "    sensitivity.append(tp/(tp+fn))\n",
    "    specificity.append(tn/(tn+fp))"
   ]
  },
  {
   "cell_type": "markdown",
   "metadata": {},
   "source": [
    "## Selection of the Best Classifier"
   ]
  },
  {
   "cell_type": "code",
   "execution_count": 100,
   "metadata": {
    "scrolled": true
   },
   "outputs": [
    {
     "name": "stderr",
     "output_type": "stream",
     "text": [
      "/Users/joyceooi/anaconda3/lib/python3.7/site-packages/ipykernel_launcher.py:14: FutureWarning: Passing a negative integer is deprecated in version 1.0 and will not be supported in future version. Instead, use None to not limit the column width.\n",
      "  \n"
     ]
    },
    {
     "data": {
      "text/html": [
       "<div>\n",
       "<style scoped>\n",
       "    .dataframe tbody tr th:only-of-type {\n",
       "        vertical-align: middle;\n",
       "    }\n",
       "\n",
       "    .dataframe tbody tr th {\n",
       "        vertical-align: top;\n",
       "    }\n",
       "\n",
       "    .dataframe thead th {\n",
       "        text-align: right;\n",
       "    }\n",
       "</style>\n",
       "<table border=\"1\" class=\"dataframe\">\n",
       "  <thead>\n",
       "    <tr style=\"text-align: right;\">\n",
       "      <th></th>\n",
       "      <th>model</th>\n",
       "      <th>parameters</th>\n",
       "      <th>Best AUC cross validation score</th>\n",
       "      <th>Training dataset accuracy</th>\n",
       "      <th>Validation dataset accuracy</th>\n",
       "      <th>Training dataset AUC score</th>\n",
       "      <th>Validation dataset AUC score</th>\n",
       "      <th>Validation dataset sensitivity</th>\n",
       "      <th>Validation dataset specificity</th>\n",
       "    </tr>\n",
       "  </thead>\n",
       "  <tbody>\n",
       "    <tr>\n",
       "      <th>0</th>\n",
       "      <td>lr</td>\n",
       "      <td>{'lr__solver': 'liblinear', 'lr__penalty': 'l2', 'lr__C': 10.0}</td>\n",
       "      <td>0.905221</td>\n",
       "      <td>0.846987</td>\n",
       "      <td>0.823529</td>\n",
       "      <td>0.84676</td>\n",
       "      <td>0.823211</td>\n",
       "      <td>0.840637</td>\n",
       "      <td>0.805785</td>\n",
       "    </tr>\n",
       "  </tbody>\n",
       "</table>\n",
       "</div>"
      ],
      "text/plain": [
       "  model                                                       parameters  \\\n",
       "0  lr    {'lr__solver': 'liblinear', 'lr__penalty': 'l2', 'lr__C': 10.0}   \n",
       "\n",
       "   Best AUC cross validation score  Training dataset accuracy  \\\n",
       "0  0.905221                         0.846987                    \n",
       "\n",
       "   Validation dataset accuracy  Training dataset AUC score  \\\n",
       "0  0.823529                     0.84676                      \n",
       "\n",
       "   Validation dataset AUC score  Validation dataset sensitivity  \\\n",
       "0  0.823211                      0.840637                         \n",
       "\n",
       "   Validation dataset specificity  \n",
       "0  0.805785                        "
      ]
     },
     "execution_count": 100,
     "metadata": {},
     "output_type": "execute_result"
    }
   ],
   "source": [
    "# Produce a summary table of the tuned classifiers\n",
    "summary = pd.DataFrame({\n",
    "    'model': models,\n",
    "    'parameters': parameters,\n",
    "    'Best AUC cross validation score': best_score,\n",
    "    'Training dataset accuracy': train_accuracy,\n",
    "    'Validation dataset accuracy': val_accuracy,\n",
    "    'Training dataset AUC score': train_roc_auc,\n",
    "    'Validation dataset AUC score': val_roc_auc,\n",
    "    'Validation dataset sensitivity': sensitivity,\n",
    "    'Validation dataset specificity': specificity\n",
    "    })\n",
    "\n",
    "pd.set_option('display.max_colwidth', -1)\n",
    "summary.sort_values('Validation dataset AUC score', ascending=False).reset_index(drop=True)"
   ]
  },
  {
   "cell_type": "markdown",
   "metadata": {},
   "source": [
    "The table above shows the performance of the various models in terms of their optimal parameters, and the different metrics used to evaluate the models, namely accuracy, AUC scores and sensitivity. The classifiers are sorted based on descending order of the sensitivity score on the validation dataset.\n",
    "\n",
    "We choose the **xxxxxx** (xx) classifier as our best classifier, given that it has the highest AUC score on the validation dataset (xxx). Although it did not achieve an accuracy (xxx%) higher than the baseline accuracy of 0.515443% , this is still a much model because the baseline model will also never predict xxxx. Besides, we observe minimal overfitting of the model when comparing both the accuracy and AUC scores of the training and validation datasets.\n",
    "\n",
    "Besides having the highest ROC-AUC score, the Logistic Regression model has the highest sensitivity (0.651), which is an important metric in this case. False negatives need to be reduced so that mosquito control measures can be done at all areas which have the virus."
   ]
  },
  {
   "cell_type": "markdown",
   "metadata": {},
   "source": [
    "## Further exploration of the Best Classifier"
   ]
  },
  {
   "cell_type": "markdown",
   "metadata": {},
   "source": [
    "### Logistic Regression Coefficients"
   ]
  },
  {
   "cell_type": "code",
   "execution_count": 22,
   "metadata": {},
   "outputs": [],
   "source": [
    "# We instantiate the logistic regression classifier based on the best parameters found above\n",
    "#lr_best = LogisticRegression(random_state=42, solver='liblinear', penalty='l1', C=1274.2749857031336)"
   ]
  },
  {
   "cell_type": "code",
   "execution_count": 23,
   "metadata": {},
   "outputs": [],
   "source": [
    "# Fit the logistic regression classifier on the scaled training dataset\n",
    "#lr_best.fit(X_train_sc, y_train)"
   ]
  },
  {
   "cell_type": "code",
   "execution_count": 24,
   "metadata": {},
   "outputs": [],
   "source": [
    "# Generate a plot of the logistic regression coefficients\n",
    "# The coefficients are exponentiated to reverse the effect of logistic regression\n",
    "# fig = plt.figure(figsize=(10,5))\n",
    "# feature_scores = pd.DataFrame(np.exp(lr_best.coef_), columns=X.columns)\n",
    "# feature_scores.loc[0,:].sort_values(ascending=True).plot(kind='barh');\n",
    "# plt.xlabel(\"Logistic Regression Coefficient\")\n",
    "# plt.ylabel(\"Feature\")\n",
    "# plt.title(\"Effect of feature on Tesla Share Price\");"
   ]
  },
  {
   "cell_type": "markdown",
   "metadata": {},
   "source": [
    "**Findings:**\n",
    "\n",
    "\n",
    "\n",
    "The coefficient which is most significant is \n",
    " \n",
    "Thus, we can infer that \n",
    "\n",
    "The second most significant interaction term is \n",
    "\n",
    "We can infer that "
   ]
  },
  {
   "cell_type": "markdown",
   "metadata": {},
   "source": [
    "### ROC-AUC Curve"
   ]
  },
  {
   "cell_type": "code",
   "execution_count": 25,
   "metadata": {},
   "outputs": [],
   "source": [
    "# Create a dataframe called pred_df that contains:\n",
    "# 1. The list of true values of our validation set.\n",
    "# 2. The list of predicted probabilities based on our model.\n",
    "\n",
    "# pred_proba = [i[1] for i in lr_best.predict_proba(X_valid_sc)]\n",
    "\n",
    "# pred_df = pd.DataFrame({'true_values': y_valid,\n",
    "#                         'pred_probs':pred_proba})\n",
    "# pred_df.head()"
   ]
  },
  {
   "cell_type": "markdown",
   "metadata": {},
   "source": [
    "# KNN"
   ]
  },
  {
   "cell_type": "code",
   "execution_count": 26,
   "metadata": {},
   "outputs": [],
   "source": [
    "knn=KNeighborsClassifier(n_neighbors=9)"
   ]
  },
  {
   "cell_type": "code",
   "execution_count": 27,
   "metadata": {},
   "outputs": [
    {
     "data": {
      "text/plain": [
       "KNeighborsClassifier(algorithm='auto', leaf_size=30, metric='minkowski',\n",
       "                     metric_params=None, n_jobs=None, n_neighbors=9, p=2,\n",
       "                     weights='uniform')"
      ]
     },
     "execution_count": 27,
     "metadata": {},
     "output_type": "execute_result"
    }
   ],
   "source": [
    "knn.fit(X_train_sc, y_train)"
   ]
  },
  {
   "cell_type": "code",
   "execution_count": 28,
   "metadata": {},
   "outputs": [],
   "source": [
    "knn_pred = pd.DataFrame(knn.predict(X_testuntrain_sc), columns=['tsla_intra_target'])\n"
   ]
  },
  {
   "cell_type": "code",
   "execution_count": 29,
   "metadata": {},
   "outputs": [],
   "source": [
    "#Concatenate the predictions  with the X_testuntrain dataframe\n",
    "test_pred= pd.concat([X_testuntrain,knn_pred], axis=1)\n"
   ]
  },
  {
   "cell_type": "code",
   "execution_count": 30,
   "metadata": {},
   "outputs": [],
   "source": [
    "tn, fp, fn, tp = confusion_matrix(y_testuntrain, knn_pred).ravel() \n",
    "precision=tp/(tp+fp)\n",
    "recall=tp/(tp+fn)\n",
    "accuracy=(tp+tn)/(tp+tn+fp+fn)\n",
    "F1=(precision*recall)/precision+recall"
   ]
  },
  {
   "cell_type": "code",
   "execution_count": 31,
   "metadata": {},
   "outputs": [
    {
     "name": "stdout",
     "output_type": "stream",
     "text": [
      "Accuracy:0.6137339055793991\n",
      "Precision:0.575107296137339\n",
      "Recall:0.6232558139534884\n",
      "F1 Score:0.5982142857142857\n"
     ]
    }
   ],
   "source": [
    "print (\"Accuracy:{}\".format(accuracy)),\n",
    "print (\"Precision:{}\".format(precision)),\n",
    "print (\"Recall:{}\".format(recall)),\n",
    "print (\"F1 Score:{}\".format(2*((precision*recall)/(precision+recall))))"
   ]
  },
  {
   "cell_type": "markdown",
   "metadata": {},
   "source": [
    "# RF"
   ]
  },
  {
   "cell_type": "code",
   "execution_count": 32,
   "metadata": {},
   "outputs": [],
   "source": [
    "rf=RandomForestClassifier(random_state=42, min_samples_split=4, min_samples_leaf=1, max_features='log2',max_depth=3000 )"
   ]
  },
  {
   "cell_type": "code",
   "execution_count": 33,
   "metadata": {},
   "outputs": [
    {
     "data": {
      "text/plain": [
       "RandomForestClassifier(bootstrap=True, ccp_alpha=0.0, class_weight=None,\n",
       "                       criterion='gini', max_depth=3000, max_features='log2',\n",
       "                       max_leaf_nodes=None, max_samples=None,\n",
       "                       min_impurity_decrease=0.0, min_impurity_split=None,\n",
       "                       min_samples_leaf=1, min_samples_split=4,\n",
       "                       min_weight_fraction_leaf=0.0, n_estimators=100,\n",
       "                       n_jobs=None, oob_score=False, random_state=42, verbose=0,\n",
       "                       warm_start=False)"
      ]
     },
     "execution_count": 33,
     "metadata": {},
     "output_type": "execute_result"
    }
   ],
   "source": [
    "rf.fit(X_train_sc, y_train)"
   ]
  },
  {
   "cell_type": "code",
   "execution_count": 34,
   "metadata": {},
   "outputs": [],
   "source": [
    "rf_pred = pd.DataFrame(rf.predict(X_testuntrain_sc), columns=['tsla_intra_target'])\n"
   ]
  },
  {
   "cell_type": "code",
   "execution_count": 35,
   "metadata": {},
   "outputs": [],
   "source": [
    "#Concatenate the predictions  with the X_testuntrain dataframe\n",
    "test_pred= pd.concat([X_testuntrain,rf_pred], axis=1)"
   ]
  },
  {
   "cell_type": "code",
   "execution_count": 36,
   "metadata": {},
   "outputs": [],
   "source": [
    "tn, fp, fn, tp = confusion_matrix(y_testuntrain, rf_pred).ravel() \n",
    "precision=tp/(tp+fp)\n",
    "recall=tp/(tp+fn)\n",
    "accuracy=(tp+tn)/(tp+tn+fp+fn)\n",
    "F1=(precision*recall)/precision+recall"
   ]
  },
  {
   "cell_type": "code",
   "execution_count": 37,
   "metadata": {},
   "outputs": [
    {
     "name": "stdout",
     "output_type": "stream",
     "text": [
      "Accuracy:0.778969957081545\n",
      "Precision:0.7666666666666667\n",
      "Recall:0.7488372093023256\n",
      "F1 Score:0.7576470588235295\n"
     ]
    }
   ],
   "source": [
    "print (\"Accuracy:{}\".format(accuracy)),\n",
    "print (\"Precision:{}\".format(precision)),\n",
    "print (\"Recall:{}\".format(recall)),\n",
    "print (\"F1 Score:{}\".format(2*((precision*recall)/(precision+recall))))"
   ]
  },
  {
   "cell_type": "markdown",
   "metadata": {},
   "source": [
    "# ADA\n"
   ]
  },
  {
   "cell_type": "code",
   "execution_count": 38,
   "metadata": {},
   "outputs": [],
   "source": [
    "ada=AdaBoostClassifier(random_state=42, n_estimators=1500, learning_rate=1.5)"
   ]
  },
  {
   "cell_type": "code",
   "execution_count": 39,
   "metadata": {},
   "outputs": [
    {
     "data": {
      "text/plain": [
       "AdaBoostClassifier(algorithm='SAMME.R', base_estimator=None, learning_rate=1.5,\n",
       "                   n_estimators=1500, random_state=42)"
      ]
     },
     "execution_count": 39,
     "metadata": {},
     "output_type": "execute_result"
    }
   ],
   "source": [
    "ada.fit(X_train_sc, y_train)"
   ]
  },
  {
   "cell_type": "code",
   "execution_count": 40,
   "metadata": {},
   "outputs": [],
   "source": [
    "ada_pred = pd.DataFrame(ada.predict(X_testuntrain_sc), columns=['tsla_intra_target'])\n"
   ]
  },
  {
   "cell_type": "code",
   "execution_count": 41,
   "metadata": {},
   "outputs": [],
   "source": [
    "#Concatenate the predictions  with the X_testuntrain dataframe\n",
    "test_pred= pd.concat([X_testuntrain,ada_pred], axis=1)"
   ]
  },
  {
   "cell_type": "code",
   "execution_count": 42,
   "metadata": {},
   "outputs": [],
   "source": [
    "tn, fp, fn, tp = confusion_matrix(y_testuntrain, ada_pred).ravel() \n",
    "precision=tp/(tp+fp)\n",
    "recall=tp/(tp+fn)\n",
    "accuracy=(tp+tn)/(tp+tn+fp+fn)\n",
    "F1=(precision*recall)/precision+recall\n"
   ]
  },
  {
   "cell_type": "code",
   "execution_count": 43,
   "metadata": {},
   "outputs": [
    {
     "name": "stdout",
     "output_type": "stream",
     "text": [
      "Accuracy:0.7188841201716738\n",
      "Precision:0.6653543307086615\n",
      "Recall:0.786046511627907\n",
      "F1 Score:0.7206823027718551\n"
     ]
    }
   ],
   "source": [
    "print (\"Accuracy:{}\".format(accuracy)),\n",
    "print (\"Precision:{}\".format(precision)),\n",
    "print (\"Recall:{}\".format(recall)),\n",
    "print (\"F1 Score:{}\".format(2*((precision*recall)/(precision+recall))))"
   ]
  },
  {
   "cell_type": "markdown",
   "metadata": {},
   "source": [
    "# DTREE"
   ]
  },
  {
   "cell_type": "code",
   "execution_count": 44,
   "metadata": {},
   "outputs": [],
   "source": [
    "dtree= DecisionTreeClassifier(random_state=42)"
   ]
  },
  {
   "cell_type": "code",
   "execution_count": 45,
   "metadata": {},
   "outputs": [
    {
     "data": {
      "text/plain": [
       "DecisionTreeClassifier(ccp_alpha=0.0, class_weight=None, criterion='gini',\n",
       "                       max_depth=None, max_features=None, max_leaf_nodes=None,\n",
       "                       min_impurity_decrease=0.0, min_impurity_split=None,\n",
       "                       min_samples_leaf=1, min_samples_split=2,\n",
       "                       min_weight_fraction_leaf=0.0, presort='deprecated',\n",
       "                       random_state=42, splitter='best')"
      ]
     },
     "execution_count": 45,
     "metadata": {},
     "output_type": "execute_result"
    }
   ],
   "source": [
    "dtree.fit(X_train_sc, y_train)"
   ]
  },
  {
   "cell_type": "code",
   "execution_count": 46,
   "metadata": {},
   "outputs": [],
   "source": [
    "dtree_pred = pd.DataFrame(dtree.predict(X_testuntrain_sc), columns=['tsla_intra_target'])"
   ]
  },
  {
   "cell_type": "code",
   "execution_count": 47,
   "metadata": {},
   "outputs": [],
   "source": [
    "#Concatenate the predictions  with the X_testuntrain dataframe\n",
    "test_pred= pd.concat([X_testuntrain,dtree_pred], axis=1)\n",
    "\n",
    "\n"
   ]
  },
  {
   "cell_type": "code",
   "execution_count": 48,
   "metadata": {},
   "outputs": [],
   "source": [
    "tn, fp, fn, tp = confusion_matrix(y_testuntrain, dtree_pred).ravel() \n",
    "precision=tp/(tp+fp)\n",
    "recall=tp/(tp+fn)\n",
    "accuracy=(tp+tn)/(tp+tn+fp+fn)\n",
    "F1=(precision*recall)/precision+recall\n"
   ]
  },
  {
   "cell_type": "code",
   "execution_count": 49,
   "metadata": {},
   "outputs": [
    {
     "name": "stdout",
     "output_type": "stream",
     "text": [
      "Accuracy:0.7081545064377682\n",
      "Precision:0.6889952153110048\n",
      "Recall:0.6697674418604651\n",
      "F1 Score:0.6792452830188679\n"
     ]
    }
   ],
   "source": [
    "print (\"Accuracy:{}\".format(accuracy)),\n",
    "print (\"Precision:{}\".format(precision)),\n",
    "print (\"Recall:{}\".format(recall)),\n",
    "print (\"F1 Score:{}\".format(2*((precision*recall)/(precision+recall))))"
   ]
  },
  {
   "cell_type": "markdown",
   "metadata": {},
   "source": [
    "# ETREE"
   ]
  },
  {
   "cell_type": "code",
   "execution_count": 50,
   "metadata": {},
   "outputs": [],
   "source": [
    "etree= ExtraTreesClassifier(random_state=42, min_samples_split=4,min_samples_leaf=1,max_features='log2',max_depth=60)"
   ]
  },
  {
   "cell_type": "code",
   "execution_count": 51,
   "metadata": {},
   "outputs": [
    {
     "data": {
      "text/plain": [
       "ExtraTreesClassifier(bootstrap=False, ccp_alpha=0.0, class_weight=None,\n",
       "                     criterion='gini', max_depth=60, max_features='log2',\n",
       "                     max_leaf_nodes=None, max_samples=None,\n",
       "                     min_impurity_decrease=0.0, min_impurity_split=None,\n",
       "                     min_samples_leaf=1, min_samples_split=4,\n",
       "                     min_weight_fraction_leaf=0.0, n_estimators=100,\n",
       "                     n_jobs=None, oob_score=False, random_state=42, verbose=0,\n",
       "                     warm_start=False)"
      ]
     },
     "execution_count": 51,
     "metadata": {},
     "output_type": "execute_result"
    }
   ],
   "source": [
    "etree.fit(X_train_sc, y_train)"
   ]
  },
  {
   "cell_type": "code",
   "execution_count": 52,
   "metadata": {},
   "outputs": [],
   "source": [
    "etree_pred = pd.DataFrame(etree.predict(X_testuntrain_sc), columns=['tsla_intra_target'])"
   ]
  },
  {
   "cell_type": "code",
   "execution_count": 53,
   "metadata": {},
   "outputs": [],
   "source": [
    "#Concatenate the predictions  with the X_testuntrain dataframe\n",
    "test_pred= pd.concat([X_testuntrain,etree_pred], axis=1)\n",
    "\n"
   ]
  },
  {
   "cell_type": "code",
   "execution_count": 54,
   "metadata": {},
   "outputs": [],
   "source": [
    "tn, fp, fn, tp = confusion_matrix(y_testuntrain, etree_pred).ravel() \n",
    "precision=tp/(tp+fp)\n",
    "recall=tp/(tp+fn)\n",
    "accuracy=(tp+tn)/(tp+tn+fp+fn)\n",
    "F1=(precision*recall)/precision+recall\n"
   ]
  },
  {
   "cell_type": "code",
   "execution_count": 55,
   "metadata": {},
   "outputs": [
    {
     "name": "stdout",
     "output_type": "stream",
     "text": [
      "Accuracy:0.6931330472103004\n",
      "Precision:0.6714285714285714\n",
      "Recall:0.6558139534883721\n",
      "F1 Score:0.6635294117647059\n"
     ]
    }
   ],
   "source": [
    "print (\"Accuracy:{}\".format(accuracy)),\n",
    "print (\"Precision:{}\".format(precision)),\n",
    "print (\"Recall:{}\".format(recall)),\n",
    "print (\"F1 Score:{}\".format(2*((precision*recall)/(precision+recall))))"
   ]
  },
  {
   "cell_type": "markdown",
   "metadata": {},
   "source": [
    "# LR"
   ]
  },
  {
   "cell_type": "code",
   "execution_count": 56,
   "metadata": {},
   "outputs": [],
   "source": [
    "lr =LogisticRegression(penalty='l1', solver='liblinear', C=10, random_state=42)"
   ]
  },
  {
   "cell_type": "code",
   "execution_count": 57,
   "metadata": {
    "scrolled": true
   },
   "outputs": [
    {
     "data": {
      "text/plain": [
       "LogisticRegression(C=10, class_weight=None, dual=False, fit_intercept=True,\n",
       "                   intercept_scaling=1, l1_ratio=None, max_iter=100,\n",
       "                   multi_class='auto', n_jobs=None, penalty='l1',\n",
       "                   random_state=42, solver='liblinear', tol=0.0001, verbose=0,\n",
       "                   warm_start=False)"
      ]
     },
     "execution_count": 57,
     "metadata": {},
     "output_type": "execute_result"
    }
   ],
   "source": [
    "lr.fit(X_train_sc, y_train)"
   ]
  },
  {
   "cell_type": "code",
   "execution_count": 58,
   "metadata": {},
   "outputs": [],
   "source": [
    "lr_pred = pd.DataFrame(lr.predict(X_testuntrain_sc), columns=['tsla_intra_target'])"
   ]
  },
  {
   "cell_type": "code",
   "execution_count": 59,
   "metadata": {},
   "outputs": [
    {
     "data": {
      "text/plain": [
       "1.0    0.538627\n",
       "0.0    0.461373\n",
       "Name: tsla_intra_target, dtype: float64"
      ]
     },
     "execution_count": 59,
     "metadata": {},
     "output_type": "execute_result"
    }
   ],
   "source": [
    "#Concatenate the predictions  with the X_testuntrain dataframe\n",
    "test_pred= pd.concat([X_testuntrain,lr_pred], axis=1)\n",
    "\n",
    "test_pred['tsla_intra_target'].value_counts(normalize=True)\n"
   ]
  },
  {
   "cell_type": "code",
   "execution_count": 60,
   "metadata": {},
   "outputs": [],
   "source": [
    "tn, fp, fn, tp = confusion_matrix(y_testuntrain, lr_pred).ravel() \n",
    "precision=tp/(tp+fp)\n",
    "recall=tp/(tp+fn)\n",
    "accuracy=(tp+tn)/(tp+tn+fp+fn)\n",
    "F1=(precision*recall)/precision+recall\n"
   ]
  },
  {
   "cell_type": "code",
   "execution_count": 61,
   "metadata": {},
   "outputs": [
    {
     "name": "stdout",
     "output_type": "stream",
     "text": [
      "Accuracy:0.7682403433476395\n",
      "Precision:0.7131474103585658\n",
      "Recall:0.8325581395348837\n",
      "F1 Score:0.7682403433476396\n"
     ]
    }
   ],
   "source": [
    "print (\"Accuracy:{}\".format(accuracy)),\n",
    "print (\"Precision:{}\".format(precision)),\n",
    "print (\"Recall:{}\".format(recall)),\n",
    "print (\"F1 Score:{}\".format(2*((precision*recall)/(precision+recall))))"
   ]
  },
  {
   "cell_type": "code",
   "execution_count": 88,
   "metadata": {},
   "outputs": [],
   "source": [
    "xgb = XGBClassifier(random_state=42, subsample=1, scale_pos_weight= 1, \n",
    "                    nthread= 1, n_estimators=500, min_child_weight=1, \n",
    "                    max_depth=10, learning_rate=1.5, gamma=0, colsample_bytree=0.5)"
   ]
  },
  {
   "cell_type": "code",
   "execution_count": 89,
   "metadata": {},
   "outputs": [
    {
     "data": {
      "text/plain": [
       "XGBClassifier(base_score=0.5, booster='gbtree', colsample_bylevel=1,\n",
       "              colsample_bynode=1, colsample_bytree=0.5, gamma=0,\n",
       "              learning_rate=1.5, max_delta_step=0, max_depth=10,\n",
       "              min_child_weight=1, missing=None, n_estimators=500, n_jobs=1,\n",
       "              nthread=1, objective='binary:logistic', random_state=42,\n",
       "              reg_alpha=0, reg_lambda=1, scale_pos_weight=1, seed=None,\n",
       "              silent=None, subsample=1, verbosity=1)"
      ]
     },
     "execution_count": 89,
     "metadata": {},
     "output_type": "execute_result"
    }
   ],
   "source": [
    "xgb.fit(X_train_sc, y_train)"
   ]
  },
  {
   "cell_type": "code",
   "execution_count": 90,
   "metadata": {},
   "outputs": [],
   "source": [
    "xgb_pred = pd.DataFrame(xgb.predict(X_testuntrain_sc), columns=['tsla_intra_target'])"
   ]
  },
  {
   "cell_type": "code",
   "execution_count": 91,
   "metadata": {},
   "outputs": [
    {
     "data": {
      "text/plain": [
       "0.0    0.525751\n",
       "1.0    0.474249\n",
       "Name: tsla_intra_target, dtype: float64"
      ]
     },
     "execution_count": 91,
     "metadata": {},
     "output_type": "execute_result"
    }
   ],
   "source": [
    "test_pred= pd.concat([X_testuntrain,xgb_pred], axis=1)\n",
    "\n",
    "test_pred['tsla_intra_target'].value_counts(normalize=True)\n"
   ]
  },
  {
   "cell_type": "code",
   "execution_count": 92,
   "metadata": {},
   "outputs": [],
   "source": [
    "tn, fp, fn, tp = confusion_matrix(y_testuntrain, xgb_pred).ravel() \n",
    "precision=tp/(tp+fp)\n",
    "recall=tp/(tp+fn)\n",
    "accuracy=(tp+tn)/(tp+tn+fp+fn)\n",
    "F1=(precision*recall)/precision+recall\n"
   ]
  },
  {
   "cell_type": "code",
   "execution_count": 93,
   "metadata": {},
   "outputs": [
    {
     "name": "stdout",
     "output_type": "stream",
     "text": [
      "Accuracy:0.7682403433476395\n",
      "Precision:0.7420814479638009\n",
      "Recall:0.7627906976744186\n",
      "F1 Score:0.7522935779816514\n"
     ]
    }
   ],
   "source": [
    "print (\"Accuracy:{}\".format(accuracy)),\n",
    "print (\"Precision:{}\".format(precision)),\n",
    "print (\"Recall:{}\".format(recall)),\n",
    "print (\"F1 Score:{}\".format(2*((precision*recall)/(precision+recall))))"
   ]
  },
  {
   "cell_type": "code",
   "execution_count": null,
   "metadata": {},
   "outputs": [],
   "source": []
  },
  {
   "cell_type": "markdown",
   "metadata": {},
   "source": [
    "# Further Exploration of Best Classifier"
   ]
  },
  {
   "cell_type": "code",
   "execution_count": 82,
   "metadata": {},
   "outputs": [],
   "source": [
    "pred_proba=[i[1] for i in rf.predict_proba(X_testuntrain_sc)]"
   ]
  },
  {
   "cell_type": "code",
   "execution_count": 83,
   "metadata": {},
   "outputs": [],
   "source": [
    "pred_df=pd.DataFrame ({'true_values':y_testuntrain,\n",
    "                      'pred_probs': pred_proba})"
   ]
  },
  {
   "cell_type": "code",
   "execution_count": 84,
   "metadata": {},
   "outputs": [
    {
     "data": {
      "text/html": [
       "<div>\n",
       "<style scoped>\n",
       "    .dataframe tbody tr th:only-of-type {\n",
       "        vertical-align: middle;\n",
       "    }\n",
       "\n",
       "    .dataframe tbody tr th {\n",
       "        vertical-align: top;\n",
       "    }\n",
       "\n",
       "    .dataframe thead th {\n",
       "        text-align: right;\n",
       "    }\n",
       "</style>\n",
       "<table border=\"1\" class=\"dataframe\">\n",
       "  <thead>\n",
       "    <tr style=\"text-align: right;\">\n",
       "      <th></th>\n",
       "      <th>true_values</th>\n",
       "      <th>pred_probs</th>\n",
       "    </tr>\n",
       "  </thead>\n",
       "  <tbody>\n",
       "    <tr>\n",
       "      <th>0</th>\n",
       "      <td>0.0</td>\n",
       "      <td>0.328333</td>\n",
       "    </tr>\n",
       "    <tr>\n",
       "      <th>1</th>\n",
       "      <td>1.0</td>\n",
       "      <td>0.265833</td>\n",
       "    </tr>\n",
       "    <tr>\n",
       "      <th>2</th>\n",
       "      <td>1.0</td>\n",
       "      <td>0.288333</td>\n",
       "    </tr>\n",
       "    <tr>\n",
       "      <th>3</th>\n",
       "      <td>0.0</td>\n",
       "      <td>0.265333</td>\n",
       "    </tr>\n",
       "    <tr>\n",
       "      <th>4</th>\n",
       "      <td>0.0</td>\n",
       "      <td>0.439500</td>\n",
       "    </tr>\n",
       "    <tr>\n",
       "      <th>...</th>\n",
       "      <td>...</td>\n",
       "      <td>...</td>\n",
       "    </tr>\n",
       "    <tr>\n",
       "      <th>95</th>\n",
       "      <td>1.0</td>\n",
       "      <td>0.624833</td>\n",
       "    </tr>\n",
       "    <tr>\n",
       "      <th>96</th>\n",
       "      <td>1.0</td>\n",
       "      <td>0.329750</td>\n",
       "    </tr>\n",
       "    <tr>\n",
       "      <th>97</th>\n",
       "      <td>0.0</td>\n",
       "      <td>0.416833</td>\n",
       "    </tr>\n",
       "    <tr>\n",
       "      <th>98</th>\n",
       "      <td>1.0</td>\n",
       "      <td>0.385083</td>\n",
       "    </tr>\n",
       "    <tr>\n",
       "      <th>99</th>\n",
       "      <td>0.0</td>\n",
       "      <td>0.498833</td>\n",
       "    </tr>\n",
       "  </tbody>\n",
       "</table>\n",
       "<p>100 rows × 2 columns</p>\n",
       "</div>"
      ],
      "text/plain": [
       "    true_values  pred_probs\n",
       "0   0.0          0.328333  \n",
       "1   1.0          0.265833  \n",
       "2   1.0          0.288333  \n",
       "3   0.0          0.265333  \n",
       "4   0.0          0.439500  \n",
       "..  ...               ...  \n",
       "95  1.0          0.624833  \n",
       "96  1.0          0.329750  \n",
       "97  0.0          0.416833  \n",
       "98  1.0          0.385083  \n",
       "99  0.0          0.498833  \n",
       "\n",
       "[100 rows x 2 columns]"
      ]
     },
     "execution_count": 84,
     "metadata": {},
     "output_type": "execute_result"
    }
   ],
   "source": [
    "pred_df.head(100)"
   ]
  },
  {
   "cell_type": "code",
   "execution_count": 85,
   "metadata": {},
   "outputs": [
    {
     "data": {
      "text/plain": [
       "array([[ 1.70624306, -1.97796366,  0.98897555, ...,  1.36256433,\n",
       "         2.93770012, -0.76474267],\n",
       "       [-1.66515627, -1.97796366, -1.02998352, ...,  1.36710486,\n",
       "        -0.39263083, -0.05826711],\n",
       "       [ 1.70624306,  1.38970473,  0.98897555, ...,  1.37014697,\n",
       "         0.11100717, -0.04660212],\n",
       "       ...,\n",
       "       [ 0.02054339,  1.38970473, -1.02998352, ..., -1.46815011,\n",
       "         0.15086078,  5.87506291],\n",
       "       [ 0.02054339,  1.38970473, -1.02998352, ..., -1.46815011,\n",
       "         1.33515418,  5.77103772],\n",
       "       [ 0.02054339,  1.38970473, -1.02998352, ..., -1.46815011,\n",
       "         4.04740039,  5.82848113]])"
      ]
     },
     "execution_count": 85,
     "metadata": {},
     "output_type": "execute_result"
    }
   ],
   "source": [
    "X_testuntrain_sc"
   ]
  },
  {
   "cell_type": "markdown",
   "metadata": {},
   "source": [
    "# AUC Scores on Unseen Test Data"
   ]
  },
  {
   "cell_type": "code",
   "execution_count": 94,
   "metadata": {},
   "outputs": [
    {
     "name": "stdout",
     "output_type": "stream",
     "text": [
      "AUC Score for KNN: 0.6144167515982581\n",
      "AUC Score for RF: 0.7768090428981748\n",
      "AUC Score for ADA: 0.7237005466506069\n",
      "AUC Score for DTREE: 0.7054016492170851\n",
      "AUC Score for ETREE: 0.6904567775409988\n",
      "AUC Score for LR: 0.7728527749467248\n",
      "AUC Score for XGB: 0.7678495321041415\n"
     ]
    }
   ],
   "source": [
    "\n",
    "print('AUC Score for KNN: {}'.format(roc_auc_score(y_testuntrain,knn_pred)))\n",
    "print('AUC Score for RF: {}'.format(roc_auc_score(y_testuntrain,rf_pred)))\n",
    "print('AUC Score for ADA: {}'.format(roc_auc_score(y_testuntrain,ada_pred)))\n",
    "print('AUC Score for DTREE: {}'.format(roc_auc_score(y_testuntrain,dtree_pred)))\n",
    "print('AUC Score for ETREE: {}'.format(roc_auc_score(y_testuntrain,etree_pred)))\n",
    "print('AUC Score for LR: {}'.format(roc_auc_score(y_testuntrain,lr_pred)))\n",
    "print('AUC Score for XGB: {}'.format(roc_auc_score(y_testuntrain,xgb_pred)))"
   ]
  },
  {
   "cell_type": "markdown",
   "metadata": {},
   "source": [
    "|                  ||AUC Score|\n",
    "|------------------||---------------------|\n",
    "|KNN:||0.5498824152893246|\n",
    "|RF:||0.5071792918419397|\n",
    "|ADA:|| 0.5559603855453612|\n",
    "|DTREE:|| 0.4734357921234805|\n",
    "|ETREE:|| 0.5217448908615151|\n",
    "|LR:||0.5547265741446126|"
   ]
  },
  {
   "cell_type": "code",
   "execution_count": 87,
   "metadata": {
    "scrolled": false
   },
   "outputs": [
    {
     "data": {
      "image/png": "[encoded data removed]",
      "text/plain": [
       "<Figure size 720x504 with 1 Axes>"
      ]
     },
     "metadata": {
      "needs_background": "light"
     },
     "output_type": "display_data"
    }
   ],
   "source": [
    "# Create figure.\n",
    "plt.figure(figsize = (10,7))\n",
    "\n",
    "# Create threshold values.\n",
    "thresholds = np.linspace(0, 1, 200)\n",
    "\n",
    "# Define function to calculate sensitivity. (True positive rate.)\n",
    "def TPR(df, true_col, pred_prob_col, threshold):\n",
    "    true_positive = df[(df[true_col] == 1) & (df[pred_prob_col] >= threshold)].shape[0]\n",
    "    false_negative = df[(df[true_col] == 1) & (df[pred_prob_col] < threshold)].shape[0]\n",
    "    return true_positive / (true_positive + false_negative)\n",
    "    \n",
    "\n",
    "# Define function to calculate 1 - specificity. (False positive rate.)\n",
    "def FPR(df, true_col, pred_prob_col, threshold):\n",
    "    true_negative = df[(df[true_col] == 0) & (df[pred_prob_col] <= threshold)].shape[0]\n",
    "    false_positive = df[(df[true_col] == 0) & (df[pred_prob_col] > threshold)].shape[0]\n",
    "    return 1 - (true_negative / (true_negative + false_positive))\n",
    "    \n",
    "# Calculate sensitivity & 1-specificity for each threshold between 0 and 1.\n",
    "tpr_values = [TPR(pred_df, 'true_values', 'pred_probs', prob) for prob in thresholds]\n",
    "fpr_values = [FPR(pred_df, 'true_values', 'pred_probs', prob) for prob in thresholds]\n",
    "\n",
    "# Plot ROC curve.\n",
    "plt.plot(fpr_values, # False Positive Rate on X-axis\n",
    "         tpr_values, # True Positive Rate on Y-axis\n",
    "         label='ROC Curve')\n",
    "\n",
    "# Plot baseline. (Perfect overlap between the two populations.)\n",
    "plt.plot(np.linspace(0, 1, 200),\n",
    "         np.linspace(0, 1, 200),\n",
    "         label='baseline',\n",
    "         linestyle='--')\n",
    "\n",
    "# Label axes.\n",
    "plt.title('Receiver Operating Characteristic Curve', fontsize=22)\n",
    "plt.ylabel('Sensitivity', fontsize=18)\n",
    "plt.xlabel('1 - Specificity', fontsize=18)\n",
    "\n",
    "# Create legend.\n",
    "plt.legend(fontsize=16);"
   ]
  },
  {
   "cell_type": "markdown",
   "metadata": {},
   "source": [
    "**Interpreting ROC AUC**\n",
    "\n",
    "ROC is a probability curve and AUC represents the degree of separability i.e. the capability of the model in distinguishing between classes. The higher the AUC, the better the model is at predicting 0s as 0s and 1s as 1s. \n",
    "\n",
    "If AUC is 1, the positive (Tesla Stock Price = 1) and negative populations (Tesla Stock Price = 0) are perfectly separated. Here, we have an AUC of 0."
   ]
  },
  {
   "cell_type": "markdown",
   "metadata": {},
   "source": [
    "---\n",
    "## Conclusions and Recommendations\n",
    "\n",
    "### A. Our Classifier\n",
    "\n",
    "We have trained a classifier to predict when and where wheter Tesla share price will increase or decrease. Our classifier is xxx which gives a rather high sensitivity/specificity rate of xxx% .\n",
    "\n",
    "**Limitations**\n",
    "\n",
    "1. The limitation of this model lies in the use of time-series data which could mean that the data is autocorrelated. This can lead to implications on the computation of standard errors.\n",
    "2. More data is required for more accurate analysis. Earlier EDA revealed \n",
    "\n",
    "**Areas for further investigation**\n",
    "\n",
    "We have yet to explore the variable of xxxx A \n",
    "\n",
    "This variable could have \n",
    "\n",
    "However, as this variable is not present in the test set, we dropped it from our training dataset. In future analysis, we could \n",
    "\n",
    "### B. xxxx\n",
    "\n",
    "Based on our observations, \n",
    "\n",
    "**Focus on Sensitivity/Specificity**\n",
    "\n",
    "The sensitivity of our model to predict whether Tesla Stock price goes up or down is xxx%. (we can tune parameters to get different results)\n",
    "\n",
    "We view sensitivity/specificity as a priority as  less serious issue.\n",
    "\n",
    "**A xxxx Approach**\n",
    "\n",
    "\n",
    "\n",
    "**A xxx Approach**\n",
    "\n",
    "\n"
   ]
  },
  {
   "cell_type": "markdown",
   "metadata": {},
   "source": [
    "## Generation of Predictions"
   ]
  },
  {
   "cell_type": "code",
   "execution_count": 74,
   "metadata": {},
   "outputs": [
    {
     "ename": "NameError",
     "evalue": "name 'lr_best' is not defined",
     "output_type": "error",
     "traceback": [
      "\u001b[0;31m---------------------------------------------------------------------------\u001b[0m",
      "\u001b[0;31mNameError\u001b[0m                                 Traceback (most recent call last)",
      "\u001b[0;32m<ipython-input-74-7fd12fce8849>\u001b[0m in \u001b[0;36m<module>\u001b[0;34m\u001b[0m\n\u001b[1;32m      1\u001b[0m \u001b[0;31m# Generate the predictions based on the scaled testing dataset\u001b[0m\u001b[0;34m\u001b[0m\u001b[0;34m\u001b[0m\u001b[0;34m\u001b[0m\u001b[0m\n\u001b[0;32m----> 2\u001b[0;31m \u001b[0my_pred\u001b[0m \u001b[0;34m=\u001b[0m \u001b[0mpd\u001b[0m\u001b[0;34m.\u001b[0m\u001b[0mDataFrame\u001b[0m\u001b[0;34m(\u001b[0m\u001b[0mlr_best\u001b[0m\u001b[0;34m.\u001b[0m\u001b[0mpredict\u001b[0m\u001b[0;34m(\u001b[0m\u001b[0mX_test_sc\u001b[0m\u001b[0;34m)\u001b[0m\u001b[0;34m,\u001b[0m \u001b[0mcolumns\u001b[0m\u001b[0;34m=\u001b[0m\u001b[0;34m[\u001b[0m\u001b[0;34m'tsla_intra_target'\u001b[0m\u001b[0;34m]\u001b[0m\u001b[0;34m)\u001b[0m\u001b[0;34m\u001b[0m\u001b[0;34m\u001b[0m\u001b[0m\n\u001b[0m",
      "\u001b[0;31mNameError\u001b[0m: name 'lr_best' is not defined"
     ]
    }
   ],
   "source": [
    "# Generate the predictions based on the scaled testing dataset\n",
    "y_pred = pd.DataFrame(lr_best.predict(X_test_sc), columns=['tsla_intra_target'])"
   ]
  },
  {
   "cell_type": "code",
   "execution_count": null,
   "metadata": {},
   "outputs": [],
   "source": [
    "# Concatenate the predictions with the X_test dataframe\n",
    "test_pred = pd.concat([X_test, y_pred], axis=1)"
   ]
  },
  {
   "cell_type": "code",
   "execution_count": null,
   "metadata": {},
   "outputs": [],
   "source": [
    "# Restore the 'id' column since we need this for the Kaggle submission\n",
    "test_pred = pd.concat([test_pred, test['id']], axis=1)"
   ]
  },
  {
   "cell_type": "code",
   "execution_count": null,
   "metadata": {
    "scrolled": true
   },
   "outputs": [],
   "source": [
    "# Verify that we have a mix of predictions for tsla_intra_target\n",
    "test_pred['tsla_intra_target'].value_counts()"
   ]
  },
  {
   "cell_type": "markdown",
   "metadata": {},
   "source": [
    "## Data Export"
   ]
  },
  {
   "cell_type": "code",
   "execution_count": null,
   "metadata": {},
   "outputs": [],
   "source": [
    "test_pred.to_csv(\"../assets/test_pred.csv\", index=False)"
   ]
  },
  {
   "cell_type": "code",
   "execution_count": null,
   "metadata": {},
   "outputs": [],
   "source": []
  },
  {
   "cell_type": "code",
   "execution_count": null,
   "metadata": {},
   "outputs": [],
   "source": []
  },
  {
   "cell_type": "code",
   "execution_count": null,
   "metadata": {},
   "outputs": [],
   "source": []
  }
 ],
 "metadata": {
  "kernelspec": {
   "display_name": "Python 3",
   "language": "python",
   "name": "python3"
  },
  "language_info": {
   "codemirror_mode": {
    "name": "ipython",
    "version": 3
   },
   "file_extension": ".py",
   "mimetype": "text/x-python",
   "name": "python",
   "nbconvert_exporter": "python",
   "pygments_lexer": "ipython3",
   "version": "3.7.6"
  }
 },
 "nbformat": 4,
 "nbformat_minor": 2
}
