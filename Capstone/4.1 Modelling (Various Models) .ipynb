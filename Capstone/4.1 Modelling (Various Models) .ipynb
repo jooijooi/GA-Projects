{
 "cells": [
  {
   "cell_type": "markdown",
   "metadata": {},
   "source": [
    "# CAPSTONE PROJECT"
   ]
  },
  {
   "cell_type": "markdown",
   "metadata": {},
   "source": [
    "by Joyce Ooi"
   ]
  },
  {
   "cell_type": "markdown",
   "metadata": {},
   "source": [
    "# Notebook 3: Modelling"
   ]
  },
  {
   "cell_type": "markdown",
   "metadata": {},
   "source": [
    "This notebook contains the code for model selection and evaluation."
   ]
  },
  {
   "cell_type": "markdown",
   "metadata": {},
   "source": [
    "## Contents\n",
    "\n",
    "- [Importing of Libraries](#Importing-of-Libraries)\n",
    "- [Data Import](#Data-Import)\n",
    "- [Data Preparation](#Data-Preparation)\n",
    "- [Baseline Accuracy](#Baseline-Accuracy)\n",
    "- [Randomised Search for the Best Classifier](#Randomised-Search-for-the-Best-Classifier)\n",
    "- [Selection of the Best Classifier](#Selection-of-the-Best-Classifier)\n",
    "- [Further Exploration of the Best Classifier](#Further-Exploration-of-the-Best-Classifier)\n",
    "- [Generation of Predictions](#Generation-of-Predictions)\n",
    "- [Conclusion](#Conclusion)"
   ]
  },
  {
   "cell_type": "markdown",
   "metadata": {},
   "source": [
    "# Importing of Libraries"
   ]
  },
  {
   "cell_type": "code",
   "execution_count": 1,
   "metadata": {
    "scrolled": true
   },
   "outputs": [
    {
     "name": "stderr",
     "output_type": "stream",
     "text": [
      "Using TensorFlow backend.\n"
     ]
    }
   ],
   "source": [
    "# Read in libraries\n",
    "import pandas as pd\n",
    "import numpy as np\n",
    "import seaborn as sns\n",
    "import matplotlib.pyplot as plt\n",
    "from matplotlib.lines import Line2D\n",
    "from matplotlib.ticker import (MultipleLocator, FormatStrFormatter,\n",
    "                               AutoMinorLocator)\n",
    "from sklearn.model_selection import train_test_split\n",
    "import scipy.stats as stats\n",
    "from mpl_toolkits import mplot3d\n",
    "from sklearn import ensemble, preprocessing\n",
    "from sklearn.cluster import DBSCAN\n",
    "from sklearn.metrics import silhouette_score\n",
    "#modelling\n",
    "from sklearn.preprocessing import StandardScaler, MinMaxScaler\n",
    "from sklearn.pipeline import Pipeline\n",
    "from sklearn.model_selection import train_test_split, GridSearchCV, RandomizedSearchCV\n",
    "from sklearn.metrics import confusion_matrix, classification_report, roc_curve, auc, roc_auc_score, accuracy_score\n",
    "from sklearn.neighbors import KNeighborsClassifier\n",
    "from sklearn.ensemble import RandomForestClassifier, ExtraTreesClassifier\n",
    "from sklearn.ensemble import AdaBoostClassifier\n",
    "from sklearn.linear_model import LogisticRegression\n",
    "from sklearn.model_selection import cross_val_score\n",
    "from sklearn.tree import DecisionTreeClassifier\n",
    "from keras.models import Sequential\n",
    "from keras.layers import Dense, Dropout, GRU\n",
    "from keras.preprocessing.sequence import TimeseriesGenerator\n",
    "\n",
    "# import xgboost as xgb\n",
    "# from xgboost.sklearn import XGBClassifier\n",
    "\n",
    "%matplotlib inline "
   ]
  },
  {
   "cell_type": "code",
   "execution_count": 2,
   "metadata": {},
   "outputs": [],
   "source": [
    "# Import data from downloaded csv files\n",
    "train=pd.read_csv('./datasets/tsla_train.csv')\n",
    "test_actual=pd.read_csv('./datasets/tsla_test.csv')\n"
   ]
  },
  {
   "cell_type": "code",
   "execution_count": 3,
   "metadata": {},
   "outputs": [
    {
     "data": {
      "text/plain": [
       "((1970, 50), (466, 50))"
      ]
     },
     "execution_count": 3,
     "metadata": {},
     "output_type": "execute_result"
    }
   ],
   "source": [
    "train.shape, test_actual.shape"
   ]
  },
  {
   "cell_type": "code",
   "execution_count": 4,
   "metadata": {},
   "outputs": [
    {
     "data": {
      "text/html": [
       "<div>\n",
       "<style scoped>\n",
       "    .dataframe tbody tr th:only-of-type {\n",
       "        vertical-align: middle;\n",
       "    }\n",
       "\n",
       "    .dataframe tbody tr th {\n",
       "        vertical-align: top;\n",
       "    }\n",
       "\n",
       "    .dataframe thead th {\n",
       "        text-align: right;\n",
       "    }\n",
       "</style>\n",
       "<table border=\"1\" class=\"dataframe\">\n",
       "  <thead>\n",
       "    <tr style=\"text-align: right;\">\n",
       "      <th></th>\n",
       "      <th>Unnamed: 0</th>\n",
       "      <th>date</th>\n",
       "      <th>tsla_intra_target</th>\n",
       "      <th>tsla_sentiment</th>\n",
       "      <th>em_tweets3_sentiment</th>\n",
       "      <th>dax_return</th>\n",
       "      <th>cac_return</th>\n",
       "      <th>dji_previous_day_return</th>\n",
       "      <th>MA5</th>\n",
       "      <th>MA10</th>\n",
       "      <th>...</th>\n",
       "      <th>em_tweets3_sentiment_lag3</th>\n",
       "      <th>dax_return_lag3</th>\n",
       "      <th>cac_return_lag3</th>\n",
       "      <th>dji_previous_day_return_lag3</th>\n",
       "      <th>MA5_lag3</th>\n",
       "      <th>MA10_lag3</th>\n",
       "      <th>MA20_lag3</th>\n",
       "      <th>MA50_lag3</th>\n",
       "      <th>change_lag3</th>\n",
       "      <th>volatity_lag3</th>\n",
       "    </tr>\n",
       "  </thead>\n",
       "  <tbody>\n",
       "    <tr>\n",
       "      <th>0</th>\n",
       "      <td>30</td>\n",
       "      <td>2010-08-12</td>\n",
       "      <td>1.0</td>\n",
       "      <td>0.0</td>\n",
       "      <td>0.0</td>\n",
       "      <td>-1.0</td>\n",
       "      <td>1.0</td>\n",
       "      <td>-1.0</td>\n",
       "      <td>18.490</td>\n",
       "      <td>19.168</td>\n",
       "      <td>...</td>\n",
       "      <td>0.0</td>\n",
       "      <td>1.0</td>\n",
       "      <td>1.0</td>\n",
       "      <td>-1.0</td>\n",
       "      <td>19.986</td>\n",
       "      <td>19.824</td>\n",
       "      <td>19.7955</td>\n",
       "      <td>19.6968</td>\n",
       "      <td>0.000510</td>\n",
       "      <td>0.041525</td>\n",
       "    </tr>\n",
       "    <tr>\n",
       "      <th>1</th>\n",
       "      <td>31</td>\n",
       "      <td>2010-08-13</td>\n",
       "      <td>0.0</td>\n",
       "      <td>0.0</td>\n",
       "      <td>0.0</td>\n",
       "      <td>-1.0</td>\n",
       "      <td>-1.0</td>\n",
       "      <td>-1.0</td>\n",
       "      <td>18.326</td>\n",
       "      <td>18.919</td>\n",
       "      <td>...</td>\n",
       "      <td>0.0</td>\n",
       "      <td>-1.0</td>\n",
       "      <td>-1.0</td>\n",
       "      <td>1.0</td>\n",
       "      <td>19.314</td>\n",
       "      <td>19.662</td>\n",
       "      <td>19.6860</td>\n",
       "      <td>19.6720</td>\n",
       "      <td>-0.029513</td>\n",
       "      <td>0.041491</td>\n",
       "    </tr>\n",
       "    <tr>\n",
       "      <th>2</th>\n",
       "      <td>32</td>\n",
       "      <td>2010-08-16</td>\n",
       "      <td>0.0</td>\n",
       "      <td>0.0</td>\n",
       "      <td>0.0</td>\n",
       "      <td>-1.0</td>\n",
       "      <td>-1.0</td>\n",
       "      <td>-1.0</td>\n",
       "      <td>18.350</td>\n",
       "      <td>18.753</td>\n",
       "      <td>...</td>\n",
       "      <td>0.0</td>\n",
       "      <td>-1.0</td>\n",
       "      <td>-1.0</td>\n",
       "      <td>-1.0</td>\n",
       "      <td>18.744</td>\n",
       "      <td>19.448</td>\n",
       "      <td>19.6450</td>\n",
       "      <td>19.7104</td>\n",
       "      <td>-0.061216</td>\n",
       "      <td>0.041826</td>\n",
       "    </tr>\n",
       "    <tr>\n",
       "      <th>3</th>\n",
       "      <td>33</td>\n",
       "      <td>2010-08-17</td>\n",
       "      <td>0.0</td>\n",
       "      <td>0.0</td>\n",
       "      <td>0.0</td>\n",
       "      <td>1.0</td>\n",
       "      <td>1.0</td>\n",
       "      <td>-1.0</td>\n",
       "      <td>18.524</td>\n",
       "      <td>18.704</td>\n",
       "      <td>...</td>\n",
       "      <td>0.0</td>\n",
       "      <td>-1.0</td>\n",
       "      <td>1.0</td>\n",
       "      <td>-1.0</td>\n",
       "      <td>18.490</td>\n",
       "      <td>19.168</td>\n",
       "      <td>19.5775</td>\n",
       "      <td>19.8278</td>\n",
       "      <td>-0.016902</td>\n",
       "      <td>0.042109</td>\n",
       "    </tr>\n",
       "    <tr>\n",
       "      <th>4</th>\n",
       "      <td>34</td>\n",
       "      <td>2010-08-18</td>\n",
       "      <td>1.0</td>\n",
       "      <td>0.0</td>\n",
       "      <td>0.0</td>\n",
       "      <td>1.0</td>\n",
       "      <td>-1.0</td>\n",
       "      <td>1.0</td>\n",
       "      <td>18.762</td>\n",
       "      <td>18.757</td>\n",
       "      <td>...</td>\n",
       "      <td>0.0</td>\n",
       "      <td>-1.0</td>\n",
       "      <td>-1.0</td>\n",
       "      <td>-1.0</td>\n",
       "      <td>18.326</td>\n",
       "      <td>18.919</td>\n",
       "      <td>19.5365</td>\n",
       "      <td>19.9306</td>\n",
       "      <td>0.040094</td>\n",
       "      <td>0.036775</td>\n",
       "    </tr>\n",
       "    <tr>\n",
       "      <th>...</th>\n",
       "      <td>...</td>\n",
       "      <td>...</td>\n",
       "      <td>...</td>\n",
       "      <td>...</td>\n",
       "      <td>...</td>\n",
       "      <td>...</td>\n",
       "      <td>...</td>\n",
       "      <td>...</td>\n",
       "      <td>...</td>\n",
       "      <td>...</td>\n",
       "      <td>...</td>\n",
       "      <td>...</td>\n",
       "      <td>...</td>\n",
       "      <td>...</td>\n",
       "      <td>...</td>\n",
       "      <td>...</td>\n",
       "      <td>...</td>\n",
       "      <td>...</td>\n",
       "      <td>...</td>\n",
       "      <td>...</td>\n",
       "      <td>...</td>\n",
       "    </tr>\n",
       "    <tr>\n",
       "      <th>95</th>\n",
       "      <td>125</td>\n",
       "      <td>2010-12-28</td>\n",
       "      <td>0.0</td>\n",
       "      <td>0.0</td>\n",
       "      <td>0.0</td>\n",
       "      <td>-1.0</td>\n",
       "      <td>-1.0</td>\n",
       "      <td>-1.0</td>\n",
       "      <td>28.482</td>\n",
       "      <td>29.086</td>\n",
       "      <td>...</td>\n",
       "      <td>0.0</td>\n",
       "      <td>-1.0</td>\n",
       "      <td>-1.0</td>\n",
       "      <td>1.0</td>\n",
       "      <td>31.608</td>\n",
       "      <td>29.894</td>\n",
       "      <td>29.5570</td>\n",
       "      <td>29.3088</td>\n",
       "      <td>0.011404</td>\n",
       "      <td>0.037154</td>\n",
       "    </tr>\n",
       "    <tr>\n",
       "      <th>96</th>\n",
       "      <td>126</td>\n",
       "      <td>2010-12-29</td>\n",
       "      <td>0.0</td>\n",
       "      <td>0.0</td>\n",
       "      <td>0.0</td>\n",
       "      <td>1.0</td>\n",
       "      <td>1.0</td>\n",
       "      <td>1.0</td>\n",
       "      <td>27.256</td>\n",
       "      <td>28.612</td>\n",
       "      <td>...</td>\n",
       "      <td>0.0</td>\n",
       "      <td>-1.0</td>\n",
       "      <td>-1.0</td>\n",
       "      <td>1.0</td>\n",
       "      <td>30.446</td>\n",
       "      <td>29.814</td>\n",
       "      <td>29.3205</td>\n",
       "      <td>29.1912</td>\n",
       "      <td>-0.081039</td>\n",
       "      <td>0.033302</td>\n",
       "    </tr>\n",
       "    <tr>\n",
       "      <th>97</th>\n",
       "      <td>127</td>\n",
       "      <td>2010-12-30</td>\n",
       "      <td>1.0</td>\n",
       "      <td>0.0</td>\n",
       "      <td>0.0</td>\n",
       "      <td>-1.0</td>\n",
       "      <td>-1.0</td>\n",
       "      <td>1.0</td>\n",
       "      <td>26.564</td>\n",
       "      <td>28.109</td>\n",
       "      <td>...</td>\n",
       "      <td>0.0</td>\n",
       "      <td>-1.0</td>\n",
       "      <td>-1.0</td>\n",
       "      <td>1.0</td>\n",
       "      <td>29.388</td>\n",
       "      <td>29.504</td>\n",
       "      <td>29.0960</td>\n",
       "      <td>29.0780</td>\n",
       "      <td>-0.163556</td>\n",
       "      <td>0.036518</td>\n",
       "    </tr>\n",
       "    <tr>\n",
       "      <th>98</th>\n",
       "      <td>128</td>\n",
       "      <td>2010-12-31</td>\n",
       "      <td>0.0</td>\n",
       "      <td>0.0</td>\n",
       "      <td>0.0</td>\n",
       "      <td>0.0</td>\n",
       "      <td>0.0</td>\n",
       "      <td>-1.0</td>\n",
       "      <td>26.778</td>\n",
       "      <td>27.566</td>\n",
       "      <td>...</td>\n",
       "      <td>0.0</td>\n",
       "      <td>-1.0</td>\n",
       "      <td>-1.0</td>\n",
       "      <td>-1.0</td>\n",
       "      <td>28.482</td>\n",
       "      <td>29.086</td>\n",
       "      <td>28.9055</td>\n",
       "      <td>28.9702</td>\n",
       "      <td>0.033105</td>\n",
       "      <td>0.049272</td>\n",
       "    </tr>\n",
       "    <tr>\n",
       "      <th>99</th>\n",
       "      <td>129</td>\n",
       "      <td>2011-01-03</td>\n",
       "      <td>1.0</td>\n",
       "      <td>0.0</td>\n",
       "      <td>0.0</td>\n",
       "      <td>1.0</td>\n",
       "      <td>1.0</td>\n",
       "      <td>1.0</td>\n",
       "      <td>26.830</td>\n",
       "      <td>27.091</td>\n",
       "      <td>...</td>\n",
       "      <td>0.0</td>\n",
       "      <td>1.0</td>\n",
       "      <td>1.0</td>\n",
       "      <td>1.0</td>\n",
       "      <td>27.256</td>\n",
       "      <td>28.612</td>\n",
       "      <td>28.7520</td>\n",
       "      <td>28.8506</td>\n",
       "      <td>0.048772</td>\n",
       "      <td>0.050365</td>\n",
       "    </tr>\n",
       "  </tbody>\n",
       "</table>\n",
       "<p>100 rows × 50 columns</p>\n",
       "</div>"
      ],
      "text/plain": [
       "    Unnamed: 0        date  tsla_intra_target  tsla_sentiment  \\\n",
       "0           30  2010-08-12                1.0             0.0   \n",
       "1           31  2010-08-13                0.0             0.0   \n",
       "2           32  2010-08-16                0.0             0.0   \n",
       "3           33  2010-08-17                0.0             0.0   \n",
       "4           34  2010-08-18                1.0             0.0   \n",
       "..         ...         ...                ...             ...   \n",
       "95         125  2010-12-28                0.0             0.0   \n",
       "96         126  2010-12-29                0.0             0.0   \n",
       "97         127  2010-12-30                1.0             0.0   \n",
       "98         128  2010-12-31                0.0             0.0   \n",
       "99         129  2011-01-03                1.0             0.0   \n",
       "\n",
       "    em_tweets3_sentiment  dax_return  cac_return  dji_previous_day_return  \\\n",
       "0                    0.0        -1.0         1.0                     -1.0   \n",
       "1                    0.0        -1.0        -1.0                     -1.0   \n",
       "2                    0.0        -1.0        -1.0                     -1.0   \n",
       "3                    0.0         1.0         1.0                     -1.0   \n",
       "4                    0.0         1.0        -1.0                      1.0   \n",
       "..                   ...         ...         ...                      ...   \n",
       "95                   0.0        -1.0        -1.0                     -1.0   \n",
       "96                   0.0         1.0         1.0                      1.0   \n",
       "97                   0.0        -1.0        -1.0                      1.0   \n",
       "98                   0.0         0.0         0.0                     -1.0   \n",
       "99                   0.0         1.0         1.0                      1.0   \n",
       "\n",
       "       MA5    MA10  ...  em_tweets3_sentiment_lag3  dax_return_lag3  \\\n",
       "0   18.490  19.168  ...                        0.0              1.0   \n",
       "1   18.326  18.919  ...                        0.0             -1.0   \n",
       "2   18.350  18.753  ...                        0.0             -1.0   \n",
       "3   18.524  18.704  ...                        0.0             -1.0   \n",
       "4   18.762  18.757  ...                        0.0             -1.0   \n",
       "..     ...     ...  ...                        ...              ...   \n",
       "95  28.482  29.086  ...                        0.0             -1.0   \n",
       "96  27.256  28.612  ...                        0.0             -1.0   \n",
       "97  26.564  28.109  ...                        0.0             -1.0   \n",
       "98  26.778  27.566  ...                        0.0             -1.0   \n",
       "99  26.830  27.091  ...                        0.0              1.0   \n",
       "\n",
       "    cac_return_lag3  dji_previous_day_return_lag3  MA5_lag3  MA10_lag3  \\\n",
       "0               1.0                          -1.0    19.986     19.824   \n",
       "1              -1.0                           1.0    19.314     19.662   \n",
       "2              -1.0                          -1.0    18.744     19.448   \n",
       "3               1.0                          -1.0    18.490     19.168   \n",
       "4              -1.0                          -1.0    18.326     18.919   \n",
       "..              ...                           ...       ...        ...   \n",
       "95             -1.0                           1.0    31.608     29.894   \n",
       "96             -1.0                           1.0    30.446     29.814   \n",
       "97             -1.0                           1.0    29.388     29.504   \n",
       "98             -1.0                          -1.0    28.482     29.086   \n",
       "99              1.0                           1.0    27.256     28.612   \n",
       "\n",
       "    MA20_lag3  MA50_lag3  change_lag3  volatity_lag3  \n",
       "0     19.7955    19.6968     0.000510       0.041525  \n",
       "1     19.6860    19.6720    -0.029513       0.041491  \n",
       "2     19.6450    19.7104    -0.061216       0.041826  \n",
       "3     19.5775    19.8278    -0.016902       0.042109  \n",
       "4     19.5365    19.9306     0.040094       0.036775  \n",
       "..        ...        ...          ...            ...  \n",
       "95    29.5570    29.3088     0.011404       0.037154  \n",
       "96    29.3205    29.1912    -0.081039       0.033302  \n",
       "97    29.0960    29.0780    -0.163556       0.036518  \n",
       "98    28.9055    28.9702     0.033105       0.049272  \n",
       "99    28.7520    28.8506     0.048772       0.050365  \n",
       "\n",
       "[100 rows x 50 columns]"
      ]
     },
     "execution_count": 4,
     "metadata": {},
     "output_type": "execute_result"
    }
   ],
   "source": [
    "train.head(100)"
   ]
  },
  {
   "cell_type": "code",
   "execution_count": 5,
   "metadata": {},
   "outputs": [
    {
     "data": {
      "text/html": [
       "<div>\n",
       "<style scoped>\n",
       "    .dataframe tbody tr th:only-of-type {\n",
       "        vertical-align: middle;\n",
       "    }\n",
       "\n",
       "    .dataframe tbody tr th {\n",
       "        vertical-align: top;\n",
       "    }\n",
       "\n",
       "    .dataframe thead th {\n",
       "        text-align: right;\n",
       "    }\n",
       "</style>\n",
       "<table border=\"1\" class=\"dataframe\">\n",
       "  <thead>\n",
       "    <tr style=\"text-align: right;\">\n",
       "      <th></th>\n",
       "      <th>Unnamed: 0</th>\n",
       "      <th>date</th>\n",
       "      <th>tsla_intra_target</th>\n",
       "      <th>tsla_sentiment</th>\n",
       "      <th>em_tweets3_sentiment</th>\n",
       "      <th>dax_return</th>\n",
       "      <th>cac_return</th>\n",
       "      <th>dji_previous_day_return</th>\n",
       "      <th>MA5</th>\n",
       "      <th>MA10</th>\n",
       "      <th>...</th>\n",
       "      <th>em_tweets3_sentiment_lag3</th>\n",
       "      <th>dax_return_lag3</th>\n",
       "      <th>cac_return_lag3</th>\n",
       "      <th>dji_previous_day_return_lag3</th>\n",
       "      <th>MA5_lag3</th>\n",
       "      <th>MA10_lag3</th>\n",
       "      <th>MA20_lag3</th>\n",
       "      <th>MA50_lag3</th>\n",
       "      <th>change_lag3</th>\n",
       "      <th>volatity_lag3</th>\n",
       "    </tr>\n",
       "  </thead>\n",
       "  <tbody>\n",
       "    <tr>\n",
       "      <th>0</th>\n",
       "      <td>2000</td>\n",
       "      <td>2018-06-11</td>\n",
       "      <td>0.0</td>\n",
       "      <td>1.0</td>\n",
       "      <td>-1.0</td>\n",
       "      <td>1.0</td>\n",
       "      <td>1.0</td>\n",
       "      <td>1.0</td>\n",
       "      <td>325.623999</td>\n",
       "      <td>321.031000</td>\n",
       "      <td>...</td>\n",
       "      <td>-1.0</td>\n",
       "      <td>1.0</td>\n",
       "      <td>-1.0</td>\n",
       "      <td>-1.0</td>\n",
       "      <td>303.056000</td>\n",
       "      <td>302.525003</td>\n",
       "      <td>309.739502</td>\n",
       "      <td>312.464601</td>\n",
       "      <td>0.092987</td>\n",
       "      <td>0.021095</td>\n",
       "    </tr>\n",
       "    <tr>\n",
       "      <th>1</th>\n",
       "      <td>2001</td>\n",
       "      <td>2018-06-12</td>\n",
       "      <td>1.0</td>\n",
       "      <td>-1.0</td>\n",
       "      <td>-1.0</td>\n",
       "      <td>-1.0</td>\n",
       "      <td>-1.0</td>\n",
       "      <td>-1.0</td>\n",
       "      <td>330.679999</td>\n",
       "      <td>327.666000</td>\n",
       "      <td>...</td>\n",
       "      <td>1.0</td>\n",
       "      <td>-1.0</td>\n",
       "      <td>-1.0</td>\n",
       "      <td>1.0</td>\n",
       "      <td>308.223999</td>\n",
       "      <td>308.426001</td>\n",
       "      <td>313.142502</td>\n",
       "      <td>312.965801</td>\n",
       "      <td>-0.010730</td>\n",
       "      <td>0.028782</td>\n",
       "    </tr>\n",
       "    <tr>\n",
       "      <th>2</th>\n",
       "      <td>2002</td>\n",
       "      <td>2018-06-13</td>\n",
       "      <td>1.0</td>\n",
       "      <td>1.0</td>\n",
       "      <td>1.0</td>\n",
       "      <td>1.0</td>\n",
       "      <td>-1.0</td>\n",
       "      <td>-1.0</td>\n",
       "      <td>339.006000</td>\n",
       "      <td>335.075000</td>\n",
       "      <td>...</td>\n",
       "      <td>1.0</td>\n",
       "      <td>1.0</td>\n",
       "      <td>1.0</td>\n",
       "      <td>1.0</td>\n",
       "      <td>315.296002</td>\n",
       "      <td>313.732001</td>\n",
       "      <td>317.503001</td>\n",
       "      <td>313.301601</td>\n",
       "      <td>0.004955</td>\n",
       "      <td>0.028909</td>\n",
       "    </tr>\n",
       "    <tr>\n",
       "      <th>3</th>\n",
       "      <td>2003</td>\n",
       "      <td>2018-06-14</td>\n",
       "      <td>0.0</td>\n",
       "      <td>-1.0</td>\n",
       "      <td>-1.0</td>\n",
       "      <td>1.0</td>\n",
       "      <td>1.0</td>\n",
       "      <td>-1.0</td>\n",
       "      <td>347.108002</td>\n",
       "      <td>341.216998</td>\n",
       "      <td>...</td>\n",
       "      <td>-1.0</td>\n",
       "      <td>1.0</td>\n",
       "      <td>1.0</td>\n",
       "      <td>1.0</td>\n",
       "      <td>325.623999</td>\n",
       "      <td>321.031000</td>\n",
       "      <td>320.925001</td>\n",
       "      <td>313.656001</td>\n",
       "      <td>0.044455</td>\n",
       "      <td>0.028744</td>\n",
       "    </tr>\n",
       "    <tr>\n",
       "      <th>4</th>\n",
       "      <td>2004</td>\n",
       "      <td>2018-06-15</td>\n",
       "      <td>0.0</td>\n",
       "      <td>0.0</td>\n",
       "      <td>1.0</td>\n",
       "      <td>-1.0</td>\n",
       "      <td>-1.0</td>\n",
       "      <td>-1.0</td>\n",
       "      <td>354.853998</td>\n",
       "      <td>345.488998</td>\n",
       "      <td>...</td>\n",
       "      <td>-1.0</td>\n",
       "      <td>-1.0</td>\n",
       "      <td>-1.0</td>\n",
       "      <td>-1.0</td>\n",
       "      <td>330.679999</td>\n",
       "      <td>327.666000</td>\n",
       "      <td>323.714001</td>\n",
       "      <td>314.169001</td>\n",
       "      <td>0.031623</td>\n",
       "      <td>0.030147</td>\n",
       "    </tr>\n",
       "  </tbody>\n",
       "</table>\n",
       "<p>5 rows × 50 columns</p>\n",
       "</div>"
      ],
      "text/plain": [
       "   Unnamed: 0        date  tsla_intra_target  tsla_sentiment  \\\n",
       "0        2000  2018-06-11                0.0             1.0   \n",
       "1        2001  2018-06-12                1.0            -1.0   \n",
       "2        2002  2018-06-13                1.0             1.0   \n",
       "3        2003  2018-06-14                0.0            -1.0   \n",
       "4        2004  2018-06-15                0.0             0.0   \n",
       "\n",
       "   em_tweets3_sentiment  dax_return  cac_return  dji_previous_day_return  \\\n",
       "0                  -1.0         1.0         1.0                      1.0   \n",
       "1                  -1.0        -1.0        -1.0                     -1.0   \n",
       "2                   1.0         1.0        -1.0                     -1.0   \n",
       "3                  -1.0         1.0         1.0                     -1.0   \n",
       "4                   1.0        -1.0        -1.0                     -1.0   \n",
       "\n",
       "          MA5        MA10  ...  em_tweets3_sentiment_lag3  dax_return_lag3  \\\n",
       "0  325.623999  321.031000  ...                       -1.0              1.0   \n",
       "1  330.679999  327.666000  ...                        1.0             -1.0   \n",
       "2  339.006000  335.075000  ...                        1.0              1.0   \n",
       "3  347.108002  341.216998  ...                       -1.0              1.0   \n",
       "4  354.853998  345.488998  ...                       -1.0             -1.0   \n",
       "\n",
       "   cac_return_lag3  dji_previous_day_return_lag3    MA5_lag3   MA10_lag3  \\\n",
       "0             -1.0                          -1.0  303.056000  302.525003   \n",
       "1             -1.0                           1.0  308.223999  308.426001   \n",
       "2              1.0                           1.0  315.296002  313.732001   \n",
       "3              1.0                           1.0  325.623999  321.031000   \n",
       "4             -1.0                          -1.0  330.679999  327.666000   \n",
       "\n",
       "    MA20_lag3   MA50_lag3  change_lag3  volatity_lag3  \n",
       "0  309.739502  312.464601     0.092987       0.021095  \n",
       "1  313.142502  312.965801    -0.010730       0.028782  \n",
       "2  317.503001  313.301601     0.004955       0.028909  \n",
       "3  320.925001  313.656001     0.044455       0.028744  \n",
       "4  323.714001  314.169001     0.031623       0.030147  \n",
       "\n",
       "[5 rows x 50 columns]"
      ]
     },
     "execution_count": 5,
     "metadata": {},
     "output_type": "execute_result"
    }
   ],
   "source": [
    "test_actual.head()"
   ]
  },
  {
   "cell_type": "markdown",
   "metadata": {},
   "source": [
    "# Data Preparation"
   ]
  },
  {
   "cell_type": "code",
   "execution_count": 6,
   "metadata": {},
   "outputs": [],
   "source": [
    "train = train.drop(['Unnamed: 0'], axis = 1)\n",
    "test_actual = test_actual.drop(['Unnamed: 0'], axis = 1)"
   ]
  },
  {
   "cell_type": "code",
   "execution_count": 7,
   "metadata": {},
   "outputs": [
    {
     "data": {
      "text/html": [
       "<div>\n",
       "<style scoped>\n",
       "    .dataframe tbody tr th:only-of-type {\n",
       "        vertical-align: middle;\n",
       "    }\n",
       "\n",
       "    .dataframe tbody tr th {\n",
       "        vertical-align: top;\n",
       "    }\n",
       "\n",
       "    .dataframe thead th {\n",
       "        text-align: right;\n",
       "    }\n",
       "</style>\n",
       "<table border=\"1\" class=\"dataframe\">\n",
       "  <thead>\n",
       "    <tr style=\"text-align: right;\">\n",
       "      <th></th>\n",
       "      <th>date</th>\n",
       "      <th>tsla_intra_target</th>\n",
       "      <th>tsla_sentiment</th>\n",
       "      <th>em_tweets3_sentiment</th>\n",
       "      <th>dax_return</th>\n",
       "      <th>cac_return</th>\n",
       "      <th>dji_previous_day_return</th>\n",
       "      <th>MA5</th>\n",
       "      <th>MA10</th>\n",
       "      <th>MA20</th>\n",
       "      <th>...</th>\n",
       "      <th>em_tweets3_sentiment_lag3</th>\n",
       "      <th>dax_return_lag3</th>\n",
       "      <th>cac_return_lag3</th>\n",
       "      <th>dji_previous_day_return_lag3</th>\n",
       "      <th>MA5_lag3</th>\n",
       "      <th>MA10_lag3</th>\n",
       "      <th>MA20_lag3</th>\n",
       "      <th>MA50_lag3</th>\n",
       "      <th>change_lag3</th>\n",
       "      <th>volatity_lag3</th>\n",
       "    </tr>\n",
       "  </thead>\n",
       "  <tbody>\n",
       "    <tr>\n",
       "      <th>0</th>\n",
       "      <td>2010-08-12</td>\n",
       "      <td>1.0</td>\n",
       "      <td>0.0</td>\n",
       "      <td>0.0</td>\n",
       "      <td>-1.0</td>\n",
       "      <td>1.0</td>\n",
       "      <td>-1.0</td>\n",
       "      <td>18.490</td>\n",
       "      <td>19.168</td>\n",
       "      <td>19.5775</td>\n",
       "      <td>...</td>\n",
       "      <td>0.0</td>\n",
       "      <td>1.0</td>\n",
       "      <td>1.0</td>\n",
       "      <td>-1.0</td>\n",
       "      <td>19.986</td>\n",
       "      <td>19.824</td>\n",
       "      <td>19.7955</td>\n",
       "      <td>19.6968</td>\n",
       "      <td>0.000510</td>\n",
       "      <td>0.041525</td>\n",
       "    </tr>\n",
       "    <tr>\n",
       "      <th>1</th>\n",
       "      <td>2010-08-13</td>\n",
       "      <td>0.0</td>\n",
       "      <td>0.0</td>\n",
       "      <td>0.0</td>\n",
       "      <td>-1.0</td>\n",
       "      <td>-1.0</td>\n",
       "      <td>-1.0</td>\n",
       "      <td>18.326</td>\n",
       "      <td>18.919</td>\n",
       "      <td>19.5365</td>\n",
       "      <td>...</td>\n",
       "      <td>0.0</td>\n",
       "      <td>-1.0</td>\n",
       "      <td>-1.0</td>\n",
       "      <td>1.0</td>\n",
       "      <td>19.314</td>\n",
       "      <td>19.662</td>\n",
       "      <td>19.6860</td>\n",
       "      <td>19.6720</td>\n",
       "      <td>-0.029513</td>\n",
       "      <td>0.041491</td>\n",
       "    </tr>\n",
       "    <tr>\n",
       "      <th>2</th>\n",
       "      <td>2010-08-16</td>\n",
       "      <td>0.0</td>\n",
       "      <td>0.0</td>\n",
       "      <td>0.0</td>\n",
       "      <td>-1.0</td>\n",
       "      <td>-1.0</td>\n",
       "      <td>-1.0</td>\n",
       "      <td>18.350</td>\n",
       "      <td>18.753</td>\n",
       "      <td>19.5065</td>\n",
       "      <td>...</td>\n",
       "      <td>0.0</td>\n",
       "      <td>-1.0</td>\n",
       "      <td>-1.0</td>\n",
       "      <td>-1.0</td>\n",
       "      <td>18.744</td>\n",
       "      <td>19.448</td>\n",
       "      <td>19.6450</td>\n",
       "      <td>19.7104</td>\n",
       "      <td>-0.061216</td>\n",
       "      <td>0.041826</td>\n",
       "    </tr>\n",
       "    <tr>\n",
       "      <th>3</th>\n",
       "      <td>2010-08-17</td>\n",
       "      <td>0.0</td>\n",
       "      <td>0.0</td>\n",
       "      <td>0.0</td>\n",
       "      <td>1.0</td>\n",
       "      <td>1.0</td>\n",
       "      <td>-1.0</td>\n",
       "      <td>18.524</td>\n",
       "      <td>18.704</td>\n",
       "      <td>19.4945</td>\n",
       "      <td>...</td>\n",
       "      <td>0.0</td>\n",
       "      <td>-1.0</td>\n",
       "      <td>1.0</td>\n",
       "      <td>-1.0</td>\n",
       "      <td>18.490</td>\n",
       "      <td>19.168</td>\n",
       "      <td>19.5775</td>\n",
       "      <td>19.8278</td>\n",
       "      <td>-0.016902</td>\n",
       "      <td>0.042109</td>\n",
       "    </tr>\n",
       "    <tr>\n",
       "      <th>4</th>\n",
       "      <td>2010-08-18</td>\n",
       "      <td>1.0</td>\n",
       "      <td>0.0</td>\n",
       "      <td>0.0</td>\n",
       "      <td>1.0</td>\n",
       "      <td>-1.0</td>\n",
       "      <td>1.0</td>\n",
       "      <td>18.762</td>\n",
       "      <td>18.757</td>\n",
       "      <td>19.4420</td>\n",
       "      <td>...</td>\n",
       "      <td>0.0</td>\n",
       "      <td>-1.0</td>\n",
       "      <td>-1.0</td>\n",
       "      <td>-1.0</td>\n",
       "      <td>18.326</td>\n",
       "      <td>18.919</td>\n",
       "      <td>19.5365</td>\n",
       "      <td>19.9306</td>\n",
       "      <td>0.040094</td>\n",
       "      <td>0.036775</td>\n",
       "    </tr>\n",
       "  </tbody>\n",
       "</table>\n",
       "<p>5 rows × 49 columns</p>\n",
       "</div>"
      ],
      "text/plain": [
       "         date  tsla_intra_target  tsla_sentiment  em_tweets3_sentiment  \\\n",
       "0  2010-08-12                1.0             0.0                   0.0   \n",
       "1  2010-08-13                0.0             0.0                   0.0   \n",
       "2  2010-08-16                0.0             0.0                   0.0   \n",
       "3  2010-08-17                0.0             0.0                   0.0   \n",
       "4  2010-08-18                1.0             0.0                   0.0   \n",
       "\n",
       "   dax_return  cac_return  dji_previous_day_return     MA5    MA10     MA20  \\\n",
       "0        -1.0         1.0                     -1.0  18.490  19.168  19.5775   \n",
       "1        -1.0        -1.0                     -1.0  18.326  18.919  19.5365   \n",
       "2        -1.0        -1.0                     -1.0  18.350  18.753  19.5065   \n",
       "3         1.0         1.0                     -1.0  18.524  18.704  19.4945   \n",
       "4         1.0        -1.0                      1.0  18.762  18.757  19.4420   \n",
       "\n",
       "   ...  em_tweets3_sentiment_lag3  dax_return_lag3  cac_return_lag3  \\\n",
       "0  ...                        0.0              1.0              1.0   \n",
       "1  ...                        0.0             -1.0             -1.0   \n",
       "2  ...                        0.0             -1.0             -1.0   \n",
       "3  ...                        0.0             -1.0              1.0   \n",
       "4  ...                        0.0             -1.0             -1.0   \n",
       "\n",
       "   dji_previous_day_return_lag3  MA5_lag3  MA10_lag3  MA20_lag3  MA50_lag3  \\\n",
       "0                          -1.0    19.986     19.824    19.7955    19.6968   \n",
       "1                           1.0    19.314     19.662    19.6860    19.6720   \n",
       "2                          -1.0    18.744     19.448    19.6450    19.7104   \n",
       "3                          -1.0    18.490     19.168    19.5775    19.8278   \n",
       "4                          -1.0    18.326     18.919    19.5365    19.9306   \n",
       "\n",
       "   change_lag3  volatity_lag3  \n",
       "0     0.000510       0.041525  \n",
       "1    -0.029513       0.041491  \n",
       "2    -0.061216       0.041826  \n",
       "3    -0.016902       0.042109  \n",
       "4     0.040094       0.036775  \n",
       "\n",
       "[5 rows x 49 columns]"
      ]
     },
     "execution_count": 7,
     "metadata": {},
     "output_type": "execute_result"
    }
   ],
   "source": [
    "train.head()"
   ]
  },
  {
   "cell_type": "code",
   "execution_count": 8,
   "metadata": {},
   "outputs": [
    {
     "data": {
      "text/html": [
       "<div>\n",
       "<style scoped>\n",
       "    .dataframe tbody tr th:only-of-type {\n",
       "        vertical-align: middle;\n",
       "    }\n",
       "\n",
       "    .dataframe tbody tr th {\n",
       "        vertical-align: top;\n",
       "    }\n",
       "\n",
       "    .dataframe thead th {\n",
       "        text-align: right;\n",
       "    }\n",
       "</style>\n",
       "<table border=\"1\" class=\"dataframe\">\n",
       "  <thead>\n",
       "    <tr style=\"text-align: right;\">\n",
       "      <th></th>\n",
       "      <th>date</th>\n",
       "      <th>tsla_intra_target</th>\n",
       "      <th>tsla_sentiment</th>\n",
       "      <th>em_tweets3_sentiment</th>\n",
       "      <th>dax_return</th>\n",
       "      <th>cac_return</th>\n",
       "      <th>dji_previous_day_return</th>\n",
       "      <th>MA5</th>\n",
       "      <th>MA10</th>\n",
       "      <th>MA20</th>\n",
       "      <th>...</th>\n",
       "      <th>em_tweets3_sentiment_lag3</th>\n",
       "      <th>dax_return_lag3</th>\n",
       "      <th>cac_return_lag3</th>\n",
       "      <th>dji_previous_day_return_lag3</th>\n",
       "      <th>MA5_lag3</th>\n",
       "      <th>MA10_lag3</th>\n",
       "      <th>MA20_lag3</th>\n",
       "      <th>MA50_lag3</th>\n",
       "      <th>change_lag3</th>\n",
       "      <th>volatity_lag3</th>\n",
       "    </tr>\n",
       "  </thead>\n",
       "  <tbody>\n",
       "    <tr>\n",
       "      <th>0</th>\n",
       "      <td>2018-06-11</td>\n",
       "      <td>0.0</td>\n",
       "      <td>1.0</td>\n",
       "      <td>-1.0</td>\n",
       "      <td>1.0</td>\n",
       "      <td>1.0</td>\n",
       "      <td>1.0</td>\n",
       "      <td>325.623999</td>\n",
       "      <td>321.031000</td>\n",
       "      <td>320.925001</td>\n",
       "      <td>...</td>\n",
       "      <td>-1.0</td>\n",
       "      <td>1.0</td>\n",
       "      <td>-1.0</td>\n",
       "      <td>-1.0</td>\n",
       "      <td>303.056000</td>\n",
       "      <td>302.525003</td>\n",
       "      <td>309.739502</td>\n",
       "      <td>312.464601</td>\n",
       "      <td>0.092987</td>\n",
       "      <td>0.021095</td>\n",
       "    </tr>\n",
       "    <tr>\n",
       "      <th>1</th>\n",
       "      <td>2018-06-12</td>\n",
       "      <td>1.0</td>\n",
       "      <td>-1.0</td>\n",
       "      <td>-1.0</td>\n",
       "      <td>-1.0</td>\n",
       "      <td>-1.0</td>\n",
       "      <td>-1.0</td>\n",
       "      <td>330.679999</td>\n",
       "      <td>327.666000</td>\n",
       "      <td>323.714001</td>\n",
       "      <td>...</td>\n",
       "      <td>1.0</td>\n",
       "      <td>-1.0</td>\n",
       "      <td>-1.0</td>\n",
       "      <td>1.0</td>\n",
       "      <td>308.223999</td>\n",
       "      <td>308.426001</td>\n",
       "      <td>313.142502</td>\n",
       "      <td>312.965801</td>\n",
       "      <td>-0.010730</td>\n",
       "      <td>0.028782</td>\n",
       "    </tr>\n",
       "    <tr>\n",
       "      <th>2</th>\n",
       "      <td>2018-06-13</td>\n",
       "      <td>1.0</td>\n",
       "      <td>1.0</td>\n",
       "      <td>1.0</td>\n",
       "      <td>1.0</td>\n",
       "      <td>-1.0</td>\n",
       "      <td>-1.0</td>\n",
       "      <td>339.006000</td>\n",
       "      <td>335.075000</td>\n",
       "      <td>326.422002</td>\n",
       "      <td>...</td>\n",
       "      <td>1.0</td>\n",
       "      <td>1.0</td>\n",
       "      <td>1.0</td>\n",
       "      <td>1.0</td>\n",
       "      <td>315.296002</td>\n",
       "      <td>313.732001</td>\n",
       "      <td>317.503001</td>\n",
       "      <td>313.301601</td>\n",
       "      <td>0.004955</td>\n",
       "      <td>0.028909</td>\n",
       "    </tr>\n",
       "    <tr>\n",
       "      <th>3</th>\n",
       "      <td>2018-06-14</td>\n",
       "      <td>0.0</td>\n",
       "      <td>-1.0</td>\n",
       "      <td>-1.0</td>\n",
       "      <td>1.0</td>\n",
       "      <td>1.0</td>\n",
       "      <td>-1.0</td>\n",
       "      <td>347.108002</td>\n",
       "      <td>341.216998</td>\n",
       "      <td>329.334001</td>\n",
       "      <td>...</td>\n",
       "      <td>-1.0</td>\n",
       "      <td>1.0</td>\n",
       "      <td>1.0</td>\n",
       "      <td>1.0</td>\n",
       "      <td>325.623999</td>\n",
       "      <td>321.031000</td>\n",
       "      <td>320.925001</td>\n",
       "      <td>313.656001</td>\n",
       "      <td>0.044455</td>\n",
       "      <td>0.028744</td>\n",
       "    </tr>\n",
       "    <tr>\n",
       "      <th>4</th>\n",
       "      <td>2018-06-15</td>\n",
       "      <td>0.0</td>\n",
       "      <td>0.0</td>\n",
       "      <td>1.0</td>\n",
       "      <td>-1.0</td>\n",
       "      <td>-1.0</td>\n",
       "      <td>-1.0</td>\n",
       "      <td>354.853998</td>\n",
       "      <td>345.488998</td>\n",
       "      <td>331.973001</td>\n",
       "      <td>...</td>\n",
       "      <td>-1.0</td>\n",
       "      <td>-1.0</td>\n",
       "      <td>-1.0</td>\n",
       "      <td>-1.0</td>\n",
       "      <td>330.679999</td>\n",
       "      <td>327.666000</td>\n",
       "      <td>323.714001</td>\n",
       "      <td>314.169001</td>\n",
       "      <td>0.031623</td>\n",
       "      <td>0.030147</td>\n",
       "    </tr>\n",
       "  </tbody>\n",
       "</table>\n",
       "<p>5 rows × 49 columns</p>\n",
       "</div>"
      ],
      "text/plain": [
       "         date  tsla_intra_target  tsla_sentiment  em_tweets3_sentiment  \\\n",
       "0  2018-06-11                0.0             1.0                  -1.0   \n",
       "1  2018-06-12                1.0            -1.0                  -1.0   \n",
       "2  2018-06-13                1.0             1.0                   1.0   \n",
       "3  2018-06-14                0.0            -1.0                  -1.0   \n",
       "4  2018-06-15                0.0             0.0                   1.0   \n",
       "\n",
       "   dax_return  cac_return  dji_previous_day_return         MA5        MA10  \\\n",
       "0         1.0         1.0                      1.0  325.623999  321.031000   \n",
       "1        -1.0        -1.0                     -1.0  330.679999  327.666000   \n",
       "2         1.0        -1.0                     -1.0  339.006000  335.075000   \n",
       "3         1.0         1.0                     -1.0  347.108002  341.216998   \n",
       "4        -1.0        -1.0                     -1.0  354.853998  345.488998   \n",
       "\n",
       "         MA20  ...  em_tweets3_sentiment_lag3  dax_return_lag3  \\\n",
       "0  320.925001  ...                       -1.0              1.0   \n",
       "1  323.714001  ...                        1.0             -1.0   \n",
       "2  326.422002  ...                        1.0              1.0   \n",
       "3  329.334001  ...                       -1.0              1.0   \n",
       "4  331.973001  ...                       -1.0             -1.0   \n",
       "\n",
       "   cac_return_lag3  dji_previous_day_return_lag3    MA5_lag3   MA10_lag3  \\\n",
       "0             -1.0                          -1.0  303.056000  302.525003   \n",
       "1             -1.0                           1.0  308.223999  308.426001   \n",
       "2              1.0                           1.0  315.296002  313.732001   \n",
       "3              1.0                           1.0  325.623999  321.031000   \n",
       "4             -1.0                          -1.0  330.679999  327.666000   \n",
       "\n",
       "    MA20_lag3   MA50_lag3  change_lag3  volatity_lag3  \n",
       "0  309.739502  312.464601     0.092987       0.021095  \n",
       "1  313.142502  312.965801    -0.010730       0.028782  \n",
       "2  317.503001  313.301601     0.004955       0.028909  \n",
       "3  320.925001  313.656001     0.044455       0.028744  \n",
       "4  323.714001  314.169001     0.031623       0.030147  \n",
       "\n",
       "[5 rows x 49 columns]"
      ]
     },
     "execution_count": 8,
     "metadata": {},
     "output_type": "execute_result"
    }
   ],
   "source": [
    "test_actual.head()"
   ]
  },
  {
   "cell_type": "code",
   "execution_count": 9,
   "metadata": {},
   "outputs": [
    {
     "data": {
      "text/plain": [
       "date                            0\n",
       "tsla_intra_target               0\n",
       "tsla_sentiment                  0\n",
       "em_tweets3_sentiment            0\n",
       "dax_return                      0\n",
       "cac_return                      0\n",
       "dji_previous_day_return         0\n",
       "MA5                             0\n",
       "MA10                            0\n",
       "MA20                            0\n",
       "MA50                            0\n",
       "change                          0\n",
       "volatility                      0\n",
       "tsla_intra_target_lag1          0\n",
       "tsla_sentiment_lag1             0\n",
       "em_tweets3_sentiment_lag1       0\n",
       "dax_return_lag1                 0\n",
       "cac_return_lag1                 0\n",
       "dji_previous_day_return_lag1    0\n",
       "MA5_lag1                        0\n",
       "MA10_lag1                       0\n",
       "MA20_lag1                       0\n",
       "MA50_lag1                       0\n",
       "change_lag1                     0\n",
       "volatity_lag1                   0\n",
       "tsla_intra_target_lag2          0\n",
       "tsla_sentiment_lag2             0\n",
       "em_tweets3_sentiment_lag2       0\n",
       "dax_return_lag2                 0\n",
       "cac_return_lag2                 0\n",
       "dji_previous_day_return_lag2    0\n",
       "MA5_lag2                        0\n",
       "MA10_lag2                       0\n",
       "MA20_lag2                       0\n",
       "MA50_lag2                       0\n",
       "change_lag2                     0\n",
       "volatity_lag2                   0\n",
       "tsla_intra_target_lag3          0\n",
       "tsla_sentiment_lag3             0\n",
       "em_tweets3_sentiment_lag3       0\n",
       "dax_return_lag3                 0\n",
       "cac_return_lag3                 0\n",
       "dji_previous_day_return_lag3    0\n",
       "MA5_lag3                        0\n",
       "MA10_lag3                       0\n",
       "MA20_lag3                       0\n",
       "MA50_lag3                       0\n",
       "change_lag3                     0\n",
       "volatity_lag3                   0\n",
       "dtype: int64"
      ]
     },
     "execution_count": 9,
     "metadata": {},
     "output_type": "execute_result"
    }
   ],
   "source": [
    "train.isnull().sum()"
   ]
  },
  {
   "cell_type": "code",
   "execution_count": 10,
   "metadata": {},
   "outputs": [],
   "source": [
    "train['date']=pd.to_datetime(train['date'])"
   ]
  },
  {
   "cell_type": "code",
   "execution_count": 11,
   "metadata": {},
   "outputs": [],
   "source": [
    "test_actual['date']=pd.to_datetime(test_actual['date'])"
   ]
  },
  {
   "cell_type": "markdown",
   "metadata": {},
   "source": [
    "train.shape, test_actual.shape"
   ]
  },
  {
   "cell_type": "code",
   "execution_count": 12,
   "metadata": {},
   "outputs": [],
   "source": [
    "# X and Y variable\n",
    "X = train.drop(columns = ['tsla_intra_target', 'date']) \n",
    "y = train['tsla_intra_target']\n"
   ]
  },
  {
   "cell_type": "code",
   "execution_count": 13,
   "metadata": {},
   "outputs": [],
   "source": [
    "X_testuntrain = test_actual.drop(columns = ['tsla_intra_target','date']) \n",
    "y_testuntrain = test_actual['tsla_intra_target']"
   ]
  },
  {
   "cell_type": "code",
   "execution_count": 14,
   "metadata": {},
   "outputs": [],
   "source": [
    "#Train Test split \n",
    "X_train, X_valid, y_train, y_valid = train_test_split(X,\n",
    "                                                    y,\n",
    "                                                    test_size=0.25,\n",
    "                                                    random_state=42,\n",
    "                                                    stratify=y)"
   ]
  },
  {
   "cell_type": "code",
   "execution_count": 15,
   "metadata": {},
   "outputs": [],
   "source": [
    "#X_test = test.drop(['    '], axis=1)"
   ]
  },
  {
   "cell_type": "markdown",
   "metadata": {},
   "source": [
    "# Baseline Accuracy"
   ]
  },
  {
   "cell_type": "code",
   "execution_count": 16,
   "metadata": {},
   "outputs": [
    {
     "data": {
      "text/plain": [
       "1.0    0.508463\n",
       "0.0    0.491537\n",
       "Name: tsla_intra_target, dtype: float64"
      ]
     },
     "execution_count": 16,
     "metadata": {},
     "output_type": "execute_result"
    }
   ],
   "source": [
    "y_train.value_counts(normalize = True)"
   ]
  },
  {
   "cell_type": "markdown",
   "metadata": {},
   "source": [
    "We observe above that the baseline accuracy (for predicting an intraday positive return for Tesla stock) is approximately 51.18%. The naive model will predict all 1s and will be correct 51.18% of the time."
   ]
  },
  {
   "cell_type": "markdown",
   "metadata": {},
   "source": [
    "## Balanced Class"
   ]
  },
  {
   "cell_type": "markdown",
   "metadata": {},
   "source": [
    "The baseline accuracy above indicates that the **training set is balanced** "
   ]
  },
  {
   "cell_type": "markdown",
   "metadata": {},
   "source": [
    "# Randomised Search for the Best Classifier"
   ]
  },
  {
   "cell_type": "markdown",
   "metadata": {},
   "source": [
    "To manage the total time and resources used to tune the hyperparameters, we use the RandomizedSearchCV to randomly find the optimal parameters for each of the models based on the training dataset, with a maximum of 50 iterations. We specify the range of parameters to be used by RandomizedSearchCV for each classifer, based on experience and past results of running the RandomizedSearchCV.\n",
    "\n",
    "We obtain the various scores on the validation dataset for each classifier using the optimal parameters identified by RandomizedSearchCV. We will select the best classifier based on the **highest F1 and Accuracy score** found."
   ]
  },
  {
   "cell_type": "code",
   "execution_count": 17,
   "metadata": {},
   "outputs": [],
   "source": [
    "# We fit a StandardScaler() object on just the training dataset,\n",
    "# then use the object to transform both the training and validation datasets\n",
    "\n",
    "ss = StandardScaler()\n",
    "X_train_sc = ss.fit_transform(X_train) #fit with X train data and use it to transform both X_train and X_valid data\n",
    "X_valid_sc = ss.transform(X_valid)\n",
    "\n",
    "X_testuntrain_sc = ss.transform(X_testuntrain) #use the same fit above with X train data on the untrained (test_actual) data set\n"
   ]
  },
  {
   "cell_type": "code",
   "execution_count": 18,
   "metadata": {},
   "outputs": [],
   "source": [
    "# We have selected the models below for modelling purposes.\n",
    "estimators = {\n",
    "    'lr': LogisticRegression(random_state=42),\n",
    "    'knn': KNeighborsClassifier(),\n",
    "    'ada': AdaBoostClassifier(random_state=42),\n",
    "    'dtree': DecisionTreeClassifier(random_state=42),\n",
    "    'rf': RandomForestClassifier(random_state=42),\n",
    "    'etree': ExtraTreesClassifier(random_state=42),\n",
    "    \n",
    "#     'xgb1': XGBClassifier(random_state=42)\n",
    "}.items()"
   ]
  },
  {
   "cell_type": "code",
   "execution_count": 19,
   "metadata": {},
   "outputs": [],
   "source": [
    "params = {\n",
    "    'lr': {\n",
    "        'lr__solver': ['liblinear'],\n",
    "        'lr__penalty': ['l1', 'l2', 'elasticnet'],\n",
    "        'lr__C': np.logspace(1, 5, 20)\n",
    "    },\n",
    "    'knn': {\n",
    "        'knn__n_neighbors': [ 5, 7, 9, 13],\n",
    "#         'weights':['uniform','distance'],\n",
    "#         'algorithm':['ball_tree','kd_tree','brute','auto'],\n",
    "#         'leaf__size':range(1,152),\n",
    "#         'metric':['euclidean','manhatten','minkowski']\n",
    "    },\n",
    "    'ada': {\n",
    "        'ada__n_estimators': [100, 200, 300, 500],\n",
    "        'ada__learning_rate': [1, 1.5, 2]\n",
    "    },\n",
    "    'dtree': {\n",
    "        'dtree__max_depth': [ 3, 5, 10 ,15],\n",
    "        'dtree__max_features': ['auto', 'log2', None, 50, 100],\n",
    "        'dtree__min_samples_split': [5, 10, 20, 30],\n",
    "        'dtree__min_samples_leaf': [ 4, 5, 6, 7]\n",
    "    },\n",
    "    'rf': {\n",
    "        'rf__max_depth': [3, 5, 10, 20, 30],\n",
    "        'rf__max_features': ['auto', 'log2', None, 50],\n",
    "        'rf__min_samples_split': [2, 4, 6, 8],\n",
    "        'rf__min_samples_leaf': [1, 3, 5]\n",
    "    },\n",
    "    'etree': {\n",
    "        'etree__max_depth': [5, 10, 50, 60],\n",
    "        'etree__max_features': ['auto', 'log2', None, 50],\n",
    "        'etree__min_samples_split': [4, 6 ,8, 10],\n",
    "        'etree__min_samples_leaf': [1, 2, 3]\n",
    "    },\n",
    "        \n",
    "}\n"
   ]
  },
  {
   "cell_type": "markdown",
   "metadata": {},
   "source": [
    "# Selecting the Optimal Parameters for Each Classifier "
   ]
  },
  {
   "cell_type": "markdown",
   "metadata": {},
   "source": [
    "We now use RandomizedSearchCV to select the optimal parameters for each classifier that produces the best mean accuracy score based on the training dataset."
   ]
  },
  {
   "cell_type": "code",
   "execution_count": 20,
   "metadata": {
    "scrolled": false
   },
   "outputs": [
    {
     "name": "stdout",
     "output_type": "stream",
     "text": [
      "Fitting 5 folds for each of 50 candidates, totalling 250 fits\n"
     ]
    },
    {
     "name": "stderr",
     "output_type": "stream",
     "text": [
      "[Parallel(n_jobs=-1)]: Using backend LokyBackend with 4 concurrent workers.\n",
      "[Parallel(n_jobs=-1)]: Done  42 tasks      | elapsed:  2.3min\n",
      "[Parallel(n_jobs=-1)]: Done 192 tasks      | elapsed:  4.6min\n",
      "[Parallel(n_jobs=-1)]: Done 243 out of 250 | elapsed:  5.0min remaining:    8.7s\n",
      "[Parallel(n_jobs=-1)]: Done 250 out of 250 | elapsed:  5.3min finished\n",
      "/Users/joyceooi/anaconda3/lib/python3.7/site-packages/sklearn/model_selection/_search.py:281: UserWarning: The total space of parameters 4 is smaller than n_iter=50. Running 4 iterations. For exhaustive searches, use GridSearchCV.\n",
      "  % (grid_size, self.n_iter, grid_size), UserWarning)\n",
      "[Parallel(n_jobs=-1)]: Using backend LokyBackend with 4 concurrent workers.\n"
     ]
    },
    {
     "name": "stdout",
     "output_type": "stream",
     "text": [
      "Model:  lr\n",
      "Best parameters: {'lr__solver': 'liblinear', 'lr__penalty': 'l2', 'lr__C': 10.0}\n",
      "Best AUC cross validation score: 0.905221099456622\n",
      "Training dataset accuracy: 0.8469871360866622\n",
      "Validation dataset accuracy: 0.8235294117647058\n",
      "Training dataset AUC score: 0.8467598757212607\n",
      "Validation dataset AUC score: 0.8232112870830727\n",
      "Validation dataset sensitivity 0.8406374501992032\n",
      "Validation dataset specificity 0.8057851239669421\n",
      "\n",
      "Fitting 5 folds for each of 4 candidates, totalling 20 fits\n"
     ]
    },
    {
     "name": "stderr",
     "output_type": "stream",
     "text": [
      "[Parallel(n_jobs=-1)]: Done  20 out of  20 | elapsed:    1.9s finished\n"
     ]
    },
    {
     "name": "stdout",
     "output_type": "stream",
     "text": [
      "Model:  knn\n",
      "Best parameters: {'knn__n_neighbors': 13}\n",
      "Best AUC cross validation score: 0.6915634273582614\n",
      "Training dataset accuracy: 0.7373053486797563\n",
      "Validation dataset accuracy: 0.6267748478701826\n",
      "Training dataset AUC score: 0.7373676237009975\n",
      "Validation dataset AUC score: 0.6267985907609231\n",
      "Validation dataset sensitivity 0.6254980079681275\n",
      "Validation dataset specificity 0.628099173553719\n",
      "\n",
      "Fitting 5 folds for each of 12 candidates, totalling 60 fits\n"
     ]
    },
    {
     "name": "stderr",
     "output_type": "stream",
     "text": [
      "/Users/joyceooi/anaconda3/lib/python3.7/site-packages/sklearn/model_selection/_search.py:281: UserWarning: The total space of parameters 12 is smaller than n_iter=50. Running 12 iterations. For exhaustive searches, use GridSearchCV.\n",
      "  % (grid_size, self.n_iter, grid_size), UserWarning)\n",
      "[Parallel(n_jobs=-1)]: Using backend LokyBackend with 4 concurrent workers.\n",
      "[Parallel(n_jobs=-1)]: Done  42 tasks      | elapsed:   33.9s\n",
      "[Parallel(n_jobs=-1)]: Done  60 out of  60 | elapsed:   49.2s finished\n"
     ]
    },
    {
     "name": "stdout",
     "output_type": "stream",
     "text": [
      "Model:  ada\n",
      "Best parameters: {'ada__n_estimators': 100, 'ada__learning_rate': 1.5}\n",
      "Best AUC cross validation score: 0.8797776452787849\n",
      "Training dataset accuracy: 0.8855788761002031\n",
      "Validation dataset accuracy: 0.8174442190669371\n",
      "Training dataset AUC score: 0.8854658435217689\n",
      "Validation dataset AUC score: 0.817457442955451\n",
      "Validation dataset sensitivity 0.8167330677290837\n",
      "Validation dataset specificity 0.8181818181818182\n",
      "\n",
      "Fitting 5 folds for each of 50 candidates, totalling 250 fits\n"
     ]
    },
    {
     "name": "stderr",
     "output_type": "stream",
     "text": [
      "[Parallel(n_jobs=-1)]: Using backend LokyBackend with 4 concurrent workers.\n",
      "[Parallel(n_jobs=-1)]: Done 250 out of 250 | elapsed:    1.2s finished\n",
      "[Parallel(n_jobs=-1)]: Using backend LokyBackend with 4 concurrent workers.\n"
     ]
    },
    {
     "name": "stdout",
     "output_type": "stream",
     "text": [
      "Model:  dtree\n",
      "Best parameters: {'dtree__min_samples_split': 20, 'dtree__min_samples_leaf': 7, 'dtree__max_features': None, 'dtree__max_depth': 3}\n",
      "Best AUC cross validation score: 0.9004391106995717\n",
      "Training dataset accuracy: 0.8564658090724442\n",
      "Validation dataset accuracy: 0.8154158215010142\n",
      "Training dataset AUC score: 0.8568832007277716\n",
      "Validation dataset AUC score: 0.8157617464028185\n",
      "Validation dataset sensitivity 0.796812749003984\n",
      "Validation dataset specificity 0.8347107438016529\n",
      "\n",
      "Fitting 5 folds for each of 50 candidates, totalling 250 fits\n"
     ]
    },
    {
     "name": "stderr",
     "output_type": "stream",
     "text": [
      "[Parallel(n_jobs=-1)]: Done  42 tasks      | elapsed:    9.8s\n",
      "[Parallel(n_jobs=-1)]: Done 192 tasks      | elapsed:   46.6s\n",
      "[Parallel(n_jobs=-1)]: Done 250 out of 250 | elapsed:  1.1min finished\n"
     ]
    },
    {
     "name": "stdout",
     "output_type": "stream",
     "text": [
      "Model:  rf\n",
      "Best parameters: {'rf__min_samples_split': 6, 'rf__min_samples_leaf': 3, 'rf__max_features': None, 'rf__max_depth': 3}\n",
      "Best AUC cross validation score: 0.9104623167233401\n",
      "Training dataset accuracy: 0.8530805687203792\n",
      "Validation dataset accuracy: 0.8275862068965517\n",
      "Training dataset AUC score: 0.8533250431930979\n",
      "Validation dataset AUC score: 0.8275657699779395\n",
      "Validation dataset sensitivity 0.8286852589641435\n",
      "Validation dataset specificity 0.8264462809917356\n",
      "\n",
      "Fitting 5 folds for each of 50 candidates, totalling 250 fits\n"
     ]
    },
    {
     "name": "stderr",
     "output_type": "stream",
     "text": [
      "[Parallel(n_jobs=-1)]: Using backend LokyBackend with 4 concurrent workers.\n",
      "[Parallel(n_jobs=-1)]: Done  62 tasks      | elapsed:    9.6s\n",
      "[Parallel(n_jobs=-1)]: Done 212 tasks      | elapsed:   29.2s\n",
      "[Parallel(n_jobs=-1)]: Done 250 out of 250 | elapsed:   34.7s finished\n"
     ]
    },
    {
     "name": "stdout",
     "output_type": "stream",
     "text": [
      "Model:  etree\n",
      "Best parameters: {'etree__min_samples_split': 10, 'etree__min_samples_leaf': 1, 'etree__max_features': None, 'etree__max_depth': 10}\n",
      "Best AUC cross validation score: 0.912401569132879\n",
      "Training dataset accuracy: 0.943805010155721\n",
      "Validation dataset accuracy: 0.8336713995943205\n",
      "Training dataset AUC score: 0.9436628113846368\n",
      "Validation dataset AUC score: 0.8333936979355306\n",
      "Validation dataset sensitivity 0.848605577689243\n",
      "Validation dataset specificity 0.8181818181818182\n",
      "\n",
      "CPU times: user 7.4 s, sys: 384 ms, total: 7.78 s\n",
      "Wall time: 7min 53s\n"
     ]
    }
   ],
   "source": [
    "%%time\n",
    "# initialise empty lists to store information later\n",
    "models = []\n",
    "parameters = []\n",
    "train_accuracy = []\n",
    "val_accuracy = []\n",
    "best_score = []\n",
    "train_roc_auc = []\n",
    "val_roc_auc = []\n",
    "sensitivity = []\n",
    "specificity = []\n",
    "\n",
    "for k,v in estimators:\n",
    "    pipe = Pipeline([(k,v)])\n",
    "    param = params[k]\n",
    "    randomsearch = RandomizedSearchCV(\n",
    "        n_iter=50, # we set a max. of 50 iterations\n",
    "        estimator=pipe,\n",
    "        random_state=42,\n",
    "        param_distributions=param,\n",
    "        verbose=1,\n",
    "        cv= 5,\n",
    "        n_jobs=-1,\n",
    "        return_train_score= True,\n",
    "        scoring = 'roc_auc' # we adopt AUC score as our scoring metric as it is provides the best overall assessment\n",
    "    )\n",
    "\n",
    "    randomsearch.fit(X_train_sc, y_train)\n",
    "    \n",
    "    model = randomsearch.best_estimator_\n",
    "    cv_score = randomsearch.cv_results_\n",
    "    best_params = randomsearch.best_params_\n",
    "\n",
    "    # predict y\n",
    "    y_pred_train = model.predict(X_train_sc)\n",
    "    y_pred_valid = model.predict(X_valid_sc)\n",
    "    \n",
    "    # print results\n",
    "    print (\"Model: \", k)\n",
    "    print (\"Best parameters:\", best_params)\n",
    "    print (\"Best AUC cross validation score:\", randomsearch.best_score_)\n",
    "    print (\"Training dataset accuracy:\", accuracy_score(y_train,y_pred_train))\n",
    "    print (\"Validation dataset accuracy:\", accuracy_score(y_valid,y_pred_valid))\n",
    "    print (\"Training dataset AUC score:\", roc_auc_score(y_train,y_pred_train))\n",
    "    print (\"Validation dataset AUC score:\", roc_auc_score(y_valid,y_pred_valid))\n",
    "    # obtain true positive and false negatives to calculate sensitivity\n",
    "    tn, fp, fn, tp = confusion_matrix(y_valid, y_pred_valid).ravel() \n",
    "    print (\"Validation dataset sensitivity\", tp/(tp+fn))\n",
    "    print (\"Validation dataset specificity\", tn/(tn+fp))\n",
    "    print (\"\")\n",
    "    \n",
    "    # append info to list\n",
    "    models.append(k)\n",
    "    best_score.append(randomsearch.best_score_)\n",
    "    parameters.append(best_params)\n",
    "    train_accuracy.append(accuracy_score(y_train,y_pred_train))\n",
    "    val_accuracy.append(accuracy_score(y_valid,y_pred_valid))\n",
    "    train_roc_auc.append(roc_auc_score(y_train,y_pred_train))\n",
    "    val_roc_auc.append(roc_auc_score(y_valid,y_pred_valid))\n",
    "    sensitivity.append(tp/(tp+fn))\n",
    "    specificity.append(tn/(tn+fp))"
   ]
  },
  {
   "cell_type": "markdown",
   "metadata": {},
   "source": [
    "## Selection of the Best Classifier"
   ]
  },
  {
   "cell_type": "code",
   "execution_count": 21,
   "metadata": {
    "scrolled": true
   },
   "outputs": [
    {
     "name": "stderr",
     "output_type": "stream",
     "text": [
      "/Users/joyceooi/anaconda3/lib/python3.7/site-packages/ipykernel_launcher.py:14: FutureWarning: Passing a negative integer is deprecated in version 1.0 and will not be supported in future version. Instead, use None to not limit the column width.\n",
      "  \n"
     ]
    },
    {
     "data": {
      "text/html": [
       "<div>\n",
       "<style scoped>\n",
       "    .dataframe tbody tr th:only-of-type {\n",
       "        vertical-align: middle;\n",
       "    }\n",
       "\n",
       "    .dataframe tbody tr th {\n",
       "        vertical-align: top;\n",
       "    }\n",
       "\n",
       "    .dataframe thead th {\n",
       "        text-align: right;\n",
       "    }\n",
       "</style>\n",
       "<table border=\"1\" class=\"dataframe\">\n",
       "  <thead>\n",
       "    <tr style=\"text-align: right;\">\n",
       "      <th></th>\n",
       "      <th>model</th>\n",
       "      <th>parameters</th>\n",
       "      <th>Best AUC cross validation score</th>\n",
       "      <th>Training dataset accuracy</th>\n",
       "      <th>Validation dataset accuracy</th>\n",
       "      <th>Training dataset AUC score</th>\n",
       "      <th>Validation dataset AUC score</th>\n",
       "      <th>Validation dataset sensitivity</th>\n",
       "      <th>Validation dataset specificity</th>\n",
       "    </tr>\n",
       "  </thead>\n",
       "  <tbody>\n",
       "    <tr>\n",
       "      <th>0</th>\n",
       "      <td>etree</td>\n",
       "      <td>{'etree__min_samples_split': 10, 'etree__min_samples_leaf': 1, 'etree__max_features': None, 'etree__max_depth': 10}</td>\n",
       "      <td>0.912402</td>\n",
       "      <td>0.943805</td>\n",
       "      <td>0.833671</td>\n",
       "      <td>0.943663</td>\n",
       "      <td>0.833394</td>\n",
       "      <td>0.848606</td>\n",
       "      <td>0.818182</td>\n",
       "    </tr>\n",
       "    <tr>\n",
       "      <th>1</th>\n",
       "      <td>rf</td>\n",
       "      <td>{'rf__min_samples_split': 6, 'rf__min_samples_leaf': 3, 'rf__max_features': None, 'rf__max_depth': 3}</td>\n",
       "      <td>0.910462</td>\n",
       "      <td>0.853081</td>\n",
       "      <td>0.827586</td>\n",
       "      <td>0.853325</td>\n",
       "      <td>0.827566</td>\n",
       "      <td>0.828685</td>\n",
       "      <td>0.826446</td>\n",
       "    </tr>\n",
       "    <tr>\n",
       "      <th>2</th>\n",
       "      <td>lr</td>\n",
       "      <td>{'lr__solver': 'liblinear', 'lr__penalty': 'l2', 'lr__C': 10.0}</td>\n",
       "      <td>0.905221</td>\n",
       "      <td>0.846987</td>\n",
       "      <td>0.823529</td>\n",
       "      <td>0.846760</td>\n",
       "      <td>0.823211</td>\n",
       "      <td>0.840637</td>\n",
       "      <td>0.805785</td>\n",
       "    </tr>\n",
       "    <tr>\n",
       "      <th>3</th>\n",
       "      <td>ada</td>\n",
       "      <td>{'ada__n_estimators': 100, 'ada__learning_rate': 1.5}</td>\n",
       "      <td>0.879778</td>\n",
       "      <td>0.885579</td>\n",
       "      <td>0.817444</td>\n",
       "      <td>0.885466</td>\n",
       "      <td>0.817457</td>\n",
       "      <td>0.816733</td>\n",
       "      <td>0.818182</td>\n",
       "    </tr>\n",
       "    <tr>\n",
       "      <th>4</th>\n",
       "      <td>dtree</td>\n",
       "      <td>{'dtree__min_samples_split': 20, 'dtree__min_samples_leaf': 7, 'dtree__max_features': None, 'dtree__max_depth': 3}</td>\n",
       "      <td>0.900439</td>\n",
       "      <td>0.856466</td>\n",
       "      <td>0.815416</td>\n",
       "      <td>0.856883</td>\n",
       "      <td>0.815762</td>\n",
       "      <td>0.796813</td>\n",
       "      <td>0.834711</td>\n",
       "    </tr>\n",
       "    <tr>\n",
       "      <th>5</th>\n",
       "      <td>knn</td>\n",
       "      <td>{'knn__n_neighbors': 13}</td>\n",
       "      <td>0.691563</td>\n",
       "      <td>0.737305</td>\n",
       "      <td>0.626775</td>\n",
       "      <td>0.737368</td>\n",
       "      <td>0.626799</td>\n",
       "      <td>0.625498</td>\n",
       "      <td>0.628099</td>\n",
       "    </tr>\n",
       "  </tbody>\n",
       "</table>\n",
       "</div>"
      ],
      "text/plain": [
       "   model  \\\n",
       "0  etree   \n",
       "1  rf      \n",
       "2  lr      \n",
       "3  ada     \n",
       "4  dtree   \n",
       "5  knn     \n",
       "\n",
       "                                                                                                            parameters  \\\n",
       "0  {'etree__min_samples_split': 10, 'etree__min_samples_leaf': 1, 'etree__max_features': None, 'etree__max_depth': 10}   \n",
       "1  {'rf__min_samples_split': 6, 'rf__min_samples_leaf': 3, 'rf__max_features': None, 'rf__max_depth': 3}                 \n",
       "2  {'lr__solver': 'liblinear', 'lr__penalty': 'l2', 'lr__C': 10.0}                                                       \n",
       "3  {'ada__n_estimators': 100, 'ada__learning_rate': 1.5}                                                                 \n",
       "4  {'dtree__min_samples_split': 20, 'dtree__min_samples_leaf': 7, 'dtree__max_features': None, 'dtree__max_depth': 3}    \n",
       "5  {'knn__n_neighbors': 13}                                                                                              \n",
       "\n",
       "   Best AUC cross validation score  Training dataset accuracy  \\\n",
       "0  0.912402                         0.943805                    \n",
       "1  0.910462                         0.853081                    \n",
       "2  0.905221                         0.846987                    \n",
       "3  0.879778                         0.885579                    \n",
       "4  0.900439                         0.856466                    \n",
       "5  0.691563                         0.737305                    \n",
       "\n",
       "   Validation dataset accuracy  Training dataset AUC score  \\\n",
       "0  0.833671                     0.943663                     \n",
       "1  0.827586                     0.853325                     \n",
       "2  0.823529                     0.846760                     \n",
       "3  0.817444                     0.885466                     \n",
       "4  0.815416                     0.856883                     \n",
       "5  0.626775                     0.737368                     \n",
       "\n",
       "   Validation dataset AUC score  Validation dataset sensitivity  \\\n",
       "0  0.833394                      0.848606                         \n",
       "1  0.827566                      0.828685                         \n",
       "2  0.823211                      0.840637                         \n",
       "3  0.817457                      0.816733                         \n",
       "4  0.815762                      0.796813                         \n",
       "5  0.626799                      0.625498                         \n",
       "\n",
       "   Validation dataset specificity  \n",
       "0  0.818182                        \n",
       "1  0.826446                        \n",
       "2  0.805785                        \n",
       "3  0.818182                        \n",
       "4  0.834711                        \n",
       "5  0.628099                        "
      ]
     },
     "execution_count": 21,
     "metadata": {},
     "output_type": "execute_result"
    }
   ],
   "source": [
    "# Produce a summary table of the tuned classifiers\n",
    "summary = pd.DataFrame({\n",
    "    'model': models,\n",
    "    'parameters': parameters,\n",
    "    'Best AUC cross validation score': best_score,\n",
    "    'Training dataset accuracy': train_accuracy,\n",
    "    'Validation dataset accuracy': val_accuracy,\n",
    "    'Training dataset AUC score': train_roc_auc,\n",
    "    'Validation dataset AUC score': val_roc_auc,\n",
    "    'Validation dataset sensitivity': sensitivity,\n",
    "    'Validation dataset specificity': specificity\n",
    "    })\n",
    "\n",
    "pd.set_option('display.max_colwidth', -1)\n",
    "summary.sort_values('Validation dataset AUC score', ascending=False).reset_index(drop=True)"
   ]
  },
  {
   "cell_type": "markdown",
   "metadata": {},
   "source": [
    "The table above shows the performance of the various models in terms of their optimal parameters, and the different metrics used to evaluate the models, including and not limited to, accuracy, AUC and F1 scores.\n",
    "\n",
    "We note that most models performed reasonably in terms of AUC cross validation scores with **most models scoring above 81%**. We will choose to further explore all model classifiers on unseen data. As our test dataset comprises of the oulast 466 trading days between 30/04/2018 till 16/04/2020, with high volatility of Tesla share price ranging from USD290 to about USD882 and down to USD681, we expect the results from unseen data to perform less well.\n",
    "\n",
    "So far, our best performing model on validation data is Exra Trees. Besides having the highest AUC validation score (0.8333) it also has the highest validation accuracy (0.8336) and the highest sensitivity (0.848), which is an important metric that we wish to focus on.\n"
   ]
  },
  {
   "cell_type": "markdown",
   "metadata": {},
   "source": [
    "# Further exploration of the Best Classifier on Unseen Data"
   ]
  },
  {
   "cell_type": "markdown",
   "metadata": {},
   "source": [
    "# KNN"
   ]
  },
  {
   "cell_type": "code",
   "execution_count": 22,
   "metadata": {},
   "outputs": [],
   "source": [
    "knn=KNeighborsClassifier(n_neighbors=9, weights='distance',metric='euclidean' , algorithm='kd_tree')"
   ]
  },
  {
   "cell_type": "code",
   "execution_count": 23,
   "metadata": {},
   "outputs": [
    {
     "data": {
      "text/plain": [
       "KNeighborsClassifier(algorithm='kd_tree', leaf_size=30, metric='euclidean',\n",
       "                     metric_params=None, n_jobs=None, n_neighbors=9, p=2,\n",
       "                     weights='distance')"
      ]
     },
     "execution_count": 23,
     "metadata": {},
     "output_type": "execute_result"
    }
   ],
   "source": [
    "knn.fit(X_train_sc, y_train)"
   ]
  },
  {
   "cell_type": "code",
   "execution_count": 24,
   "metadata": {},
   "outputs": [],
   "source": [
    "knn_pred = pd.DataFrame(knn.predict(X_testuntrain_sc), columns=['tsla_intra_target'])\n"
   ]
  },
  {
   "cell_type": "code",
   "execution_count": 25,
   "metadata": {},
   "outputs": [],
   "source": [
    "#Concatenate the predictions  with the X_testuntrain dataframe\n",
    "test_pred= pd.concat([X_testuntrain,knn_pred], axis=1)\n"
   ]
  },
  {
   "cell_type": "code",
   "execution_count": 26,
   "metadata": {},
   "outputs": [],
   "source": [
    "tn, fp, fn, tp = confusion_matrix(y_testuntrain, knn_pred).ravel() \n",
    "precision=tp/(tp+fp)\n",
    "recall=tp/(tp+fn)\n",
    "accuracy=(tp+tn)/(tp+tn+fp+fn)\n",
    "sensitivity=(tp/(tp+fn))\n",
    "specificity=(tn/(tn+fp))\n",
    "F1=(precision*recall)/precision+recall"
   ]
  },
  {
   "cell_type": "code",
   "execution_count": 27,
   "metadata": {},
   "outputs": [
    {
     "name": "stdout",
     "output_type": "stream",
     "text": [
      "Accuracy:0.6115879828326181\n",
      "Precision:0.5726495726495726\n",
      "Sensitivity:0.6232558139534884\n",
      "Specificity:0.601593625498008\n",
      "Recall:0.6232558139534884\n",
      "F1 Score:0.5968819599109132\n"
     ]
    }
   ],
   "source": [
    "print (\"Accuracy:{}\".format(accuracy)),\n",
    "print (\"Precision:{}\".format(precision)),\n",
    "print (\"Sensitivity:{}\".format(sensitivity)),\n",
    "print (\"Specificity:{}\".format(specificity)),\n",
    "print (\"Recall:{}\".format(recall)),\n",
    "print (\"F1 Score:{}\".format(2*((precision*recall)/(precision+recall))))"
   ]
  },
  {
   "cell_type": "markdown",
   "metadata": {},
   "source": [
    "# RF"
   ]
  },
  {
   "cell_type": "code",
   "execution_count": 28,
   "metadata": {},
   "outputs": [],
   "source": [
    "rf=RandomForestClassifier(random_state=42, min_samples_split=2, min_samples_leaf=3, max_features= 'log2',\n",
    "                          max_depth=5 )"
   ]
  },
  {
   "cell_type": "code",
   "execution_count": 29,
   "metadata": {},
   "outputs": [
    {
     "data": {
      "text/plain": [
       "RandomForestClassifier(bootstrap=True, ccp_alpha=0.0, class_weight=None,\n",
       "                       criterion='gini', max_depth=5, max_features='log2',\n",
       "                       max_leaf_nodes=None, max_samples=None,\n",
       "                       min_impurity_decrease=0.0, min_impurity_split=None,\n",
       "                       min_samples_leaf=3, min_samples_split=2,\n",
       "                       min_weight_fraction_leaf=0.0, n_estimators=100,\n",
       "                       n_jobs=None, oob_score=False, random_state=42, verbose=0,\n",
       "                       warm_start=False)"
      ]
     },
     "execution_count": 29,
     "metadata": {},
     "output_type": "execute_result"
    }
   ],
   "source": [
    "rf.fit(X_train_sc, y_train)"
   ]
  },
  {
   "cell_type": "code",
   "execution_count": 30,
   "metadata": {},
   "outputs": [],
   "source": [
    "rf_pred = pd.DataFrame(rf.predict(X_testuntrain_sc), columns=['tsla_intra_target'])\n"
   ]
  },
  {
   "cell_type": "code",
   "execution_count": 31,
   "metadata": {},
   "outputs": [],
   "source": [
    "#Concatenate the predictions  with the X_testuntrain dataframe\n",
    "test_pred= pd.concat([X_testuntrain,rf_pred], axis=1)"
   ]
  },
  {
   "cell_type": "code",
   "execution_count": 32,
   "metadata": {},
   "outputs": [],
   "source": [
    "tn, fp, fn, tp = confusion_matrix(y_testuntrain, rf_pred).ravel() \n",
    "precision=tp/(tp+fp)\n",
    "recall=tp/(tp+fn)\n",
    "accuracy=(tp+tn)/(tp+tn+fp+fn)\n",
    "ensitivity=(tp/(tp+fn))\n",
    "specificity=(tn/(tn+fp))\n",
    "F1=(precision*recall)/precision+recall"
   ]
  },
  {
   "cell_type": "code",
   "execution_count": 33,
   "metadata": {},
   "outputs": [
    {
     "name": "stdout",
     "output_type": "stream",
     "text": [
      "Accuracy:0.7896995708154506\n",
      "Precision:0.7554585152838428\n",
      "Sensitivity:0.6232558139534884\n",
      "Specificity:0.7768924302788844\n",
      "Recall:0.8046511627906977\n",
      "F1 Score:0.7792792792792792\n"
     ]
    }
   ],
   "source": [
    "print (\"Accuracy:{}\".format(accuracy)),\n",
    "print (\"Precision:{}\".format(precision)),\n",
    "print (\"Sensitivity:{}\".format(sensitivity)),\n",
    "print (\"Specificity:{}\".format(specificity)),\n",
    "print (\"Recall:{}\".format(recall)),\n",
    "print (\"F1 Score:{}\".format(2*((precision*recall)/(precision+recall))))"
   ]
  },
  {
   "cell_type": "markdown",
   "metadata": {},
   "source": [
    "# ADA\n"
   ]
  },
  {
   "cell_type": "code",
   "execution_count": 34,
   "metadata": {},
   "outputs": [],
   "source": [
    "ada=AdaBoostClassifier(random_state=42, n_estimators=600, learning_rate=1.5)"
   ]
  },
  {
   "cell_type": "code",
   "execution_count": 35,
   "metadata": {},
   "outputs": [
    {
     "data": {
      "text/plain": [
       "AdaBoostClassifier(algorithm='SAMME.R', base_estimator=None, learning_rate=1.5,\n",
       "                   n_estimators=600, random_state=42)"
      ]
     },
     "execution_count": 35,
     "metadata": {},
     "output_type": "execute_result"
    }
   ],
   "source": [
    "ada.fit(X_train_sc, y_train)"
   ]
  },
  {
   "cell_type": "code",
   "execution_count": 36,
   "metadata": {},
   "outputs": [],
   "source": [
    "ada_pred = pd.DataFrame(ada.predict(X_testuntrain_sc), columns=['tsla_intra_target'])\n"
   ]
  },
  {
   "cell_type": "code",
   "execution_count": 37,
   "metadata": {},
   "outputs": [],
   "source": [
    "#Concatenate the predictions  with the X_testuntrain dataframe\n",
    "test_pred= pd.concat([X_testuntrain,ada_pred], axis=1)"
   ]
  },
  {
   "cell_type": "code",
   "execution_count": 38,
   "metadata": {},
   "outputs": [],
   "source": [
    "tn, fp, fn, tp = confusion_matrix(y_testuntrain, ada_pred).ravel() \n",
    "precision=tp/(tp+fp)\n",
    "recall=tp/(tp+fn)\n",
    "accuracy=(tp+tn)/(tp+tn+fp+fn)\n",
    "ensitivity=(tp/(tp+fn))\n",
    "specificity=(tn/(tn+fp))\n",
    "F1=(precision*recall)/precision+recall\n"
   ]
  },
  {
   "cell_type": "code",
   "execution_count": 39,
   "metadata": {},
   "outputs": [
    {
     "name": "stdout",
     "output_type": "stream",
     "text": [
      "Accuracy:0.7639484978540773\n",
      "Precision:0.7419354838709677\n",
      "Sensitivity:0.6232558139534884\n",
      "Specificity:0.7768924302788844\n",
      "Recall:0.7488372093023256\n",
      "F1 Score:0.7453703703703703\n"
     ]
    }
   ],
   "source": [
    "print (\"Accuracy:{}\".format(accuracy)),\n",
    "print (\"Precision:{}\".format(precision)),\n",
    "print (\"Sensitivity:{}\".format(sensitivity)),\n",
    "print (\"Specificity:{}\".format(specificity)),\n",
    "print (\"Recall:{}\".format(recall)),\n",
    "print (\"F1 Score:{}\".format(2*((precision*recall)/(precision+recall))))"
   ]
  },
  {
   "cell_type": "markdown",
   "metadata": {},
   "source": [
    "# DTREE"
   ]
  },
  {
   "cell_type": "code",
   "execution_count": 40,
   "metadata": {},
   "outputs": [],
   "source": [
    "dtree= DecisionTreeClassifier(random_state=42, min_samples_split=10, min_samples_leaf=6,max_features='auto',max_depth=3)"
   ]
  },
  {
   "cell_type": "code",
   "execution_count": 41,
   "metadata": {},
   "outputs": [
    {
     "data": {
      "text/plain": [
       "DecisionTreeClassifier(ccp_alpha=0.0, class_weight=None, criterion='gini',\n",
       "                       max_depth=3, max_features='auto', max_leaf_nodes=None,\n",
       "                       min_impurity_decrease=0.0, min_impurity_split=None,\n",
       "                       min_samples_leaf=6, min_samples_split=10,\n",
       "                       min_weight_fraction_leaf=0.0, presort='deprecated',\n",
       "                       random_state=42, splitter='best')"
      ]
     },
     "execution_count": 41,
     "metadata": {},
     "output_type": "execute_result"
    }
   ],
   "source": [
    "dtree.fit(X_train_sc, y_train)"
   ]
  },
  {
   "cell_type": "code",
   "execution_count": 42,
   "metadata": {},
   "outputs": [],
   "source": [
    "dtree_pred = pd.DataFrame(dtree.predict(X_testuntrain_sc), columns=['tsla_intra_target'])"
   ]
  },
  {
   "cell_type": "code",
   "execution_count": 43,
   "metadata": {},
   "outputs": [],
   "source": [
    "#Concatenate the predictions  with the X_testuntrain dataframe\n",
    "test_pred= pd.concat([X_testuntrain,dtree_pred], axis=1)\n",
    "\n",
    "\n"
   ]
  },
  {
   "cell_type": "code",
   "execution_count": 44,
   "metadata": {},
   "outputs": [],
   "source": [
    "tn, fp, fn, tp = confusion_matrix(y_testuntrain, dtree_pred).ravel() \n",
    "precision=tp/(tp+fp)\n",
    "recall=tp/(tp+fn)\n",
    "accuracy=(tp+tn)/(tp+tn+fp+fn)\n",
    "ensitivity=(tp/(tp+fn))\n",
    "specificity=(tn/(tn+fp))\n",
    "F1=(precision*recall)/precision+recall\n"
   ]
  },
  {
   "cell_type": "code",
   "execution_count": 45,
   "metadata": {},
   "outputs": [
    {
     "name": "stdout",
     "output_type": "stream",
     "text": [
      "Accuracy:0.7811158798283262\n",
      "Precision:0.7467248908296943\n",
      "Sensitivity:0.6232558139534884\n",
      "Specificity:0.7689243027888446\n",
      "Recall:0.7953488372093023\n",
      "F1 Score:0.7702702702702703\n"
     ]
    }
   ],
   "source": [
    "print (\"Accuracy:{}\".format(accuracy)),\n",
    "print (\"Precision:{}\".format(precision)),\n",
    "print (\"Sensitivity:{}\".format(sensitivity)),\n",
    "print (\"Specificity:{}\".format(specificity)),\n",
    "print (\"Recall:{}\".format(recall)),\n",
    "print (\"F1 Score:{}\".format(2*((precision*recall)/(precision+recall))))"
   ]
  },
  {
   "cell_type": "markdown",
   "metadata": {},
   "source": [
    "# ETREE"
   ]
  },
  {
   "cell_type": "code",
   "execution_count": 46,
   "metadata": {},
   "outputs": [],
   "source": [
    "etree= ExtraTreesClassifier(random_state=42, min_samples_split=8,min_samples_leaf=2,max_features=None ,max_depth=5)"
   ]
  },
  {
   "cell_type": "code",
   "execution_count": 47,
   "metadata": {},
   "outputs": [
    {
     "data": {
      "text/plain": [
       "ExtraTreesClassifier(bootstrap=False, ccp_alpha=0.0, class_weight=None,\n",
       "                     criterion='gini', max_depth=5, max_features=None,\n",
       "                     max_leaf_nodes=None, max_samples=None,\n",
       "                     min_impurity_decrease=0.0, min_impurity_split=None,\n",
       "                     min_samples_leaf=2, min_samples_split=8,\n",
       "                     min_weight_fraction_leaf=0.0, n_estimators=100,\n",
       "                     n_jobs=None, oob_score=False, random_state=42, verbose=0,\n",
       "                     warm_start=False)"
      ]
     },
     "execution_count": 47,
     "metadata": {},
     "output_type": "execute_result"
    }
   ],
   "source": [
    "etree.fit(X_train_sc, y_train)"
   ]
  },
  {
   "cell_type": "code",
   "execution_count": 48,
   "metadata": {},
   "outputs": [],
   "source": [
    "etree_pred = pd.DataFrame(etree.predict(X_testuntrain_sc), columns=['tsla_intra_target'])"
   ]
  },
  {
   "cell_type": "code",
   "execution_count": 49,
   "metadata": {},
   "outputs": [],
   "source": [
    "#Concatenate the predictions  with the X_testuntrain dataframe\n",
    "test_pred= pd.concat([X_testuntrain,etree_pred], axis=1)"
   ]
  },
  {
   "cell_type": "code",
   "execution_count": 50,
   "metadata": {},
   "outputs": [],
   "source": [
    "tn, fp, fn, tp = confusion_matrix(y_testuntrain, etree_pred).ravel() \n",
    "precision=tp/(tp+fp)\n",
    "recall=tp/(tp+fn)\n",
    "accuracy=(tp+tn)/(tp+tn+fp+fn)\n",
    "ensitivity=(tp/(tp+fn))\n",
    "specificity=(tn/(tn+fp))\n",
    "F1=(precision*recall)/precision+recall\n"
   ]
  },
  {
   "cell_type": "code",
   "execution_count": 51,
   "metadata": {},
   "outputs": [
    {
     "name": "stdout",
     "output_type": "stream",
     "text": [
      "Accuracy:0.7811158798283262\n",
      "Precision:0.7424892703862661\n",
      "Sensitivity:0.6232558139534884\n",
      "Specificity:0.7609561752988048\n",
      "Recall:0.8046511627906977\n",
      "F1 Score:0.7723214285714286\n"
     ]
    }
   ],
   "source": [
    "print (\"Accuracy:{}\".format(accuracy)),\n",
    "print (\"Precision:{}\".format(precision)),\n",
    "print (\"Sensitivity:{}\".format(sensitivity)),\n",
    "print (\"Specificity:{}\".format(specificity)),\n",
    "print (\"Recall:{}\".format(recall)),\n",
    "print (\"F1 Score:{}\".format(2*((precision*recall)/(precision+recall))))"
   ]
  },
  {
   "cell_type": "markdown",
   "metadata": {},
   "source": [
    "# LR"
   ]
  },
  {
   "cell_type": "code",
   "execution_count": 52,
   "metadata": {},
   "outputs": [],
   "source": [
    "lr =LogisticRegression(penalty='l1', solver='liblinear', C=10, random_state=42)"
   ]
  },
  {
   "cell_type": "code",
   "execution_count": 53,
   "metadata": {
    "scrolled": true
   },
   "outputs": [
    {
     "data": {
      "text/plain": [
       "LogisticRegression(C=10, class_weight=None, dual=False, fit_intercept=True,\n",
       "                   intercept_scaling=1, l1_ratio=None, max_iter=100,\n",
       "                   multi_class='auto', n_jobs=None, penalty='l1',\n",
       "                   random_state=42, solver='liblinear', tol=0.0001, verbose=0,\n",
       "                   warm_start=False)"
      ]
     },
     "execution_count": 53,
     "metadata": {},
     "output_type": "execute_result"
    }
   ],
   "source": [
    "lr.fit(X_train_sc, y_train)"
   ]
  },
  {
   "cell_type": "code",
   "execution_count": 54,
   "metadata": {},
   "outputs": [],
   "source": [
    "lr_pred = pd.DataFrame(lr.predict(X_testuntrain_sc), columns=['tsla_intra_target'])"
   ]
  },
  {
   "cell_type": "code",
   "execution_count": 55,
   "metadata": {},
   "outputs": [],
   "source": [
    "#Concatenate the predictions  with the X_testuntrain dataframe\n",
    "test_pred= pd.concat([X_testuntrain,lr_pred], axis=1)\n"
   ]
  },
  {
   "cell_type": "code",
   "execution_count": 56,
   "metadata": {},
   "outputs": [],
   "source": [
    "tn, fp, fn, tp = confusion_matrix(y_testuntrain, lr_pred).ravel() \n",
    "precision=tp/(tp+fp)\n",
    "recall=tp/(tp+fn)\n",
    "accuracy=(tp+tn)/(tp+tn+fp+fn)\n",
    "sensitivity=(tp/(tp+fn))\n",
    "specificity=(tn/(tn+fp))\n",
    "F1=(precision*recall)/precision+recall\n"
   ]
  },
  {
   "cell_type": "code",
   "execution_count": 57,
   "metadata": {},
   "outputs": [
    {
     "name": "stdout",
     "output_type": "stream",
     "text": [
      "Accuracy:0.7682403433476395\n",
      "Precision:0.7131474103585658\n",
      "Sensitivity:0.8325581395348837\n",
      "Specificity:0.7131474103585658\n",
      "Recall:0.8325581395348837\n",
      "F1 Score:0.7682403433476396\n"
     ]
    }
   ],
   "source": [
    "print (\"Accuracy:{}\".format(accuracy)),\n",
    "print (\"Precision:{}\".format(precision)),\n",
    "print (\"Sensitivity:{}\".format(sensitivity)),\n",
    "print (\"Specificity:{}\".format(specificity)),\n",
    "print (\"Recall:{}\".format(recall)),\n",
    "print (\"F1 Score:{}\".format(2*((precision*recall)/(precision+recall))))"
   ]
  },
  {
   "cell_type": "markdown",
   "metadata": {},
   "source": [
    "# Generation of Predictions"
   ]
  },
  {
   "cell_type": "code",
   "execution_count": 58,
   "metadata": {},
   "outputs": [],
   "source": [
    "pred_proba=[i[1] for i in rf.predict_proba(X_testuntrain_sc)]"
   ]
  },
  {
   "cell_type": "code",
   "execution_count": 59,
   "metadata": {},
   "outputs": [],
   "source": [
    "pred_df=pd.DataFrame ({'true_values':y_testuntrain,\n",
    "                      'pred_probs': pred_proba})"
   ]
  },
  {
   "cell_type": "code",
   "execution_count": 60,
   "metadata": {},
   "outputs": [
    {
     "data": {
      "text/html": [
       "<div>\n",
       "<style scoped>\n",
       "    .dataframe tbody tr th:only-of-type {\n",
       "        vertical-align: middle;\n",
       "    }\n",
       "\n",
       "    .dataframe tbody tr th {\n",
       "        vertical-align: top;\n",
       "    }\n",
       "\n",
       "    .dataframe thead th {\n",
       "        text-align: right;\n",
       "    }\n",
       "</style>\n",
       "<table border=\"1\" class=\"dataframe\">\n",
       "  <thead>\n",
       "    <tr style=\"text-align: right;\">\n",
       "      <th></th>\n",
       "      <th>true_values</th>\n",
       "      <th>pred_probs</th>\n",
       "    </tr>\n",
       "  </thead>\n",
       "  <tbody>\n",
       "    <tr>\n",
       "      <th>0</th>\n",
       "      <td>0.0</td>\n",
       "      <td>0.376862</td>\n",
       "    </tr>\n",
       "    <tr>\n",
       "      <th>1</th>\n",
       "      <td>1.0</td>\n",
       "      <td>0.321193</td>\n",
       "    </tr>\n",
       "    <tr>\n",
       "      <th>2</th>\n",
       "      <td>1.0</td>\n",
       "      <td>0.359432</td>\n",
       "    </tr>\n",
       "    <tr>\n",
       "      <th>3</th>\n",
       "      <td>0.0</td>\n",
       "      <td>0.325345</td>\n",
       "    </tr>\n",
       "    <tr>\n",
       "      <th>4</th>\n",
       "      <td>0.0</td>\n",
       "      <td>0.446651</td>\n",
       "    </tr>\n",
       "    <tr>\n",
       "      <th>...</th>\n",
       "      <td>...</td>\n",
       "      <td>...</td>\n",
       "    </tr>\n",
       "    <tr>\n",
       "      <th>95</th>\n",
       "      <td>1.0</td>\n",
       "      <td>0.651262</td>\n",
       "    </tr>\n",
       "    <tr>\n",
       "      <th>96</th>\n",
       "      <td>1.0</td>\n",
       "      <td>0.346046</td>\n",
       "    </tr>\n",
       "    <tr>\n",
       "      <th>97</th>\n",
       "      <td>0.0</td>\n",
       "      <td>0.383969</td>\n",
       "    </tr>\n",
       "    <tr>\n",
       "      <th>98</th>\n",
       "      <td>1.0</td>\n",
       "      <td>0.365781</td>\n",
       "    </tr>\n",
       "    <tr>\n",
       "      <th>99</th>\n",
       "      <td>0.0</td>\n",
       "      <td>0.607834</td>\n",
       "    </tr>\n",
       "  </tbody>\n",
       "</table>\n",
       "<p>100 rows × 2 columns</p>\n",
       "</div>"
      ],
      "text/plain": [
       "    true_values  pred_probs\n",
       "0   0.0          0.376862  \n",
       "1   1.0          0.321193  \n",
       "2   1.0          0.359432  \n",
       "3   0.0          0.325345  \n",
       "4   0.0          0.446651  \n",
       "..  ...               ...  \n",
       "95  1.0          0.651262  \n",
       "96  1.0          0.346046  \n",
       "97  0.0          0.383969  \n",
       "98  1.0          0.365781  \n",
       "99  0.0          0.607834  \n",
       "\n",
       "[100 rows x 2 columns]"
      ]
     },
     "execution_count": 60,
     "metadata": {},
     "output_type": "execute_result"
    }
   ],
   "source": [
    "pred_df.head(100)"
   ]
  },
  {
   "cell_type": "markdown",
   "metadata": {},
   "source": [
    "# AUC Scores on Unseen Test Data"
   ]
  },
  {
   "cell_type": "code",
   "execution_count": 61,
   "metadata": {},
   "outputs": [
    {
     "name": "stdout",
     "output_type": "stream",
     "text": [
      "AUC Score for KNN: 0.6124247197257482\n",
      "AUC Score for RF: 0.790771796534791\n",
      "AUC Score for ADA: 0.762864819790605\n",
      "AUC Score for DTREE: 0.7821365699990734\n",
      "AUC Score for ETREE: 0.7828036690447512\n",
      "AUC Score for LR: 0.7728527749467248\n"
     ]
    }
   ],
   "source": [
    "\n",
    "print('AUC Score for KNN: {}'.format(roc_auc_score(y_testuntrain,knn_pred)))\n",
    "print('AUC Score for RF: {}'.format(roc_auc_score(y_testuntrain,rf_pred)))\n",
    "print('AUC Score for ADA: {}'.format(roc_auc_score(y_testuntrain,ada_pred)))\n",
    "print('AUC Score for DTREE: {}'.format(roc_auc_score(y_testuntrain,dtree_pred)))\n",
    "print('AUC Score for ETREE: {}'.format(roc_auc_score(y_testuntrain,etree_pred)))\n",
    "print('AUC Score for LR: {}'.format(roc_auc_score(y_testuntrain,lr_pred)))"
   ]
  },
  {
   "cell_type": "code",
   "execution_count": 62,
   "metadata": {
    "scrolled": false
   },
   "outputs": [
    {
     "data": {
      "image/png": "[encoded data removed]",
      "text/plain": [
       "<Figure size 720x504 with 1 Axes>"
      ]
     },
     "metadata": {
      "needs_background": "light"
     },
     "output_type": "display_data"
    }
   ],
   "source": [
    "# Create figure.\n",
    "plt.figure(figsize = (10,7))\n",
    "\n",
    "# Create threshold values.\n",
    "thresholds = np.linspace(0, 1, 200)\n",
    "\n",
    "# Define function to calculate sensitivity. (True positive rate.)\n",
    "def TPR(df, true_col, pred_prob_col, threshold):\n",
    "    true_positive = df[(df[true_col] == 1) & (df[pred_prob_col] >= threshold)].shape[0]\n",
    "    false_negative = df[(df[true_col] == 1) & (df[pred_prob_col] < threshold)].shape[0]\n",
    "    return true_positive / (true_positive + false_negative)\n",
    "    \n",
    "\n",
    "# Define function to calculate 1 - specificity. (False positive rate.)\n",
    "def FPR(df, true_col, pred_prob_col, threshold):\n",
    "    true_negative = df[(df[true_col] == 0) & (df[pred_prob_col] <= threshold)].shape[0]\n",
    "    false_positive = df[(df[true_col] == 0) & (df[pred_prob_col] > threshold)].shape[0]\n",
    "    return 1 - (true_negative / (true_negative + false_positive))\n",
    "    \n",
    "# Calculate sensitivity & 1-specificity for each threshold between 0 and 1.\n",
    "tpr_values = [TPR(pred_df, 'true_values', 'pred_probs', prob) for prob in thresholds]\n",
    "fpr_values = [FPR(pred_df, 'true_values', 'pred_probs', prob) for prob in thresholds]\n",
    "\n",
    "# Plot ROC curve.\n",
    "plt.plot(fpr_values, # False Positive Rate on X-axis\n",
    "         tpr_values, # True Positive Rate on Y-axis\n",
    "         label='ROC Curve')\n",
    "\n",
    "# Plot baseline. (Perfect overlap between the two populations.)\n",
    "plt.plot(np.linspace(0, 1, 200),\n",
    "         np.linspace(0, 1, 200),\n",
    "         label='baseline',\n",
    "         linestyle='--')\n",
    "\n",
    "# Label axes.\n",
    "plt.title('Receiver Operating Characteristic Curve', fontsize=22)\n",
    "plt.ylabel('Sensitivity', fontsize=18)\n",
    "plt.xlabel('1 - Specificity', fontsize=18)\n",
    "\n",
    "# Create legend.\n",
    "plt.legend(fontsize=16);"
   ]
  },
  {
   "cell_type": "markdown",
   "metadata": {},
   "source": [
    "**Interpreting ROC AUC**\n",
    "\n",
    "ROC is a probability curve and AUC represents the degree of separability i.e. the capability of the model in distinguishing between a positive or negative return. The higher the AUC, the better the model is at predicting 0s as 0s and 1s as 1s. If AUC is 1, the positive (Tesla Stock Price = 1) and negative (Tesla Stock Price = 0) are perfectly separated. \n",
    "\n",
    "Here, we have **an AUC of 0.7908 for Random Forest** which is our best model. This means that 79% of the predictions are accurately classified.\n"
   ]
  },
  {
   "cell_type": "markdown",
   "metadata": {},
   "source": [
    "---\n",
    "## Conclusions and Recommendations\n",
    "\n",
    "### A. Our Classifier\n",
    "\n",
    "We have tried several classifiers to predict whether Tesla share price will increase or decrease. **Random Forest** does the best job of classification compared to the other models and acheved the following scores:\n",
    "\n",
    "- Accuracy:0.7896995708154506\n",
    "- Precision:0.7554585152838428\n",
    "- Sensitivity:0.6232558139534884\n",
    "- Specificity:0.7768924302788844\n",
    "- Recall:0.8046511627906977\n",
    "- F1 Score:0.7792792792792792 \n",
    "\n",
    "F1 Score is the weighted average of Precision and Recall that takes both false positives and false negatives into account. We view Specificity which refers to when the predicted class is positive(1) but actual class is zero (0), as important, during this Covid 19 period. As crisis periods usually present opportunities to buy assets at lower prices, wrong investment could result in high opportunity cost in terms of alternative use of funds during this critical period.\n",
    "\n",
    "**Limitations**\n",
    "\n",
    "1. Financial market forecasting is one of the most difficult practical applications and especially given market volatility. An even better score may have been attained by employing a more sophisticated model and deeper learning approach. One consideration could have been the use of LSTM, RNN and ARIMA which could have been combined in a Feedforward Neural Network to give a more accurate prediction. An approach of combining different methods through Ensemble learning could also have been adopted.\n",
    "\n",
    "**Advantages**\n",
    "1. Combines both endogenous and exogenous approach which is more holistic.\n",
    "2. Scores were reasonable although improvements could certainly be made.\n"
   ]
  },
  {
   "cell_type": "code",
   "execution_count": null,
   "metadata": {},
   "outputs": [],
   "source": []
  }
 ],
 "metadata": {
  "kernelspec": {
   "display_name": "Python 3",
   "language": "python",
   "name": "python3"
  },
  "language_info": {
   "codemirror_mode": {
    "name": "ipython",
    "version": 3
   },
   "file_extension": ".py",
   "mimetype": "text/x-python",
   "name": "python",
   "nbconvert_exporter": "python",
   "pygments_lexer": "ipython3",
   "version": "3.7.6"
  }
 },
 "nbformat": 4,
 "nbformat_minor": 2
}
